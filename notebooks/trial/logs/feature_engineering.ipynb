{
 "cells": [
  {
   "cell_type": "markdown",
   "metadata": {
    "papermill": {
     "duration": 0.027,
     "end_time": "2021-01-18T06:02:19.465888",
     "exception": false,
     "start_time": "2021-01-18T06:02:19.438888",
     "status": "completed"
    },
    "tags": []
   },
   "source": [
    "# 特徴量作成\n",
    "- カテゴリ変数のダミー化\n",
    "- 不要列の削除"
   ]
  },
  {
   "cell_type": "code",
   "execution_count": 1,
   "metadata": {
    "execution": {
     "iopub.execute_input": "2021-01-18T06:02:19.499030Z",
     "iopub.status.busy": "2021-01-18T06:02:19.498007Z",
     "iopub.status.idle": "2021-01-18T06:02:19.500703Z",
     "shell.execute_reply": "2021-01-18T06:02:19.501178Z"
    },
    "papermill": {
     "duration": 0.02048,
     "end_time": "2021-01-18T06:02:19.501465",
     "exception": false,
     "start_time": "2021-01-18T06:02:19.480985",
     "status": "completed"
    },
    "tags": []
   },
   "outputs": [],
   "source": [
    "# パラメータ設定"
   ]
  },
  {
   "cell_type": "code",
   "execution_count": 2,
   "metadata": {
    "execution": {
     "iopub.execute_input": "2021-01-18T06:02:19.530581Z",
     "iopub.status.busy": "2021-01-18T06:02:19.529795Z",
     "iopub.status.idle": "2021-01-18T06:02:19.532330Z",
     "shell.execute_reply": "2021-01-18T06:02:19.532769Z"
    },
    "papermill": {
     "duration": 0.018895,
     "end_time": "2021-01-18T06:02:19.533024",
     "exception": false,
     "start_time": "2021-01-18T06:02:19.514129",
     "status": "completed"
    },
    "tags": [
     "parameters"
    ]
   },
   "outputs": [],
   "source": [
    "TARGET_DATE = '20210101'\n",
    "# DATA_TYPE = 'train'\n",
    "DATA_TYPE = 'test'"
   ]
  },
  {
   "cell_type": "code",
   "execution_count": 3,
   "metadata": {
    "execution": {
     "iopub.execute_input": "2021-01-18T06:02:19.590972Z",
     "iopub.status.busy": "2021-01-18T06:02:19.589662Z",
     "iopub.status.idle": "2021-01-18T06:02:19.592991Z",
     "shell.execute_reply": "2021-01-18T06:02:19.593985Z"
    },
    "papermill": {
     "duration": 0.048972,
     "end_time": "2021-01-18T06:02:19.594541",
     "exception": false,
     "start_time": "2021-01-18T06:02:19.545569",
     "status": "completed"
    },
    "tags": [
     "injected-parameters"
    ]
   },
   "outputs": [],
   "source": [
    "# Parameters\n",
    "TARGET_DATE = 20210101\n",
    "DATA_TYPE = \"train\"\n"
   ]
  },
  {
   "cell_type": "code",
   "execution_count": 4,
   "metadata": {
    "execution": {
     "iopub.execute_input": "2021-01-18T06:02:19.630413Z",
     "iopub.status.busy": "2021-01-18T06:02:19.629212Z",
     "iopub.status.idle": "2021-01-18T06:02:19.632067Z",
     "shell.execute_reply": "2021-01-18T06:02:19.632629Z"
    },
    "papermill": {
     "duration": 0.020044,
     "end_time": "2021-01-18T06:02:19.632837",
     "exception": false,
     "start_time": "2021-01-18T06:02:19.612793",
     "status": "completed"
    },
    "tags": []
   },
   "outputs": [],
   "source": [
    "TARGET_DATE = str(TARGET_DATE)"
   ]
  },
  {
   "cell_type": "code",
   "execution_count": 5,
   "metadata": {
    "execution": {
     "iopub.execute_input": "2021-01-18T06:02:19.665306Z",
     "iopub.status.busy": "2021-01-18T06:02:19.664263Z",
     "iopub.status.idle": "2021-01-18T06:02:19.667443Z",
     "shell.execute_reply": "2021-01-18T06:02:19.666602Z"
    },
    "papermill": {
     "duration": 0.019893,
     "end_time": "2021-01-18T06:02:19.667770",
     "exception": false,
     "start_time": "2021-01-18T06:02:19.647877",
     "status": "completed"
    },
    "tags": []
   },
   "outputs": [],
   "source": [
    "# ライブラリ読み込み"
   ]
  },
  {
   "cell_type": "code",
   "execution_count": 6,
   "metadata": {
    "execution": {
     "iopub.execute_input": "2021-01-18T06:02:19.698274Z",
     "iopub.status.busy": "2021-01-18T06:02:19.697549Z",
     "iopub.status.idle": "2021-01-18T06:02:20.014738Z",
     "shell.execute_reply": "2021-01-18T06:02:20.015368Z"
    },
    "papermill": {
     "duration": 0.333853,
     "end_time": "2021-01-18T06:02:20.015682",
     "exception": false,
     "start_time": "2021-01-18T06:02:19.681829",
     "status": "completed"
    },
    "tags": []
   },
   "outputs": [],
   "source": [
    "import pandas as pd"
   ]
  },
  {
   "cell_type": "code",
   "execution_count": 7,
   "metadata": {
    "execution": {
     "iopub.execute_input": "2021-01-18T06:02:20.047916Z",
     "iopub.status.busy": "2021-01-18T06:02:20.047111Z",
     "iopub.status.idle": "2021-01-18T06:02:20.049086Z",
     "shell.execute_reply": "2021-01-18T06:02:20.049460Z"
    },
    "papermill": {
     "duration": 0.018434,
     "end_time": "2021-01-18T06:02:20.049679",
     "exception": false,
     "start_time": "2021-01-18T06:02:20.031245",
     "status": "completed"
    },
    "tags": []
   },
   "outputs": [],
   "source": [
    "# dataframe設定調整"
   ]
  },
  {
   "cell_type": "code",
   "execution_count": 8,
   "metadata": {
    "execution": {
     "iopub.execute_input": "2021-01-18T06:02:20.081154Z",
     "iopub.status.busy": "2021-01-18T06:02:20.080238Z",
     "iopub.status.idle": "2021-01-18T06:02:20.082038Z",
     "shell.execute_reply": "2021-01-18T06:02:20.082462Z"
    },
    "papermill": {
     "duration": 0.020538,
     "end_time": "2021-01-18T06:02:20.082648",
     "exception": false,
     "start_time": "2021-01-18T06:02:20.062110",
     "status": "completed"
    },
    "tags": []
   },
   "outputs": [],
   "source": [
    "pd.set_option('display.max_columns', 100)\n",
    "pd.set_option('display.max_rows', 200)"
   ]
  },
  {
   "cell_type": "code",
   "execution_count": 9,
   "metadata": {
    "execution": {
     "iopub.execute_input": "2021-01-18T06:02:20.114615Z",
     "iopub.status.busy": "2021-01-18T06:02:20.114012Z",
     "iopub.status.idle": "2021-01-18T06:02:20.116078Z",
     "shell.execute_reply": "2021-01-18T06:02:20.116486Z"
    },
    "papermill": {
     "duration": 0.019086,
     "end_time": "2021-01-18T06:02:20.116675",
     "exception": false,
     "start_time": "2021-01-18T06:02:20.097589",
     "status": "completed"
    },
    "tags": []
   },
   "outputs": [],
   "source": [
    "# データ読み込み"
   ]
  },
  {
   "cell_type": "code",
   "execution_count": 10,
   "metadata": {
    "execution": {
     "iopub.execute_input": "2021-01-18T06:02:20.148135Z",
     "iopub.status.busy": "2021-01-18T06:02:20.147170Z",
     "iopub.status.idle": "2021-01-18T06:02:20.538330Z",
     "shell.execute_reply": "2021-01-18T06:02:20.538947Z"
    },
    "papermill": {
     "duration": 0.408963,
     "end_time": "2021-01-18T06:02:20.539220",
     "exception": false,
     "start_time": "2021-01-18T06:02:20.130257",
     "status": "completed"
    },
    "tags": []
   },
   "outputs": [],
   "source": [
    "if DATA_TYPE == 'train':\n",
    "    train = pd.read_pickle(f'../../data/trial/accumulate_{TARGET_DATE}.pkl')\n",
    "elif DATA_TYPE == 'test':\n",
    "    train = pd.read_csv(f'../../data/trial/{TARGET_DATE}.csv')"
   ]
  },
  {
   "cell_type": "code",
   "execution_count": 11,
   "metadata": {
    "execution": {
     "iopub.execute_input": "2021-01-18T06:02:20.568497Z",
     "iopub.status.busy": "2021-01-18T06:02:20.567685Z",
     "iopub.status.idle": "2021-01-18T06:02:20.570419Z",
     "shell.execute_reply": "2021-01-18T06:02:20.569768Z"
    },
    "papermill": {
     "duration": 0.019,
     "end_time": "2021-01-18T06:02:20.570675",
     "exception": false,
     "start_time": "2021-01-18T06:02:20.551675",
     "status": "completed"
    },
    "tags": []
   },
   "outputs": [],
   "source": [
    "# 特徴量選択"
   ]
  },
  {
   "cell_type": "code",
   "execution_count": 12,
   "metadata": {
    "execution": {
     "iopub.execute_input": "2021-01-18T06:02:20.600372Z",
     "iopub.status.busy": "2021-01-18T06:02:20.599636Z",
     "iopub.status.idle": "2021-01-18T06:02:20.601763Z",
     "shell.execute_reply": "2021-01-18T06:02:20.602358Z"
    },
    "papermill": {
     "duration": 0.019627,
     "end_time": "2021-01-18T06:02:20.602544",
     "exception": false,
     "start_time": "2021-01-18T06:02:20.582917",
     "status": "completed"
    },
    "tags": []
   },
   "outputs": [],
   "source": [
    "features = ['EXT_SOURCE_1',\n",
    " 'EXT_SOURCE_3',\n",
    " 'EXT_SOURCE_2',\n",
    " 'DAYS_BIRTH',\n",
    " 'AMT_CREDIT',\n",
    " 'AMT_ANNUITY',\n",
    " 'DAYS_ID_PUBLISH',\n",
    " 'AMT_GOODS_PRICE',\n",
    " 'DAYS_REGISTRATION',\n",
    " 'DAYS_LAST_PHONE_CHANGE',\n",
    " 'AMT_INCOME_TOTAL',\n",
    " 'REGION_POPULATION_RELATIVE',\n",
    " 'OWN_CAR_AGE',\n",
    " 'AMT_REQ_CREDIT_BUREAU_YEAR',\n",
    " 'HOUR_APPR_PROCESS_START',\n",
    " 'TOTALAREA_MODE',\n",
    " 'CODE_GENDER',\n",
    " 'NAME_CONTRACT_TYPE',\n",
    " 'NAME_EDUCATION_TYPE',\n",
    " 'NAME_FAMILY_STATUS',\n",
    "'TARGET']"
   ]
  },
  {
   "cell_type": "code",
   "execution_count": 13,
   "metadata": {
    "execution": {
     "iopub.execute_input": "2021-01-18T06:02:20.632646Z",
     "iopub.status.busy": "2021-01-18T06:02:20.631777Z",
     "iopub.status.idle": "2021-01-18T06:02:20.925823Z",
     "shell.execute_reply": "2021-01-18T06:02:20.926501Z"
    },
    "papermill": {
     "duration": 0.312018,
     "end_time": "2021-01-18T06:02:20.926877",
     "exception": false,
     "start_time": "2021-01-18T06:02:20.614859",
     "status": "completed"
    },
    "tags": []
   },
   "outputs": [],
   "source": [
    "train = train.loc[:,features]"
   ]
  },
  {
   "cell_type": "code",
   "execution_count": 14,
   "metadata": {
    "execution": {
     "iopub.execute_input": "2021-01-18T06:02:20.957056Z",
     "iopub.status.busy": "2021-01-18T06:02:20.956384Z",
     "iopub.status.idle": "2021-01-18T06:02:20.958657Z",
     "shell.execute_reply": "2021-01-18T06:02:20.959229Z"
    },
    "papermill": {
     "duration": 0.019647,
     "end_time": "2021-01-18T06:02:20.959490",
     "exception": false,
     "start_time": "2021-01-18T06:02:20.939843",
     "status": "completed"
    },
    "tags": []
   },
   "outputs": [],
   "source": [
    "# 欠損値補完\n",
    "# object型の場合はNAN、それ以外(数値型)は-999で補完する"
   ]
  },
  {
   "cell_type": "code",
   "execution_count": 15,
   "metadata": {
    "execution": {
     "iopub.execute_input": "2021-01-18T06:02:20.990008Z",
     "iopub.status.busy": "2021-01-18T06:02:20.989356Z",
     "iopub.status.idle": "2021-01-18T06:02:21.045765Z",
     "shell.execute_reply": "2021-01-18T06:02:21.046325Z"
    },
    "papermill": {
     "duration": 0.074492,
     "end_time": "2021-01-18T06:02:21.046583",
     "exception": false,
     "start_time": "2021-01-18T06:02:20.972091",
     "status": "completed"
    },
    "tags": []
   },
   "outputs": [],
   "source": [
    "for c in train.columns:\n",
    "    if train[c].dtype == 'object':\n",
    "        train[c].fillna('NAN', inplace=True)\n",
    "    else:\n",
    "        train[c].fillna(-999, inplace=True)"
   ]
  },
  {
   "cell_type": "code",
   "execution_count": 16,
   "metadata": {
    "execution": {
     "iopub.execute_input": "2021-01-18T06:02:21.075829Z",
     "iopub.status.busy": "2021-01-18T06:02:21.075038Z",
     "iopub.status.idle": "2021-01-18T06:02:21.077596Z",
     "shell.execute_reply": "2021-01-18T06:02:21.077090Z"
    },
    "papermill": {
     "duration": 0.018524,
     "end_time": "2021-01-18T06:02:21.077831",
     "exception": false,
     "start_time": "2021-01-18T06:02:21.059307",
     "status": "completed"
    },
    "tags": []
   },
   "outputs": [],
   "source": [
    "# カテゴリ変数をダミー化"
   ]
  },
  {
   "cell_type": "code",
   "execution_count": 17,
   "metadata": {
    "execution": {
     "iopub.execute_input": "2021-01-18T06:02:21.110210Z",
     "iopub.status.busy": "2021-01-18T06:02:21.109297Z",
     "iopub.status.idle": "2021-01-18T06:02:21.224248Z",
     "shell.execute_reply": "2021-01-18T06:02:21.225022Z"
    },
    "papermill": {
     "duration": 0.134865,
     "end_time": "2021-01-18T06:02:21.225236",
     "exception": false,
     "start_time": "2021-01-18T06:02:21.090371",
     "status": "completed"
    },
    "tags": []
   },
   "outputs": [],
   "source": [
    "train = pd.get_dummies(train, drop_first=True, prefix=['CODE_GENDER', 'NAME_CONTRACT_TYPE', 'NAME_EDUCATION_TYPE', 'NAME_FAMILY_STATUS'], prefix_sep='_')"
   ]
  },
  {
   "cell_type": "code",
   "execution_count": 18,
   "metadata": {
    "execution": {
     "iopub.execute_input": "2021-01-18T06:02:21.257978Z",
     "iopub.status.busy": "2021-01-18T06:02:21.257185Z",
     "iopub.status.idle": "2021-01-18T06:02:21.259279Z",
     "shell.execute_reply": "2021-01-18T06:02:21.259707Z"
    },
    "papermill": {
     "duration": 0.019286,
     "end_time": "2021-01-18T06:02:21.259958",
     "exception": false,
     "start_time": "2021-01-18T06:02:21.240672",
     "status": "completed"
    },
    "tags": []
   },
   "outputs": [],
   "source": [
    "# 列がない場合は作成"
   ]
  },
  {
   "cell_type": "code",
   "execution_count": 19,
   "metadata": {
    "execution": {
     "iopub.execute_input": "2021-01-18T06:02:21.292375Z",
     "iopub.status.busy": "2021-01-18T06:02:21.291688Z",
     "iopub.status.idle": "2021-01-18T06:02:21.294038Z",
     "shell.execute_reply": "2021-01-18T06:02:21.294528Z"
    },
    "papermill": {
     "duration": 0.020848,
     "end_time": "2021-01-18T06:02:21.294792",
     "exception": false,
     "start_time": "2021-01-18T06:02:21.273944",
     "status": "completed"
    },
    "tags": []
   },
   "outputs": [],
   "source": [
    "feature_order = [\n",
    "    'EXT_SOURCE_1',\n",
    "    'EXT_SOURCE_3',\n",
    "    'EXT_SOURCE_2',\n",
    "    'DAYS_BIRTH',\n",
    "    'AMT_CREDIT',\n",
    "    'AMT_ANNUITY',\n",
    "    'DAYS_ID_PUBLISH',\n",
    "    'AMT_GOODS_PRICE',\n",
    "    'DAYS_REGISTRATION',\n",
    "    'DAYS_LAST_PHONE_CHANGE',\n",
    "    'AMT_INCOME_TOTAL',\n",
    "    'REGION_POPULATION_RELATIVE',\n",
    "    'OWN_CAR_AGE',\n",
    "    'AMT_REQ_CREDIT_BUREAU_YEAR',\n",
    "    'HOUR_APPR_PROCESS_START',\n",
    "    'TOTALAREA_MODE',\n",
    "    'CODE_GENDER_M',\n",
    "    'CODE_GENDER_XNA',\n",
    "    'NAME_CONTRACT_TYPE_Revolving loans',\n",
    "    'NAME_EDUCATION_TYPE_Higher education',\n",
    "    'NAME_EDUCATION_TYPE_Incomplete higher',\n",
    "    'NAME_EDUCATION_TYPE_Lower secondary',\n",
    "    'NAME_EDUCATION_TYPE_Secondary / secondary special',\n",
    "    'NAME_FAMILY_STATUS_Married',\n",
    "    'NAME_FAMILY_STATUS_Separated',\n",
    "    'NAME_FAMILY_STATUS_Single / not married',\n",
    "    'NAME_FAMILY_STATUS_Unknown',\n",
    "    'NAME_FAMILY_STATUS_Widow',\n",
    "    'TARGET',\n",
    "]"
   ]
  },
  {
   "cell_type": "code",
   "execution_count": 20,
   "metadata": {
    "execution": {
     "iopub.execute_input": "2021-01-18T06:02:21.324290Z",
     "iopub.status.busy": "2021-01-18T06:02:21.323619Z",
     "iopub.status.idle": "2021-01-18T06:02:21.325241Z",
     "shell.execute_reply": "2021-01-18T06:02:21.325804Z"
    },
    "papermill": {
     "duration": 0.018268,
     "end_time": "2021-01-18T06:02:21.326058",
     "exception": false,
     "start_time": "2021-01-18T06:02:21.307790",
     "status": "completed"
    },
    "tags": []
   },
   "outputs": [],
   "source": [
    "for c in feature_order:\n",
    "    if c not in train.columns:\n",
    "        train[c] = 0"
   ]
  },
  {
   "cell_type": "code",
   "execution_count": 21,
   "metadata": {
    "execution": {
     "iopub.execute_input": "2021-01-18T06:02:21.355225Z",
     "iopub.status.busy": "2021-01-18T06:02:21.354372Z",
     "iopub.status.idle": "2021-01-18T06:02:21.356450Z",
     "shell.execute_reply": "2021-01-18T06:02:21.356866Z"
    },
    "papermill": {
     "duration": 0.01842,
     "end_time": "2021-01-18T06:02:21.357152",
     "exception": false,
     "start_time": "2021-01-18T06:02:21.338732",
     "status": "completed"
    },
    "tags": []
   },
   "outputs": [],
   "source": [
    "# 列を並び替え"
   ]
  },
  {
   "cell_type": "code",
   "execution_count": 22,
   "metadata": {
    "execution": {
     "iopub.execute_input": "2021-01-18T06:02:21.389819Z",
     "iopub.status.busy": "2021-01-18T06:02:21.389127Z",
     "iopub.status.idle": "2021-01-18T06:02:21.423304Z",
     "shell.execute_reply": "2021-01-18T06:02:21.423750Z"
    },
    "papermill": {
     "duration": 0.05282,
     "end_time": "2021-01-18T06:02:21.424114",
     "exception": false,
     "start_time": "2021-01-18T06:02:21.371294",
     "status": "completed"
    },
    "tags": []
   },
   "outputs": [],
   "source": [
    "train = train.loc[:, feature_order]"
   ]
  },
  {
   "cell_type": "code",
   "execution_count": 23,
   "metadata": {
    "execution": {
     "iopub.execute_input": "2021-01-18T06:02:21.459437Z",
     "iopub.status.busy": "2021-01-18T06:02:21.458154Z",
     "iopub.status.idle": "2021-01-18T06:02:21.461362Z",
     "shell.execute_reply": "2021-01-18T06:02:21.460840Z"
    },
    "papermill": {
     "duration": 0.02326,
     "end_time": "2021-01-18T06:02:21.461586",
     "exception": false,
     "start_time": "2021-01-18T06:02:21.438326",
     "status": "completed"
    },
    "tags": []
   },
   "outputs": [],
   "source": [
    "# 特徴量データ出力"
   ]
  },
  {
   "cell_type": "code",
   "execution_count": 24,
   "metadata": {
    "execution": {
     "iopub.execute_input": "2021-01-18T06:02:21.494187Z",
     "iopub.status.busy": "2021-01-18T06:02:21.493436Z",
     "iopub.status.idle": "2021-01-18T06:02:21.550964Z",
     "shell.execute_reply": "2021-01-18T06:02:21.551667Z"
    },
    "papermill": {
     "duration": 0.076804,
     "end_time": "2021-01-18T06:02:21.552129",
     "exception": false,
     "start_time": "2021-01-18T06:02:21.475325",
     "status": "completed"
    },
    "tags": []
   },
   "outputs": [],
   "source": [
    "if DATA_TYPE == 'train':\n",
    "    train.to_pickle(f'../../data/trial/feature_{TARGET_DATE}.pkl')\n",
    "elif DATA_TYPE == 'test':\n",
    "    train.to_pickle(f'../../data/trial/predict_{TARGET_DATE}.pkl')"
   ]
  },
  {
   "cell_type": "code",
   "execution_count": null,
   "metadata": {
    "papermill": {
     "duration": 0.014046,
     "end_time": "2021-01-18T06:02:21.583052",
     "exception": false,
     "start_time": "2021-01-18T06:02:21.569006",
     "status": "completed"
    },
    "tags": []
   },
   "outputs": [],
   "source": []
  }
 ],
 "metadata": {
  "kernelspec": {
   "display_name": "Python 3",
   "language": "python",
   "name": "python3"
  },
  "language_info": {
   "codemirror_mode": {
    "name": "ipython",
    "version": 3
   },
   "file_extension": ".py",
   "mimetype": "text/x-python",
   "name": "python",
   "nbconvert_exporter": "python",
   "pygments_lexer": "ipython3",
   "version": "3.7.7"
  },
  "papermill": {
   "default_parameters": {},
   "duration": 3.632553,
   "end_time": "2021-01-18T06:02:21.914649",
   "environment_variables": {},
   "exception": null,
   "input_path": "/Users/koyajima/Code/between_poc_and_production/notebooks/trial/feature_engineering.ipynb",
   "output_path": "/Users/koyajima/Code/between_poc_and_production/notebooks/trial/logs/feature_engineering.ipynb",
   "parameters": {
    "DATA_TYPE": "train",
    "TARGET_DATE": 20210101
   },
   "start_time": "2021-01-18T06:02:18.282096",
   "version": "2.2.2"
  }
 },
 "nbformat": 4,
 "nbformat_minor": 4
}