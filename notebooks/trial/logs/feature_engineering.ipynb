{
 "cells": [
  {
   "cell_type": "markdown",
   "metadata": {
    "papermill": {
     "duration": 0.025805,
     "end_time": "2021-01-22T01:43:22.637841",
     "exception": false,
     "start_time": "2021-01-22T01:43:22.612036",
     "status": "completed"
    },
    "tags": []
   },
   "source": [
    "# 特徴量作成\n",
    "- カテゴリ変数のダミー化\n",
    "- 不要列の削除"
   ]
  },
  {
   "cell_type": "code",
   "execution_count": 1,
   "metadata": {
    "execution": {
     "iopub.execute_input": "2021-01-22T01:43:22.670991Z",
     "iopub.status.busy": "2021-01-22T01:43:22.670397Z",
     "iopub.status.idle": "2021-01-22T01:43:22.672204Z",
     "shell.execute_reply": "2021-01-22T01:43:22.672622Z"
    },
    "papermill": {
     "duration": 0.018862,
     "end_time": "2021-01-22T01:43:22.673033",
     "exception": false,
     "start_time": "2021-01-22T01:43:22.654171",
     "status": "completed"
    },
    "tags": []
   },
   "outputs": [],
   "source": [
    "# パラメータ設定"
   ]
  },
  {
   "cell_type": "code",
   "execution_count": 2,
   "metadata": {
    "execution": {
     "iopub.execute_input": "2021-01-22T01:43:22.700187Z",
     "iopub.status.busy": "2021-01-22T01:43:22.699613Z",
     "iopub.status.idle": "2021-01-22T01:43:22.701328Z",
     "shell.execute_reply": "2021-01-22T01:43:22.701870Z"
    },
    "papermill": {
     "duration": 0.017176,
     "end_time": "2021-01-22T01:43:22.702123",
     "exception": false,
     "start_time": "2021-01-22T01:43:22.684947",
     "status": "completed"
    },
    "tags": [
     "parameters"
    ]
   },
   "outputs": [],
   "source": [
    "TARGET_DATE = '20210101'\n",
    "# DATA_TYPE = 'train'\n",
    "DATA_TYPE = 'test'"
   ]
  },
  {
   "cell_type": "code",
   "execution_count": 3,
   "metadata": {
    "execution": {
     "iopub.execute_input": "2021-01-22T01:43:22.754341Z",
     "iopub.status.busy": "2021-01-22T01:43:22.753575Z",
     "iopub.status.idle": "2021-01-22T01:43:22.755241Z",
     "shell.execute_reply": "2021-01-22T01:43:22.755695Z"
    },
    "papermill": {
     "duration": 0.04224,
     "end_time": "2021-01-22T01:43:22.755943",
     "exception": false,
     "start_time": "2021-01-22T01:43:22.713703",
     "status": "completed"
    },
    "tags": [
     "injected-parameters"
    ]
   },
   "outputs": [],
   "source": [
    "# Parameters\n",
    "TARGET_DATE = 20210101\n",
    "DATA_TYPE = \"train\"\n"
   ]
  },
  {
   "cell_type": "code",
   "execution_count": 4,
   "metadata": {
    "execution": {
     "iopub.execute_input": "2021-01-22T01:43:22.783115Z",
     "iopub.status.busy": "2021-01-22T01:43:22.782367Z",
     "iopub.status.idle": "2021-01-22T01:43:22.784044Z",
     "shell.execute_reply": "2021-01-22T01:43:22.784569Z"
    },
    "papermill": {
     "duration": 0.01731,
     "end_time": "2021-01-22T01:43:22.784884",
     "exception": false,
     "start_time": "2021-01-22T01:43:22.767574",
     "status": "completed"
    },
    "tags": []
   },
   "outputs": [],
   "source": [
    "TARGET_DATE = str(TARGET_DATE)"
   ]
  },
  {
   "cell_type": "code",
   "execution_count": 5,
   "metadata": {
    "execution": {
     "iopub.execute_input": "2021-01-22T01:43:22.813237Z",
     "iopub.status.busy": "2021-01-22T01:43:22.812661Z",
     "iopub.status.idle": "2021-01-22T01:43:22.814198Z",
     "shell.execute_reply": "2021-01-22T01:43:22.814651Z"
    },
    "papermill": {
     "duration": 0.017073,
     "end_time": "2021-01-22T01:43:22.814890",
     "exception": false,
     "start_time": "2021-01-22T01:43:22.797817",
     "status": "completed"
    },
    "tags": []
   },
   "outputs": [],
   "source": [
    "# ライブラリ読み込み"
   ]
  },
  {
   "cell_type": "code",
   "execution_count": 6,
   "metadata": {
    "execution": {
     "iopub.execute_input": "2021-01-22T01:43:22.841983Z",
     "iopub.status.busy": "2021-01-22T01:43:22.841412Z",
     "iopub.status.idle": "2021-01-22T01:43:23.090705Z",
     "shell.execute_reply": "2021-01-22T01:43:23.090110Z"
    },
    "papermill": {
     "duration": 0.264335,
     "end_time": "2021-01-22T01:43:23.090938",
     "exception": false,
     "start_time": "2021-01-22T01:43:22.826603",
     "status": "completed"
    },
    "tags": []
   },
   "outputs": [],
   "source": [
    "import pandas as pd"
   ]
  },
  {
   "cell_type": "code",
   "execution_count": 7,
   "metadata": {
    "execution": {
     "iopub.execute_input": "2021-01-22T01:43:23.118342Z",
     "iopub.status.busy": "2021-01-22T01:43:23.117611Z",
     "iopub.status.idle": "2021-01-22T01:43:23.119339Z",
     "shell.execute_reply": "2021-01-22T01:43:23.119915Z"
    },
    "papermill": {
     "duration": 0.017273,
     "end_time": "2021-01-22T01:43:23.120173",
     "exception": false,
     "start_time": "2021-01-22T01:43:23.102900",
     "status": "completed"
    },
    "tags": []
   },
   "outputs": [],
   "source": [
    "# dataframe設定調整"
   ]
  },
  {
   "cell_type": "code",
   "execution_count": 8,
   "metadata": {
    "execution": {
     "iopub.execute_input": "2021-01-22T01:43:23.150288Z",
     "iopub.status.busy": "2021-01-22T01:43:23.149395Z",
     "iopub.status.idle": "2021-01-22T01:43:23.151764Z",
     "shell.execute_reply": "2021-01-22T01:43:23.151322Z"
    },
    "papermill": {
     "duration": 0.019048,
     "end_time": "2021-01-22T01:43:23.151935",
     "exception": false,
     "start_time": "2021-01-22T01:43:23.132887",
     "status": "completed"
    },
    "tags": []
   },
   "outputs": [],
   "source": [
    "pd.set_option('display.max_columns', 100)\n",
    "pd.set_option('display.max_rows', 200)"
   ]
  },
  {
   "cell_type": "code",
   "execution_count": 9,
   "metadata": {
    "execution": {
     "iopub.execute_input": "2021-01-22T01:43:23.180713Z",
     "iopub.status.busy": "2021-01-22T01:43:23.179967Z",
     "iopub.status.idle": "2021-01-22T01:43:23.181634Z",
     "shell.execute_reply": "2021-01-22T01:43:23.182102Z"
    },
    "papermill": {
     "duration": 0.017775,
     "end_time": "2021-01-22T01:43:23.182359",
     "exception": false,
     "start_time": "2021-01-22T01:43:23.164584",
     "status": "completed"
    },
    "tags": []
   },
   "outputs": [],
   "source": [
    "# データ読み込み"
   ]
  },
  {
   "cell_type": "code",
   "execution_count": 10,
   "metadata": {
    "execution": {
     "iopub.execute_input": "2021-01-22T01:43:23.211514Z",
     "iopub.status.busy": "2021-01-22T01:43:23.210920Z",
     "iopub.status.idle": "2021-01-22T01:43:23.651734Z",
     "shell.execute_reply": "2021-01-22T01:43:23.652281Z"
    },
    "papermill": {
     "duration": 0.45813,
     "end_time": "2021-01-22T01:43:23.652591",
     "exception": false,
     "start_time": "2021-01-22T01:43:23.194461",
     "status": "completed"
    },
    "tags": []
   },
   "outputs": [],
   "source": [
    "if DATA_TYPE == 'train':\n",
    "    train = pd.read_pickle(f'../../data/trial/accumulate_{TARGET_DATE}.pkl')\n",
    "elif DATA_TYPE == 'test':\n",
    "    train = pd.read_csv(f'../../data/trial/{TARGET_DATE}.csv')"
   ]
  },
  {
   "cell_type": "code",
   "execution_count": 11,
   "metadata": {
    "execution": {
     "iopub.execute_input": "2021-01-22T01:43:23.681471Z",
     "iopub.status.busy": "2021-01-22T01:43:23.680641Z",
     "iopub.status.idle": "2021-01-22T01:43:23.682625Z",
     "shell.execute_reply": "2021-01-22T01:43:23.683155Z"
    },
    "papermill": {
     "duration": 0.017963,
     "end_time": "2021-01-22T01:43:23.683413",
     "exception": false,
     "start_time": "2021-01-22T01:43:23.665450",
     "status": "completed"
    },
    "tags": []
   },
   "outputs": [],
   "source": [
    "# 特徴量選択"
   ]
  },
  {
   "cell_type": "code",
   "execution_count": 12,
   "metadata": {
    "execution": {
     "iopub.execute_input": "2021-01-22T01:43:23.712280Z",
     "iopub.status.busy": "2021-01-22T01:43:23.711570Z",
     "iopub.status.idle": "2021-01-22T01:43:23.713839Z",
     "shell.execute_reply": "2021-01-22T01:43:23.714383Z"
    },
    "papermill": {
     "duration": 0.019102,
     "end_time": "2021-01-22T01:43:23.714718",
     "exception": false,
     "start_time": "2021-01-22T01:43:23.695616",
     "status": "completed"
    },
    "tags": []
   },
   "outputs": [],
   "source": [
    "features = ['EXT_SOURCE_1',\n",
    " 'EXT_SOURCE_3',\n",
    " 'EXT_SOURCE_2',\n",
    " 'DAYS_BIRTH',\n",
    " 'AMT_CREDIT',\n",
    " 'AMT_ANNUITY',\n",
    " 'DAYS_ID_PUBLISH',\n",
    " 'AMT_GOODS_PRICE',\n",
    " 'DAYS_REGISTRATION',\n",
    " 'DAYS_LAST_PHONE_CHANGE',\n",
    " 'AMT_INCOME_TOTAL',\n",
    " 'REGION_POPULATION_RELATIVE',\n",
    " 'OWN_CAR_AGE',\n",
    " 'AMT_REQ_CREDIT_BUREAU_YEAR',\n",
    " 'HOUR_APPR_PROCESS_START',\n",
    " 'TOTALAREA_MODE',\n",
    " 'CODE_GENDER',\n",
    " 'NAME_CONTRACT_TYPE',\n",
    " 'NAME_EDUCATION_TYPE',\n",
    " 'NAME_FAMILY_STATUS',\n",
    "'TARGET']"
   ]
  },
  {
   "cell_type": "code",
   "execution_count": 13,
   "metadata": {
    "execution": {
     "iopub.execute_input": "2021-01-22T01:43:23.744950Z",
     "iopub.status.busy": "2021-01-22T01:43:23.744223Z",
     "iopub.status.idle": "2021-01-22T01:43:24.101176Z",
     "shell.execute_reply": "2021-01-22T01:43:24.101753Z"
    },
    "papermill": {
     "duration": 0.374709,
     "end_time": "2021-01-22T01:43:24.101986",
     "exception": false,
     "start_time": "2021-01-22T01:43:23.727277",
     "status": "completed"
    },
    "tags": []
   },
   "outputs": [],
   "source": [
    "train = train.loc[:,features]"
   ]
  },
  {
   "cell_type": "code",
   "execution_count": 14,
   "metadata": {
    "execution": {
     "iopub.execute_input": "2021-01-22T01:43:24.130447Z",
     "iopub.status.busy": "2021-01-22T01:43:24.129663Z",
     "iopub.status.idle": "2021-01-22T01:43:24.131379Z",
     "shell.execute_reply": "2021-01-22T01:43:24.131850Z"
    },
    "papermill": {
     "duration": 0.017558,
     "end_time": "2021-01-22T01:43:24.132083",
     "exception": false,
     "start_time": "2021-01-22T01:43:24.114525",
     "status": "completed"
    },
    "tags": []
   },
   "outputs": [],
   "source": [
    "# 欠損値補完\n",
    "# object型の場合はNAN、それ以外(数値型)は-999で補完する"
   ]
  },
  {
   "cell_type": "code",
   "execution_count": 15,
   "metadata": {
    "execution": {
     "iopub.execute_input": "2021-01-22T01:43:24.162870Z",
     "iopub.status.busy": "2021-01-22T01:43:24.162150Z",
     "iopub.status.idle": "2021-01-22T01:43:24.218854Z",
     "shell.execute_reply": "2021-01-22T01:43:24.219402Z"
    },
    "papermill": {
     "duration": 0.075005,
     "end_time": "2021-01-22T01:43:24.219716",
     "exception": false,
     "start_time": "2021-01-22T01:43:24.144711",
     "status": "completed"
    },
    "tags": []
   },
   "outputs": [],
   "source": [
    "for c in train.columns:\n",
    "    if train[c].dtype == 'object':\n",
    "        train[c].fillna('NAN', inplace=True)\n",
    "    else:\n",
    "        train[c].fillna(-999, inplace=True)"
   ]
  },
  {
   "cell_type": "code",
   "execution_count": 16,
   "metadata": {
    "execution": {
     "iopub.execute_input": "2021-01-22T01:43:24.249532Z",
     "iopub.status.busy": "2021-01-22T01:43:24.248945Z",
     "iopub.status.idle": "2021-01-22T01:43:24.250473Z",
     "shell.execute_reply": "2021-01-22T01:43:24.251070Z"
    },
    "papermill": {
     "duration": 0.01869,
     "end_time": "2021-01-22T01:43:24.251302",
     "exception": false,
     "start_time": "2021-01-22T01:43:24.232612",
     "status": "completed"
    },
    "tags": []
   },
   "outputs": [],
   "source": [
    "# カテゴリ変数をダミー化"
   ]
  },
  {
   "cell_type": "code",
   "execution_count": 17,
   "metadata": {
    "execution": {
     "iopub.execute_input": "2021-01-22T01:43:24.285183Z",
     "iopub.status.busy": "2021-01-22T01:43:24.284248Z",
     "iopub.status.idle": "2021-01-22T01:43:24.402159Z",
     "shell.execute_reply": "2021-01-22T01:43:24.402721Z"
    },
    "papermill": {
     "duration": 0.138609,
     "end_time": "2021-01-22T01:43:24.402976",
     "exception": false,
     "start_time": "2021-01-22T01:43:24.264367",
     "status": "completed"
    },
    "tags": []
   },
   "outputs": [],
   "source": [
    "train = pd.get_dummies(train, drop_first=True, prefix=['CODE_GENDER', 'NAME_CONTRACT_TYPE', 'NAME_EDUCATION_TYPE', 'NAME_FAMILY_STATUS'], prefix_sep='_')"
   ]
  },
  {
   "cell_type": "code",
   "execution_count": 18,
   "metadata": {
    "execution": {
     "iopub.execute_input": "2021-01-22T01:43:24.432670Z",
     "iopub.status.busy": "2021-01-22T01:43:24.432022Z",
     "iopub.status.idle": "2021-01-22T01:43:24.433757Z",
     "shell.execute_reply": "2021-01-22T01:43:24.434321Z"
    },
    "papermill": {
     "duration": 0.018633,
     "end_time": "2021-01-22T01:43:24.434525",
     "exception": false,
     "start_time": "2021-01-22T01:43:24.415892",
     "status": "completed"
    },
    "tags": []
   },
   "outputs": [],
   "source": [
    "# 列がない場合は作成"
   ]
  },
  {
   "cell_type": "code",
   "execution_count": 19,
   "metadata": {
    "execution": {
     "iopub.execute_input": "2021-01-22T01:43:24.466903Z",
     "iopub.status.busy": "2021-01-22T01:43:24.466082Z",
     "iopub.status.idle": "2021-01-22T01:43:24.467819Z",
     "shell.execute_reply": "2021-01-22T01:43:24.468284Z"
    },
    "papermill": {
     "duration": 0.020538,
     "end_time": "2021-01-22T01:43:24.468540",
     "exception": false,
     "start_time": "2021-01-22T01:43:24.448002",
     "status": "completed"
    },
    "tags": []
   },
   "outputs": [],
   "source": [
    "feature_order = [\n",
    "    'EXT_SOURCE_1',\n",
    "    'EXT_SOURCE_3',\n",
    "    'EXT_SOURCE_2',\n",
    "    'DAYS_BIRTH',\n",
    "    'AMT_CREDIT',\n",
    "    'AMT_ANNUITY',\n",
    "    'DAYS_ID_PUBLISH',\n",
    "    'AMT_GOODS_PRICE',\n",
    "    'DAYS_REGISTRATION',\n",
    "    'DAYS_LAST_PHONE_CHANGE',\n",
    "    'AMT_INCOME_TOTAL',\n",
    "    'REGION_POPULATION_RELATIVE',\n",
    "    'OWN_CAR_AGE',\n",
    "    'AMT_REQ_CREDIT_BUREAU_YEAR',\n",
    "    'HOUR_APPR_PROCESS_START',\n",
    "    'TOTALAREA_MODE',\n",
    "    'CODE_GENDER_M',\n",
    "    'CODE_GENDER_XNA',\n",
    "    'NAME_CONTRACT_TYPE_Revolving loans',\n",
    "    'NAME_EDUCATION_TYPE_Higher education',\n",
    "    'NAME_EDUCATION_TYPE_Incomplete higher',\n",
    "    'NAME_EDUCATION_TYPE_Lower secondary',\n",
    "    'NAME_EDUCATION_TYPE_Secondary / secondary special',\n",
    "    'NAME_FAMILY_STATUS_Married',\n",
    "    'NAME_FAMILY_STATUS_Separated',\n",
    "    'NAME_FAMILY_STATUS_Single / not married',\n",
    "    'NAME_FAMILY_STATUS_Unknown',\n",
    "    'NAME_FAMILY_STATUS_Widow',\n",
    "    'TARGET',\n",
    "]"
   ]
  },
  {
   "cell_type": "code",
   "execution_count": 20,
   "metadata": {
    "execution": {
     "iopub.execute_input": "2021-01-22T01:43:24.498970Z",
     "iopub.status.busy": "2021-01-22T01:43:24.498363Z",
     "iopub.status.idle": "2021-01-22T01:43:24.500119Z",
     "shell.execute_reply": "2021-01-22T01:43:24.500599Z"
    },
    "papermill": {
     "duration": 0.019409,
     "end_time": "2021-01-22T01:43:24.500860",
     "exception": false,
     "start_time": "2021-01-22T01:43:24.481451",
     "status": "completed"
    },
    "tags": []
   },
   "outputs": [],
   "source": [
    "for c in feature_order:\n",
    "    if c not in train.columns:\n",
    "        train[c] = 0"
   ]
  },
  {
   "cell_type": "code",
   "execution_count": 21,
   "metadata": {
    "execution": {
     "iopub.execute_input": "2021-01-22T01:43:24.531427Z",
     "iopub.status.busy": "2021-01-22T01:43:24.530770Z",
     "iopub.status.idle": "2021-01-22T01:43:24.532355Z",
     "shell.execute_reply": "2021-01-22T01:43:24.532785Z"
    },
    "papermill": {
     "duration": 0.018873,
     "end_time": "2021-01-22T01:43:24.533095",
     "exception": false,
     "start_time": "2021-01-22T01:43:24.514222",
     "status": "completed"
    },
    "tags": []
   },
   "outputs": [],
   "source": [
    "# 列を並び替え"
   ]
  },
  {
   "cell_type": "code",
   "execution_count": 22,
   "metadata": {
    "execution": {
     "iopub.execute_input": "2021-01-22T01:43:24.564485Z",
     "iopub.status.busy": "2021-01-22T01:43:24.563869Z",
     "iopub.status.idle": "2021-01-22T01:43:24.597688Z",
     "shell.execute_reply": "2021-01-22T01:43:24.598137Z"
    },
    "papermill": {
     "duration": 0.051903,
     "end_time": "2021-01-22T01:43:24.598324",
     "exception": false,
     "start_time": "2021-01-22T01:43:24.546421",
     "status": "completed"
    },
    "tags": []
   },
   "outputs": [],
   "source": [
    "train = train.loc[:, feature_order]"
   ]
  },
  {
   "cell_type": "code",
   "execution_count": 23,
   "metadata": {
    "execution": {
     "iopub.execute_input": "2021-01-22T01:43:24.634600Z",
     "iopub.status.busy": "2021-01-22T01:43:24.633847Z",
     "iopub.status.idle": "2021-01-22T01:43:24.635515Z",
     "shell.execute_reply": "2021-01-22T01:43:24.635993Z"
    },
    "papermill": {
     "duration": 0.022717,
     "end_time": "2021-01-22T01:43:24.636217",
     "exception": false,
     "start_time": "2021-01-22T01:43:24.613500",
     "status": "completed"
    },
    "tags": []
   },
   "outputs": [],
   "source": [
    "# 特徴量データ出力"
   ]
  },
  {
   "cell_type": "code",
   "execution_count": 24,
   "metadata": {
    "execution": {
     "iopub.execute_input": "2021-01-22T01:43:24.673740Z",
     "iopub.status.busy": "2021-01-22T01:43:24.672648Z",
     "iopub.status.idle": "2021-01-22T01:43:24.735074Z",
     "shell.execute_reply": "2021-01-22T01:43:24.735612Z"
    },
    "papermill": {
     "duration": 0.084241,
     "end_time": "2021-01-22T01:43:24.735830",
     "exception": false,
     "start_time": "2021-01-22T01:43:24.651589",
     "status": "completed"
    },
    "tags": []
   },
   "outputs": [],
   "source": [
    "if DATA_TYPE == 'train':\n",
    "    train.to_pickle(f'../../data/trial/feature_{TARGET_DATE}.pkl')\n",
    "elif DATA_TYPE == 'test':\n",
    "    train.to_pickle(f'../../data/trial/predict_{TARGET_DATE}.pkl')"
   ]
  },
  {
   "cell_type": "code",
   "execution_count": null,
   "metadata": {
    "papermill": {
     "duration": 0.014835,
     "end_time": "2021-01-22T01:43:24.764251",
     "exception": false,
     "start_time": "2021-01-22T01:43:24.749416",
     "status": "completed"
    },
    "tags": []
   },
   "outputs": [],
   "source": []
  }
 ],
 "metadata": {
  "kernelspec": {
   "display_name": "Python 3",
   "language": "python",
   "name": "python3"
  },
  "language_info": {
   "codemirror_mode": {
    "name": "ipython",
    "version": 3
   },
   "file_extension": ".py",
   "mimetype": "text/x-python",
   "name": "python",
   "nbconvert_exporter": "python",
   "pygments_lexer": "ipython3",
   "version": "3.7.7"
  },
  "papermill": {
   "default_parameters": {},
   "duration": 3.618562,
   "end_time": "2021-01-22T01:43:25.089312",
   "environment_variables": {},
   "exception": null,
   "input_path": "/Users/koyajima/Code/between_poc_and_production/notebooks/trial/feature_engineering.ipynb",
   "output_path": "/Users/koyajima/Code/between_poc_and_production/notebooks/trial/logs/feature_engineering.ipynb",
   "parameters": {
    "DATA_TYPE": "train",
    "TARGET_DATE": 20210101
   },
   "start_time": "2021-01-22T01:43:21.470750",
   "version": "2.2.2"
  }
 },
 "nbformat": 4,
 "nbformat_minor": 4
}