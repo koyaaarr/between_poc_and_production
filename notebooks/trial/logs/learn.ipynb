{
 "cells": [
  {
   "cell_type": "markdown",
   "metadata": {
    "papermill": {
     "duration": 0.027793,
     "end_time": "2021-01-22T01:43:28.172177",
     "exception": false,
     "start_time": "2021-01-22T01:43:28.144384",
     "status": "completed"
    },
    "tags": []
   },
   "source": [
    "# 学習\n",
    "- パラメータチューニング"
   ]
  },
  {
   "cell_type": "code",
   "execution_count": 1,
   "metadata": {
    "execution": {
     "iopub.execute_input": "2021-01-22T01:43:28.203864Z",
     "iopub.status.busy": "2021-01-22T01:43:28.203133Z",
     "iopub.status.idle": "2021-01-22T01:43:28.204738Z",
     "shell.execute_reply": "2021-01-22T01:43:28.205164Z"
    },
    "papermill": {
     "duration": 0.018442,
     "end_time": "2021-01-22T01:43:28.205413",
     "exception": false,
     "start_time": "2021-01-22T01:43:28.186971",
     "status": "completed"
    },
    "tags": []
   },
   "outputs": [],
   "source": [
    "# パラメータ設定"
   ]
  },
  {
   "cell_type": "code",
   "execution_count": 2,
   "metadata": {
    "execution": {
     "iopub.execute_input": "2021-01-22T01:43:28.233155Z",
     "iopub.status.busy": "2021-01-22T01:43:28.232301Z",
     "iopub.status.idle": "2021-01-22T01:43:28.234076Z",
     "shell.execute_reply": "2021-01-22T01:43:28.234616Z"
    },
    "papermill": {
     "duration": 0.01735,
     "end_time": "2021-01-22T01:43:28.234864",
     "exception": false,
     "start_time": "2021-01-22T01:43:28.217514",
     "status": "completed"
    },
    "tags": [
     "parameters"
    ]
   },
   "outputs": [],
   "source": [
    "TARGET_DATE = '20210101'"
   ]
  },
  {
   "cell_type": "code",
   "execution_count": 3,
   "metadata": {
    "execution": {
     "iopub.execute_input": "2021-01-22T01:43:28.288699Z",
     "iopub.status.busy": "2021-01-22T01:43:28.288004Z",
     "iopub.status.idle": "2021-01-22T01:43:28.289612Z",
     "shell.execute_reply": "2021-01-22T01:43:28.290073Z"
    },
    "papermill": {
     "duration": 0.043338,
     "end_time": "2021-01-22T01:43:28.290328",
     "exception": false,
     "start_time": "2021-01-22T01:43:28.246990",
     "status": "completed"
    },
    "tags": [
     "injected-parameters"
    ]
   },
   "outputs": [],
   "source": [
    "# Parameters\n",
    "TARGET_DATE = 20210101\n"
   ]
  },
  {
   "cell_type": "code",
   "execution_count": 4,
   "metadata": {
    "execution": {
     "iopub.execute_input": "2021-01-22T01:43:28.317839Z",
     "iopub.status.busy": "2021-01-22T01:43:28.317212Z",
     "iopub.status.idle": "2021-01-22T01:43:28.318567Z",
     "shell.execute_reply": "2021-01-22T01:43:28.319153Z"
    },
    "papermill": {
     "duration": 0.017164,
     "end_time": "2021-01-22T01:43:28.319401",
     "exception": false,
     "start_time": "2021-01-22T01:43:28.302237",
     "status": "completed"
    },
    "tags": []
   },
   "outputs": [],
   "source": [
    "TARGET_DATE = str(TARGET_DATE)"
   ]
  },
  {
   "cell_type": "code",
   "execution_count": 5,
   "metadata": {
    "execution": {
     "iopub.execute_input": "2021-01-22T01:43:28.347634Z",
     "iopub.status.busy": "2021-01-22T01:43:28.346952Z",
     "iopub.status.idle": "2021-01-22T01:43:28.349279Z",
     "shell.execute_reply": "2021-01-22T01:43:28.348670Z"
    },
    "papermill": {
     "duration": 0.017946,
     "end_time": "2021-01-22T01:43:28.349456",
     "exception": false,
     "start_time": "2021-01-22T01:43:28.331510",
     "status": "completed"
    },
    "tags": []
   },
   "outputs": [],
   "source": [
    "# ライブラリ読み込み"
   ]
  },
  {
   "cell_type": "code",
   "execution_count": 6,
   "metadata": {
    "execution": {
     "iopub.execute_input": "2021-01-22T01:43:28.378744Z",
     "iopub.status.busy": "2021-01-22T01:43:28.378170Z",
     "iopub.status.idle": "2021-01-22T01:43:31.101164Z",
     "shell.execute_reply": "2021-01-22T01:43:31.101683Z"
    },
    "papermill": {
     "duration": 2.740167,
     "end_time": "2021-01-22T01:43:31.101923",
     "exception": false,
     "start_time": "2021-01-22T01:43:28.361756",
     "status": "completed"
    },
    "tags": []
   },
   "outputs": [],
   "source": [
    "import pandas as pd\n",
    "import numpy as np\n",
    "import argparse\n",
    "import shap\n",
    "import optuna\n",
    "import pickle\n",
    "import lightgbm as lgb\n",
    "from sklearn.metrics import accuracy_score, confusion_matrix, recall_score, f1_score, precision_score\n",
    "from sklearn.model_selection import train_test_split\n",
    "from sklearn import datasets\n",
    "from sklearn import metrics\n",
    "from sklearn.model_selection import StratifiedKFold\n",
    "import matplotlib.pyplot as plt"
   ]
  },
  {
   "cell_type": "code",
   "execution_count": 7,
   "metadata": {
    "execution": {
     "iopub.execute_input": "2021-01-22T01:43:31.131354Z",
     "iopub.status.busy": "2021-01-22T01:43:31.130601Z",
     "iopub.status.idle": "2021-01-22T01:43:31.132820Z",
     "shell.execute_reply": "2021-01-22T01:43:31.133264Z"
    },
    "papermill": {
     "duration": 0.018759,
     "end_time": "2021-01-22T01:43:31.133521",
     "exception": false,
     "start_time": "2021-01-22T01:43:31.114762",
     "status": "completed"
    },
    "tags": []
   },
   "outputs": [],
   "source": [
    "# dataframe設定調整"
   ]
  },
  {
   "cell_type": "code",
   "execution_count": 8,
   "metadata": {
    "execution": {
     "iopub.execute_input": "2021-01-22T01:43:31.162617Z",
     "iopub.status.busy": "2021-01-22T01:43:31.161970Z",
     "iopub.status.idle": "2021-01-22T01:43:31.163664Z",
     "shell.execute_reply": "2021-01-22T01:43:31.164188Z"
    },
    "papermill": {
     "duration": 0.018381,
     "end_time": "2021-01-22T01:43:31.164460",
     "exception": false,
     "start_time": "2021-01-22T01:43:31.146079",
     "status": "completed"
    },
    "tags": []
   },
   "outputs": [],
   "source": [
    "pd.set_option('display.max_columns', 100)\n",
    "pd.set_option('display.max_rows', 200)"
   ]
  },
  {
   "cell_type": "code",
   "execution_count": 9,
   "metadata": {
    "execution": {
     "iopub.execute_input": "2021-01-22T01:43:31.197799Z",
     "iopub.status.busy": "2021-01-22T01:43:31.196927Z",
     "iopub.status.idle": "2021-01-22T01:43:31.198793Z",
     "shell.execute_reply": "2021-01-22T01:43:31.199209Z"
    },
    "papermill": {
     "duration": 0.022082,
     "end_time": "2021-01-22T01:43:31.199393",
     "exception": false,
     "start_time": "2021-01-22T01:43:31.177311",
     "status": "completed"
    },
    "tags": []
   },
   "outputs": [],
   "source": [
    "# データ読み込み"
   ]
  },
  {
   "cell_type": "code",
   "execution_count": 10,
   "metadata": {
    "execution": {
     "iopub.execute_input": "2021-01-22T01:43:31.233102Z",
     "iopub.status.busy": "2021-01-22T01:43:31.232365Z",
     "iopub.status.idle": "2021-01-22T01:43:31.286990Z",
     "shell.execute_reply": "2021-01-22T01:43:31.287671Z"
    },
    "papermill": {
     "duration": 0.074319,
     "end_time": "2021-01-22T01:43:31.287874",
     "exception": false,
     "start_time": "2021-01-22T01:43:31.213555",
     "status": "completed"
    },
    "tags": []
   },
   "outputs": [],
   "source": [
    "train = pd.read_pickle(f'../../data/trial/feature_{TARGET_DATE}.pkl')"
   ]
  },
  {
   "cell_type": "code",
   "execution_count": 11,
   "metadata": {
    "execution": {
     "iopub.execute_input": "2021-01-22T01:43:31.318887Z",
     "iopub.status.busy": "2021-01-22T01:43:31.318177Z",
     "iopub.status.idle": "2021-01-22T01:43:31.319889Z",
     "shell.execute_reply": "2021-01-22T01:43:31.320609Z"
    },
    "papermill": {
     "duration": 0.01897,
     "end_time": "2021-01-22T01:43:31.320840",
     "exception": false,
     "start_time": "2021-01-22T01:43:31.301870",
     "status": "completed"
    },
    "tags": []
   },
   "outputs": [],
   "source": [
    "target = 'TARGET'"
   ]
  },
  {
   "cell_type": "code",
   "execution_count": 12,
   "metadata": {
    "execution": {
     "iopub.execute_input": "2021-01-22T01:43:31.359623Z",
     "iopub.status.busy": "2021-01-22T01:43:31.358992Z",
     "iopub.status.idle": "2021-01-22T01:43:31.366300Z",
     "shell.execute_reply": "2021-01-22T01:43:31.366973Z"
    },
    "papermill": {
     "duration": 0.033845,
     "end_time": "2021-01-22T01:43:31.367210",
     "exception": false,
     "start_time": "2021-01-22T01:43:31.333365",
     "status": "completed"
    },
    "tags": []
   },
   "outputs": [],
   "source": [
    "X = train.drop(columns=target)"
   ]
  },
  {
   "cell_type": "code",
   "execution_count": 13,
   "metadata": {
    "execution": {
     "iopub.execute_input": "2021-01-22T01:43:31.398177Z",
     "iopub.status.busy": "2021-01-22T01:43:31.397543Z",
     "iopub.status.idle": "2021-01-22T01:43:31.399466Z",
     "shell.execute_reply": "2021-01-22T01:43:31.399969Z"
    },
    "papermill": {
     "duration": 0.019937,
     "end_time": "2021-01-22T01:43:31.400154",
     "exception": false,
     "start_time": "2021-01-22T01:43:31.380217",
     "status": "completed"
    },
    "tags": []
   },
   "outputs": [],
   "source": [
    "y = train[target]"
   ]
  },
  {
   "cell_type": "code",
   "execution_count": 14,
   "metadata": {
    "execution": {
     "iopub.execute_input": "2021-01-22T01:43:31.431683Z",
     "iopub.status.busy": "2021-01-22T01:43:31.430832Z",
     "iopub.status.idle": "2021-01-22T01:43:31.599533Z",
     "shell.execute_reply": "2021-01-22T01:43:31.600014Z"
    },
    "papermill": {
     "duration": 0.186361,
     "end_time": "2021-01-22T01:43:31.600268",
     "exception": false,
     "start_time": "2021-01-22T01:43:31.413907",
     "status": "completed"
    },
    "tags": []
   },
   "outputs": [],
   "source": [
    "X_train, X_test, y_train, y_test = train_test_split(X, y,\n",
    "                                                   test_size=0.2,\n",
    "                                                   random_state=0,\n",
    "                                                   stratify=y)"
   ]
  },
  {
   "cell_type": "code",
   "execution_count": 15,
   "metadata": {
    "execution": {
     "iopub.execute_input": "2021-01-22T01:43:31.631442Z",
     "iopub.status.busy": "2021-01-22T01:43:31.630851Z",
     "iopub.status.idle": "2021-01-22T01:43:31.757046Z",
     "shell.execute_reply": "2021-01-22T01:43:31.757672Z"
    },
    "papermill": {
     "duration": 0.144735,
     "end_time": "2021-01-22T01:43:31.757862",
     "exception": false,
     "start_time": "2021-01-22T01:43:31.613127",
     "status": "completed"
    },
    "tags": []
   },
   "outputs": [],
   "source": [
    "X_train, X_eval, y_train, y_eval = train_test_split(X_train, y_train,\n",
    "                                                    test_size=0.2,\n",
    "                                                    random_state=1,\n",
    "                                                    stratify=y_train)"
   ]
  },
  {
   "cell_type": "code",
   "execution_count": 16,
   "metadata": {
    "execution": {
     "iopub.execute_input": "2021-01-22T01:43:31.788035Z",
     "iopub.status.busy": "2021-01-22T01:43:31.787306Z",
     "iopub.status.idle": "2021-01-22T01:43:31.788987Z",
     "shell.execute_reply": "2021-01-22T01:43:31.789449Z"
    },
    "papermill": {
     "duration": 0.018577,
     "end_time": "2021-01-22T01:43:31.789632",
     "exception": false,
     "start_time": "2021-01-22T01:43:31.771055",
     "status": "completed"
    },
    "tags": []
   },
   "outputs": [],
   "source": [
    "categorical_features = [\n",
    "# 'prefecture_code'\n",
    "]"
   ]
  },
  {
   "cell_type": "code",
   "execution_count": 17,
   "metadata": {
    "execution": {
     "iopub.execute_input": "2021-01-22T01:43:31.821108Z",
     "iopub.status.busy": "2021-01-22T01:43:31.820469Z",
     "iopub.status.idle": "2021-01-22T01:43:31.822400Z",
     "shell.execute_reply": "2021-01-22T01:43:31.822919Z"
    },
    "papermill": {
     "duration": 0.020159,
     "end_time": "2021-01-22T01:43:31.823132",
     "exception": false,
     "start_time": "2021-01-22T01:43:31.802973",
     "status": "completed"
    },
    "tags": []
   },
   "outputs": [],
   "source": [
    "lgb_train = lgb.Dataset(X_train, y_train,\n",
    "                       categorical_feature=categorical_features,\n",
    "                        free_raw_data=False)\n",
    "lgb_eval = lgb.Dataset(X_eval, y_eval, reference=lgb_train,\n",
    "                       categorical_feature=categorical_features,\n",
    "                       free_raw_data=False)"
   ]
  },
  {
   "cell_type": "code",
   "execution_count": 18,
   "metadata": {
    "execution": {
     "iopub.execute_input": "2021-01-22T01:43:31.858903Z",
     "iopub.status.busy": "2021-01-22T01:43:31.858201Z",
     "iopub.status.idle": "2021-01-22T01:43:31.860227Z",
     "shell.execute_reply": "2021-01-22T01:43:31.860771Z"
    },
    "papermill": {
     "duration": 0.024465,
     "end_time": "2021-01-22T01:43:31.861025",
     "exception": false,
     "start_time": "2021-01-22T01:43:31.836560",
     "status": "completed"
    },
    "tags": []
   },
   "outputs": [],
   "source": [
    "def objective(trial):\n",
    "\n",
    "    param = {\n",
    "        'objective': 'binary',\n",
    "        'metric': 'auc',\n",
    "        'verbosity': -1,\n",
    "        'n_jobs': -1,\n",
    "        'boosting_type': 'gbdt',\n",
    "        'lambda_l1': trial.suggest_loguniform('lambda_l1', 1e-8, 10.0),\n",
    "        'lambda_l2': trial.suggest_loguniform('lambda_l2', 1e-8, 10.0),\n",
    "        'num_leaves': trial.suggest_int('num_leaves', 2, 256),\n",
    "        'feature_fraction': trial.suggest_uniform('feature_fraction', 0.4, 1.0),\n",
    "        'bagging_fraction': trial.suggest_uniform('bagging_fraction', 0.4, 1.0),\n",
    "        'bagging_freq': trial.suggest_int('bagging_freq', 1, 7),\n",
    "        'min_child_samples': trial.suggest_int('min_child_samples', 5, 100),\n",
    "    }\n",
    "\n",
    "    evaluation_results = {}                                     # 学習の経過を保存する箱\n",
    "    model = lgb.train(\n",
    "        param,                                   # 上記で設定したパラメータ\n",
    "        lgb_train,                                # 使用するデータセット\n",
    "        num_boost_round=1000,                     # 学習の回数\n",
    "        valid_names=['train', 'valid'],           # 学習経過で表示する名称\n",
    "        valid_sets=[lgb_train, lgb_eval],         # モデル検証のデータセット\n",
    "        evals_result=evaluation_results,          # 学習の経過を保存\n",
    "        categorical_feature=categorical_features, # カテゴリー変数を設定\n",
    "        early_stopping_rounds=50,                 # アーリーストッピング\n",
    "        verbose_eval=10)                          # 学習の経過の表示(10回毎)\n",
    "    \n",
    "    y_pred = model.predict(X_train, num_iteration=model.best_iteration)\n",
    "    \n",
    "    # metrics AUC\n",
    "    fpr, tpr, thresholds = metrics.roc_curve(y_train, y_pred)\n",
    "    score = metrics.auc(fpr, tpr)\n",
    "\n",
    "    # metrics F1\n",
    "#     score = f1_score(y_train, y_pred)\n",
    "\n",
    "    # MLFlow\n",
    "#     with mlflow.start_run() as run:\n",
    "#         mlflow.log_params(param)\n",
    "#         mlflow.log_metrics({'accuracy': accuracy})\n",
    "#         mlflow.lightgbm.log_model(gbm, 'model', args.conda_env)\n",
    "#     print('Model logged in run {}'.format(run.info.run_uuid))\n",
    "    return score"
   ]
  },
  {
   "cell_type": "code",
   "execution_count": 19,
   "metadata": {
    "execution": {
     "iopub.execute_input": "2021-01-22T01:43:31.894857Z",
     "iopub.status.busy": "2021-01-22T01:43:31.894070Z",
     "iopub.status.idle": "2021-01-22T01:44:02.838017Z",
     "shell.execute_reply": "2021-01-22T01:44:02.830622Z"
    },
    "papermill": {
     "duration": 30.963972,
     "end_time": "2021-01-22T01:44:02.838279",
     "exception": false,
     "start_time": "2021-01-22T01:43:31.874307",
     "status": "completed"
    },
    "tags": []
   },
   "outputs": [
    {
     "name": "stderr",
     "output_type": "stream",
     "text": [
      "[I 2021-01-22 10:43:31,892]"
     ]
    },
    {
     "name": "stderr",
     "output_type": "stream",
     "text": [
      " A new study created in memory with name: no-name-153ee88f-06a9-497a-85eb-98263d77875e"
     ]
    },
    {
     "name": "stderr",
     "output_type": "stream",
     "text": [
      "\n"
     ]
    },
    {
     "name": "stdout",
     "output_type": "stream",
     "text": [
      "Training until validation scores don't improve for 50 rounds"
     ]
    },
    {
     "name": "stdout",
     "output_type": "stream",
     "text": [
      "\n"
     ]
    },
    {
     "name": "stdout",
     "output_type": "stream",
     "text": [
      "[10]\ttrain's auc: 0.778\tvalid's auc: 0.726713"
     ]
    },
    {
     "name": "stdout",
     "output_type": "stream",
     "text": [
      "\n"
     ]
    },
    {
     "name": "stdout",
     "output_type": "stream",
     "text": [
      "[20]\ttrain's auc: 0.81471\tvalid's auc: 0.733736"
     ]
    },
    {
     "name": "stdout",
     "output_type": "stream",
     "text": [
      "\n"
     ]
    },
    {
     "name": "stdout",
     "output_type": "stream",
     "text": [
      "[30]\ttrain's auc: 0.841701\tvalid's auc: 0.735061"
     ]
    },
    {
     "name": "stdout",
     "output_type": "stream",
     "text": [
      "\n"
     ]
    },
    {
     "name": "stdout",
     "output_type": "stream",
     "text": [
      "[40]\ttrain's auc: 0.86671\tvalid's auc: 0.73526"
     ]
    },
    {
     "name": "stdout",
     "output_type": "stream",
     "text": [
      "\n"
     ]
    },
    {
     "name": "stdout",
     "output_type": "stream",
     "text": [
      "[50]\ttrain's auc: 0.887907\tvalid's auc: 0.733756"
     ]
    },
    {
     "name": "stdout",
     "output_type": "stream",
     "text": [
      "\n"
     ]
    },
    {
     "name": "stdout",
     "output_type": "stream",
     "text": [
      "[60]\ttrain's auc: 0.903845\tvalid's auc: 0.733013"
     ]
    },
    {
     "name": "stdout",
     "output_type": "stream",
     "text": [
      "\n"
     ]
    },
    {
     "name": "stdout",
     "output_type": "stream",
     "text": [
      "[70]\ttrain's auc: 0.916608\tvalid's auc: 0.732047"
     ]
    },
    {
     "name": "stdout",
     "output_type": "stream",
     "text": [
      "\n"
     ]
    },
    {
     "name": "stdout",
     "output_type": "stream",
     "text": [
      "[80]\ttrain's auc: 0.928195\tvalid's auc: 0.730632"
     ]
    },
    {
     "name": "stdout",
     "output_type": "stream",
     "text": [
      "\n"
     ]
    },
    {
     "name": "stdout",
     "output_type": "stream",
     "text": [
      "Early stopping, best iteration is:\n",
      "[38]\ttrain's auc: 0.861487\tvalid's auc: 0.736132"
     ]
    },
    {
     "name": "stdout",
     "output_type": "stream",
     "text": [
      "\n"
     ]
    },
    {
     "name": "stderr",
     "output_type": "stream",
     "text": [
      "[I 2021-01-22 10:43:35,002]"
     ]
    },
    {
     "name": "stderr",
     "output_type": "stream",
     "text": [
      " Trial 0 finished with value: 0.8614868157380461 and parameters: {'lambda_l1': 9.43487209670849e-06, 'lambda_l2': 6.000178070520167e-05, 'num_leaves': 222, 'feature_fraction': 0.8800404939995382, 'bagging_fraction': 0.616228130909344, 'bagging_freq': 5, 'min_child_samples': 22}. Best is trial 0 with value: 0.8614868157380461."
     ]
    },
    {
     "name": "stderr",
     "output_type": "stream",
     "text": [
      "\n"
     ]
    },
    {
     "name": "stdout",
     "output_type": "stream",
     "text": [
      "Training until validation scores don't improve for 50 rounds"
     ]
    },
    {
     "name": "stdout",
     "output_type": "stream",
     "text": [
      "\n"
     ]
    },
    {
     "name": "stdout",
     "output_type": "stream",
     "text": [
      "[10]\ttrain's auc: 0.760416\tvalid's auc: 0.73239"
     ]
    },
    {
     "name": "stdout",
     "output_type": "stream",
     "text": [
      "\n"
     ]
    },
    {
     "name": "stdout",
     "output_type": "stream",
     "text": [
      "[20]\ttrain's auc: 0.775714\tvalid's auc: 0.738456"
     ]
    },
    {
     "name": "stdout",
     "output_type": "stream",
     "text": [
      "\n"
     ]
    },
    {
     "name": "stdout",
     "output_type": "stream",
     "text": [
      "[30]\ttrain's auc: 0.790309\tvalid's auc: 0.741232"
     ]
    },
    {
     "name": "stdout",
     "output_type": "stream",
     "text": [
      "\n"
     ]
    },
    {
     "name": "stdout",
     "output_type": "stream",
     "text": [
      "[40]\ttrain's auc: 0.803071\tvalid's auc: 0.743329"
     ]
    },
    {
     "name": "stdout",
     "output_type": "stream",
     "text": [
      "\n"
     ]
    },
    {
     "name": "stdout",
     "output_type": "stream",
     "text": [
      "[50]\ttrain's auc: 0.814178\tvalid's auc: 0.745459"
     ]
    },
    {
     "name": "stdout",
     "output_type": "stream",
     "text": [
      "\n"
     ]
    },
    {
     "name": "stdout",
     "output_type": "stream",
     "text": [
      "[60]\ttrain's auc: 0.824614\tvalid's auc: 0.745625"
     ]
    },
    {
     "name": "stdout",
     "output_type": "stream",
     "text": [
      "\n"
     ]
    },
    {
     "name": "stdout",
     "output_type": "stream",
     "text": [
      "[70]\ttrain's auc: 0.834533\tvalid's auc: 0.744834"
     ]
    },
    {
     "name": "stdout",
     "output_type": "stream",
     "text": [
      "\n"
     ]
    },
    {
     "name": "stdout",
     "output_type": "stream",
     "text": [
      "[80]\ttrain's auc: 0.843156\tvalid's auc: 0.744714"
     ]
    },
    {
     "name": "stdout",
     "output_type": "stream",
     "text": [
      "\n"
     ]
    },
    {
     "name": "stdout",
     "output_type": "stream",
     "text": [
      "[90]\ttrain's auc: 0.851364\tvalid's auc: 0.745039"
     ]
    },
    {
     "name": "stdout",
     "output_type": "stream",
     "text": [
      "\n"
     ]
    },
    {
     "name": "stdout",
     "output_type": "stream",
     "text": [
      "[100]\ttrain's auc: 0.860053\tvalid's auc: 0.744846"
     ]
    },
    {
     "name": "stdout",
     "output_type": "stream",
     "text": [
      "\n"
     ]
    },
    {
     "name": "stdout",
     "output_type": "stream",
     "text": [
      "[110]\ttrain's auc: 0.867885\tvalid's auc: 0.744088"
     ]
    },
    {
     "name": "stdout",
     "output_type": "stream",
     "text": [
      "\n"
     ]
    },
    {
     "name": "stdout",
     "output_type": "stream",
     "text": [
      "Early stopping, best iteration is:\n",
      "[64]\ttrain's auc: 0.828762\tvalid's auc: 0.745806"
     ]
    },
    {
     "name": "stdout",
     "output_type": "stream",
     "text": [
      "\n"
     ]
    },
    {
     "name": "stderr",
     "output_type": "stream",
     "text": [
      "[I 2021-01-22 10:43:39,126]"
     ]
    },
    {
     "name": "stderr",
     "output_type": "stream",
     "text": [
      " Trial 1 finished with value: 0.8287619102078271 and parameters: {'lambda_l1': 2.7848272905911187, 'lambda_l2': 7.66563100449721e-08, 'num_leaves': 107, 'feature_fraction': 0.8226131657906224, 'bagging_fraction': 0.6868246293041356, 'bagging_freq': 3, 'min_child_samples': 26}. Best is trial 0 with value: 0.8614868157380461."
     ]
    },
    {
     "name": "stderr",
     "output_type": "stream",
     "text": [
      "\n"
     ]
    },
    {
     "name": "stdout",
     "output_type": "stream",
     "text": [
      "Training until validation scores don't improve for 50 rounds"
     ]
    },
    {
     "name": "stdout",
     "output_type": "stream",
     "text": [
      "\n"
     ]
    },
    {
     "name": "stdout",
     "output_type": "stream",
     "text": [
      "[10]\ttrain's auc: 0.761966\tvalid's auc: 0.722613"
     ]
    },
    {
     "name": "stdout",
     "output_type": "stream",
     "text": [
      "\n"
     ]
    },
    {
     "name": "stdout",
     "output_type": "stream",
     "text": [
      "[20]\ttrain's auc: 0.785783\tvalid's auc: 0.737114"
     ]
    },
    {
     "name": "stdout",
     "output_type": "stream",
     "text": [
      "\n"
     ]
    },
    {
     "name": "stdout",
     "output_type": "stream",
     "text": [
      "[30]\ttrain's auc: 0.800005\tvalid's auc: 0.739266"
     ]
    },
    {
     "name": "stdout",
     "output_type": "stream",
     "text": [
      "\n"
     ]
    },
    {
     "name": "stdout",
     "output_type": "stream",
     "text": [
      "[40]\ttrain's auc: 0.813634\tvalid's auc: 0.739724"
     ]
    },
    {
     "name": "stdout",
     "output_type": "stream",
     "text": [
      "\n"
     ]
    },
    {
     "name": "stdout",
     "output_type": "stream",
     "text": [
      "[50]\ttrain's auc: 0.826454\tvalid's auc: 0.739906"
     ]
    },
    {
     "name": "stdout",
     "output_type": "stream",
     "text": [
      "\n"
     ]
    },
    {
     "name": "stdout",
     "output_type": "stream",
     "text": [
      "[60]\ttrain's auc: 0.839135\tvalid's auc: 0.74034"
     ]
    },
    {
     "name": "stdout",
     "output_type": "stream",
     "text": [
      "\n"
     ]
    },
    {
     "name": "stdout",
     "output_type": "stream",
     "text": [
      "[70]\ttrain's auc: 0.851391\tvalid's auc: 0.740268"
     ]
    },
    {
     "name": "stdout",
     "output_type": "stream",
     "text": [
      "\n"
     ]
    },
    {
     "name": "stdout",
     "output_type": "stream",
     "text": [
      "[80]\ttrain's auc: 0.862472\tvalid's auc: 0.738658"
     ]
    },
    {
     "name": "stdout",
     "output_type": "stream",
     "text": [
      "\n"
     ]
    },
    {
     "name": "stdout",
     "output_type": "stream",
     "text": [
      "[90]\ttrain's auc: 0.872275\tvalid's auc: 0.738585"
     ]
    },
    {
     "name": "stdout",
     "output_type": "stream",
     "text": [
      "\n"
     ]
    },
    {
     "name": "stdout",
     "output_type": "stream",
     "text": [
      "[100]\ttrain's auc: 0.879882\tvalid's auc: 0.738753"
     ]
    },
    {
     "name": "stdout",
     "output_type": "stream",
     "text": [
      "\n"
     ]
    },
    {
     "name": "stdout",
     "output_type": "stream",
     "text": [
      "Early stopping, best iteration is:\n",
      "[56]\ttrain's auc: 0.834349\tvalid's auc: 0.74075"
     ]
    },
    {
     "name": "stdout",
     "output_type": "stream",
     "text": [
      "\n"
     ]
    },
    {
     "name": "stderr",
     "output_type": "stream",
     "text": [
      "[I 2021-01-22 10:43:42,412]"
     ]
    },
    {
     "name": "stderr",
     "output_type": "stream",
     "text": [
      " Trial 2 finished with value: 0.834349418286175 and parameters: {'lambda_l1': 0.10458515051038095, 'lambda_l2': 0.0015541471168766135, 'num_leaves': 124, 'feature_fraction': 0.4157225849070554, 'bagging_fraction': 0.5334320206088372, 'bagging_freq': 2, 'min_child_samples': 21}. Best is trial 0 with value: 0.8614868157380461."
     ]
    },
    {
     "name": "stderr",
     "output_type": "stream",
     "text": [
      "\n"
     ]
    },
    {
     "name": "stdout",
     "output_type": "stream",
     "text": [
      "Training until validation scores don't improve for 50 rounds"
     ]
    },
    {
     "name": "stdout",
     "output_type": "stream",
     "text": [
      "\n"
     ]
    },
    {
     "name": "stdout",
     "output_type": "stream",
     "text": [
      "[10]\ttrain's auc: 0.783633\tvalid's auc: 0.731699"
     ]
    },
    {
     "name": "stdout",
     "output_type": "stream",
     "text": [
      "\n"
     ]
    },
    {
     "name": "stdout",
     "output_type": "stream",
     "text": [
      "[20]\ttrain's auc: 0.818048\tvalid's auc: 0.73408"
     ]
    },
    {
     "name": "stdout",
     "output_type": "stream",
     "text": [
      "\n"
     ]
    },
    {
     "name": "stdout",
     "output_type": "stream",
     "text": [
      "[30]\ttrain's auc: 0.849217\tvalid's auc: 0.736393"
     ]
    },
    {
     "name": "stdout",
     "output_type": "stream",
     "text": [
      "\n"
     ]
    },
    {
     "name": "stdout",
     "output_type": "stream",
     "text": [
      "[40]\ttrain's auc: 0.874916\tvalid's auc: 0.737897"
     ]
    },
    {
     "name": "stdout",
     "output_type": "stream",
     "text": [
      "\n"
     ]
    },
    {
     "name": "stdout",
     "output_type": "stream",
     "text": [
      "[50]\ttrain's auc: 0.894774\tvalid's auc: 0.738786"
     ]
    },
    {
     "name": "stdout",
     "output_type": "stream",
     "text": [
      "\n"
     ]
    },
    {
     "name": "stdout",
     "output_type": "stream",
     "text": [
      "[60]\ttrain's auc: 0.912496\tvalid's auc: 0.737092"
     ]
    },
    {
     "name": "stdout",
     "output_type": "stream",
     "text": [
      "\n"
     ]
    },
    {
     "name": "stdout",
     "output_type": "stream",
     "text": [
      "[70]\ttrain's auc: 0.927045\tvalid's auc: 0.736119"
     ]
    },
    {
     "name": "stdout",
     "output_type": "stream",
     "text": [
      "\n"
     ]
    },
    {
     "name": "stdout",
     "output_type": "stream",
     "text": [
      "[80]\ttrain's auc: 0.938321\tvalid's auc: 0.736159"
     ]
    },
    {
     "name": "stdout",
     "output_type": "stream",
     "text": [
      "\n"
     ]
    },
    {
     "name": "stdout",
     "output_type": "stream",
     "text": [
      "[90]\ttrain's auc: 0.947259\tvalid's auc: 0.734679"
     ]
    },
    {
     "name": "stdout",
     "output_type": "stream",
     "text": [
      "\n"
     ]
    },
    {
     "name": "stdout",
     "output_type": "stream",
     "text": [
      "Early stopping, best iteration is:\n",
      "[47]\ttrain's auc: 0.888917\tvalid's auc: 0.739159"
     ]
    },
    {
     "name": "stdout",
     "output_type": "stream",
     "text": [
      "\n"
     ]
    },
    {
     "name": "stderr",
     "output_type": "stream",
     "text": [
      "[I 2021-01-22 10:43:45,534]"
     ]
    },
    {
     "name": "stderr",
     "output_type": "stream",
     "text": [
      " Trial 3 finished with value: 0.8889169817441438 and parameters: {'lambda_l1': 2.2423051871000533e-08, 'lambda_l2': 1.199991370624013e-08, 'num_leaves': 225, 'feature_fraction': 0.9755560308198515, 'bagging_fraction': 0.8379964913895002, 'bagging_freq': 3, 'min_child_samples': 26}. Best is trial 3 with value: 0.8889169817441438."
     ]
    },
    {
     "name": "stderr",
     "output_type": "stream",
     "text": [
      "\n"
     ]
    },
    {
     "name": "stdout",
     "output_type": "stream",
     "text": [
      "Training until validation scores don't improve for 50 rounds"
     ]
    },
    {
     "name": "stdout",
     "output_type": "stream",
     "text": [
      "\n"
     ]
    },
    {
     "name": "stdout",
     "output_type": "stream",
     "text": [
      "[10]\ttrain's auc: 0.790362\tvalid's auc: 0.728865"
     ]
    },
    {
     "name": "stdout",
     "output_type": "stream",
     "text": [
      "\n"
     ]
    },
    {
     "name": "stdout",
     "output_type": "stream",
     "text": [
      "[20]\ttrain's auc: 0.812358\tvalid's auc: 0.738172"
     ]
    },
    {
     "name": "stdout",
     "output_type": "stream",
     "text": [
      "\n"
     ]
    },
    {
     "name": "stdout",
     "output_type": "stream",
     "text": [
      "[30]\ttrain's auc: 0.830355\tvalid's auc: 0.739905"
     ]
    },
    {
     "name": "stdout",
     "output_type": "stream",
     "text": [
      "\n"
     ]
    },
    {
     "name": "stdout",
     "output_type": "stream",
     "text": [
      "[40]\ttrain's auc: 0.847957\tvalid's auc: 0.740725"
     ]
    },
    {
     "name": "stdout",
     "output_type": "stream",
     "text": [
      "\n"
     ]
    },
    {
     "name": "stdout",
     "output_type": "stream",
     "text": [
      "[50]\ttrain's auc: 0.86539\tvalid's auc: 0.740614"
     ]
    },
    {
     "name": "stdout",
     "output_type": "stream",
     "text": [
      "\n"
     ]
    },
    {
     "name": "stdout",
     "output_type": "stream",
     "text": [
      "[60]\ttrain's auc: 0.880607\tvalid's auc: 0.739981"
     ]
    },
    {
     "name": "stdout",
     "output_type": "stream",
     "text": [
      "\n"
     ]
    },
    {
     "name": "stdout",
     "output_type": "stream",
     "text": [
      "[70]\ttrain's auc: 0.894587\tvalid's auc: 0.738763"
     ]
    },
    {
     "name": "stdout",
     "output_type": "stream",
     "text": [
      "\n"
     ]
    },
    {
     "name": "stdout",
     "output_type": "stream",
     "text": [
      "[80]\ttrain's auc: 0.907816\tvalid's auc: 0.7371"
     ]
    },
    {
     "name": "stdout",
     "output_type": "stream",
     "text": [
      "\n"
     ]
    },
    {
     "name": "stdout",
     "output_type": "stream",
     "text": [
      "[90]\ttrain's auc: 0.919121\tvalid's auc: 0.736358"
     ]
    },
    {
     "name": "stdout",
     "output_type": "stream",
     "text": [
      "\n"
     ]
    },
    {
     "name": "stdout",
     "output_type": "stream",
     "text": [
      "Early stopping, best iteration is:\n",
      "[45]\ttrain's auc: 0.855863\tvalid's auc: 0.741144"
     ]
    },
    {
     "name": "stdout",
     "output_type": "stream",
     "text": [
      "\n"
     ]
    },
    {
     "name": "stderr",
     "output_type": "stream",
     "text": [
      "[I 2021-01-22 10:43:48,299]"
     ]
    },
    {
     "name": "stderr",
     "output_type": "stream",
     "text": [
      " Trial 4 finished with value: 0.8558629905494132 and parameters: {'lambda_l1': 2.144819178673477e-07, 'lambda_l2': 3.4626769156456904e-06, 'num_leaves': 213, 'feature_fraction': 0.44749453479534995, 'bagging_fraction': 0.8122183471790609, 'bagging_freq': 2, 'min_child_samples': 67}. Best is trial 3 with value: 0.8889169817441438."
     ]
    },
    {
     "name": "stderr",
     "output_type": "stream",
     "text": [
      "\n"
     ]
    },
    {
     "name": "stdout",
     "output_type": "stream",
     "text": [
      "Training until validation scores don't improve for 50 rounds"
     ]
    },
    {
     "name": "stdout",
     "output_type": "stream",
     "text": [
      "\n"
     ]
    },
    {
     "name": "stdout",
     "output_type": "stream",
     "text": [
      "[10]\ttrain's auc: 0.785509\tvalid's auc: 0.727503"
     ]
    },
    {
     "name": "stdout",
     "output_type": "stream",
     "text": [
      "\n"
     ]
    },
    {
     "name": "stdout",
     "output_type": "stream",
     "text": [
      "[20]\ttrain's auc: 0.807899\tvalid's auc: 0.737101"
     ]
    },
    {
     "name": "stdout",
     "output_type": "stream",
     "text": [
      "\n"
     ]
    },
    {
     "name": "stdout",
     "output_type": "stream",
     "text": [
      "[30]\ttrain's auc: 0.826339\tvalid's auc: 0.736649"
     ]
    },
    {
     "name": "stdout",
     "output_type": "stream",
     "text": [
      "\n"
     ]
    },
    {
     "name": "stdout",
     "output_type": "stream",
     "text": [
      "[40]\ttrain's auc: 0.843095\tvalid's auc: 0.73787"
     ]
    },
    {
     "name": "stdout",
     "output_type": "stream",
     "text": [
      "\n"
     ]
    },
    {
     "name": "stdout",
     "output_type": "stream",
     "text": [
      "[50]\ttrain's auc: 0.859252\tvalid's auc: 0.737416"
     ]
    },
    {
     "name": "stdout",
     "output_type": "stream",
     "text": [
      "\n"
     ]
    },
    {
     "name": "stdout",
     "output_type": "stream",
     "text": [
      "[60]\ttrain's auc: 0.874483\tvalid's auc: 0.736958"
     ]
    },
    {
     "name": "stdout",
     "output_type": "stream",
     "text": [
      "\n"
     ]
    },
    {
     "name": "stdout",
     "output_type": "stream",
     "text": [
      "[70]\ttrain's auc: 0.888309\tvalid's auc: 0.734898"
     ]
    },
    {
     "name": "stdout",
     "output_type": "stream",
     "text": [
      "\n"
     ]
    },
    {
     "name": "stdout",
     "output_type": "stream",
     "text": [
      "[80]\ttrain's auc: 0.900294\tvalid's auc: 0.734006"
     ]
    },
    {
     "name": "stdout",
     "output_type": "stream",
     "text": [
      "\n"
     ]
    },
    {
     "name": "stdout",
     "output_type": "stream",
     "text": [
      "Early stopping, best iteration is:\n",
      "[39]\ttrain's auc: 0.841648\tvalid's auc: 0.737988"
     ]
    },
    {
     "name": "stdout",
     "output_type": "stream",
     "text": [
      "\n"
     ]
    },
    {
     "name": "stderr",
     "output_type": "stream",
     "text": [
      "[I 2021-01-22 10:43:50,952]"
     ]
    },
    {
     "name": "stderr",
     "output_type": "stream",
     "text": [
      " Trial 5 finished with value: 0.8416484138102974 and parameters: {'lambda_l1': 0.005067755953270618, 'lambda_l2': 2.1330788043240945e-07, 'num_leaves': 216, 'feature_fraction': 0.5362084388183074, 'bagging_fraction': 0.6289109176169222, 'bagging_freq': 7, 'min_child_samples': 83}. Best is trial 3 with value: 0.8889169817441438."
     ]
    },
    {
     "name": "stderr",
     "output_type": "stream",
     "text": [
      "\n"
     ]
    },
    {
     "name": "stdout",
     "output_type": "stream",
     "text": [
      "Training until validation scores don't improve for 50 rounds"
     ]
    },
    {
     "name": "stdout",
     "output_type": "stream",
     "text": [
      "\n"
     ]
    },
    {
     "name": "stdout",
     "output_type": "stream",
     "text": [
      "[10]\ttrain's auc: 0.751809\tvalid's auc: 0.737602"
     ]
    },
    {
     "name": "stdout",
     "output_type": "stream",
     "text": [
      "\n"
     ]
    },
    {
     "name": "stdout",
     "output_type": "stream",
     "text": [
      "[20]\ttrain's auc: 0.759618\tvalid's auc: 0.741359"
     ]
    },
    {
     "name": "stdout",
     "output_type": "stream",
     "text": [
      "\n"
     ]
    },
    {
     "name": "stdout",
     "output_type": "stream",
     "text": [
      "[30]\ttrain's auc: 0.766253\tvalid's auc: 0.744125"
     ]
    },
    {
     "name": "stdout",
     "output_type": "stream",
     "text": [
      "\n"
     ]
    },
    {
     "name": "stdout",
     "output_type": "stream",
     "text": [
      "[40]\ttrain's auc: 0.771604\tvalid's auc: 0.746517"
     ]
    },
    {
     "name": "stdout",
     "output_type": "stream",
     "text": [
      "\n"
     ]
    },
    {
     "name": "stdout",
     "output_type": "stream",
     "text": [
      "[50]\ttrain's auc: 0.776668\tvalid's auc: 0.747921"
     ]
    },
    {
     "name": "stdout",
     "output_type": "stream",
     "text": [
      "\n"
     ]
    },
    {
     "name": "stdout",
     "output_type": "stream",
     "text": [
      "[60]\ttrain's auc: 0.78156\tvalid's auc: 0.748612"
     ]
    },
    {
     "name": "stdout",
     "output_type": "stream",
     "text": [
      "\n"
     ]
    },
    {
     "name": "stdout",
     "output_type": "stream",
     "text": [
      "[70]\ttrain's auc: 0.786264\tvalid's auc: 0.74922"
     ]
    },
    {
     "name": "stdout",
     "output_type": "stream",
     "text": [
      "\n"
     ]
    },
    {
     "name": "stdout",
     "output_type": "stream",
     "text": [
      "[80]\ttrain's auc: 0.790389\tvalid's auc: 0.749054"
     ]
    },
    {
     "name": "stdout",
     "output_type": "stream",
     "text": [
      "\n"
     ]
    },
    {
     "name": "stdout",
     "output_type": "stream",
     "text": [
      "[90]\ttrain's auc: 0.79449\tvalid's auc: 0.748681"
     ]
    },
    {
     "name": "stdout",
     "output_type": "stream",
     "text": [
      "\n"
     ]
    },
    {
     "name": "stdout",
     "output_type": "stream",
     "text": [
      "[100]\ttrain's auc: 0.798257\tvalid's auc: 0.748763"
     ]
    },
    {
     "name": "stdout",
     "output_type": "stream",
     "text": [
      "\n"
     ]
    },
    {
     "name": "stdout",
     "output_type": "stream",
     "text": [
      "[110]\ttrain's auc: 0.802587\tvalid's auc: 0.748484"
     ]
    },
    {
     "name": "stdout",
     "output_type": "stream",
     "text": [
      "\n"
     ]
    },
    {
     "name": "stdout",
     "output_type": "stream",
     "text": [
      "[120]\ttrain's auc: 0.806079\tvalid's auc: 0.748338"
     ]
    },
    {
     "name": "stdout",
     "output_type": "stream",
     "text": [
      "\n"
     ]
    },
    {
     "name": "stdout",
     "output_type": "stream",
     "text": [
      "Early stopping, best iteration is:\n",
      "[71]\ttrain's auc: 0.78669\tvalid's auc: 0.749259"
     ]
    },
    {
     "name": "stdout",
     "output_type": "stream",
     "text": [
      "\n"
     ]
    },
    {
     "name": "stderr",
     "output_type": "stream",
     "text": [
      "[I 2021-01-22 10:43:53,634]"
     ]
    },
    {
     "name": "stderr",
     "output_type": "stream",
     "text": [
      " Trial 6 finished with value: 0.7866901317820292 and parameters: {'lambda_l1': 0.570131278388283, 'lambda_l2': 8.855244968363186, 'num_leaves': 49, 'feature_fraction': 0.6143878805678117, 'bagging_fraction': 0.5014825996516898, 'bagging_freq': 3, 'min_child_samples': 78}. Best is trial 3 with value: 0.8889169817441438."
     ]
    },
    {
     "name": "stderr",
     "output_type": "stream",
     "text": [
      "\n"
     ]
    },
    {
     "name": "stdout",
     "output_type": "stream",
     "text": [
      "Training until validation scores don't improve for 50 rounds"
     ]
    },
    {
     "name": "stdout",
     "output_type": "stream",
     "text": [
      "\n"
     ]
    },
    {
     "name": "stdout",
     "output_type": "stream",
     "text": [
      "[10]\ttrain's auc: 0.754385\tvalid's auc: 0.73262"
     ]
    },
    {
     "name": "stdout",
     "output_type": "stream",
     "text": [
      "\n"
     ]
    },
    {
     "name": "stdout",
     "output_type": "stream",
     "text": [
      "[20]\ttrain's auc: 0.771081\tvalid's auc: 0.739542"
     ]
    },
    {
     "name": "stdout",
     "output_type": "stream",
     "text": [
      "\n"
     ]
    },
    {
     "name": "stdout",
     "output_type": "stream",
     "text": [
      "[30]\ttrain's auc: 0.784653\tvalid's auc: 0.742549"
     ]
    },
    {
     "name": "stdout",
     "output_type": "stream",
     "text": [
      "\n"
     ]
    },
    {
     "name": "stdout",
     "output_type": "stream",
     "text": [
      "[40]\ttrain's auc: 0.796423\tvalid's auc: 0.745479"
     ]
    },
    {
     "name": "stdout",
     "output_type": "stream",
     "text": [
      "\n"
     ]
    },
    {
     "name": "stdout",
     "output_type": "stream",
     "text": [
      "[50]\ttrain's auc: 0.808714\tvalid's auc: 0.746744"
     ]
    },
    {
     "name": "stdout",
     "output_type": "stream",
     "text": [
      "\n"
     ]
    },
    {
     "name": "stdout",
     "output_type": "stream",
     "text": [
      "[60]\ttrain's auc: 0.818577\tvalid's auc: 0.747268"
     ]
    },
    {
     "name": "stdout",
     "output_type": "stream",
     "text": [
      "\n"
     ]
    },
    {
     "name": "stdout",
     "output_type": "stream",
     "text": [
      "[70]\ttrain's auc: 0.826687\tvalid's auc: 0.747461"
     ]
    },
    {
     "name": "stdout",
     "output_type": "stream",
     "text": [
      "\n"
     ]
    },
    {
     "name": "stdout",
     "output_type": "stream",
     "text": [
      "[80]\ttrain's auc: 0.836033\tvalid's auc: 0.74701"
     ]
    },
    {
     "name": "stdout",
     "output_type": "stream",
     "text": [
      "\n"
     ]
    },
    {
     "name": "stdout",
     "output_type": "stream",
     "text": [
      "[90]\ttrain's auc: 0.844188\tvalid's auc: 0.746418"
     ]
    },
    {
     "name": "stdout",
     "output_type": "stream",
     "text": [
      "\n"
     ]
    },
    {
     "name": "stdout",
     "output_type": "stream",
     "text": [
      "[100]\ttrain's auc: 0.851448\tvalid's auc: 0.745989"
     ]
    },
    {
     "name": "stdout",
     "output_type": "stream",
     "text": [
      "\n"
     ]
    },
    {
     "name": "stdout",
     "output_type": "stream",
     "text": [
      "[110]\ttrain's auc: 0.858668\tvalid's auc: 0.744652"
     ]
    },
    {
     "name": "stdout",
     "output_type": "stream",
     "text": [
      "\n"
     ]
    },
    {
     "name": "stdout",
     "output_type": "stream",
     "text": [
      "[120]\ttrain's auc: 0.864999\tvalid's auc: 0.743361"
     ]
    },
    {
     "name": "stdout",
     "output_type": "stream",
     "text": [
      "\n"
     ]
    },
    {
     "name": "stdout",
     "output_type": "stream",
     "text": [
      "Early stopping, best iteration is:\n",
      "[70]\ttrain's auc: 0.826687\tvalid's auc: 0.747461"
     ]
    },
    {
     "name": "stdout",
     "output_type": "stream",
     "text": [
      "\n"
     ]
    },
    {
     "name": "stderr",
     "output_type": "stream",
     "text": [
      "[I 2021-01-22 10:43:57,133]"
     ]
    },
    {
     "name": "stderr",
     "output_type": "stream",
     "text": [
      " Trial 7 finished with value: 0.8266868584899157 and parameters: {'lambda_l1': 2.2845759890917718e-07, 'lambda_l2': 8.041311839869345e-05, 'num_leaves': 79, 'feature_fraction': 0.876192006092221, 'bagging_fraction': 0.8002730709906866, 'bagging_freq': 6, 'min_child_samples': 59}. Best is trial 3 with value: 0.8889169817441438."
     ]
    },
    {
     "name": "stderr",
     "output_type": "stream",
     "text": [
      "\n"
     ]
    },
    {
     "name": "stdout",
     "output_type": "stream",
     "text": [
      "Training until validation scores don't improve for 50 rounds"
     ]
    },
    {
     "name": "stdout",
     "output_type": "stream",
     "text": [
      "\n"
     ]
    },
    {
     "name": "stdout",
     "output_type": "stream",
     "text": [
      "[10]\ttrain's auc: 0.787425\tvalid's auc: 0.73059"
     ]
    },
    {
     "name": "stdout",
     "output_type": "stream",
     "text": [
      "\n"
     ]
    },
    {
     "name": "stdout",
     "output_type": "stream",
     "text": [
      "[20]\ttrain's auc: 0.820848\tvalid's auc: 0.735254"
     ]
    },
    {
     "name": "stdout",
     "output_type": "stream",
     "text": [
      "\n"
     ]
    },
    {
     "name": "stdout",
     "output_type": "stream",
     "text": [
      "[30]\ttrain's auc: 0.851143\tvalid's auc: 0.739526"
     ]
    },
    {
     "name": "stdout",
     "output_type": "stream",
     "text": [
      "\n"
     ]
    },
    {
     "name": "stdout",
     "output_type": "stream",
     "text": [
      "[40]\ttrain's auc: 0.87449\tvalid's auc: 0.740374"
     ]
    },
    {
     "name": "stdout",
     "output_type": "stream",
     "text": [
      "\n"
     ]
    },
    {
     "name": "stdout",
     "output_type": "stream",
     "text": [
      "[50]\ttrain's auc: 0.895228\tvalid's auc: 0.739363"
     ]
    },
    {
     "name": "stdout",
     "output_type": "stream",
     "text": [
      "\n"
     ]
    },
    {
     "name": "stdout",
     "output_type": "stream",
     "text": [
      "[60]\ttrain's auc: 0.911251\tvalid's auc: 0.738873"
     ]
    },
    {
     "name": "stdout",
     "output_type": "stream",
     "text": [
      "\n"
     ]
    },
    {
     "name": "stdout",
     "output_type": "stream",
     "text": [
      "[70]\ttrain's auc: 0.925763\tvalid's auc: 0.738733"
     ]
    },
    {
     "name": "stdout",
     "output_type": "stream",
     "text": [
      "\n"
     ]
    },
    {
     "name": "stdout",
     "output_type": "stream",
     "text": [
      "[80]\ttrain's auc: 0.937199\tvalid's auc: 0.737782"
     ]
    },
    {
     "name": "stdout",
     "output_type": "stream",
     "text": [
      "\n"
     ]
    },
    {
     "name": "stdout",
     "output_type": "stream",
     "text": [
      "Early stopping, best iteration is:\n",
      "[38]\ttrain's auc: 0.870035\tvalid's auc: 0.740666"
     ]
    },
    {
     "name": "stdout",
     "output_type": "stream",
     "text": [
      "\n"
     ]
    },
    {
     "name": "stderr",
     "output_type": "stream",
     "text": [
      "[I 2021-01-22 10:44:00,171]"
     ]
    },
    {
     "name": "stderr",
     "output_type": "stream",
     "text": [
      " Trial 8 finished with value: 0.870034999937479 and parameters: {'lambda_l1': 0.0009973078407038301, 'lambda_l2': 5.9240436677089076e-05, 'num_leaves': 238, 'feature_fraction': 0.975164844699961, 'bagging_fraction': 0.9493035632893598, 'bagging_freq': 5, 'min_child_samples': 46}. Best is trial 3 with value: 0.8889169817441438."
     ]
    },
    {
     "name": "stderr",
     "output_type": "stream",
     "text": [
      "\n"
     ]
    },
    {
     "name": "stdout",
     "output_type": "stream",
     "text": [
      "Training until validation scores don't improve for 50 rounds"
     ]
    },
    {
     "name": "stdout",
     "output_type": "stream",
     "text": [
      "\n"
     ]
    },
    {
     "name": "stdout",
     "output_type": "stream",
     "text": [
      "[10]\ttrain's auc: 0.749537\tvalid's auc: 0.73452"
     ]
    },
    {
     "name": "stdout",
     "output_type": "stream",
     "text": [
      "\n"
     ]
    },
    {
     "name": "stdout",
     "output_type": "stream",
     "text": [
      "[20]\ttrain's auc: 0.759243\tvalid's auc: 0.739629"
     ]
    },
    {
     "name": "stdout",
     "output_type": "stream",
     "text": [
      "\n"
     ]
    },
    {
     "name": "stdout",
     "output_type": "stream",
     "text": [
      "[30]\ttrain's auc: 0.767362\tvalid's auc: 0.742225"
     ]
    },
    {
     "name": "stdout",
     "output_type": "stream",
     "text": [
      "\n"
     ]
    },
    {
     "name": "stdout",
     "output_type": "stream",
     "text": [
      "[40]\ttrain's auc: 0.773339\tvalid's auc: 0.744004"
     ]
    },
    {
     "name": "stdout",
     "output_type": "stream",
     "text": [
      "\n"
     ]
    },
    {
     "name": "stdout",
     "output_type": "stream",
     "text": [
      "[50]\ttrain's auc: 0.78054\tvalid's auc: 0.746781"
     ]
    },
    {
     "name": "stdout",
     "output_type": "stream",
     "text": [
      "\n"
     ]
    },
    {
     "name": "stdout",
     "output_type": "stream",
     "text": [
      "[60]\ttrain's auc: 0.78647\tvalid's auc: 0.7475"
     ]
    },
    {
     "name": "stdout",
     "output_type": "stream",
     "text": [
      "\n"
     ]
    },
    {
     "name": "stdout",
     "output_type": "stream",
     "text": [
      "[70]\ttrain's auc: 0.792275\tvalid's auc: 0.747255"
     ]
    },
    {
     "name": "stdout",
     "output_type": "stream",
     "text": [
      "\n"
     ]
    },
    {
     "name": "stdout",
     "output_type": "stream",
     "text": [
      "[80]\ttrain's auc: 0.797408\tvalid's auc: 0.747792"
     ]
    },
    {
     "name": "stdout",
     "output_type": "stream",
     "text": [
      "\n"
     ]
    },
    {
     "name": "stdout",
     "output_type": "stream",
     "text": [
      "[90]\ttrain's auc: 0.802483\tvalid's auc: 0.746876"
     ]
    },
    {
     "name": "stdout",
     "output_type": "stream",
     "text": [
      "\n"
     ]
    },
    {
     "name": "stdout",
     "output_type": "stream",
     "text": [
      "[100]\ttrain's auc: 0.807526\tvalid's auc: 0.746951"
     ]
    },
    {
     "name": "stdout",
     "output_type": "stream",
     "text": [
      "\n"
     ]
    },
    {
     "name": "stdout",
     "output_type": "stream",
     "text": [
      "[110]\ttrain's auc: 0.811611\tvalid's auc: 0.746861"
     ]
    },
    {
     "name": "stdout",
     "output_type": "stream",
     "text": [
      "\n"
     ]
    },
    {
     "name": "stdout",
     "output_type": "stream",
     "text": [
      "[120]\ttrain's auc: 0.815888\tvalid's auc: 0.746537"
     ]
    },
    {
     "name": "stdout",
     "output_type": "stream",
     "text": [
      "\n"
     ]
    },
    {
     "name": "stdout",
     "output_type": "stream",
     "text": [
      "[130]\ttrain's auc: 0.820183\tvalid's auc: 0.746361"
     ]
    },
    {
     "name": "stdout",
     "output_type": "stream",
     "text": [
      "\n"
     ]
    },
    {
     "name": "stdout",
     "output_type": "stream",
     "text": [
      "Early stopping, best iteration is:\n",
      "[80]\ttrain's auc: 0.797408\tvalid's auc: 0.747792"
     ]
    },
    {
     "name": "stdout",
     "output_type": "stream",
     "text": [
      "\n"
     ]
    },
    {
     "name": "stderr",
     "output_type": "stream",
     "text": [
      "[I 2021-01-22 10:44:02,811]"
     ]
    },
    {
     "name": "stderr",
     "output_type": "stream",
     "text": [
      " Trial 9 finished with value: 0.7974078534447853 and parameters: {'lambda_l1': 0.06912522986513929, 'lambda_l2': 2.932989530448621e-07, 'num_leaves': 43, 'feature_fraction': 0.6375747821408966, 'bagging_fraction': 0.5948981966253097, 'bagging_freq': 7, 'min_child_samples': 55}. Best is trial 3 with value: 0.8889169817441438."
     ]
    },
    {
     "name": "stderr",
     "output_type": "stream",
     "text": [
      "\n"
     ]
    },
    {
     "name": "stdout",
     "output_type": "stream",
     "text": [
      "Number of finished trials: 10"
     ]
    },
    {
     "name": "stdout",
     "output_type": "stream",
     "text": [
      "\n"
     ]
    },
    {
     "name": "stdout",
     "output_type": "stream",
     "text": [
      "Best trial:"
     ]
    },
    {
     "name": "stdout",
     "output_type": "stream",
     "text": [
      "\n"
     ]
    },
    {
     "name": "stdout",
     "output_type": "stream",
     "text": [
      "  Value: 0.8889169817441438"
     ]
    },
    {
     "name": "stdout",
     "output_type": "stream",
     "text": [
      "\n"
     ]
    },
    {
     "name": "stdout",
     "output_type": "stream",
     "text": [
      "  Params: "
     ]
    },
    {
     "name": "stdout",
     "output_type": "stream",
     "text": [
      "\n"
     ]
    },
    {
     "name": "stdout",
     "output_type": "stream",
     "text": [
      "    lambda_l1: 2.2423051871000533e-08"
     ]
    },
    {
     "name": "stdout",
     "output_type": "stream",
     "text": [
      "\n"
     ]
    },
    {
     "name": "stdout",
     "output_type": "stream",
     "text": [
      "    lambda_l2: 1.199991370624013e-08"
     ]
    },
    {
     "name": "stdout",
     "output_type": "stream",
     "text": [
      "\n"
     ]
    },
    {
     "name": "stdout",
     "output_type": "stream",
     "text": [
      "    num_leaves: 225"
     ]
    },
    {
     "name": "stdout",
     "output_type": "stream",
     "text": [
      "\n"
     ]
    },
    {
     "name": "stdout",
     "output_type": "stream",
     "text": [
      "    feature_fraction: 0.9755560308198515"
     ]
    },
    {
     "name": "stdout",
     "output_type": "stream",
     "text": [
      "\n"
     ]
    },
    {
     "name": "stdout",
     "output_type": "stream",
     "text": [
      "    bagging_fraction: 0.8379964913895002"
     ]
    },
    {
     "name": "stdout",
     "output_type": "stream",
     "text": [
      "\n"
     ]
    },
    {
     "name": "stdout",
     "output_type": "stream",
     "text": [
      "    bagging_freq: 3"
     ]
    },
    {
     "name": "stdout",
     "output_type": "stream",
     "text": [
      "\n"
     ]
    },
    {
     "name": "stdout",
     "output_type": "stream",
     "text": [
      "    min_child_samples: 26"
     ]
    },
    {
     "name": "stdout",
     "output_type": "stream",
     "text": [
      "\n"
     ]
    }
   ],
   "source": [
    "study = optuna.create_study(direction='maximize')\n",
    "study.optimize(objective, n_trials=10)\n",
    "\n",
    "print('Number of finished trials: {}'.format(len(study.trials)))\n",
    "\n",
    "print('Best trial:')\n",
    "trial = study.best_trial\n",
    "\n",
    "print('  Value: {}'.format(trial.value))\n",
    "\n",
    "print('  Params: ')\n",
    "for key, value in trial.params.items():\n",
    "    print('    {}: {}'.format(key, value))"
   ]
  },
  {
   "cell_type": "code",
   "execution_count": 20,
   "metadata": {
    "execution": {
     "iopub.execute_input": "2021-01-22T01:44:03.030646Z",
     "iopub.status.busy": "2021-01-22T01:44:03.029890Z",
     "iopub.status.idle": "2021-01-22T01:44:03.031579Z",
     "shell.execute_reply": "2021-01-22T01:44:03.032100Z"
    },
    "papermill": {
     "duration": 0.087225,
     "end_time": "2021-01-22T01:44:03.032353",
     "exception": false,
     "start_time": "2021-01-22T01:44:02.945128",
     "status": "completed"
    },
    "tags": []
   },
   "outputs": [],
   "source": [
    "# 二値分類\n",
    "params = {\n",
    "            'boosting_type': 'gbdt',        # 勾配ブースティング\n",
    "            'objective': 'binary',      # 目的関数：多値分類、マルチクラス分類\n",
    "            'metric': 'auc',      # 分類モデルの性能を測る指標\n",
    "         }"
   ]
  },
  {
   "cell_type": "code",
   "execution_count": 21,
   "metadata": {
    "execution": {
     "iopub.execute_input": "2021-01-22T01:44:03.212259Z",
     "iopub.status.busy": "2021-01-22T01:44:03.211235Z",
     "iopub.status.idle": "2021-01-22T01:44:03.213632Z",
     "shell.execute_reply": "2021-01-22T01:44:03.214066Z"
    },
    "papermill": {
     "duration": 0.092582,
     "end_time": "2021-01-22T01:44:03.214276",
     "exception": false,
     "start_time": "2021-01-22T01:44:03.121694",
     "status": "completed"
    },
    "tags": []
   },
   "outputs": [],
   "source": [
    "params = dict(params, **study.best_params)"
   ]
  },
  {
   "cell_type": "code",
   "execution_count": 22,
   "metadata": {
    "execution": {
     "iopub.execute_input": "2021-01-22T01:44:03.387552Z",
     "iopub.status.busy": "2021-01-22T01:44:03.386728Z",
     "iopub.status.idle": "2021-01-22T01:44:09.264144Z",
     "shell.execute_reply": "2021-01-22T01:44:09.264643Z"
    },
    "papermill": {
     "duration": 5.966357,
     "end_time": "2021-01-22T01:44:09.264888",
     "exception": false,
     "start_time": "2021-01-22T01:44:03.298531",
     "status": "completed"
    },
    "tags": []
   },
   "outputs": [
    {
     "name": "stdout",
     "output_type": "stream",
     "text": [
      "[LightGBM] [Warning] "
     ]
    },
    {
     "name": "stdout",
     "output_type": "stream",
     "text": [
      "Find whitespaces in feature_names, replace with underlines"
     ]
    },
    {
     "name": "stdout",
     "output_type": "stream",
     "text": [
      "\n"
     ]
    },
    {
     "name": "stdout",
     "output_type": "stream",
     "text": [
      "[LightGBM] [Info] "
     ]
    },
    {
     "name": "stdout",
     "output_type": "stream",
     "text": [
      "Number of positive: 15390, number of negative: 175016"
     ]
    },
    {
     "name": "stdout",
     "output_type": "stream",
     "text": [
      "\n"
     ]
    },
    {
     "name": "stdout",
     "output_type": "stream",
     "text": [
      "[LightGBM] [Warning] "
     ]
    },
    {
     "name": "stdout",
     "output_type": "stream",
     "text": [
      "Auto-choosing row-wise multi-threading, the overhead of testing was 0.008625 seconds.\n",
      "You can set `force_row_wise=true` to remove the overhead.\n",
      "And if memory is not enough, you can set `force_col_wise=true`."
     ]
    },
    {
     "name": "stdout",
     "output_type": "stream",
     "text": [
      "\n"
     ]
    },
    {
     "name": "stdout",
     "output_type": "stream",
     "text": [
      "[LightGBM] [Info] "
     ]
    },
    {
     "name": "stdout",
     "output_type": "stream",
     "text": [
      "Total Bins 3201"
     ]
    },
    {
     "name": "stdout",
     "output_type": "stream",
     "text": [
      "\n"
     ]
    },
    {
     "name": "stdout",
     "output_type": "stream",
     "text": [
      "[LightGBM] [Info] "
     ]
    },
    {
     "name": "stdout",
     "output_type": "stream",
     "text": [
      "Number of data points in the train set: 190406, number of used features: 26"
     ]
    },
    {
     "name": "stdout",
     "output_type": "stream",
     "text": [
      "\n"
     ]
    },
    {
     "name": "stdout",
     "output_type": "stream",
     "text": [
      "[LightGBM] [Info] "
     ]
    },
    {
     "name": "stdout",
     "output_type": "stream",
     "text": [
      "[binary:BoostFromScore]: pavg=0.080827 -> initscore=-2.431159"
     ]
    },
    {
     "name": "stdout",
     "output_type": "stream",
     "text": [
      "\n"
     ]
    },
    {
     "name": "stdout",
     "output_type": "stream",
     "text": [
      "[LightGBM] [Info] "
     ]
    },
    {
     "name": "stdout",
     "output_type": "stream",
     "text": [
      "Start training from score -2.431159"
     ]
    },
    {
     "name": "stdout",
     "output_type": "stream",
     "text": [
      "\n"
     ]
    },
    {
     "name": "stdout",
     "output_type": "stream",
     "text": [
      "Training until validation scores don't improve for 50 rounds"
     ]
    },
    {
     "name": "stdout",
     "output_type": "stream",
     "text": [
      "\n"
     ]
    },
    {
     "name": "stdout",
     "output_type": "stream",
     "text": [
      "[10]\ttrain's auc: 0.783633\tvalid's auc: 0.731699"
     ]
    },
    {
     "name": "stdout",
     "output_type": "stream",
     "text": [
      "\n"
     ]
    },
    {
     "name": "stdout",
     "output_type": "stream",
     "text": [
      "[20]\ttrain's auc: 0.818048\tvalid's auc: 0.73408"
     ]
    },
    {
     "name": "stdout",
     "output_type": "stream",
     "text": [
      "\n"
     ]
    },
    {
     "name": "stdout",
     "output_type": "stream",
     "text": [
      "[30]\ttrain's auc: 0.849217\tvalid's auc: 0.736393"
     ]
    },
    {
     "name": "stdout",
     "output_type": "stream",
     "text": [
      "\n"
     ]
    },
    {
     "name": "stdout",
     "output_type": "stream",
     "text": [
      "[40]\ttrain's auc: 0.874916\tvalid's auc: 0.737897"
     ]
    },
    {
     "name": "stdout",
     "output_type": "stream",
     "text": [
      "\n"
     ]
    },
    {
     "name": "stdout",
     "output_type": "stream",
     "text": [
      "[50]\ttrain's auc: 0.894774\tvalid's auc: 0.738786"
     ]
    },
    {
     "name": "stdout",
     "output_type": "stream",
     "text": [
      "\n"
     ]
    },
    {
     "name": "stdout",
     "output_type": "stream",
     "text": [
      "[60]\ttrain's auc: 0.912496\tvalid's auc: 0.737092"
     ]
    },
    {
     "name": "stdout",
     "output_type": "stream",
     "text": [
      "\n"
     ]
    },
    {
     "name": "stdout",
     "output_type": "stream",
     "text": [
      "[70]\ttrain's auc: 0.927045\tvalid's auc: 0.736119"
     ]
    },
    {
     "name": "stdout",
     "output_type": "stream",
     "text": [
      "\n"
     ]
    },
    {
     "name": "stdout",
     "output_type": "stream",
     "text": [
      "[80]\ttrain's auc: 0.938321\tvalid's auc: 0.736159"
     ]
    },
    {
     "name": "stdout",
     "output_type": "stream",
     "text": [
      "\n"
     ]
    },
    {
     "name": "stdout",
     "output_type": "stream",
     "text": [
      "[90]\ttrain's auc: 0.947259\tvalid's auc: 0.734679"
     ]
    },
    {
     "name": "stdout",
     "output_type": "stream",
     "text": [
      "\n"
     ]
    },
    {
     "name": "stdout",
     "output_type": "stream",
     "text": [
      "Early stopping, best iteration is:\n",
      "[47]\ttrain's auc: 0.888917\tvalid's auc: 0.739159"
     ]
    },
    {
     "name": "stdout",
     "output_type": "stream",
     "text": [
      "\n"
     ]
    }
   ],
   "source": [
    "evaluation_results = {}                                     # 学習の経過を保存する箱\n",
    "model = lgb.train(params,                                   # 上記で設定したパラメータ\n",
    "                  lgb_train,                                # 使用するデータセット\n",
    "                  num_boost_round=1000,                     # 学習の回数\n",
    "                  valid_names=['train', 'valid'],           # 学習経過で表示する名称\n",
    "                  valid_sets=[lgb_train, lgb_eval],         # モデル検証のデータセット\n",
    "                  evals_result=evaluation_results,          # 学習の経過を保存\n",
    "                  categorical_feature=categorical_features, # カテゴリー変数を設定\n",
    "                  early_stopping_rounds=50,                 # アーリーストッピング\n",
    "                  verbose_eval=10)                          # 学習の経過の表示(10回毎)\n",
    "\n",
    "# 最もスコアが良いときのラウンドを保存\n",
    "optimum_boost_rounds = model.best_iteration"
   ]
  },
  {
   "cell_type": "code",
   "execution_count": 23,
   "metadata": {
    "execution": {
     "iopub.execute_input": "2021-01-22T01:44:09.507890Z",
     "iopub.status.busy": "2021-01-22T01:44:09.506856Z",
     "iopub.status.idle": "2021-01-22T01:44:10.022631Z",
     "shell.execute_reply": "2021-01-22T01:44:10.023044Z"
    },
    "papermill": {
     "duration": 0.635489,
     "end_time": "2021-01-22T01:44:10.023228",
     "exception": false,
     "start_time": "2021-01-22T01:44:09.387739",
     "status": "completed"
    },
    "tags": []
   },
   "outputs": [
    {
     "name": "stdout",
     "output_type": "stream",
     "text": [
      "0.8889169817441438"
     ]
    },
    {
     "name": "stdout",
     "output_type": "stream",
     "text": [
      "\n"
     ]
    },
    {
     "data": {
      "image/png": "[encoded data removed]",
      "text/plain": [
       "<Figure size 432x288 with 1 Axes>"
      ]
     },
     "metadata": {
      "needs_background": "light"
     },
     "output_type": "display_data"
    }
   ],
   "source": [
    "# # 訓練データで予測\n",
    "y_pred = model.predict(X_train, num_iteration=model.best_iteration)\n",
    "y_pred_max = np.round(y_pred)\n",
    "fpr, tpr, thresholds = metrics.roc_curve(y_train, y_pred)\n",
    "auc = metrics.auc(fpr, tpr)\n",
    "print(auc)\n",
    "plt.plot(fpr, tpr, label='ROC curve (area = %.2f)'%auc)\n",
    "plt.legend()\n",
    "plt.title('ROC curve')\n",
    "plt.xlabel('False Positive Rate')\n",
    "plt.ylabel('True Positive Rate')\n",
    "plt.grid(True)"
   ]
  },
  {
   "cell_type": "code",
   "execution_count": 24,
   "metadata": {
    "execution": {
     "iopub.execute_input": "2021-01-22T01:44:10.218618Z",
     "iopub.status.busy": "2021-01-22T01:44:10.217847Z",
     "iopub.status.idle": "2021-01-22T01:44:10.483341Z",
     "shell.execute_reply": "2021-01-22T01:44:10.483960Z"
    },
    "papermill": {
     "duration": 0.365299,
     "end_time": "2021-01-22T01:44:10.484174",
     "exception": false,
     "start_time": "2021-01-22T01:44:10.118875",
     "status": "completed"
    },
    "tags": []
   },
   "outputs": [
    {
     "name": "stdout",
     "output_type": "stream",
     "text": [
      "0.7490288907552372"
     ]
    },
    {
     "name": "stdout",
     "output_type": "stream",
     "text": [
      "\n"
     ]
    },
    {
     "data": {
      "image/png": "[encoded data removed]",
      "text/plain": [
       "<Figure size 432x288 with 1 Axes>"
      ]
     },
     "metadata": {
      "needs_background": "light"
     },
     "output_type": "display_data"
    }
   ],
   "source": [
    "# # テストデータで予測\n",
    "y_pred = model.predict(X_test, num_iteration=model.best_iteration)\n",
    "y_pred_max = np.round(y_pred)\n",
    "fpr, tpr, thresholds = metrics.roc_curve(y_test, y_pred)\n",
    "auc = metrics.auc(fpr, tpr)\n",
    "print(auc)\n",
    "plt.plot(fpr, tpr, label='ROC curve (area = %.2f)'%auc)\n",
    "plt.legend()\n",
    "plt.title('ROC curve')\n",
    "plt.xlabel('False Positive Rate')\n",
    "plt.ylabel('True Positive Rate')\n",
    "plt.grid(True)"
   ]
  },
  {
   "cell_type": "code",
   "execution_count": 25,
   "metadata": {
    "execution": {
     "iopub.execute_input": "2021-01-22T01:44:10.690538Z",
     "iopub.status.busy": "2021-01-22T01:44:10.689432Z",
     "iopub.status.idle": "2021-01-22T01:44:10.702859Z",
     "shell.execute_reply": "2021-01-22T01:44:10.703354Z"
    },
    "papermill": {
     "duration": 0.120071,
     "end_time": "2021-01-22T01:44:10.703563",
     "exception": false,
     "start_time": "2021-01-22T01:44:10.583492",
     "status": "completed"
    },
    "tags": []
   },
   "outputs": [],
   "source": [
    "pickle.dump(model, open(f'../../data/trial/model_{TARGET_DATE}.pkl', 'wb'))"
   ]
  },
  {
   "cell_type": "code",
   "execution_count": null,
   "metadata": {
    "papermill": {
     "duration": 0.111051,
     "end_time": "2021-01-22T01:44:10.942841",
     "exception": false,
     "start_time": "2021-01-22T01:44:10.831790",
     "status": "completed"
    },
    "tags": []
   },
   "outputs": [],
   "source": []
  }
 ],
 "metadata": {
  "kernelspec": {
   "display_name": "Python 3",
   "language": "python",
   "name": "python3"
  },
  "language_info": {
   "codemirror_mode": {
    "name": "ipython",
    "version": 3
   },
   "file_extension": ".py",
   "mimetype": "text/x-python",
   "name": "python",
   "nbconvert_exporter": "python",
   "pygments_lexer": "ipython3",
   "version": "3.7.7"
  },
  "papermill": {
   "default_parameters": {},
   "duration": 45.417053,
   "end_time": "2021-01-22T01:44:12.410231",
   "environment_variables": {},
   "exception": null,
   "input_path": "/Users/koyajima/Code/between_poc_and_production/notebooks/trial/learn.ipynb",
   "output_path": "/Users/koyajima/Code/between_poc_and_production/notebooks/trial/logs/learn.ipynb",
   "parameters": {
    "TARGET_DATE": 20210101
   },
   "start_time": "2021-01-22T01:43:26.993178",
   "version": "2.2.2"
  }
 },
 "nbformat": 4,
 "nbformat_minor": 4
}