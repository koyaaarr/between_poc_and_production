{
 "cells": [
  {
   "cell_type": "markdown",
   "metadata": {
    "papermill": {
     "duration": 0.027537,
     "end_time": "2021-01-18T06:02:24.979575",
     "exception": false,
     "start_time": "2021-01-18T06:02:24.952038",
     "status": "completed"
    },
    "tags": []
   },
   "source": [
    "# 学習\n",
    "- パラメータチューニング"
   ]
  },
  {
   "cell_type": "code",
   "execution_count": 1,
   "metadata": {
    "execution": {
     "iopub.execute_input": "2021-01-18T06:02:25.010735Z",
     "iopub.status.busy": "2021-01-18T06:02:25.010136Z",
     "iopub.status.idle": "2021-01-18T06:02:25.011978Z",
     "shell.execute_reply": "2021-01-18T06:02:25.012409Z"
    },
    "papermill": {
     "duration": 0.018136,
     "end_time": "2021-01-18T06:02:25.012696",
     "exception": false,
     "start_time": "2021-01-18T06:02:24.994560",
     "status": "completed"
    },
    "tags": []
   },
   "outputs": [],
   "source": [
    "# パラメータ設定"
   ]
  },
  {
   "cell_type": "code",
   "execution_count": 2,
   "metadata": {
    "execution": {
     "iopub.execute_input": "2021-01-18T06:02:25.039690Z",
     "iopub.status.busy": "2021-01-18T06:02:25.039054Z",
     "iopub.status.idle": "2021-01-18T06:02:25.040854Z",
     "shell.execute_reply": "2021-01-18T06:02:25.041273Z"
    },
    "papermill": {
     "duration": 0.01718,
     "end_time": "2021-01-18T06:02:25.041529",
     "exception": false,
     "start_time": "2021-01-18T06:02:25.024349",
     "status": "completed"
    },
    "tags": [
     "parameters"
    ]
   },
   "outputs": [],
   "source": [
    "TARGET_DATE = '20210101'"
   ]
  },
  {
   "cell_type": "code",
   "execution_count": 3,
   "metadata": {
    "execution": {
     "iopub.execute_input": "2021-01-18T06:02:25.091760Z",
     "iopub.status.busy": "2021-01-18T06:02:25.091030Z",
     "iopub.status.idle": "2021-01-18T06:02:25.093250Z",
     "shell.execute_reply": "2021-01-18T06:02:25.092763Z"
    },
    "papermill": {
     "duration": 0.040224,
     "end_time": "2021-01-18T06:02:25.093479",
     "exception": false,
     "start_time": "2021-01-18T06:02:25.053255",
     "status": "completed"
    },
    "tags": [
     "injected-parameters"
    ]
   },
   "outputs": [],
   "source": [
    "# Parameters\n",
    "TARGET_DATE = 20210101\n"
   ]
  },
  {
   "cell_type": "code",
   "execution_count": 4,
   "metadata": {
    "execution": {
     "iopub.execute_input": "2021-01-18T06:02:25.121585Z",
     "iopub.status.busy": "2021-01-18T06:02:25.120871Z",
     "iopub.status.idle": "2021-01-18T06:02:25.122866Z",
     "shell.execute_reply": "2021-01-18T06:02:25.123304Z"
    },
    "papermill": {
     "duration": 0.018198,
     "end_time": "2021-01-18T06:02:25.123557",
     "exception": false,
     "start_time": "2021-01-18T06:02:25.105359",
     "status": "completed"
    },
    "tags": []
   },
   "outputs": [],
   "source": [
    "TARGET_DATE = str(TARGET_DATE)"
   ]
  },
  {
   "cell_type": "code",
   "execution_count": 5,
   "metadata": {
    "execution": {
     "iopub.execute_input": "2021-01-18T06:02:25.151106Z",
     "iopub.status.busy": "2021-01-18T06:02:25.150534Z",
     "iopub.status.idle": "2021-01-18T06:02:25.152236Z",
     "shell.execute_reply": "2021-01-18T06:02:25.152771Z"
    },
    "papermill": {
     "duration": 0.01733,
     "end_time": "2021-01-18T06:02:25.153019",
     "exception": false,
     "start_time": "2021-01-18T06:02:25.135689",
     "status": "completed"
    },
    "tags": []
   },
   "outputs": [],
   "source": [
    "# ライブラリ読み込み"
   ]
  },
  {
   "cell_type": "code",
   "execution_count": 6,
   "metadata": {
    "execution": {
     "iopub.execute_input": "2021-01-18T06:02:25.181555Z",
     "iopub.status.busy": "2021-01-18T06:02:25.180986Z",
     "iopub.status.idle": "2021-01-18T06:02:27.903011Z",
     "shell.execute_reply": "2021-01-18T06:02:27.903525Z"
    },
    "papermill": {
     "duration": 2.738671,
     "end_time": "2021-01-18T06:02:27.903727",
     "exception": false,
     "start_time": "2021-01-18T06:02:25.165056",
     "status": "completed"
    },
    "tags": []
   },
   "outputs": [],
   "source": [
    "import pandas as pd\n",
    "import numpy as np\n",
    "import argparse\n",
    "import shap\n",
    "import optuna\n",
    "import pickle\n",
    "import lightgbm as lgb\n",
    "from sklearn.metrics import accuracy_score, confusion_matrix, recall_score, f1_score, precision_score\n",
    "from sklearn.model_selection import train_test_split\n",
    "from sklearn import datasets\n",
    "from sklearn import metrics\n",
    "from sklearn.model_selection import StratifiedKFold\n",
    "import matplotlib.pyplot as plt"
   ]
  },
  {
   "cell_type": "code",
   "execution_count": 7,
   "metadata": {
    "execution": {
     "iopub.execute_input": "2021-01-18T06:02:27.933769Z",
     "iopub.status.busy": "2021-01-18T06:02:27.932796Z",
     "iopub.status.idle": "2021-01-18T06:02:27.934923Z",
     "shell.execute_reply": "2021-01-18T06:02:27.935579Z"
    },
    "papermill": {
     "duration": 0.020178,
     "end_time": "2021-01-18T06:02:27.936195",
     "exception": false,
     "start_time": "2021-01-18T06:02:27.916017",
     "status": "completed"
    },
    "tags": []
   },
   "outputs": [],
   "source": [
    "# dataframe設定調整"
   ]
  },
  {
   "cell_type": "code",
   "execution_count": 8,
   "metadata": {
    "execution": {
     "iopub.execute_input": "2021-01-18T06:02:27.974156Z",
     "iopub.status.busy": "2021-01-18T06:02:27.973284Z",
     "iopub.status.idle": "2021-01-18T06:02:27.975029Z",
     "shell.execute_reply": "2021-01-18T06:02:27.975634Z"
    },
    "papermill": {
     "duration": 0.020735,
     "end_time": "2021-01-18T06:02:27.975897",
     "exception": false,
     "start_time": "2021-01-18T06:02:27.955162",
     "status": "completed"
    },
    "tags": []
   },
   "outputs": [],
   "source": [
    "pd.set_option('display.max_columns', 100)\n",
    "pd.set_option('display.max_rows', 200)"
   ]
  },
  {
   "cell_type": "code",
   "execution_count": 9,
   "metadata": {
    "execution": {
     "iopub.execute_input": "2021-01-18T06:02:28.008473Z",
     "iopub.status.busy": "2021-01-18T06:02:28.007788Z",
     "iopub.status.idle": "2021-01-18T06:02:28.009576Z",
     "shell.execute_reply": "2021-01-18T06:02:28.009972Z"
    },
    "papermill": {
     "duration": 0.018998,
     "end_time": "2021-01-18T06:02:28.010172",
     "exception": false,
     "start_time": "2021-01-18T06:02:27.991174",
     "status": "completed"
    },
    "tags": []
   },
   "outputs": [],
   "source": [
    "# データ読み込み"
   ]
  },
  {
   "cell_type": "code",
   "execution_count": 10,
   "metadata": {
    "execution": {
     "iopub.execute_input": "2021-01-18T06:02:28.038752Z",
     "iopub.status.busy": "2021-01-18T06:02:28.038125Z",
     "iopub.status.idle": "2021-01-18T06:02:28.087524Z",
     "shell.execute_reply": "2021-01-18T06:02:28.087933Z"
    },
    "papermill": {
     "duration": 0.065516,
     "end_time": "2021-01-18T06:02:28.088229",
     "exception": false,
     "start_time": "2021-01-18T06:02:28.022713",
     "status": "completed"
    },
    "tags": []
   },
   "outputs": [],
   "source": [
    "train = pd.read_pickle(f'../../data/trial/feature_{TARGET_DATE}.pkl')"
   ]
  },
  {
   "cell_type": "code",
   "execution_count": 11,
   "metadata": {
    "execution": {
     "iopub.execute_input": "2021-01-18T06:02:28.117708Z",
     "iopub.status.busy": "2021-01-18T06:02:28.117109Z",
     "iopub.status.idle": "2021-01-18T06:02:28.118718Z",
     "shell.execute_reply": "2021-01-18T06:02:28.119203Z"
    },
    "papermill": {
     "duration": 0.018384,
     "end_time": "2021-01-18T06:02:28.119384",
     "exception": false,
     "start_time": "2021-01-18T06:02:28.101000",
     "status": "completed"
    },
    "tags": []
   },
   "outputs": [],
   "source": [
    "target = 'TARGET'"
   ]
  },
  {
   "cell_type": "code",
   "execution_count": 12,
   "metadata": {
    "execution": {
     "iopub.execute_input": "2021-01-18T06:02:28.155976Z",
     "iopub.status.busy": "2021-01-18T06:02:28.155371Z",
     "iopub.status.idle": "2021-01-18T06:02:28.161569Z",
     "shell.execute_reply": "2021-01-18T06:02:28.162357Z"
    },
    "papermill": {
     "duration": 0.030539,
     "end_time": "2021-01-18T06:02:28.162548",
     "exception": false,
     "start_time": "2021-01-18T06:02:28.132009",
     "status": "completed"
    },
    "tags": []
   },
   "outputs": [],
   "source": [
    "X = train.drop(columns=target)"
   ]
  },
  {
   "cell_type": "code",
   "execution_count": 13,
   "metadata": {
    "execution": {
     "iopub.execute_input": "2021-01-18T06:02:28.191713Z",
     "iopub.status.busy": "2021-01-18T06:02:28.190950Z",
     "iopub.status.idle": "2021-01-18T06:02:28.192869Z",
     "shell.execute_reply": "2021-01-18T06:02:28.193252Z"
    },
    "papermill": {
     "duration": 0.018441,
     "end_time": "2021-01-18T06:02:28.193433",
     "exception": false,
     "start_time": "2021-01-18T06:02:28.174992",
     "status": "completed"
    },
    "tags": []
   },
   "outputs": [],
   "source": [
    "y = train[target]"
   ]
  },
  {
   "cell_type": "code",
   "execution_count": 14,
   "metadata": {
    "execution": {
     "iopub.execute_input": "2021-01-18T06:02:28.223279Z",
     "iopub.status.busy": "2021-01-18T06:02:28.222619Z",
     "iopub.status.idle": "2021-01-18T06:02:28.395721Z",
     "shell.execute_reply": "2021-01-18T06:02:28.396252Z"
    },
    "papermill": {
     "duration": 0.190499,
     "end_time": "2021-01-18T06:02:28.396528",
     "exception": false,
     "start_time": "2021-01-18T06:02:28.206029",
     "status": "completed"
    },
    "tags": []
   },
   "outputs": [],
   "source": [
    "X_train, X_test, y_train, y_test = train_test_split(X, y,\n",
    "                                                   test_size=0.2,\n",
    "                                                   random_state=0,\n",
    "                                                   stratify=y)"
   ]
  },
  {
   "cell_type": "code",
   "execution_count": 15,
   "metadata": {
    "execution": {
     "iopub.execute_input": "2021-01-18T06:02:28.428107Z",
     "iopub.status.busy": "2021-01-18T06:02:28.427364Z",
     "iopub.status.idle": "2021-01-18T06:02:28.554736Z",
     "shell.execute_reply": "2021-01-18T06:02:28.555244Z"
    },
    "papermill": {
     "duration": 0.145219,
     "end_time": "2021-01-18T06:02:28.555437",
     "exception": false,
     "start_time": "2021-01-18T06:02:28.410218",
     "status": "completed"
    },
    "tags": []
   },
   "outputs": [],
   "source": [
    "X_train, X_eval, y_train, y_eval = train_test_split(X_train, y_train,\n",
    "                                                    test_size=0.2,\n",
    "                                                    random_state=1,\n",
    "                                                    stratify=y_train)"
   ]
  },
  {
   "cell_type": "code",
   "execution_count": 16,
   "metadata": {
    "execution": {
     "iopub.execute_input": "2021-01-18T06:02:28.585711Z",
     "iopub.status.busy": "2021-01-18T06:02:28.585033Z",
     "iopub.status.idle": "2021-01-18T06:02:28.586911Z",
     "shell.execute_reply": "2021-01-18T06:02:28.587308Z"
    },
    "papermill": {
     "duration": 0.019438,
     "end_time": "2021-01-18T06:02:28.587499",
     "exception": false,
     "start_time": "2021-01-18T06:02:28.568061",
     "status": "completed"
    },
    "tags": []
   },
   "outputs": [],
   "source": [
    "categorical_features = [\n",
    "# 'prefecture_code'\n",
    "]"
   ]
  },
  {
   "cell_type": "code",
   "execution_count": 17,
   "metadata": {
    "execution": {
     "iopub.execute_input": "2021-01-18T06:02:28.618902Z",
     "iopub.status.busy": "2021-01-18T06:02:28.618249Z",
     "iopub.status.idle": "2021-01-18T06:02:28.620588Z",
     "shell.execute_reply": "2021-01-18T06:02:28.620999Z"
    },
    "papermill": {
     "duration": 0.020365,
     "end_time": "2021-01-18T06:02:28.621198",
     "exception": false,
     "start_time": "2021-01-18T06:02:28.600833",
     "status": "completed"
    },
    "tags": []
   },
   "outputs": [],
   "source": [
    "lgb_train = lgb.Dataset(X_train, y_train,\n",
    "                       categorical_feature=categorical_features,\n",
    "                        free_raw_data=False)\n",
    "lgb_eval = lgb.Dataset(X_eval, y_eval, reference=lgb_train,\n",
    "                       categorical_feature=categorical_features,\n",
    "                       free_raw_data=False)"
   ]
  },
  {
   "cell_type": "code",
   "execution_count": 18,
   "metadata": {
    "execution": {
     "iopub.execute_input": "2021-01-18T06:02:28.657496Z",
     "iopub.status.busy": "2021-01-18T06:02:28.656842Z",
     "iopub.status.idle": "2021-01-18T06:02:28.658869Z",
     "shell.execute_reply": "2021-01-18T06:02:28.659428Z"
    },
    "papermill": {
     "duration": 0.024921,
     "end_time": "2021-01-18T06:02:28.659676",
     "exception": false,
     "start_time": "2021-01-18T06:02:28.634755",
     "status": "completed"
    },
    "tags": []
   },
   "outputs": [],
   "source": [
    "def objective(trial):\n",
    "\n",
    "    param = {\n",
    "        'objective': 'binary',\n",
    "        'metric': 'auc',\n",
    "        'verbosity': -1,\n",
    "        'n_jobs': -1,\n",
    "        'boosting_type': 'gbdt',\n",
    "        'lambda_l1': trial.suggest_loguniform('lambda_l1', 1e-8, 10.0),\n",
    "        'lambda_l2': trial.suggest_loguniform('lambda_l2', 1e-8, 10.0),\n",
    "        'num_leaves': trial.suggest_int('num_leaves', 2, 256),\n",
    "        'feature_fraction': trial.suggest_uniform('feature_fraction', 0.4, 1.0),\n",
    "        'bagging_fraction': trial.suggest_uniform('bagging_fraction', 0.4, 1.0),\n",
    "        'bagging_freq': trial.suggest_int('bagging_freq', 1, 7),\n",
    "        'min_child_samples': trial.suggest_int('min_child_samples', 5, 100),\n",
    "    }\n",
    "\n",
    "    evaluation_results = {}                                     # 学習の経過を保存する箱\n",
    "    model = lgb.train(\n",
    "        param,                                   # 上記で設定したパラメータ\n",
    "        lgb_train,                                # 使用するデータセット\n",
    "        num_boost_round=1000,                     # 学習の回数\n",
    "        valid_names=['train', 'valid'],           # 学習経過で表示する名称\n",
    "        valid_sets=[lgb_train, lgb_eval],         # モデル検証のデータセット\n",
    "        evals_result=evaluation_results,          # 学習の経過を保存\n",
    "        categorical_feature=categorical_features, # カテゴリー変数を設定\n",
    "        early_stopping_rounds=50,                 # アーリーストッピング\n",
    "        verbose_eval=10)                          # 学習の経過の表示(10回毎)\n",
    "    \n",
    "    y_pred = model.predict(X_train, num_iteration=model.best_iteration)\n",
    "    \n",
    "    # metrics AUC\n",
    "    fpr, tpr, thresholds = metrics.roc_curve(y_train, y_pred)\n",
    "    score = metrics.auc(fpr, tpr)\n",
    "\n",
    "    # metrics F1\n",
    "#     score = f1_score(y_train, y_pred)\n",
    "\n",
    "    # MLFlow\n",
    "#     with mlflow.start_run() as run:\n",
    "#         mlflow.log_params(param)\n",
    "#         mlflow.log_metrics({'accuracy': accuracy})\n",
    "#         mlflow.lightgbm.log_model(gbm, 'model', args.conda_env)\n",
    "#     print('Model logged in run {}'.format(run.info.run_uuid))\n",
    "    return score"
   ]
  },
  {
   "cell_type": "code",
   "execution_count": 19,
   "metadata": {
    "execution": {
     "iopub.execute_input": "2021-01-18T06:02:28.692639Z",
     "iopub.status.busy": "2021-01-18T06:02:28.691602Z",
     "iopub.status.idle": "2021-01-18T06:03:02.336267Z",
     "shell.execute_reply": "2021-01-18T06:03:02.328529Z"
    },
    "papermill": {
     "duration": 33.663992,
     "end_time": "2021-01-18T06:03:02.336462",
     "exception": false,
     "start_time": "2021-01-18T06:02:28.672470",
     "status": "completed"
    },
    "tags": []
   },
   "outputs": [
    {
     "name": "stderr",
     "output_type": "stream",
     "text": [
      "[I 2021-01-18 15:02:28,689]"
     ]
    },
    {
     "name": "stderr",
     "output_type": "stream",
     "text": [
      " A new study created in memory with name: no-name-5e4429f6-a784-4b9e-9daf-2cac32434664"
     ]
    },
    {
     "name": "stderr",
     "output_type": "stream",
     "text": [
      "\n"
     ]
    },
    {
     "name": "stdout",
     "output_type": "stream",
     "text": [
      "Training until validation scores don't improve for 50 rounds"
     ]
    },
    {
     "name": "stdout",
     "output_type": "stream",
     "text": [
      "\n"
     ]
    },
    {
     "name": "stdout",
     "output_type": "stream",
     "text": [
      "[10]\ttrain's auc: 0.762807\tvalid's auc: 0.724769"
     ]
    },
    {
     "name": "stdout",
     "output_type": "stream",
     "text": [
      "\n"
     ]
    },
    {
     "name": "stdout",
     "output_type": "stream",
     "text": [
      "[20]\ttrain's auc: 0.784728\tvalid's auc: 0.740218"
     ]
    },
    {
     "name": "stdout",
     "output_type": "stream",
     "text": [
      "\n"
     ]
    },
    {
     "name": "stdout",
     "output_type": "stream",
     "text": [
      "[30]\ttrain's auc: 0.798606\tvalid's auc: 0.742935"
     ]
    },
    {
     "name": "stdout",
     "output_type": "stream",
     "text": [
      "\n"
     ]
    },
    {
     "name": "stdout",
     "output_type": "stream",
     "text": [
      "[40]\ttrain's auc: 0.810201\tvalid's auc: 0.74449"
     ]
    },
    {
     "name": "stdout",
     "output_type": "stream",
     "text": [
      "\n"
     ]
    },
    {
     "name": "stdout",
     "output_type": "stream",
     "text": [
      "[50]\ttrain's auc: 0.8217\tvalid's auc: 0.745425"
     ]
    },
    {
     "name": "stdout",
     "output_type": "stream",
     "text": [
      "\n"
     ]
    },
    {
     "name": "stdout",
     "output_type": "stream",
     "text": [
      "[60]\ttrain's auc: 0.834205\tvalid's auc: 0.746651"
     ]
    },
    {
     "name": "stdout",
     "output_type": "stream",
     "text": [
      "\n"
     ]
    },
    {
     "name": "stdout",
     "output_type": "stream",
     "text": [
      "[70]\ttrain's auc: 0.845884\tvalid's auc: 0.745814"
     ]
    },
    {
     "name": "stdout",
     "output_type": "stream",
     "text": [
      "\n"
     ]
    },
    {
     "name": "stdout",
     "output_type": "stream",
     "text": [
      "[80]\ttrain's auc: 0.856894\tvalid's auc: 0.744731"
     ]
    },
    {
     "name": "stdout",
     "output_type": "stream",
     "text": [
      "\n"
     ]
    },
    {
     "name": "stdout",
     "output_type": "stream",
     "text": [
      "[90]\ttrain's auc: 0.866277\tvalid's auc: 0.744724"
     ]
    },
    {
     "name": "stdout",
     "output_type": "stream",
     "text": [
      "\n"
     ]
    },
    {
     "name": "stdout",
     "output_type": "stream",
     "text": [
      "[100]\ttrain's auc: 0.874938\tvalid's auc: 0.744513"
     ]
    },
    {
     "name": "stdout",
     "output_type": "stream",
     "text": [
      "\n"
     ]
    },
    {
     "name": "stdout",
     "output_type": "stream",
     "text": [
      "Early stopping, best iteration is:\n",
      "[58]\ttrain's auc: 0.831815\tvalid's auc: 0.746788"
     ]
    },
    {
     "name": "stdout",
     "output_type": "stream",
     "text": [
      "\n"
     ]
    },
    {
     "name": "stderr",
     "output_type": "stream",
     "text": [
      "[I 2021-01-18 15:02:31,458]"
     ]
    },
    {
     "name": "stderr",
     "output_type": "stream",
     "text": [
      " Trial 0 finished with value: 0.8318149413863671 and parameters: {'lambda_l1': 2.5817377920770687e-05, 'lambda_l2': 9.438550199246661e-05, 'num_leaves': 108, 'feature_fraction': 0.42591777290422755, 'bagging_fraction': 0.8468900355219757, 'bagging_freq': 6, 'min_child_samples': 27}. Best is trial 0 with value: 0.8318149413863671."
     ]
    },
    {
     "name": "stderr",
     "output_type": "stream",
     "text": [
      "\n"
     ]
    },
    {
     "name": "stdout",
     "output_type": "stream",
     "text": [
      "Training until validation scores don't improve for 50 rounds"
     ]
    },
    {
     "name": "stdout",
     "output_type": "stream",
     "text": [
      "\n"
     ]
    },
    {
     "name": "stdout",
     "output_type": "stream",
     "text": [
      "[10]\ttrain's auc: 0.791411\tvalid's auc: 0.733008"
     ]
    },
    {
     "name": "stdout",
     "output_type": "stream",
     "text": [
      "\n"
     ]
    },
    {
     "name": "stdout",
     "output_type": "stream",
     "text": [
      "[20]\ttrain's auc: 0.81357\tvalid's auc: 0.741521"
     ]
    },
    {
     "name": "stdout",
     "output_type": "stream",
     "text": [
      "\n"
     ]
    },
    {
     "name": "stdout",
     "output_type": "stream",
     "text": [
      "[30]\ttrain's auc: 0.831904\tvalid's auc: 0.742572"
     ]
    },
    {
     "name": "stdout",
     "output_type": "stream",
     "text": [
      "\n"
     ]
    },
    {
     "name": "stdout",
     "output_type": "stream",
     "text": [
      "[40]\ttrain's auc: 0.848536\tvalid's auc: 0.743678"
     ]
    },
    {
     "name": "stdout",
     "output_type": "stream",
     "text": [
      "\n"
     ]
    },
    {
     "name": "stdout",
     "output_type": "stream",
     "text": [
      "[50]\ttrain's auc: 0.865086\tvalid's auc: 0.744202"
     ]
    },
    {
     "name": "stdout",
     "output_type": "stream",
     "text": [
      "\n"
     ]
    },
    {
     "name": "stdout",
     "output_type": "stream",
     "text": [
      "[60]\ttrain's auc: 0.880963\tvalid's auc: 0.74443"
     ]
    },
    {
     "name": "stdout",
     "output_type": "stream",
     "text": [
      "\n"
     ]
    },
    {
     "name": "stdout",
     "output_type": "stream",
     "text": [
      "[70]\ttrain's auc: 0.894612\tvalid's auc: 0.744625"
     ]
    },
    {
     "name": "stdout",
     "output_type": "stream",
     "text": [
      "\n"
     ]
    },
    {
     "name": "stdout",
     "output_type": "stream",
     "text": [
      "[80]\ttrain's auc: 0.90729\tvalid's auc: 0.743555"
     ]
    },
    {
     "name": "stdout",
     "output_type": "stream",
     "text": [
      "\n"
     ]
    },
    {
     "name": "stdout",
     "output_type": "stream",
     "text": [
      "[90]\ttrain's auc: 0.918712\tvalid's auc: 0.743323"
     ]
    },
    {
     "name": "stdout",
     "output_type": "stream",
     "text": [
      "\n"
     ]
    },
    {
     "name": "stdout",
     "output_type": "stream",
     "text": [
      "[100]\ttrain's auc: 0.927687\tvalid's auc: 0.742292"
     ]
    },
    {
     "name": "stdout",
     "output_type": "stream",
     "text": [
      "\n"
     ]
    },
    {
     "name": "stdout",
     "output_type": "stream",
     "text": [
      "[110]\ttrain's auc: 0.936058\tvalid's auc: 0.74181"
     ]
    },
    {
     "name": "stdout",
     "output_type": "stream",
     "text": [
      "\n"
     ]
    },
    {
     "name": "stdout",
     "output_type": "stream",
     "text": [
      "Early stopping, best iteration is:\n",
      "[65]\ttrain's auc: 0.887651\tvalid's auc: 0.744936"
     ]
    },
    {
     "name": "stdout",
     "output_type": "stream",
     "text": [
      "\n"
     ]
    },
    {
     "name": "stderr",
     "output_type": "stream",
     "text": [
      "[I 2021-01-18 15:02:35,203]"
     ]
    },
    {
     "name": "stderr",
     "output_type": "stream",
     "text": [
      " Trial 1 finished with value: 0.8876512135023438 and parameters: {'lambda_l1': 0.6735564797726852, 'lambda_l2': 0.0038297684274387097, 'num_leaves': 221, 'feature_fraction': 0.4758470496803634, 'bagging_fraction': 0.9827503036652119, 'bagging_freq': 2, 'min_child_samples': 84}. Best is trial 1 with value: 0.8876512135023438."
     ]
    },
    {
     "name": "stderr",
     "output_type": "stream",
     "text": [
      "\n"
     ]
    },
    {
     "name": "stdout",
     "output_type": "stream",
     "text": [
      "Training until validation scores don't improve for 50 rounds"
     ]
    },
    {
     "name": "stdout",
     "output_type": "stream",
     "text": [
      "\n"
     ]
    },
    {
     "name": "stdout",
     "output_type": "stream",
     "text": [
      "[10]\ttrain's auc: 0.781643\tvalid's auc: 0.722069"
     ]
    },
    {
     "name": "stdout",
     "output_type": "stream",
     "text": [
      "\n"
     ]
    },
    {
     "name": "stdout",
     "output_type": "stream",
     "text": [
      "[20]\ttrain's auc: 0.806633\tvalid's auc: 0.738539"
     ]
    },
    {
     "name": "stdout",
     "output_type": "stream",
     "text": [
      "\n"
     ]
    },
    {
     "name": "stdout",
     "output_type": "stream",
     "text": [
      "[30]\ttrain's auc: 0.822892\tvalid's auc: 0.741187"
     ]
    },
    {
     "name": "stdout",
     "output_type": "stream",
     "text": [
      "\n"
     ]
    },
    {
     "name": "stdout",
     "output_type": "stream",
     "text": [
      "[40]\ttrain's auc: 0.83799\tvalid's auc: 0.742827"
     ]
    },
    {
     "name": "stdout",
     "output_type": "stream",
     "text": [
      "\n"
     ]
    },
    {
     "name": "stdout",
     "output_type": "stream",
     "text": [
      "[50]\ttrain's auc: 0.853396\tvalid's auc: 0.743845"
     ]
    },
    {
     "name": "stdout",
     "output_type": "stream",
     "text": [
      "\n"
     ]
    },
    {
     "name": "stdout",
     "output_type": "stream",
     "text": [
      "[60]\ttrain's auc: 0.868428\tvalid's auc: 0.74357"
     ]
    },
    {
     "name": "stdout",
     "output_type": "stream",
     "text": [
      "\n"
     ]
    },
    {
     "name": "stdout",
     "output_type": "stream",
     "text": [
      "[70]\ttrain's auc: 0.881806\tvalid's auc: 0.743197"
     ]
    },
    {
     "name": "stdout",
     "output_type": "stream",
     "text": [
      "\n"
     ]
    },
    {
     "name": "stdout",
     "output_type": "stream",
     "text": [
      "[80]\ttrain's auc: 0.893628\tvalid's auc: 0.742187"
     ]
    },
    {
     "name": "stdout",
     "output_type": "stream",
     "text": [
      "\n"
     ]
    },
    {
     "name": "stdout",
     "output_type": "stream",
     "text": [
      "[90]\ttrain's auc: 0.904377\tvalid's auc: 0.740489"
     ]
    },
    {
     "name": "stdout",
     "output_type": "stream",
     "text": [
      "\n"
     ]
    },
    {
     "name": "stdout",
     "output_type": "stream",
     "text": [
      "[100]\ttrain's auc: 0.91487\tvalid's auc: 0.739445"
     ]
    },
    {
     "name": "stdout",
     "output_type": "stream",
     "text": [
      "\n"
     ]
    },
    {
     "name": "stdout",
     "output_type": "stream",
     "text": [
      "Early stopping, best iteration is:\n",
      "[56]\ttrain's auc: 0.862473\tvalid's auc: 0.744496"
     ]
    },
    {
     "name": "stdout",
     "output_type": "stream",
     "text": [
      "\n"
     ]
    },
    {
     "name": "stderr",
     "output_type": "stream",
     "text": [
      "[I 2021-01-18 15:02:41,605]"
     ]
    },
    {
     "name": "stderr",
     "output_type": "stream",
     "text": [
      " Trial 2 finished with value: 0.8624733792091723 and parameters: {'lambda_l1': 9.843516656550114e-05, 'lambda_l2': 0.016788862060896737, 'num_leaves': 203, 'feature_fraction': 0.41282974216311064, 'bagging_fraction': 0.7342234918127726, 'bagging_freq': 5, 'min_child_samples': 76}. Best is trial 1 with value: 0.8876512135023438."
     ]
    },
    {
     "name": "stderr",
     "output_type": "stream",
     "text": [
      "\n"
     ]
    },
    {
     "name": "stdout",
     "output_type": "stream",
     "text": [
      "Training until validation scores don't improve for 50 rounds"
     ]
    },
    {
     "name": "stdout",
     "output_type": "stream",
     "text": [
      "\n"
     ]
    },
    {
     "name": "stdout",
     "output_type": "stream",
     "text": [
      "[10]\ttrain's auc: 0.775048\tvalid's auc: 0.730477"
     ]
    },
    {
     "name": "stdout",
     "output_type": "stream",
     "text": [
      "\n"
     ]
    },
    {
     "name": "stdout",
     "output_type": "stream",
     "text": [
      "[20]\ttrain's auc: 0.804467\tvalid's auc: 0.733498"
     ]
    },
    {
     "name": "stdout",
     "output_type": "stream",
     "text": [
      "\n"
     ]
    },
    {
     "name": "stdout",
     "output_type": "stream",
     "text": [
      "[30]\ttrain's auc: 0.829808\tvalid's auc: 0.736937"
     ]
    },
    {
     "name": "stdout",
     "output_type": "stream",
     "text": [
      "\n"
     ]
    },
    {
     "name": "stdout",
     "output_type": "stream",
     "text": [
      "[40]\ttrain's auc: 0.850805\tvalid's auc: 0.736245"
     ]
    },
    {
     "name": "stdout",
     "output_type": "stream",
     "text": [
      "\n"
     ]
    },
    {
     "name": "stdout",
     "output_type": "stream",
     "text": [
      "[50]\ttrain's auc: 0.869111\tvalid's auc: 0.73616"
     ]
    },
    {
     "name": "stdout",
     "output_type": "stream",
     "text": [
      "\n"
     ]
    },
    {
     "name": "stdout",
     "output_type": "stream",
     "text": [
      "[60]\ttrain's auc: 0.884815\tvalid's auc: 0.73569"
     ]
    },
    {
     "name": "stdout",
     "output_type": "stream",
     "text": [
      "\n"
     ]
    },
    {
     "name": "stdout",
     "output_type": "stream",
     "text": [
      "[70]\ttrain's auc: 0.897834\tvalid's auc: 0.735218"
     ]
    },
    {
     "name": "stdout",
     "output_type": "stream",
     "text": [
      "\n"
     ]
    },
    {
     "name": "stdout",
     "output_type": "stream",
     "text": [
      "[80]\ttrain's auc: 0.909817\tvalid's auc: 0.733406"
     ]
    },
    {
     "name": "stdout",
     "output_type": "stream",
     "text": [
      "\n"
     ]
    },
    {
     "name": "stdout",
     "output_type": "stream",
     "text": [
      "Early stopping, best iteration is:\n",
      "[34]\ttrain's auc: 0.838445\tvalid's auc: 0.737376"
     ]
    },
    {
     "name": "stdout",
     "output_type": "stream",
     "text": [
      "\n"
     ]
    },
    {
     "name": "stderr",
     "output_type": "stream",
     "text": [
      "[I 2021-01-18 15:02:44,006]"
     ]
    },
    {
     "name": "stderr",
     "output_type": "stream",
     "text": [
      " Trial 3 finished with value: 0.8384454553758723 and parameters: {'lambda_l1': 2.663106702307728e-06, 'lambda_l2': 0.0004199077618805182, 'num_leaves': 194, 'feature_fraction': 0.8650336869338363, 'bagging_fraction': 0.5907373262967588, 'bagging_freq': 4, 'min_child_samples': 33}. Best is trial 1 with value: 0.8876512135023438."
     ]
    },
    {
     "name": "stderr",
     "output_type": "stream",
     "text": [
      "\n"
     ]
    },
    {
     "name": "stdout",
     "output_type": "stream",
     "text": [
      "Training until validation scores don't improve for 50 rounds"
     ]
    },
    {
     "name": "stdout",
     "output_type": "stream",
     "text": [
      "\n"
     ]
    },
    {
     "name": "stdout",
     "output_type": "stream",
     "text": [
      "[10]\ttrain's auc: 0.755696\tvalid's auc: 0.731047"
     ]
    },
    {
     "name": "stdout",
     "output_type": "stream",
     "text": [
      "\n"
     ]
    },
    {
     "name": "stdout",
     "output_type": "stream",
     "text": [
      "[20]\ttrain's auc: 0.770797\tvalid's auc: 0.735643"
     ]
    },
    {
     "name": "stdout",
     "output_type": "stream",
     "text": [
      "\n"
     ]
    },
    {
     "name": "stdout",
     "output_type": "stream",
     "text": [
      "[30]\ttrain's auc: 0.784556\tvalid's auc: 0.739456"
     ]
    },
    {
     "name": "stdout",
     "output_type": "stream",
     "text": [
      "\n"
     ]
    },
    {
     "name": "stdout",
     "output_type": "stream",
     "text": [
      "[40]\ttrain's auc: 0.797132\tvalid's auc: 0.740152"
     ]
    },
    {
     "name": "stdout",
     "output_type": "stream",
     "text": [
      "\n"
     ]
    },
    {
     "name": "stdout",
     "output_type": "stream",
     "text": [
      "[50]\ttrain's auc: 0.807967\tvalid's auc: 0.741185"
     ]
    },
    {
     "name": "stdout",
     "output_type": "stream",
     "text": [
      "\n"
     ]
    },
    {
     "name": "stdout",
     "output_type": "stream",
     "text": [
      "[60]\ttrain's auc: 0.81844\tvalid's auc: 0.741714"
     ]
    },
    {
     "name": "stdout",
     "output_type": "stream",
     "text": [
      "\n"
     ]
    },
    {
     "name": "stdout",
     "output_type": "stream",
     "text": [
      "[70]\ttrain's auc: 0.827538\tvalid's auc: 0.739585"
     ]
    },
    {
     "name": "stdout",
     "output_type": "stream",
     "text": [
      "\n"
     ]
    },
    {
     "name": "stdout",
     "output_type": "stream",
     "text": [
      "[80]\ttrain's auc: 0.83562\tvalid's auc: 0.738693"
     ]
    },
    {
     "name": "stdout",
     "output_type": "stream",
     "text": [
      "\n"
     ]
    },
    {
     "name": "stdout",
     "output_type": "stream",
     "text": [
      "[90]\ttrain's auc: 0.844143\tvalid's auc: 0.738865"
     ]
    },
    {
     "name": "stdout",
     "output_type": "stream",
     "text": [
      "\n"
     ]
    },
    {
     "name": "stdout",
     "output_type": "stream",
     "text": [
      "[100]\ttrain's auc: 0.850859\tvalid's auc: 0.739248"
     ]
    },
    {
     "name": "stdout",
     "output_type": "stream",
     "text": [
      "\n"
     ]
    },
    {
     "name": "stdout",
     "output_type": "stream",
     "text": [
      "Early stopping, best iteration is:\n",
      "[54]\ttrain's auc: 0.812529\tvalid's auc: 0.742126"
     ]
    },
    {
     "name": "stdout",
     "output_type": "stream",
     "text": [
      "\n"
     ]
    },
    {
     "name": "stderr",
     "output_type": "stream",
     "text": [
      "[I 2021-01-18 15:02:46,604]"
     ]
    },
    {
     "name": "stderr",
     "output_type": "stream",
     "text": [
      " Trial 4 finished with value: 0.812528570301624 and parameters: {'lambda_l1': 1.5843662058319236e-05, 'lambda_l2': 6.206040713570412e-06, 'num_leaves': 84, 'feature_fraction': 0.8970258577921453, 'bagging_fraction': 0.4205799392436117, 'bagging_freq': 1, 'min_child_samples': 66}. Best is trial 1 with value: 0.8876512135023438."
     ]
    },
    {
     "name": "stderr",
     "output_type": "stream",
     "text": [
      "\n"
     ]
    },
    {
     "name": "stdout",
     "output_type": "stream",
     "text": [
      "Training until validation scores don't improve for 50 rounds"
     ]
    },
    {
     "name": "stdout",
     "output_type": "stream",
     "text": [
      "\n"
     ]
    },
    {
     "name": "stdout",
     "output_type": "stream",
     "text": [
      "[10]\ttrain's auc: 0.772981\tvalid's auc: 0.729501"
     ]
    },
    {
     "name": "stdout",
     "output_type": "stream",
     "text": [
      "\n"
     ]
    },
    {
     "name": "stdout",
     "output_type": "stream",
     "text": [
      "[20]\ttrain's auc: 0.801657\tvalid's auc: 0.734612"
     ]
    },
    {
     "name": "stdout",
     "output_type": "stream",
     "text": [
      "\n"
     ]
    },
    {
     "name": "stdout",
     "output_type": "stream",
     "text": [
      "[30]\ttrain's auc: 0.824409\tvalid's auc: 0.737195"
     ]
    },
    {
     "name": "stdout",
     "output_type": "stream",
     "text": [
      "\n"
     ]
    },
    {
     "name": "stdout",
     "output_type": "stream",
     "text": [
      "[40]\ttrain's auc: 0.845856\tvalid's auc: 0.737839"
     ]
    },
    {
     "name": "stdout",
     "output_type": "stream",
     "text": [
      "\n"
     ]
    },
    {
     "name": "stdout",
     "output_type": "stream",
     "text": [
      "[50]\ttrain's auc: 0.863722\tvalid's auc: 0.738614"
     ]
    },
    {
     "name": "stdout",
     "output_type": "stream",
     "text": [
      "\n"
     ]
    },
    {
     "name": "stdout",
     "output_type": "stream",
     "text": [
      "[60]\ttrain's auc: 0.878684\tvalid's auc: 0.737646"
     ]
    },
    {
     "name": "stdout",
     "output_type": "stream",
     "text": [
      "\n"
     ]
    },
    {
     "name": "stdout",
     "output_type": "stream",
     "text": [
      "[70]\ttrain's auc: 0.893108\tvalid's auc: 0.735707"
     ]
    },
    {
     "name": "stdout",
     "output_type": "stream",
     "text": [
      "\n"
     ]
    },
    {
     "name": "stdout",
     "output_type": "stream",
     "text": [
      "[80]\ttrain's auc: 0.904125\tvalid's auc: 0.734725"
     ]
    },
    {
     "name": "stdout",
     "output_type": "stream",
     "text": [
      "\n"
     ]
    },
    {
     "name": "stdout",
     "output_type": "stream",
     "text": [
      "[90]\ttrain's auc: 0.915909\tvalid's auc: 0.732769"
     ]
    },
    {
     "name": "stdout",
     "output_type": "stream",
     "text": [
      "\n"
     ]
    },
    {
     "name": "stdout",
     "output_type": "stream",
     "text": [
      "Early stopping, best iteration is:\n",
      "[46]\ttrain's auc: 0.85672\tvalid's auc: 0.738979"
     ]
    },
    {
     "name": "stdout",
     "output_type": "stream",
     "text": [
      "\n"
     ]
    },
    {
     "name": "stderr",
     "output_type": "stream",
     "text": [
      "[I 2021-01-18 15:02:50,329]"
     ]
    },
    {
     "name": "stderr",
     "output_type": "stream",
     "text": [
      " Trial 5 finished with value: 0.8567200706394897 and parameters: {'lambda_l1': 1.1222454172577648e-05, 'lambda_l2': 0.000726574467972726, 'num_leaves': 188, 'feature_fraction': 0.92062042669745, 'bagging_fraction': 0.6795767361144331, 'bagging_freq': 4, 'min_child_samples': 66}. Best is trial 1 with value: 0.8876512135023438."
     ]
    },
    {
     "name": "stderr",
     "output_type": "stream",
     "text": [
      "\n"
     ]
    },
    {
     "name": "stdout",
     "output_type": "stream",
     "text": [
      "Training until validation scores don't improve for 50 rounds"
     ]
    },
    {
     "name": "stdout",
     "output_type": "stream",
     "text": [
      "\n"
     ]
    },
    {
     "name": "stdout",
     "output_type": "stream",
     "text": [
      "[10]\ttrain's auc: 0.765207\tvalid's auc: 0.730934"
     ]
    },
    {
     "name": "stdout",
     "output_type": "stream",
     "text": [
      "\n"
     ]
    },
    {
     "name": "stdout",
     "output_type": "stream",
     "text": [
      "[20]\ttrain's auc: 0.786417\tvalid's auc: 0.736527"
     ]
    },
    {
     "name": "stdout",
     "output_type": "stream",
     "text": [
      "\n"
     ]
    },
    {
     "name": "stdout",
     "output_type": "stream",
     "text": [
      "[30]\ttrain's auc: 0.805753\tvalid's auc: 0.739187"
     ]
    },
    {
     "name": "stdout",
     "output_type": "stream",
     "text": [
      "\n"
     ]
    },
    {
     "name": "stdout",
     "output_type": "stream",
     "text": [
      "[40]\ttrain's auc: 0.82281\tvalid's auc: 0.737951"
     ]
    },
    {
     "name": "stdout",
     "output_type": "stream",
     "text": [
      "\n"
     ]
    },
    {
     "name": "stdout",
     "output_type": "stream",
     "text": [
      "[50]\ttrain's auc: 0.837823\tvalid's auc: 0.738037"
     ]
    },
    {
     "name": "stdout",
     "output_type": "stream",
     "text": [
      "\n"
     ]
    },
    {
     "name": "stdout",
     "output_type": "stream",
     "text": [
      "[60]\ttrain's auc: 0.851343\tvalid's auc: 0.737088"
     ]
    },
    {
     "name": "stdout",
     "output_type": "stream",
     "text": [
      "\n"
     ]
    },
    {
     "name": "stdout",
     "output_type": "stream",
     "text": [
      "[70]\ttrain's auc: 0.863835\tvalid's auc: 0.735953"
     ]
    },
    {
     "name": "stdout",
     "output_type": "stream",
     "text": [
      "\n"
     ]
    },
    {
     "name": "stdout",
     "output_type": "stream",
     "text": [
      "[80]\ttrain's auc: 0.874168\tvalid's auc: 0.735355"
     ]
    },
    {
     "name": "stdout",
     "output_type": "stream",
     "text": [
      "\n"
     ]
    },
    {
     "name": "stdout",
     "output_type": "stream",
     "text": [
      "Early stopping, best iteration is:\n",
      "[34]\ttrain's auc: 0.81265\tvalid's auc: 0.739469"
     ]
    },
    {
     "name": "stdout",
     "output_type": "stream",
     "text": [
      "\n"
     ]
    },
    {
     "name": "stderr",
     "output_type": "stream",
     "text": [
      "[I 2021-01-18 15:02:52,394]"
     ]
    },
    {
     "name": "stderr",
     "output_type": "stream",
     "text": [
      " Trial 6 finished with value: 0.8126495142239367 and parameters: {'lambda_l1': 4.911342065023171e-05, 'lambda_l2': 1.1459932246754233e-08, 'num_leaves': 138, 'feature_fraction': 0.9190633043513995, 'bagging_fraction': 0.48633581205187004, 'bagging_freq': 3, 'min_child_samples': 48}. Best is trial 1 with value: 0.8876512135023438."
     ]
    },
    {
     "name": "stderr",
     "output_type": "stream",
     "text": [
      "\n"
     ]
    },
    {
     "name": "stdout",
     "output_type": "stream",
     "text": [
      "Training until validation scores don't improve for 50 rounds"
     ]
    },
    {
     "name": "stdout",
     "output_type": "stream",
     "text": [
      "\n"
     ]
    },
    {
     "name": "stdout",
     "output_type": "stream",
     "text": [
      "[10]\ttrain's auc: 0.778041\tvalid's auc: 0.7373"
     ]
    },
    {
     "name": "stdout",
     "output_type": "stream",
     "text": [
      "\n"
     ]
    },
    {
     "name": "stdout",
     "output_type": "stream",
     "text": [
      "[20]\ttrain's auc: 0.79652\tvalid's auc: 0.741434"
     ]
    },
    {
     "name": "stdout",
     "output_type": "stream",
     "text": [
      "\n"
     ]
    },
    {
     "name": "stdout",
     "output_type": "stream",
     "text": [
      "[30]\ttrain's auc: 0.811941\tvalid's auc: 0.741745"
     ]
    },
    {
     "name": "stdout",
     "output_type": "stream",
     "text": [
      "\n"
     ]
    },
    {
     "name": "stdout",
     "output_type": "stream",
     "text": [
      "[40]\ttrain's auc: 0.826322\tvalid's auc: 0.742326"
     ]
    },
    {
     "name": "stdout",
     "output_type": "stream",
     "text": [
      "\n"
     ]
    },
    {
     "name": "stdout",
     "output_type": "stream",
     "text": [
      "[50]\ttrain's auc: 0.83954\tvalid's auc: 0.743348"
     ]
    },
    {
     "name": "stdout",
     "output_type": "stream",
     "text": [
      "\n"
     ]
    },
    {
     "name": "stdout",
     "output_type": "stream",
     "text": [
      "[60]\ttrain's auc: 0.854414\tvalid's auc: 0.743396"
     ]
    },
    {
     "name": "stdout",
     "output_type": "stream",
     "text": [
      "\n"
     ]
    },
    {
     "name": "stdout",
     "output_type": "stream",
     "text": [
      "[70]\ttrain's auc: 0.865457\tvalid's auc: 0.743852"
     ]
    },
    {
     "name": "stdout",
     "output_type": "stream",
     "text": [
      "\n"
     ]
    },
    {
     "name": "stdout",
     "output_type": "stream",
     "text": [
      "[80]\ttrain's auc: 0.876396\tvalid's auc: 0.743367"
     ]
    },
    {
     "name": "stdout",
     "output_type": "stream",
     "text": [
      "\n"
     ]
    },
    {
     "name": "stdout",
     "output_type": "stream",
     "text": [
      "[90]\ttrain's auc: 0.886625\tvalid's auc: 0.742566"
     ]
    },
    {
     "name": "stdout",
     "output_type": "stream",
     "text": [
      "\n"
     ]
    },
    {
     "name": "stdout",
     "output_type": "stream",
     "text": [
      "[100]\ttrain's auc: 0.895564\tvalid's auc: 0.741932"
     ]
    },
    {
     "name": "stdout",
     "output_type": "stream",
     "text": [
      "\n"
     ]
    },
    {
     "name": "stdout",
     "output_type": "stream",
     "text": [
      "[110]\ttrain's auc: 0.904491\tvalid's auc: 0.741939"
     ]
    },
    {
     "name": "stdout",
     "output_type": "stream",
     "text": [
      "\n"
     ]
    },
    {
     "name": "stdout",
     "output_type": "stream",
     "text": [
      "[120]\ttrain's auc: 0.91176\tvalid's auc: 0.740768"
     ]
    },
    {
     "name": "stdout",
     "output_type": "stream",
     "text": [
      "\n"
     ]
    },
    {
     "name": "stdout",
     "output_type": "stream",
     "text": [
      "Early stopping, best iteration is:\n",
      "[70]\ttrain's auc: 0.865457\tvalid's auc: 0.743852"
     ]
    },
    {
     "name": "stdout",
     "output_type": "stream",
     "text": [
      "\n"
     ]
    },
    {
     "name": "stderr",
     "output_type": "stream",
     "text": [
      "[I 2021-01-18 15:02:55,587]"
     ]
    },
    {
     "name": "stderr",
     "output_type": "stream",
     "text": [
      " Trial 7 finished with value: 0.8654565376337782 and parameters: {'lambda_l1': 0.012792407197730152, 'lambda_l2': 1.0398076688708622e-08, 'num_leaves': 147, 'feature_fraction': 0.5826353803537193, 'bagging_fraction': 0.8642817209464587, 'bagging_freq': 6, 'min_child_samples': 71}. Best is trial 1 with value: 0.8876512135023438."
     ]
    },
    {
     "name": "stderr",
     "output_type": "stream",
     "text": [
      "\n"
     ]
    },
    {
     "name": "stdout",
     "output_type": "stream",
     "text": [
      "Training until validation scores don't improve for 50 rounds"
     ]
    },
    {
     "name": "stdout",
     "output_type": "stream",
     "text": [
      "\n"
     ]
    },
    {
     "name": "stdout",
     "output_type": "stream",
     "text": [
      "[10]\ttrain's auc: 0.748712\tvalid's auc: 0.726055"
     ]
    },
    {
     "name": "stdout",
     "output_type": "stream",
     "text": [
      "\n"
     ]
    },
    {
     "name": "stdout",
     "output_type": "stream",
     "text": [
      "[20]\ttrain's auc: 0.763671\tvalid's auc: 0.740947"
     ]
    },
    {
     "name": "stdout",
     "output_type": "stream",
     "text": [
      "\n"
     ]
    },
    {
     "name": "stdout",
     "output_type": "stream",
     "text": [
      "[30]\ttrain's auc: 0.770529\tvalid's auc: 0.743581"
     ]
    },
    {
     "name": "stdout",
     "output_type": "stream",
     "text": [
      "\n"
     ]
    },
    {
     "name": "stdout",
     "output_type": "stream",
     "text": [
      "[40]\ttrain's auc: 0.776861\tvalid's auc: 0.745499"
     ]
    },
    {
     "name": "stdout",
     "output_type": "stream",
     "text": [
      "\n"
     ]
    },
    {
     "name": "stdout",
     "output_type": "stream",
     "text": [
      "[50]\ttrain's auc: 0.783703\tvalid's auc: 0.746772"
     ]
    },
    {
     "name": "stdout",
     "output_type": "stream",
     "text": [
      "\n"
     ]
    },
    {
     "name": "stdout",
     "output_type": "stream",
     "text": [
      "[60]\ttrain's auc: 0.790179\tvalid's auc: 0.747737"
     ]
    },
    {
     "name": "stdout",
     "output_type": "stream",
     "text": [
      "\n"
     ]
    },
    {
     "name": "stdout",
     "output_type": "stream",
     "text": [
      "[70]\ttrain's auc: 0.795986\tvalid's auc: 0.748135"
     ]
    },
    {
     "name": "stdout",
     "output_type": "stream",
     "text": [
      "\n"
     ]
    },
    {
     "name": "stdout",
     "output_type": "stream",
     "text": [
      "[80]\ttrain's auc: 0.80125\tvalid's auc: 0.748615"
     ]
    },
    {
     "name": "stdout",
     "output_type": "stream",
     "text": [
      "\n"
     ]
    },
    {
     "name": "stdout",
     "output_type": "stream",
     "text": [
      "[90]\ttrain's auc: 0.806831\tvalid's auc: 0.748099"
     ]
    },
    {
     "name": "stdout",
     "output_type": "stream",
     "text": [
      "\n"
     ]
    },
    {
     "name": "stdout",
     "output_type": "stream",
     "text": [
      "[100]\ttrain's auc: 0.81233\tvalid's auc: 0.748492"
     ]
    },
    {
     "name": "stdout",
     "output_type": "stream",
     "text": [
      "\n"
     ]
    },
    {
     "name": "stdout",
     "output_type": "stream",
     "text": [
      "[110]\ttrain's auc: 0.816958\tvalid's auc: 0.748855"
     ]
    },
    {
     "name": "stdout",
     "output_type": "stream",
     "text": [
      "\n"
     ]
    },
    {
     "name": "stdout",
     "output_type": "stream",
     "text": [
      "[120]\ttrain's auc: 0.821926\tvalid's auc: 0.748787"
     ]
    },
    {
     "name": "stdout",
     "output_type": "stream",
     "text": [
      "\n"
     ]
    },
    {
     "name": "stdout",
     "output_type": "stream",
     "text": [
      "[130]\ttrain's auc: 0.826633\tvalid's auc: 0.748137"
     ]
    },
    {
     "name": "stdout",
     "output_type": "stream",
     "text": [
      "\n"
     ]
    },
    {
     "name": "stdout",
     "output_type": "stream",
     "text": [
      "[140]\ttrain's auc: 0.831304\tvalid's auc: 0.748088"
     ]
    },
    {
     "name": "stdout",
     "output_type": "stream",
     "text": [
      "\n"
     ]
    },
    {
     "name": "stdout",
     "output_type": "stream",
     "text": [
      "[150]\ttrain's auc: 0.835467\tvalid's auc: 0.747847"
     ]
    },
    {
     "name": "stdout",
     "output_type": "stream",
     "text": [
      "\n"
     ]
    },
    {
     "name": "stdout",
     "output_type": "stream",
     "text": [
      "[160]\ttrain's auc: 0.839643\tvalid's auc: 0.747712"
     ]
    },
    {
     "name": "stdout",
     "output_type": "stream",
     "text": [
      "\n"
     ]
    },
    {
     "name": "stdout",
     "output_type": "stream",
     "text": [
      "Early stopping, best iteration is:\n",
      "[118]\ttrain's auc: 0.820941\tvalid's auc: 0.749051"
     ]
    },
    {
     "name": "stdout",
     "output_type": "stream",
     "text": [
      "\n"
     ]
    },
    {
     "name": "stderr",
     "output_type": "stream",
     "text": [
      "[I 2021-01-18 15:02:59,391]"
     ]
    },
    {
     "name": "stderr",
     "output_type": "stream",
     "text": [
      " Trial 8 finished with value: 0.8209411040425287 and parameters: {'lambda_l1': 0.32457237997795596, 'lambda_l2': 0.352397147240088, 'num_leaves': 50, 'feature_fraction': 0.43690650066571907, 'bagging_fraction': 0.7631495889601814, 'bagging_freq': 5, 'min_child_samples': 28}. Best is trial 1 with value: 0.8876512135023438."
     ]
    },
    {
     "name": "stderr",
     "output_type": "stream",
     "text": [
      "\n"
     ]
    },
    {
     "name": "stdout",
     "output_type": "stream",
     "text": [
      "Training until validation scores don't improve for 50 rounds"
     ]
    },
    {
     "name": "stdout",
     "output_type": "stream",
     "text": [
      "\n"
     ]
    },
    {
     "name": "stdout",
     "output_type": "stream",
     "text": [
      "[10]\ttrain's auc: 0.778182\tvalid's auc: 0.734736"
     ]
    },
    {
     "name": "stdout",
     "output_type": "stream",
     "text": [
      "\n"
     ]
    },
    {
     "name": "stdout",
     "output_type": "stream",
     "text": [
      "[20]\ttrain's auc: 0.800512\tvalid's auc: 0.738237"
     ]
    },
    {
     "name": "stdout",
     "output_type": "stream",
     "text": [
      "\n"
     ]
    },
    {
     "name": "stdout",
     "output_type": "stream",
     "text": [
      "[30]\ttrain's auc: 0.819807\tvalid's auc: 0.740157"
     ]
    },
    {
     "name": "stdout",
     "output_type": "stream",
     "text": [
      "\n"
     ]
    },
    {
     "name": "stdout",
     "output_type": "stream",
     "text": [
      "[40]\ttrain's auc: 0.838688\tvalid's auc: 0.740967"
     ]
    },
    {
     "name": "stdout",
     "output_type": "stream",
     "text": [
      "\n"
     ]
    },
    {
     "name": "stdout",
     "output_type": "stream",
     "text": [
      "[50]\ttrain's auc: 0.854307\tvalid's auc: 0.741698"
     ]
    },
    {
     "name": "stdout",
     "output_type": "stream",
     "text": [
      "\n"
     ]
    },
    {
     "name": "stdout",
     "output_type": "stream",
     "text": [
      "[60]\ttrain's auc: 0.869923\tvalid's auc: 0.741167"
     ]
    },
    {
     "name": "stdout",
     "output_type": "stream",
     "text": [
      "\n"
     ]
    },
    {
     "name": "stdout",
     "output_type": "stream",
     "text": [
      "[70]\ttrain's auc: 0.883378\tvalid's auc: 0.741296"
     ]
    },
    {
     "name": "stdout",
     "output_type": "stream",
     "text": [
      "\n"
     ]
    },
    {
     "name": "stdout",
     "output_type": "stream",
     "text": [
      "[80]\ttrain's auc: 0.895491\tvalid's auc: 0.739711"
     ]
    },
    {
     "name": "stdout",
     "output_type": "stream",
     "text": [
      "\n"
     ]
    },
    {
     "name": "stdout",
     "output_type": "stream",
     "text": [
      "[90]\ttrain's auc: 0.906248\tvalid's auc: 0.739095"
     ]
    },
    {
     "name": "stdout",
     "output_type": "stream",
     "text": [
      "\n"
     ]
    },
    {
     "name": "stdout",
     "output_type": "stream",
     "text": [
      "[100]\ttrain's auc: 0.91508\tvalid's auc: 0.738667"
     ]
    },
    {
     "name": "stdout",
     "output_type": "stream",
     "text": [
      "\n"
     ]
    },
    {
     "name": "stdout",
     "output_type": "stream",
     "text": [
      "Early stopping, best iteration is:\n",
      "[55]\ttrain's auc: 0.862066\tvalid's auc: 0.742103"
     ]
    },
    {
     "name": "stdout",
     "output_type": "stream",
     "text": [
      "\n"
     ]
    },
    {
     "name": "stderr",
     "output_type": "stream",
     "text": [
      "[I 2021-01-18 15:03:02,310]"
     ]
    },
    {
     "name": "stderr",
     "output_type": "stream",
     "text": [
      " Trial 9 finished with value: 0.8620661564391121 and parameters: {'lambda_l1': 6.582604874826759e-07, 'lambda_l2': 2.0562729619836776e-07, 'num_leaves': 162, 'feature_fraction': 0.6457237034216085, 'bagging_fraction': 0.6985146060063692, 'bagging_freq': 3, 'min_child_samples': 35}. Best is trial 1 with value: 0.8876512135023438."
     ]
    },
    {
     "name": "stderr",
     "output_type": "stream",
     "text": [
      "\n"
     ]
    },
    {
     "name": "stdout",
     "output_type": "stream",
     "text": [
      "Number of finished trials: 10"
     ]
    },
    {
     "name": "stdout",
     "output_type": "stream",
     "text": [
      "\n"
     ]
    },
    {
     "name": "stdout",
     "output_type": "stream",
     "text": [
      "Best trial:"
     ]
    },
    {
     "name": "stdout",
     "output_type": "stream",
     "text": [
      "\n"
     ]
    },
    {
     "name": "stdout",
     "output_type": "stream",
     "text": [
      "  Value: 0.8876512135023438"
     ]
    },
    {
     "name": "stdout",
     "output_type": "stream",
     "text": [
      "\n"
     ]
    },
    {
     "name": "stdout",
     "output_type": "stream",
     "text": [
      "  Params: "
     ]
    },
    {
     "name": "stdout",
     "output_type": "stream",
     "text": [
      "\n"
     ]
    },
    {
     "name": "stdout",
     "output_type": "stream",
     "text": [
      "    lambda_l1: 0.6735564797726852"
     ]
    },
    {
     "name": "stdout",
     "output_type": "stream",
     "text": [
      "\n"
     ]
    },
    {
     "name": "stdout",
     "output_type": "stream",
     "text": [
      "    lambda_l2: 0.0038297684274387097"
     ]
    },
    {
     "name": "stdout",
     "output_type": "stream",
     "text": [
      "\n"
     ]
    },
    {
     "name": "stdout",
     "output_type": "stream",
     "text": [
      "    num_leaves: 221"
     ]
    },
    {
     "name": "stdout",
     "output_type": "stream",
     "text": [
      "\n"
     ]
    },
    {
     "name": "stdout",
     "output_type": "stream",
     "text": [
      "    feature_fraction: 0.4758470496803634"
     ]
    },
    {
     "name": "stdout",
     "output_type": "stream",
     "text": [
      "\n"
     ]
    },
    {
     "name": "stdout",
     "output_type": "stream",
     "text": [
      "    bagging_fraction: 0.9827503036652119"
     ]
    },
    {
     "name": "stdout",
     "output_type": "stream",
     "text": [
      "\n"
     ]
    },
    {
     "name": "stdout",
     "output_type": "stream",
     "text": [
      "    bagging_freq: 2"
     ]
    },
    {
     "name": "stdout",
     "output_type": "stream",
     "text": [
      "\n"
     ]
    },
    {
     "name": "stdout",
     "output_type": "stream",
     "text": [
      "    min_child_samples: 84"
     ]
    },
    {
     "name": "stdout",
     "output_type": "stream",
     "text": [
      "\n"
     ]
    }
   ],
   "source": [
    "study = optuna.create_study(direction='maximize')\n",
    "study.optimize(objective, n_trials=10)\n",
    "\n",
    "print('Number of finished trials: {}'.format(len(study.trials)))\n",
    "\n",
    "print('Best trial:')\n",
    "trial = study.best_trial\n",
    "\n",
    "print('  Value: {}'.format(trial.value))\n",
    "\n",
    "print('  Params: ')\n",
    "for key, value in trial.params.items():\n",
    "    print('    {}: {}'.format(key, value))"
   ]
  },
  {
   "cell_type": "code",
   "execution_count": 20,
   "metadata": {
    "execution": {
     "iopub.execute_input": "2021-01-18T06:03:02.525133Z",
     "iopub.status.busy": "2021-01-18T06:03:02.524570Z",
     "iopub.status.idle": "2021-01-18T06:03:02.526381Z",
     "shell.execute_reply": "2021-01-18T06:03:02.526845Z"
    },
    "papermill": {
     "duration": 0.085579,
     "end_time": "2021-01-18T06:03:02.527022",
     "exception": false,
     "start_time": "2021-01-18T06:03:02.441443",
     "status": "completed"
    },
    "tags": []
   },
   "outputs": [],
   "source": [
    "# 二値分類\n",
    "params = {\n",
    "            'boosting_type': 'gbdt',        # 勾配ブースティング\n",
    "            'objective': 'binary',      # 目的関数：多値分類、マルチクラス分類\n",
    "            'metric': 'auc',      # 分類モデルの性能を測る指標\n",
    "         }"
   ]
  },
  {
   "cell_type": "code",
   "execution_count": 21,
   "metadata": {
    "execution": {
     "iopub.execute_input": "2021-01-18T06:03:02.689561Z",
     "iopub.status.busy": "2021-01-18T06:03:02.688783Z",
     "iopub.status.idle": "2021-01-18T06:03:02.691569Z",
     "shell.execute_reply": "2021-01-18T06:03:02.692079Z"
    },
    "papermill": {
     "duration": 0.085393,
     "end_time": "2021-01-18T06:03:02.692348",
     "exception": false,
     "start_time": "2021-01-18T06:03:02.606955",
     "status": "completed"
    },
    "tags": []
   },
   "outputs": [],
   "source": [
    "params = dict(params, **study.best_params)"
   ]
  },
  {
   "cell_type": "code",
   "execution_count": 22,
   "metadata": {
    "execution": {
     "iopub.execute_input": "2021-01-18T06:03:02.856473Z",
     "iopub.status.busy": "2021-01-18T06:03:02.855486Z",
     "iopub.status.idle": "2021-01-18T06:03:06.357961Z",
     "shell.execute_reply": "2021-01-18T06:03:06.358457Z"
    },
    "papermill": {
     "duration": 3.58682,
     "end_time": "2021-01-18T06:03:06.358665",
     "exception": false,
     "start_time": "2021-01-18T06:03:02.771845",
     "status": "completed"
    },
    "tags": []
   },
   "outputs": [
    {
     "name": "stdout",
     "output_type": "stream",
     "text": [
      "[LightGBM] [Warning] "
     ]
    },
    {
     "name": "stdout",
     "output_type": "stream",
     "text": [
      "Find whitespaces in feature_names, replace with underlines"
     ]
    },
    {
     "name": "stdout",
     "output_type": "stream",
     "text": [
      "\n"
     ]
    },
    {
     "name": "stdout",
     "output_type": "stream",
     "text": [
      "[LightGBM] [Info] "
     ]
    },
    {
     "name": "stdout",
     "output_type": "stream",
     "text": [
      "Number of positive: 15390, number of negative: 175016"
     ]
    },
    {
     "name": "stdout",
     "output_type": "stream",
     "text": [
      "\n"
     ]
    },
    {
     "name": "stdout",
     "output_type": "stream",
     "text": [
      "[LightGBM] [Warning] "
     ]
    },
    {
     "name": "stdout",
     "output_type": "stream",
     "text": [
      "Auto-choosing row-wise multi-threading, the overhead of testing was 0.005319 seconds.\n",
      "You can set `force_row_wise=true` to remove the overhead.\n",
      "And if memory is not enough, you can set `force_col_wise=true`."
     ]
    },
    {
     "name": "stdout",
     "output_type": "stream",
     "text": [
      "\n"
     ]
    },
    {
     "name": "stdout",
     "output_type": "stream",
     "text": [
      "[LightGBM] [Info] "
     ]
    },
    {
     "name": "stdout",
     "output_type": "stream",
     "text": [
      "Total Bins 3201"
     ]
    },
    {
     "name": "stdout",
     "output_type": "stream",
     "text": [
      "\n"
     ]
    },
    {
     "name": "stdout",
     "output_type": "stream",
     "text": [
      "[LightGBM] [Info] "
     ]
    },
    {
     "name": "stdout",
     "output_type": "stream",
     "text": [
      "Number of data points in the train set: 190406, number of used features: 26"
     ]
    },
    {
     "name": "stdout",
     "output_type": "stream",
     "text": [
      "\n"
     ]
    },
    {
     "name": "stdout",
     "output_type": "stream",
     "text": [
      "[LightGBM] [Info] "
     ]
    },
    {
     "name": "stdout",
     "output_type": "stream",
     "text": [
      "[binary:BoostFromScore]: pavg=0.080827 -> initscore=-2.431159"
     ]
    },
    {
     "name": "stdout",
     "output_type": "stream",
     "text": [
      "\n"
     ]
    },
    {
     "name": "stdout",
     "output_type": "stream",
     "text": [
      "[LightGBM] [Info] "
     ]
    },
    {
     "name": "stdout",
     "output_type": "stream",
     "text": [
      "Start training from score -2.431159"
     ]
    },
    {
     "name": "stdout",
     "output_type": "stream",
     "text": [
      "\n"
     ]
    },
    {
     "name": "stdout",
     "output_type": "stream",
     "text": [
      "Training until validation scores don't improve for 50 rounds"
     ]
    },
    {
     "name": "stdout",
     "output_type": "stream",
     "text": [
      "\n"
     ]
    },
    {
     "name": "stdout",
     "output_type": "stream",
     "text": [
      "[10]\ttrain's auc: 0.791411\tvalid's auc: 0.733008"
     ]
    },
    {
     "name": "stdout",
     "output_type": "stream",
     "text": [
      "\n"
     ]
    },
    {
     "name": "stdout",
     "output_type": "stream",
     "text": [
      "[20]\ttrain's auc: 0.81357\tvalid's auc: 0.741521"
     ]
    },
    {
     "name": "stdout",
     "output_type": "stream",
     "text": [
      "\n"
     ]
    },
    {
     "name": "stdout",
     "output_type": "stream",
     "text": [
      "[30]\ttrain's auc: 0.831904\tvalid's auc: 0.742572"
     ]
    },
    {
     "name": "stdout",
     "output_type": "stream",
     "text": [
      "\n"
     ]
    },
    {
     "name": "stdout",
     "output_type": "stream",
     "text": [
      "[40]\ttrain's auc: 0.848536\tvalid's auc: 0.743678"
     ]
    },
    {
     "name": "stdout",
     "output_type": "stream",
     "text": [
      "\n"
     ]
    },
    {
     "name": "stdout",
     "output_type": "stream",
     "text": [
      "[50]\ttrain's auc: 0.865086\tvalid's auc: 0.744202"
     ]
    },
    {
     "name": "stdout",
     "output_type": "stream",
     "text": [
      "\n"
     ]
    },
    {
     "name": "stdout",
     "output_type": "stream",
     "text": [
      "[60]\ttrain's auc: 0.880963\tvalid's auc: 0.74443"
     ]
    },
    {
     "name": "stdout",
     "output_type": "stream",
     "text": [
      "\n"
     ]
    },
    {
     "name": "stdout",
     "output_type": "stream",
     "text": [
      "[70]\ttrain's auc: 0.894612\tvalid's auc: 0.744625"
     ]
    },
    {
     "name": "stdout",
     "output_type": "stream",
     "text": [
      "\n"
     ]
    },
    {
     "name": "stdout",
     "output_type": "stream",
     "text": [
      "[80]\ttrain's auc: 0.90729\tvalid's auc: 0.743555"
     ]
    },
    {
     "name": "stdout",
     "output_type": "stream",
     "text": [
      "\n"
     ]
    },
    {
     "name": "stdout",
     "output_type": "stream",
     "text": [
      "[90]\ttrain's auc: 0.918712\tvalid's auc: 0.743323"
     ]
    },
    {
     "name": "stdout",
     "output_type": "stream",
     "text": [
      "\n"
     ]
    },
    {
     "name": "stdout",
     "output_type": "stream",
     "text": [
      "[100]\ttrain's auc: 0.927687\tvalid's auc: 0.742292"
     ]
    },
    {
     "name": "stdout",
     "output_type": "stream",
     "text": [
      "\n"
     ]
    },
    {
     "name": "stdout",
     "output_type": "stream",
     "text": [
      "[110]\ttrain's auc: 0.936058\tvalid's auc: 0.74181"
     ]
    },
    {
     "name": "stdout",
     "output_type": "stream",
     "text": [
      "\n"
     ]
    },
    {
     "name": "stdout",
     "output_type": "stream",
     "text": [
      "Early stopping, best iteration is:\n",
      "[65]\ttrain's auc: 0.887651\tvalid's auc: 0.744936"
     ]
    },
    {
     "name": "stdout",
     "output_type": "stream",
     "text": [
      "\n"
     ]
    }
   ],
   "source": [
    "evaluation_results = {}                                     # 学習の経過を保存する箱\n",
    "model = lgb.train(params,                                   # 上記で設定したパラメータ\n",
    "                  lgb_train,                                # 使用するデータセット\n",
    "                  num_boost_round=1000,                     # 学習の回数\n",
    "                  valid_names=['train', 'valid'],           # 学習経過で表示する名称\n",
    "                  valid_sets=[lgb_train, lgb_eval],         # モデル検証のデータセット\n",
    "                  evals_result=evaluation_results,          # 学習の経過を保存\n",
    "                  categorical_feature=categorical_features, # カテゴリー変数を設定\n",
    "                  early_stopping_rounds=50,                 # アーリーストッピング\n",
    "                  verbose_eval=10)                          # 学習の経過の表示(10回毎)\n",
    "\n",
    "# 最もスコアが良いときのラウンドを保存\n",
    "optimum_boost_rounds = model.best_iteration"
   ]
  },
  {
   "cell_type": "code",
   "execution_count": 23,
   "metadata": {
    "execution": {
     "iopub.execute_input": "2021-01-18T06:03:06.588266Z",
     "iopub.status.busy": "2021-01-18T06:03:06.587648Z",
     "iopub.status.idle": "2021-01-18T06:03:07.178581Z",
     "shell.execute_reply": "2021-01-18T06:03:07.179020Z"
    },
    "papermill": {
     "duration": 0.701103,
     "end_time": "2021-01-18T06:03:07.179261",
     "exception": false,
     "start_time": "2021-01-18T06:03:06.478158",
     "status": "completed"
    },
    "tags": []
   },
   "outputs": [
    {
     "name": "stdout",
     "output_type": "stream",
     "text": [
      "0.8876512135023438"
     ]
    },
    {
     "name": "stdout",
     "output_type": "stream",
     "text": [
      "\n"
     ]
    },
    {
     "data": {
      "image/png": "[encoded data removed]",
      "text/plain": [
       "<Figure size 432x288 with 1 Axes>"
      ]
     },
     "metadata": {
      "needs_background": "light"
     },
     "output_type": "display_data"
    }
   ],
   "source": [
    "# # 訓練データで予測\n",
    "y_pred = model.predict(X_train, num_iteration=model.best_iteration)\n",
    "y_pred_max = np.round(y_pred)\n",
    "fpr, tpr, thresholds = metrics.roc_curve(y_train, y_pred)\n",
    "auc = metrics.auc(fpr, tpr)\n",
    "print(auc)\n",
    "plt.plot(fpr, tpr, label='ROC curve (area = %.2f)'%auc)\n",
    "plt.legend()\n",
    "plt.title('ROC curve')\n",
    "plt.xlabel('False Positive Rate')\n",
    "plt.ylabel('True Positive Rate')\n",
    "plt.grid(True)"
   ]
  },
  {
   "cell_type": "code",
   "execution_count": 24,
   "metadata": {
    "execution": {
     "iopub.execute_input": "2021-01-18T06:03:07.374174Z",
     "iopub.status.busy": "2021-01-18T06:03:07.373484Z",
     "iopub.status.idle": "2021-01-18T06:03:07.686612Z",
     "shell.execute_reply": "2021-01-18T06:03:07.687043Z"
    },
    "papermill": {
     "duration": 0.412103,
     "end_time": "2021-01-18T06:03:07.687227",
     "exception": false,
     "start_time": "2021-01-18T06:03:07.275124",
     "status": "completed"
    },
    "tags": []
   },
   "outputs": [
    {
     "name": "stdout",
     "output_type": "stream",
     "text": [
      "0.7544324204466548"
     ]
    },
    {
     "name": "stdout",
     "output_type": "stream",
     "text": [
      "\n"
     ]
    },
    {
     "data": {
      "image/png": "[encoded data removed]",
      "text/plain": [
       "<Figure size 432x288 with 1 Axes>"
      ]
     },
     "metadata": {
      "needs_background": "light"
     },
     "output_type": "display_data"
    }
   ],
   "source": [
    "# # テストデータで予測\n",
    "y_pred = model.predict(X_test, num_iteration=model.best_iteration)\n",
    "y_pred_max = np.round(y_pred)\n",
    "fpr, tpr, thresholds = metrics.roc_curve(y_test, y_pred)\n",
    "auc = metrics.auc(fpr, tpr)\n",
    "print(auc)\n",
    "plt.plot(fpr, tpr, label='ROC curve (area = %.2f)'%auc)\n",
    "plt.legend()\n",
    "plt.title('ROC curve')\n",
    "plt.xlabel('False Positive Rate')\n",
    "plt.ylabel('True Positive Rate')\n",
    "plt.grid(True)"
   ]
  },
  {
   "cell_type": "code",
   "execution_count": 25,
   "metadata": {
    "execution": {
     "iopub.execute_input": "2021-01-18T06:03:07.894464Z",
     "iopub.status.busy": "2021-01-18T06:03:07.893410Z",
     "iopub.status.idle": "2021-01-18T06:03:07.925794Z",
     "shell.execute_reply": "2021-01-18T06:03:07.926515Z"
    },
    "papermill": {
     "duration": 0.144271,
     "end_time": "2021-01-18T06:03:07.926828",
     "exception": false,
     "start_time": "2021-01-18T06:03:07.782557",
     "status": "completed"
    },
    "tags": []
   },
   "outputs": [],
   "source": [
    "pickle.dump(model, open(f'../../data/trial/model_{TARGET_DATE}.pkl', 'wb'))"
   ]
  },
  {
   "cell_type": "code",
   "execution_count": null,
   "metadata": {
    "papermill": {
     "duration": 0.117744,
     "end_time": "2021-01-18T06:03:08.188538",
     "exception": false,
     "start_time": "2021-01-18T06:03:08.070794",
     "status": "completed"
    },
    "tags": []
   },
   "outputs": [],
   "source": []
  }
 ],
 "metadata": {
  "kernelspec": {
   "display_name": "Python 3",
   "language": "python",
   "name": "python3"
  },
  "language_info": {
   "codemirror_mode": {
    "name": "ipython",
    "version": 3
   },
   "file_extension": ".py",
   "mimetype": "text/x-python",
   "name": "python",
   "nbconvert_exporter": "python",
   "pygments_lexer": "ipython3",
   "version": "3.7.7"
  },
  "papermill": {
   "default_parameters": {},
   "duration": 45.003599,
   "end_time": "2021-01-18T06:03:08.811353",
   "environment_variables": {},
   "exception": null,
   "input_path": "/Users/koyajima/Code/between_poc_and_production/notebooks/trial/learn.ipynb",
   "output_path": "/Users/koyajima/Code/between_poc_and_production/notebooks/trial/logs/learn.ipynb",
   "parameters": {
    "TARGET_DATE": 20210101
   },
   "start_time": "2021-01-18T06:02:23.807754",
   "version": "2.2.2"
  }
 },
 "nbformat": 4,
 "nbformat_minor": 4
}