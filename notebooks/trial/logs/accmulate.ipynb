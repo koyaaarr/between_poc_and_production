{
 "cells": [
  {
   "cell_type": "markdown",
   "metadata": {
    "papermill": {
     "duration": 0.012871,
     "end_time": "2021-01-18T06:02:04.452723",
     "exception": false,
     "start_time": "2021-01-18T06:02:04.439852",
     "status": "completed"
    },
    "tags": []
   },
   "source": [
    "# 学習データ蓄積\n",
    "- データの読み込み\n",
    "- データのマージ"
   ]
  },
  {
   "cell_type": "code",
   "execution_count": 1,
   "metadata": {
    "execution": {
     "iopub.execute_input": "2021-01-18T06:02:04.479958Z",
     "iopub.status.busy": "2021-01-18T06:02:04.479387Z",
     "iopub.status.idle": "2021-01-18T06:02:04.481305Z",
     "shell.execute_reply": "2021-01-18T06:02:04.481724Z"
    },
    "papermill": {
     "duration": 0.017443,
     "end_time": "2021-01-18T06:02:04.482039",
     "exception": false,
     "start_time": "2021-01-18T06:02:04.464596",
     "status": "completed"
    },
    "tags": []
   },
   "outputs": [],
   "source": [
    "# パラメータ設定"
   ]
  },
  {
   "cell_type": "code",
   "execution_count": 2,
   "metadata": {
    "execution": {
     "iopub.execute_input": "2021-01-18T06:02:04.516245Z",
     "iopub.status.busy": "2021-01-18T06:02:04.515090Z",
     "iopub.status.idle": "2021-01-18T06:02:04.517886Z",
     "shell.execute_reply": "2021-01-18T06:02:04.518466Z"
    },
    "papermill": {
     "duration": 0.023926,
     "end_time": "2021-01-18T06:02:04.518801",
     "exception": false,
     "start_time": "2021-01-18T06:02:04.494875",
     "status": "completed"
    },
    "tags": [
     "parameters"
    ]
   },
   "outputs": [],
   "source": [
    "TARGET_DATE = '20210101'"
   ]
  },
  {
   "cell_type": "code",
   "execution_count": 3,
   "metadata": {
    "execution": {
     "iopub.execute_input": "2021-01-18T06:02:04.547844Z",
     "iopub.status.busy": "2021-01-18T06:02:04.546657Z",
     "iopub.status.idle": "2021-01-18T06:02:04.549501Z",
     "shell.execute_reply": "2021-01-18T06:02:04.550460Z"
    },
    "papermill": {
     "duration": 0.019967,
     "end_time": "2021-01-18T06:02:04.550793",
     "exception": false,
     "start_time": "2021-01-18T06:02:04.530826",
     "status": "completed"
    },
    "tags": [
     "injected-parameters"
    ]
   },
   "outputs": [],
   "source": [
    "# Parameters\n",
    "TARGET_DATE = 20210101\n"
   ]
  },
  {
   "cell_type": "code",
   "execution_count": 4,
   "metadata": {
    "execution": {
     "iopub.execute_input": "2021-01-18T06:02:04.617034Z",
     "iopub.status.busy": "2021-01-18T06:02:04.615834Z",
     "iopub.status.idle": "2021-01-18T06:02:04.618935Z",
     "shell.execute_reply": "2021-01-18T06:02:04.619522Z"
    },
    "papermill": {
     "duration": 0.054382,
     "end_time": "2021-01-18T06:02:04.619844",
     "exception": false,
     "start_time": "2021-01-18T06:02:04.565462",
     "status": "completed"
    },
    "tags": []
   },
   "outputs": [],
   "source": [
    "TARGET_DATE = str(TARGET_DATE)"
   ]
  },
  {
   "cell_type": "code",
   "execution_count": 5,
   "metadata": {
    "execution": {
     "iopub.execute_input": "2021-01-18T06:02:04.651249Z",
     "iopub.status.busy": "2021-01-18T06:02:04.650109Z",
     "iopub.status.idle": "2021-01-18T06:02:04.653091Z",
     "shell.execute_reply": "2021-01-18T06:02:04.653720Z"
    },
    "papermill": {
     "duration": 0.020925,
     "end_time": "2021-01-18T06:02:04.653952",
     "exception": false,
     "start_time": "2021-01-18T06:02:04.633027",
     "status": "completed"
    },
    "tags": []
   },
   "outputs": [],
   "source": [
    "# ライブラリ読み込み"
   ]
  },
  {
   "cell_type": "code",
   "execution_count": 6,
   "metadata": {
    "execution": {
     "iopub.execute_input": "2021-01-18T06:02:04.692817Z",
     "iopub.status.busy": "2021-01-18T06:02:04.692193Z",
     "iopub.status.idle": "2021-01-18T06:02:05.217295Z",
     "shell.execute_reply": "2021-01-18T06:02:05.217769Z"
    },
    "papermill": {
     "duration": 0.54811,
     "end_time": "2021-01-18T06:02:05.218012",
     "exception": false,
     "start_time": "2021-01-18T06:02:04.669902",
     "status": "completed"
    },
    "tags": []
   },
   "outputs": [],
   "source": [
    "import pandas as pd\n",
    "from datetime import datetime\n",
    "from dateutil.relativedelta import relativedelta"
   ]
  },
  {
   "cell_type": "code",
   "execution_count": 7,
   "metadata": {
    "execution": {
     "iopub.execute_input": "2021-01-18T06:02:05.255474Z",
     "iopub.status.busy": "2021-01-18T06:02:05.254649Z",
     "iopub.status.idle": "2021-01-18T06:02:05.256545Z",
     "shell.execute_reply": "2021-01-18T06:02:05.257447Z"
    },
    "papermill": {
     "duration": 0.021418,
     "end_time": "2021-01-18T06:02:05.257648",
     "exception": false,
     "start_time": "2021-01-18T06:02:05.236230",
     "status": "completed"
    },
    "tags": []
   },
   "outputs": [],
   "source": [
    "# dataframe設定調整"
   ]
  },
  {
   "cell_type": "code",
   "execution_count": 8,
   "metadata": {
    "execution": {
     "iopub.execute_input": "2021-01-18T06:02:05.286579Z",
     "iopub.status.busy": "2021-01-18T06:02:05.285811Z",
     "iopub.status.idle": "2021-01-18T06:02:05.287959Z",
     "shell.execute_reply": "2021-01-18T06:02:05.288441Z"
    },
    "papermill": {
     "duration": 0.018647,
     "end_time": "2021-01-18T06:02:05.288715",
     "exception": false,
     "start_time": "2021-01-18T06:02:05.270068",
     "status": "completed"
    },
    "tags": []
   },
   "outputs": [],
   "source": [
    "pd.set_option('display.max_columns', 500)\n",
    "pd.set_option('display.max_rows', 500)"
   ]
  },
  {
   "cell_type": "code",
   "execution_count": 9,
   "metadata": {
    "execution": {
     "iopub.execute_input": "2021-01-18T06:02:05.321061Z",
     "iopub.status.busy": "2021-01-18T06:02:05.319873Z",
     "iopub.status.idle": "2021-01-18T06:02:05.322500Z",
     "shell.execute_reply": "2021-01-18T06:02:05.323235Z"
    },
    "papermill": {
     "duration": 0.02161,
     "end_time": "2021-01-18T06:02:05.323621",
     "exception": false,
     "start_time": "2021-01-18T06:02:05.302011",
     "status": "completed"
    },
    "tags": []
   },
   "outputs": [],
   "source": [
    "# 初期データ読み込み"
   ]
  },
  {
   "cell_type": "code",
   "execution_count": 10,
   "metadata": {
    "execution": {
     "iopub.execute_input": "2021-01-18T06:02:05.368728Z",
     "iopub.status.busy": "2021-01-18T06:02:05.367542Z",
     "iopub.status.idle": "2021-01-18T06:02:08.672102Z",
     "shell.execute_reply": "2021-01-18T06:02:08.672521Z"
    },
    "papermill": {
     "duration": 3.333175,
     "end_time": "2021-01-18T06:02:08.672758",
     "exception": false,
     "start_time": "2021-01-18T06:02:05.339583",
     "status": "completed"
    },
    "tags": []
   },
   "outputs": [],
   "source": [
    "train = pd.read_csv('../../data/poc/initial.csv')"
   ]
  },
  {
   "cell_type": "code",
   "execution_count": 11,
   "metadata": {
    "execution": {
     "iopub.execute_input": "2021-01-18T06:02:08.700295Z",
     "iopub.status.busy": "2021-01-18T06:02:08.699150Z",
     "iopub.status.idle": "2021-01-18T06:02:08.701535Z",
     "shell.execute_reply": "2021-01-18T06:02:08.701917Z"
    },
    "papermill": {
     "duration": 0.017374,
     "end_time": "2021-01-18T06:02:08.702162",
     "exception": false,
     "start_time": "2021-01-18T06:02:08.684788",
     "status": "completed"
    },
    "tags": []
   },
   "outputs": [],
   "source": [
    "# 月次データ読み込み"
   ]
  },
  {
   "cell_type": "code",
   "execution_count": 12,
   "metadata": {
    "execution": {
     "iopub.execute_input": "2021-01-18T06:02:08.732419Z",
     "iopub.status.busy": "2021-01-18T06:02:08.731222Z",
     "iopub.status.idle": "2021-01-18T06:02:08.734342Z",
     "shell.execute_reply": "2021-01-18T06:02:08.734892Z"
    },
    "papermill": {
     "duration": 0.021428,
     "end_time": "2021-01-18T06:02:08.735082",
     "exception": false,
     "start_time": "2021-01-18T06:02:08.713654",
     "status": "completed"
    },
    "tags": []
   },
   "outputs": [],
   "source": [
    "INITIAL_DATE = '20201001'"
   ]
  },
  {
   "cell_type": "code",
   "execution_count": 13,
   "metadata": {
    "execution": {
     "iopub.execute_input": "2021-01-18T06:02:08.763894Z",
     "iopub.status.busy": "2021-01-18T06:02:08.763262Z",
     "iopub.status.idle": "2021-01-18T06:02:08.765411Z",
     "shell.execute_reply": "2021-01-18T06:02:08.766178Z"
    },
    "papermill": {
     "duration": 0.019704,
     "end_time": "2021-01-18T06:02:08.766454",
     "exception": false,
     "start_time": "2021-01-18T06:02:08.746750",
     "status": "completed"
    },
    "tags": []
   },
   "outputs": [],
   "source": [
    "date = datetime.strptime(INITIAL_DATE, '%Y%m%d')"
   ]
  },
  {
   "cell_type": "code",
   "execution_count": 14,
   "metadata": {
    "execution": {
     "iopub.execute_input": "2021-01-18T06:02:08.799194Z",
     "iopub.status.busy": "2021-01-18T06:02:08.797983Z",
     "iopub.status.idle": "2021-01-18T06:02:08.800477Z",
     "shell.execute_reply": "2021-01-18T06:02:08.800971Z"
    },
    "papermill": {
     "duration": 0.021861,
     "end_time": "2021-01-18T06:02:08.801201",
     "exception": false,
     "start_time": "2021-01-18T06:02:08.779340",
     "status": "completed"
    },
    "tags": []
   },
   "outputs": [],
   "source": [
    "target_date = datetime.strptime(TARGET_DATE, '%Y%m%d')"
   ]
  },
  {
   "cell_type": "code",
   "execution_count": 15,
   "metadata": {
    "execution": {
     "iopub.execute_input": "2021-01-18T06:02:08.837694Z",
     "iopub.status.busy": "2021-01-18T06:02:08.837006Z",
     "iopub.status.idle": "2021-01-18T06:02:08.839286Z",
     "shell.execute_reply": "2021-01-18T06:02:08.839724Z"
    },
    "papermill": {
     "duration": 0.020165,
     "end_time": "2021-01-18T06:02:08.839907",
     "exception": false,
     "start_time": "2021-01-18T06:02:08.819742",
     "status": "completed"
    },
    "tags": []
   },
   "outputs": [
    {
     "name": "stdout",
     "output_type": "stream",
     "text": [
      "2020-10-01 00:00:00\n",
      "2020-11-01 00:00:00\n",
      "2020-12-01 00:00:00\n"
     ]
    }
   ],
   "source": [
    "target_dates = []\n",
    "while date < target_date:\n",
    "    print(date)\n",
    "    date_str = datetime.strftime(date, '%Y%m%d')\n",
    "    target_dates.append(date_str)\n",
    "    date += relativedelta(months=1)"
   ]
  },
  {
   "cell_type": "code",
   "execution_count": 16,
   "metadata": {
    "execution": {
     "iopub.execute_input": "2021-01-18T06:02:08.877365Z",
     "iopub.status.busy": "2021-01-18T06:02:08.876412Z",
     "iopub.status.idle": "2021-01-18T06:02:08.879143Z",
     "shell.execute_reply": "2021-01-18T06:02:08.879572Z"
    },
    "papermill": {
     "duration": 0.026122,
     "end_time": "2021-01-18T06:02:08.879783",
     "exception": false,
     "start_time": "2021-01-18T06:02:08.853661",
     "status": "completed"
    },
    "tags": []
   },
   "outputs": [
    {
     "data": {
      "text/plain": [
       "['20201001', '20201101', '20201201']"
      ]
     },
     "execution_count": 16,
     "metadata": {},
     "output_type": "execute_result"
    }
   ],
   "source": [
    "target_dates"
   ]
  },
  {
   "cell_type": "code",
   "execution_count": 17,
   "metadata": {
    "execution": {
     "iopub.execute_input": "2021-01-18T06:02:08.912499Z",
     "iopub.status.busy": "2021-01-18T06:02:08.911817Z",
     "iopub.status.idle": "2021-01-18T06:02:09.285478Z",
     "shell.execute_reply": "2021-01-18T06:02:09.285966Z"
    },
    "papermill": {
     "duration": 0.393067,
     "end_time": "2021-01-18T06:02:09.286149",
     "exception": false,
     "start_time": "2021-01-18T06:02:08.893082",
     "status": "completed"
    },
    "tags": []
   },
   "outputs": [],
   "source": [
    "monthly_dataframes = [train]\n",
    "for d in target_dates:\n",
    "    df = pd.read_csv(f'../../data/poc/{d}.csv')\n",
    "    monthly_dataframes.append(df)"
   ]
  },
  {
   "cell_type": "code",
   "execution_count": 18,
   "metadata": {
    "execution": {
     "iopub.execute_input": "2021-01-18T06:02:09.315783Z",
     "iopub.status.busy": "2021-01-18T06:02:09.314871Z",
     "iopub.status.idle": "2021-01-18T06:02:08.920378Z",
     "shell.execute_reply": "2021-01-18T06:02:08.921059Z"
    },
    "papermill": {
     "duration": -0.377588,
     "end_time": "2021-01-18T06:02:08.921263",
     "exception": false,
     "start_time": "2021-01-18T06:02:09.298851",
     "status": "completed"
    },
    "tags": []
   },
   "outputs": [],
   "source": [
    "train = pd.concat(monthly_dataframes, axis=0)"
   ]
  },
  {
   "cell_type": "code",
   "execution_count": 19,
   "metadata": {
    "execution": {
     "iopub.execute_input": "2021-01-18T06:02:08.956039Z",
     "iopub.status.busy": "2021-01-18T06:02:08.955193Z",
     "iopub.status.idle": "2021-01-18T06:02:08.959422Z",
     "shell.execute_reply": "2021-01-18T06:02:08.960446Z"
    },
    "papermill": {
     "duration": 0.025808,
     "end_time": "2021-01-18T06:02:08.960806",
     "exception": false,
     "start_time": "2021-01-18T06:02:08.934998",
     "status": "completed"
    },
    "tags": []
   },
   "outputs": [
    {
     "data": {
      "text/plain": [
       "297511"
      ]
     },
     "execution_count": 19,
     "metadata": {},
     "output_type": "execute_result"
    }
   ],
   "source": [
    "len(train)"
   ]
  },
  {
   "cell_type": "code",
   "execution_count": 20,
   "metadata": {
    "execution": {
     "iopub.execute_input": "2021-01-18T06:02:09.003562Z",
     "iopub.status.busy": "2021-01-18T06:02:09.002875Z",
     "iopub.status.idle": "2021-01-18T06:02:09.004865Z",
     "shell.execute_reply": "2021-01-18T06:02:09.005350Z"
    },
    "papermill": {
     "duration": 0.021548,
     "end_time": "2021-01-18T06:02:09.005547",
     "exception": false,
     "start_time": "2021-01-18T06:02:08.983999",
     "status": "completed"
    },
    "tags": []
   },
   "outputs": [],
   "source": [
    "# 前処理データ出力"
   ]
  },
  {
   "cell_type": "code",
   "execution_count": 21,
   "metadata": {
    "execution": {
     "iopub.execute_input": "2021-01-18T06:02:09.042077Z",
     "iopub.status.busy": "2021-01-18T06:02:09.039416Z",
     "iopub.status.idle": "2021-01-18T06:02:09.570610Z",
     "shell.execute_reply": "2021-01-18T06:02:09.571082Z"
    },
    "papermill": {
     "duration": 0.551516,
     "end_time": "2021-01-18T06:02:09.571330",
     "exception": false,
     "start_time": "2021-01-18T06:02:09.019814",
     "status": "completed"
    },
    "tags": []
   },
   "outputs": [],
   "source": [
    "train.to_pickle(f'../../data/trial/accumulate_{TARGET_DATE}.pkl')"
   ]
  },
  {
   "cell_type": "code",
   "execution_count": null,
   "metadata": {
    "papermill": {
     "duration": 0.015272,
     "end_time": "2021-01-18T06:02:09.601227",
     "exception": false,
     "start_time": "2021-01-18T06:02:09.585955",
     "status": "completed"
    },
    "tags": []
   },
   "outputs": [],
   "source": []
  },
  {
   "cell_type": "code",
   "execution_count": null,
   "metadata": {
    "papermill": {
     "duration": 0.015828,
     "end_time": "2021-01-18T06:02:09.638921",
     "exception": false,
     "start_time": "2021-01-18T06:02:09.623093",
     "status": "completed"
    },
    "tags": []
   },
   "outputs": [],
   "source": []
  }
 ],
 "metadata": {
  "kernelspec": {
   "display_name": "Python 3",
   "language": "python",
   "name": "python3"
  },
  "language_info": {
   "codemirror_mode": {
    "name": "ipython",
    "version": 3
   },
   "file_extension": ".py",
   "mimetype": "text/x-python",
   "name": "python",
   "nbconvert_exporter": "python",
   "pygments_lexer": "ipython3",
   "version": "3.7.7"
  },
  "papermill": {
   "default_parameters": {},
   "duration": 7.255405,
   "end_time": "2021-01-18T06:02:10.067144",
   "environment_variables": {},
   "exception": null,
   "input_path": "/Users/koyajima/Code/between_poc_and_production/notebooks/trial/accmulate.ipynb",
   "output_path": "/Users/koyajima/Code/between_poc_and_production/notebooks/trial/logs/accmulate.ipynb",
   "parameters": {
    "TARGET_DATE": 20210101
   },
   "start_time": "2021-01-18T06:02:02.811739",
   "version": "2.2.2"
  }
 },
 "nbformat": 4,
 "nbformat_minor": 4
}