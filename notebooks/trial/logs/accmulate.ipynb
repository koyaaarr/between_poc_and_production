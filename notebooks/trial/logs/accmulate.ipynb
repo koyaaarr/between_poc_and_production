{
 "cells": [
  {
   "cell_type": "markdown",
   "metadata": {
    "papermill": {
     "duration": 0.019141,
     "end_time": "2021-01-28T07:20:27.528128",
     "exception": false,
     "start_time": "2021-01-28T07:20:27.508987",
     "status": "completed"
    },
    "tags": []
   },
   "source": [
    "# 学習データ蓄積\n",
    "- データの読み込み\n",
    "- データのマージ"
   ]
  },
  {
   "cell_type": "code",
   "execution_count": 1,
   "metadata": {
    "execution": {
     "iopub.execute_input": "2021-01-28T07:20:27.554778Z",
     "iopub.status.busy": "2021-01-28T07:20:27.554231Z",
     "iopub.status.idle": "2021-01-28T07:20:27.555873Z",
     "shell.execute_reply": "2021-01-28T07:20:27.556489Z"
    },
    "papermill": {
     "duration": 0.01576,
     "end_time": "2021-01-28T07:20:27.556783",
     "exception": false,
     "start_time": "2021-01-28T07:20:27.541023",
     "status": "completed"
    },
    "tags": []
   },
   "outputs": [],
   "source": [
    "# パラメータ設定"
   ]
  },
  {
   "cell_type": "code",
   "execution_count": 2,
   "metadata": {
    "execution": {
     "iopub.execute_input": "2021-01-28T07:20:27.582691Z",
     "iopub.status.busy": "2021-01-28T07:20:27.582137Z",
     "iopub.status.idle": "2021-01-28T07:20:27.583731Z",
     "shell.execute_reply": "2021-01-28T07:20:27.584186Z"
    },
    "papermill": {
     "duration": 0.016039,
     "end_time": "2021-01-28T07:20:27.584441",
     "exception": false,
     "start_time": "2021-01-28T07:20:27.568402",
     "status": "completed"
    },
    "tags": [
     "parameters"
    ]
   },
   "outputs": [],
   "source": [
    "TARGET_DATE = '20210101'"
   ]
  },
  {
   "cell_type": "code",
   "execution_count": 3,
   "metadata": {
    "execution": {
     "iopub.execute_input": "2021-01-28T07:20:27.608951Z",
     "iopub.status.busy": "2021-01-28T07:20:27.608187Z",
     "iopub.status.idle": "2021-01-28T07:20:27.610905Z",
     "shell.execute_reply": "2021-01-28T07:20:27.610305Z"
    },
    "papermill": {
     "duration": 0.016206,
     "end_time": "2021-01-28T07:20:27.611144",
     "exception": false,
     "start_time": "2021-01-28T07:20:27.594938",
     "status": "completed"
    },
    "tags": [
     "injected-parameters"
    ]
   },
   "outputs": [],
   "source": [
    "# Parameters\n",
    "TARGET_DATE = 20210101\n"
   ]
  },
  {
   "cell_type": "code",
   "execution_count": 4,
   "metadata": {
    "execution": {
     "iopub.execute_input": "2021-01-28T07:20:27.659923Z",
     "iopub.status.busy": "2021-01-28T07:20:27.659320Z",
     "iopub.status.idle": "2021-01-28T07:20:27.660951Z",
     "shell.execute_reply": "2021-01-28T07:20:27.661402Z"
    },
    "papermill": {
     "duration": 0.040059,
     "end_time": "2021-01-28T07:20:27.661644",
     "exception": false,
     "start_time": "2021-01-28T07:20:27.621585",
     "status": "completed"
    },
    "tags": []
   },
   "outputs": [],
   "source": [
    "TARGET_DATE = str(TARGET_DATE)"
   ]
  },
  {
   "cell_type": "code",
   "execution_count": 5,
   "metadata": {
    "execution": {
     "iopub.execute_input": "2021-01-28T07:20:27.686588Z",
     "iopub.status.busy": "2021-01-28T07:20:27.686004Z",
     "iopub.status.idle": "2021-01-28T07:20:27.687522Z",
     "shell.execute_reply": "2021-01-28T07:20:27.687982Z"
    },
    "papermill": {
     "duration": 0.015646,
     "end_time": "2021-01-28T07:20:27.688230",
     "exception": false,
     "start_time": "2021-01-28T07:20:27.672584",
     "status": "completed"
    },
    "tags": []
   },
   "outputs": [],
   "source": [
    "# ライブラリ読み込み"
   ]
  },
  {
   "cell_type": "code",
   "execution_count": 6,
   "metadata": {
    "execution": {
     "iopub.execute_input": "2021-01-28T07:20:27.713584Z",
     "iopub.status.busy": "2021-01-28T07:20:27.713020Z",
     "iopub.status.idle": "2021-01-28T07:20:28.023851Z",
     "shell.execute_reply": "2021-01-28T07:20:28.024322Z"
    },
    "papermill": {
     "duration": 0.325401,
     "end_time": "2021-01-28T07:20:28.024647",
     "exception": false,
     "start_time": "2021-01-28T07:20:27.699246",
     "status": "completed"
    },
    "tags": []
   },
   "outputs": [],
   "source": [
    "import pandas as pd\n",
    "from datetime import datetime\n",
    "from dateutil.relativedelta import relativedelta"
   ]
  },
  {
   "cell_type": "code",
   "execution_count": 7,
   "metadata": {
    "execution": {
     "iopub.execute_input": "2021-01-28T07:20:28.050672Z",
     "iopub.status.busy": "2021-01-28T07:20:28.050029Z",
     "iopub.status.idle": "2021-01-28T07:20:28.051800Z",
     "shell.execute_reply": "2021-01-28T07:20:28.052316Z"
    },
    "papermill": {
     "duration": 0.016462,
     "end_time": "2021-01-28T07:20:28.052562",
     "exception": false,
     "start_time": "2021-01-28T07:20:28.036100",
     "status": "completed"
    },
    "tags": []
   },
   "outputs": [],
   "source": [
    "# dataframe設定調整"
   ]
  },
  {
   "cell_type": "code",
   "execution_count": 8,
   "metadata": {
    "execution": {
     "iopub.execute_input": "2021-01-28T07:20:28.078824Z",
     "iopub.status.busy": "2021-01-28T07:20:28.078185Z",
     "iopub.status.idle": "2021-01-28T07:20:28.080000Z",
     "shell.execute_reply": "2021-01-28T07:20:28.080541Z"
    },
    "papermill": {
     "duration": 0.017316,
     "end_time": "2021-01-28T07:20:28.080880",
     "exception": false,
     "start_time": "2021-01-28T07:20:28.063564",
     "status": "completed"
    },
    "tags": []
   },
   "outputs": [],
   "source": [
    "pd.set_option('display.max_columns', 500)\n",
    "pd.set_option('display.max_rows', 500)"
   ]
  },
  {
   "cell_type": "code",
   "execution_count": 9,
   "metadata": {
    "execution": {
     "iopub.execute_input": "2021-01-28T07:20:28.106106Z",
     "iopub.status.busy": "2021-01-28T07:20:28.105548Z",
     "iopub.status.idle": "2021-01-28T07:20:28.107280Z",
     "shell.execute_reply": "2021-01-28T07:20:28.107824Z"
    },
    "papermill": {
     "duration": 0.016212,
     "end_time": "2021-01-28T07:20:28.108073",
     "exception": false,
     "start_time": "2021-01-28T07:20:28.091861",
     "status": "completed"
    },
    "tags": []
   },
   "outputs": [],
   "source": [
    "# 初期データ読み込み"
   ]
  },
  {
   "cell_type": "code",
   "execution_count": 10,
   "metadata": {
    "execution": {
     "iopub.execute_input": "2021-01-28T07:20:28.134384Z",
     "iopub.status.busy": "2021-01-28T07:20:28.133815Z",
     "iopub.status.idle": "2021-01-28T07:20:30.289556Z",
     "shell.execute_reply": "2021-01-28T07:20:30.289032Z"
    },
    "papermill": {
     "duration": 2.170627,
     "end_time": "2021-01-28T07:20:30.289768",
     "exception": false,
     "start_time": "2021-01-28T07:20:28.119141",
     "status": "completed"
    },
    "tags": []
   },
   "outputs": [],
   "source": [
    "train = pd.read_csv('../../data/poc/initial.csv')"
   ]
  },
  {
   "cell_type": "code",
   "execution_count": 11,
   "metadata": {
    "execution": {
     "iopub.execute_input": "2021-01-28T07:20:30.314227Z",
     "iopub.status.busy": "2021-01-28T07:20:30.313593Z",
     "iopub.status.idle": "2021-01-28T07:20:30.315278Z",
     "shell.execute_reply": "2021-01-28T07:20:30.315811Z"
    },
    "papermill": {
     "duration": 0.016008,
     "end_time": "2021-01-28T07:20:30.316050",
     "exception": false,
     "start_time": "2021-01-28T07:20:30.300042",
     "status": "completed"
    },
    "tags": []
   },
   "outputs": [],
   "source": [
    "# 月次データ読み込み"
   ]
  },
  {
   "cell_type": "code",
   "execution_count": 12,
   "metadata": {
    "execution": {
     "iopub.execute_input": "2021-01-28T07:20:30.341992Z",
     "iopub.status.busy": "2021-01-28T07:20:30.341423Z",
     "iopub.status.idle": "2021-01-28T07:20:30.343059Z",
     "shell.execute_reply": "2021-01-28T07:20:30.343600Z"
    },
    "papermill": {
     "duration": 0.016426,
     "end_time": "2021-01-28T07:20:30.343860",
     "exception": false,
     "start_time": "2021-01-28T07:20:30.327434",
     "status": "completed"
    },
    "tags": []
   },
   "outputs": [],
   "source": [
    "INITIAL_DATE = '20201001'"
   ]
  },
  {
   "cell_type": "code",
   "execution_count": 13,
   "metadata": {
    "execution": {
     "iopub.execute_input": "2021-01-28T07:20:30.370660Z",
     "iopub.status.busy": "2021-01-28T07:20:30.370018Z",
     "iopub.status.idle": "2021-01-28T07:20:30.371574Z",
     "shell.execute_reply": "2021-01-28T07:20:30.372163Z"
    },
    "papermill": {
     "duration": 0.017355,
     "end_time": "2021-01-28T07:20:30.372413",
     "exception": false,
     "start_time": "2021-01-28T07:20:30.355058",
     "status": "completed"
    },
    "tags": []
   },
   "outputs": [],
   "source": [
    "date = datetime.strptime(INITIAL_DATE, '%Y%m%d')"
   ]
  },
  {
   "cell_type": "code",
   "execution_count": 14,
   "metadata": {
    "execution": {
     "iopub.execute_input": "2021-01-28T07:20:30.398918Z",
     "iopub.status.busy": "2021-01-28T07:20:30.398227Z",
     "iopub.status.idle": "2021-01-28T07:20:30.399990Z",
     "shell.execute_reply": "2021-01-28T07:20:30.400445Z"
    },
    "papermill": {
     "duration": 0.01694,
     "end_time": "2021-01-28T07:20:30.400698",
     "exception": false,
     "start_time": "2021-01-28T07:20:30.383758",
     "status": "completed"
    },
    "tags": []
   },
   "outputs": [],
   "source": [
    "target_date = datetime.strptime(TARGET_DATE, '%Y%m%d')"
   ]
  },
  {
   "cell_type": "code",
   "execution_count": 15,
   "metadata": {
    "execution": {
     "iopub.execute_input": "2021-01-28T07:20:30.428245Z",
     "iopub.status.busy": "2021-01-28T07:20:30.427595Z",
     "iopub.status.idle": "2021-01-28T07:20:30.429691Z",
     "shell.execute_reply": "2021-01-28T07:20:30.430116Z"
    },
    "papermill": {
     "duration": 0.018083,
     "end_time": "2021-01-28T07:20:30.430374",
     "exception": false,
     "start_time": "2021-01-28T07:20:30.412291",
     "status": "completed"
    },
    "tags": []
   },
   "outputs": [
    {
     "name": "stdout",
     "output_type": "stream",
     "text": [
      "2020-10-01 00:00:00\n",
      "2020-11-01 00:00:00\n",
      "2020-12-01 00:00:00\n"
     ]
    }
   ],
   "source": [
    "target_dates = []\n",
    "while date < target_date:\n",
    "    print(date)\n",
    "    date_str = datetime.strftime(date, '%Y%m%d')\n",
    "    target_dates.append(date_str)\n",
    "    date += relativedelta(months=1)"
   ]
  },
  {
   "cell_type": "code",
   "execution_count": 16,
   "metadata": {
    "execution": {
     "iopub.execute_input": "2021-01-28T07:20:30.462965Z",
     "iopub.status.busy": "2021-01-28T07:20:30.462171Z",
     "iopub.status.idle": "2021-01-28T07:20:30.464864Z",
     "shell.execute_reply": "2021-01-28T07:20:30.465283Z"
    },
    "papermill": {
     "duration": 0.022979,
     "end_time": "2021-01-28T07:20:30.465469",
     "exception": false,
     "start_time": "2021-01-28T07:20:30.442490",
     "status": "completed"
    },
    "tags": []
   },
   "outputs": [
    {
     "data": {
      "text/plain": [
       "['20201001', '20201101', '20201201']"
      ]
     },
     "execution_count": 16,
     "metadata": {},
     "output_type": "execute_result"
    }
   ],
   "source": [
    "target_dates"
   ]
  },
  {
   "cell_type": "code",
   "execution_count": 17,
   "metadata": {
    "execution": {
     "iopub.execute_input": "2021-01-28T07:20:30.496273Z",
     "iopub.status.busy": "2021-01-28T07:20:30.495648Z",
     "iopub.status.idle": "2021-01-28T07:20:30.497475Z",
     "shell.execute_reply": "2021-01-28T07:20:30.497937Z"
    },
    "papermill": {
     "duration": 0.020747,
     "end_time": "2021-01-28T07:20:30.498193",
     "exception": false,
     "start_time": "2021-01-28T07:20:30.477446",
     "status": "completed"
    },
    "tags": []
   },
   "outputs": [],
   "source": [
    "# データ結合"
   ]
  },
  {
   "cell_type": "code",
   "execution_count": 18,
   "metadata": {
    "execution": {
     "iopub.execute_input": "2021-01-28T07:20:30.527191Z",
     "iopub.status.busy": "2021-01-28T07:20:30.526597Z",
     "iopub.status.idle": "2021-01-28T07:20:30.841300Z",
     "shell.execute_reply": "2021-01-28T07:20:30.841807Z"
    },
    "papermill": {
     "duration": 0.33179,
     "end_time": "2021-01-28T07:20:30.842205",
     "exception": false,
     "start_time": "2021-01-28T07:20:30.510415",
     "status": "completed"
    },
    "tags": []
   },
   "outputs": [],
   "source": [
    "monthly_dataframes = [train]\n",
    "for d in target_dates:\n",
    "    df = pd.read_csv(f'../../data/poc/{d}.csv')\n",
    "    monthly_dataframes.append(df)"
   ]
  },
  {
   "cell_type": "code",
   "execution_count": 19,
   "metadata": {
    "execution": {
     "iopub.execute_input": "2021-01-28T07:20:30.870156Z",
     "iopub.status.busy": "2021-01-28T07:20:30.869443Z",
     "iopub.status.idle": "2021-01-28T07:20:31.188525Z",
     "shell.execute_reply": "2021-01-28T07:20:31.188995Z"
    },
    "papermill": {
     "duration": 0.33549,
     "end_time": "2021-01-28T07:20:31.189250",
     "exception": false,
     "start_time": "2021-01-28T07:20:30.853760",
     "status": "completed"
    },
    "tags": []
   },
   "outputs": [],
   "source": [
    "train = pd.concat(monthly_dataframes, axis=0)"
   ]
  },
  {
   "cell_type": "code",
   "execution_count": 20,
   "metadata": {
    "execution": {
     "iopub.execute_input": "2021-01-28T07:20:31.218147Z",
     "iopub.status.busy": "2021-01-28T07:20:31.217520Z",
     "iopub.status.idle": "2021-01-28T07:20:31.219594Z",
     "shell.execute_reply": "2021-01-28T07:20:31.220067Z"
    },
    "papermill": {
     "duration": 0.018718,
     "end_time": "2021-01-28T07:20:31.220317",
     "exception": false,
     "start_time": "2021-01-28T07:20:31.201599",
     "status": "completed"
    },
    "tags": []
   },
   "outputs": [
    {
     "data": {
      "text/plain": [
       "297511"
      ]
     },
     "execution_count": 20,
     "metadata": {},
     "output_type": "execute_result"
    }
   ],
   "source": [
    "len(train)"
   ]
  },
  {
   "cell_type": "code",
   "execution_count": 21,
   "metadata": {
    "execution": {
     "iopub.execute_input": "2021-01-28T07:20:31.249437Z",
     "iopub.status.busy": "2021-01-28T07:20:31.248738Z",
     "iopub.status.idle": "2021-01-28T07:20:31.250361Z",
     "shell.execute_reply": "2021-01-28T07:20:31.250893Z"
    },
    "papermill": {
     "duration": 0.017863,
     "end_time": "2021-01-28T07:20:31.251144",
     "exception": false,
     "start_time": "2021-01-28T07:20:31.233281",
     "status": "completed"
    },
    "tags": []
   },
   "outputs": [],
   "source": [
    "# 前処理データ出力"
   ]
  },
  {
   "cell_type": "code",
   "execution_count": 22,
   "metadata": {
    "execution": {
     "iopub.execute_input": "2021-01-28T07:20:31.280247Z",
     "iopub.status.busy": "2021-01-28T07:20:31.279650Z",
     "iopub.status.idle": "2021-01-28T07:20:31.837901Z",
     "shell.execute_reply": "2021-01-28T07:20:31.838442Z"
    },
    "papermill": {
     "duration": 0.57484,
     "end_time": "2021-01-28T07:20:31.838689",
     "exception": false,
     "start_time": "2021-01-28T07:20:31.263849",
     "status": "completed"
    },
    "tags": []
   },
   "outputs": [],
   "source": [
    "train.to_pickle(f'../../data/trial/accumulate_{TARGET_DATE}.pkl')"
   ]
  },
  {
   "cell_type": "code",
   "execution_count": null,
   "metadata": {
    "papermill": {
     "duration": 0.012969,
     "end_time": "2021-01-28T07:20:31.865172",
     "exception": false,
     "start_time": "2021-01-28T07:20:31.852203",
     "status": "completed"
    },
    "tags": []
   },
   "outputs": [],
   "source": []
  },
  {
   "cell_type": "code",
   "execution_count": null,
   "metadata": {
    "papermill": {
     "duration": 0.012867,
     "end_time": "2021-01-28T07:20:31.891089",
     "exception": false,
     "start_time": "2021-01-28T07:20:31.878222",
     "status": "completed"
    },
    "tags": []
   },
   "outputs": [],
   "source": []
  }
 ],
 "metadata": {
  "kernelspec": {
   "display_name": "Python 3",
   "language": "python",
   "name": "python3"
  },
  "language_info": {
   "codemirror_mode": {
    "name": "ipython",
    "version": 3
   },
   "file_extension": ".py",
   "mimetype": "text/x-python",
   "name": "python",
   "nbconvert_exporter": "python",
   "pygments_lexer": "ipython3",
   "version": "3.7.7"
  },
  "papermill": {
   "default_parameters": {},
   "duration": 5.969772,
   "end_time": "2021-01-28T07:20:32.326454",
   "environment_variables": {},
   "exception": null,
   "input_path": "/Users/koyajima/Code/between_poc_and_production/notebooks/trial/accmulate.ipynb",
   "output_path": "/Users/koyajima/Code/between_poc_and_production/notebooks/trial/logs/accmulate.ipynb",
   "parameters": {
    "TARGET_DATE": 20210101
   },
   "start_time": "2021-01-28T07:20:26.356682",
   "version": "2.2.2"
  }
 },
 "nbformat": 4,
 "nbformat_minor": 4
}