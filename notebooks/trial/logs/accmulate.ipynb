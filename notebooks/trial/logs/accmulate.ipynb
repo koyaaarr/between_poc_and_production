{
 "cells": [
  {
   "cell_type": "markdown",
   "metadata": {
    "papermill": {
     "duration": 0.024911,
     "end_time": "2021-01-22T01:43:03.546016",
     "exception": false,
     "start_time": "2021-01-22T01:43:03.521105",
     "status": "completed"
    },
    "tags": []
   },
   "source": [
    "# 学習データ蓄積\n",
    "- データの読み込み\n",
    "- データのマージ"
   ]
  },
  {
   "cell_type": "code",
   "execution_count": 1,
   "metadata": {
    "execution": {
     "iopub.execute_input": "2021-01-22T01:43:03.603660Z",
     "iopub.status.busy": "2021-01-22T01:43:03.601607Z",
     "iopub.status.idle": "2021-01-22T01:43:03.606478Z",
     "shell.execute_reply": "2021-01-22T01:43:03.607733Z"
    },
    "papermill": {
     "duration": 0.038831,
     "end_time": "2021-01-22T01:43:03.609142",
     "exception": false,
     "start_time": "2021-01-22T01:43:03.570311",
     "status": "completed"
    },
    "tags": []
   },
   "outputs": [],
   "source": [
    "# パラメータ設定"
   ]
  },
  {
   "cell_type": "code",
   "execution_count": 2,
   "metadata": {
    "execution": {
     "iopub.execute_input": "2021-01-22T01:43:03.664095Z",
     "iopub.status.busy": "2021-01-22T01:43:03.662130Z",
     "iopub.status.idle": "2021-01-22T01:43:03.667498Z",
     "shell.execute_reply": "2021-01-22T01:43:03.669344Z"
    },
    "papermill": {
     "duration": 0.0368,
     "end_time": "2021-01-22T01:43:03.670131",
     "exception": false,
     "start_time": "2021-01-22T01:43:03.633331",
     "status": "completed"
    },
    "tags": [
     "parameters"
    ]
   },
   "outputs": [],
   "source": [
    "TARGET_DATE = '20210101'"
   ]
  },
  {
   "cell_type": "code",
   "execution_count": 3,
   "metadata": {
    "execution": {
     "iopub.execute_input": "2021-01-22T01:43:03.725654Z",
     "iopub.status.busy": "2021-01-22T01:43:03.722475Z",
     "iopub.status.idle": "2021-01-22T01:43:03.729843Z",
     "shell.execute_reply": "2021-01-22T01:43:03.730830Z"
    },
    "papermill": {
     "duration": 0.037566,
     "end_time": "2021-01-22T01:43:03.731599",
     "exception": false,
     "start_time": "2021-01-22T01:43:03.694033",
     "status": "completed"
    },
    "tags": [
     "injected-parameters"
    ]
   },
   "outputs": [],
   "source": [
    "# Parameters\n",
    "TARGET_DATE = 20210101\n"
   ]
  },
  {
   "cell_type": "code",
   "execution_count": 4,
   "metadata": {
    "execution": {
     "iopub.execute_input": "2021-01-22T01:43:03.817168Z",
     "iopub.status.busy": "2021-01-22T01:43:03.815594Z",
     "iopub.status.idle": "2021-01-22T01:43:03.819865Z",
     "shell.execute_reply": "2021-01-22T01:43:03.820842Z"
    },
    "papermill": {
     "duration": 0.06654,
     "end_time": "2021-01-22T01:43:03.821632",
     "exception": false,
     "start_time": "2021-01-22T01:43:03.755092",
     "status": "completed"
    },
    "tags": []
   },
   "outputs": [],
   "source": [
    "TARGET_DATE = str(TARGET_DATE)"
   ]
  },
  {
   "cell_type": "code",
   "execution_count": 5,
   "metadata": {
    "execution": {
     "iopub.execute_input": "2021-01-22T01:43:03.874234Z",
     "iopub.status.busy": "2021-01-22T01:43:03.872449Z",
     "iopub.status.idle": "2021-01-22T01:43:03.876933Z",
     "shell.execute_reply": "2021-01-22T01:43:03.877968Z"
    },
    "papermill": {
     "duration": 0.03414,
     "end_time": "2021-01-22T01:43:03.878942",
     "exception": false,
     "start_time": "2021-01-22T01:43:03.844802",
     "status": "completed"
    },
    "tags": []
   },
   "outputs": [],
   "source": [
    "# ライブラリ読み込み"
   ]
  },
  {
   "cell_type": "code",
   "execution_count": 6,
   "metadata": {
    "execution": {
     "iopub.execute_input": "2021-01-22T01:43:03.934220Z",
     "iopub.status.busy": "2021-01-22T01:43:03.931281Z",
     "iopub.status.idle": "2021-01-22T01:43:04.725079Z",
     "shell.execute_reply": "2021-01-22T01:43:04.726441Z"
    },
    "papermill": {
     "duration": 0.825336,
     "end_time": "2021-01-22T01:43:04.726909",
     "exception": false,
     "start_time": "2021-01-22T01:43:03.901573",
     "status": "completed"
    },
    "tags": []
   },
   "outputs": [],
   "source": [
    "import pandas as pd\n",
    "from datetime import datetime\n",
    "from dateutil.relativedelta import relativedelta"
   ]
  },
  {
   "cell_type": "code",
   "execution_count": 7,
   "metadata": {
    "execution": {
     "iopub.execute_input": "2021-01-22T01:43:04.785992Z",
     "iopub.status.busy": "2021-01-22T01:43:04.784097Z",
     "iopub.status.idle": "2021-01-22T01:43:04.788249Z",
     "shell.execute_reply": "2021-01-22T01:43:04.789665Z"
    },
    "papermill": {
     "duration": 0.039326,
     "end_time": "2021-01-22T01:43:04.790267",
     "exception": false,
     "start_time": "2021-01-22T01:43:04.750941",
     "status": "completed"
    },
    "tags": []
   },
   "outputs": [],
   "source": [
    "# dataframe設定調整"
   ]
  },
  {
   "cell_type": "code",
   "execution_count": 8,
   "metadata": {
    "execution": {
     "iopub.execute_input": "2021-01-22T01:43:04.858517Z",
     "iopub.status.busy": "2021-01-22T01:43:04.854979Z",
     "iopub.status.idle": "2021-01-22T01:43:04.862187Z",
     "shell.execute_reply": "2021-01-22T01:43:04.860876Z"
    },
    "papermill": {
     "duration": 0.042801,
     "end_time": "2021-01-22T01:43:04.862747",
     "exception": false,
     "start_time": "2021-01-22T01:43:04.819946",
     "status": "completed"
    },
    "tags": []
   },
   "outputs": [],
   "source": [
    "pd.set_option('display.max_columns', 500)\n",
    "pd.set_option('display.max_rows', 500)"
   ]
  },
  {
   "cell_type": "code",
   "execution_count": 9,
   "metadata": {
    "execution": {
     "iopub.execute_input": "2021-01-22T01:43:04.923383Z",
     "iopub.status.busy": "2021-01-22T01:43:04.920227Z",
     "iopub.status.idle": "2021-01-22T01:43:04.925832Z",
     "shell.execute_reply": "2021-01-22T01:43:04.927169Z"
    },
    "papermill": {
     "duration": 0.04021,
     "end_time": "2021-01-22T01:43:04.928593",
     "exception": false,
     "start_time": "2021-01-22T01:43:04.888383",
     "status": "completed"
    },
    "tags": []
   },
   "outputs": [],
   "source": [
    "# 初期データ読み込み"
   ]
  },
  {
   "cell_type": "code",
   "execution_count": 10,
   "metadata": {
    "execution": {
     "iopub.execute_input": "2021-01-22T01:43:04.989642Z",
     "iopub.status.busy": "2021-01-22T01:43:04.986712Z",
     "iopub.status.idle": "2021-01-22T01:43:09.027911Z",
     "shell.execute_reply": "2021-01-22T01:43:09.028408Z"
    },
    "papermill": {
     "duration": 4.076842,
     "end_time": "2021-01-22T01:43:09.028675",
     "exception": false,
     "start_time": "2021-01-22T01:43:04.951833",
     "status": "completed"
    },
    "tags": []
   },
   "outputs": [],
   "source": [
    "train = pd.read_csv('../../data/poc/initial.csv')"
   ]
  },
  {
   "cell_type": "code",
   "execution_count": 11,
   "metadata": {
    "execution": {
     "iopub.execute_input": "2021-01-22T01:43:09.060957Z",
     "iopub.status.busy": "2021-01-22T01:43:09.060051Z",
     "iopub.status.idle": "2021-01-22T01:43:09.061900Z",
     "shell.execute_reply": "2021-01-22T01:43:09.062329Z"
    },
    "papermill": {
     "duration": 0.022011,
     "end_time": "2021-01-22T01:43:09.062584",
     "exception": false,
     "start_time": "2021-01-22T01:43:09.040573",
     "status": "completed"
    },
    "tags": []
   },
   "outputs": [],
   "source": [
    "# 月次データ読み込み"
   ]
  },
  {
   "cell_type": "code",
   "execution_count": 12,
   "metadata": {
    "execution": {
     "iopub.execute_input": "2021-01-22T01:43:09.096137Z",
     "iopub.status.busy": "2021-01-22T01:43:09.095331Z",
     "iopub.status.idle": "2021-01-22T01:43:09.097550Z",
     "shell.execute_reply": "2021-01-22T01:43:09.098175Z"
    },
    "papermill": {
     "duration": 0.024142,
     "end_time": "2021-01-22T01:43:09.098543",
     "exception": false,
     "start_time": "2021-01-22T01:43:09.074401",
     "status": "completed"
    },
    "tags": []
   },
   "outputs": [],
   "source": [
    "INITIAL_DATE = '20201001'"
   ]
  },
  {
   "cell_type": "code",
   "execution_count": 13,
   "metadata": {
    "execution": {
     "iopub.execute_input": "2021-01-22T01:43:09.132570Z",
     "iopub.status.busy": "2021-01-22T01:43:09.131624Z",
     "iopub.status.idle": "2021-01-22T01:43:09.134006Z",
     "shell.execute_reply": "2021-01-22T01:43:09.134560Z"
    },
    "papermill": {
     "duration": 0.022528,
     "end_time": "2021-01-22T01:43:09.134809",
     "exception": false,
     "start_time": "2021-01-22T01:43:09.112281",
     "status": "completed"
    },
    "tags": []
   },
   "outputs": [],
   "source": [
    "date = datetime.strptime(INITIAL_DATE, '%Y%m%d')"
   ]
  },
  {
   "cell_type": "code",
   "execution_count": 14,
   "metadata": {
    "execution": {
     "iopub.execute_input": "2021-01-22T01:43:09.164529Z",
     "iopub.status.busy": "2021-01-22T01:43:09.163772Z",
     "iopub.status.idle": "2021-01-22T01:43:09.165635Z",
     "shell.execute_reply": "2021-01-22T01:43:09.166227Z"
    },
    "papermill": {
     "duration": 0.019049,
     "end_time": "2021-01-22T01:43:09.166443",
     "exception": false,
     "start_time": "2021-01-22T01:43:09.147394",
     "status": "completed"
    },
    "tags": []
   },
   "outputs": [],
   "source": [
    "target_date = datetime.strptime(TARGET_DATE, '%Y%m%d')"
   ]
  },
  {
   "cell_type": "code",
   "execution_count": 15,
   "metadata": {
    "execution": {
     "iopub.execute_input": "2021-01-22T01:43:09.200478Z",
     "iopub.status.busy": "2021-01-22T01:43:09.199592Z",
     "iopub.status.idle": "2021-01-22T01:43:09.202282Z",
     "shell.execute_reply": "2021-01-22T01:43:09.202772Z"
    },
    "papermill": {
     "duration": 0.024391,
     "end_time": "2021-01-22T01:43:09.203080",
     "exception": false,
     "start_time": "2021-01-22T01:43:09.178689",
     "status": "completed"
    },
    "tags": []
   },
   "outputs": [
    {
     "name": "stdout",
     "output_type": "stream",
     "text": [
      "2020-10-01 00:00:00\n",
      "2020-11-01 00:00:00\n",
      "2020-12-01 00:00:00\n"
     ]
    }
   ],
   "source": [
    "target_dates = []\n",
    "while date < target_date:\n",
    "    print(date)\n",
    "    date_str = datetime.strftime(date, '%Y%m%d')\n",
    "    target_dates.append(date_str)\n",
    "    date += relativedelta(months=1)"
   ]
  },
  {
   "cell_type": "code",
   "execution_count": 16,
   "metadata": {
    "execution": {
     "iopub.execute_input": "2021-01-22T01:43:09.237952Z",
     "iopub.status.busy": "2021-01-22T01:43:09.237050Z",
     "iopub.status.idle": "2021-01-22T01:43:09.239688Z",
     "shell.execute_reply": "2021-01-22T01:43:09.240175Z"
    },
    "papermill": {
     "duration": 0.023632,
     "end_time": "2021-01-22T01:43:09.240438",
     "exception": false,
     "start_time": "2021-01-22T01:43:09.216806",
     "status": "completed"
    },
    "tags": []
   },
   "outputs": [
    {
     "data": {
      "text/plain": [
       "['20201001', '20201101', '20201201']"
      ]
     },
     "execution_count": 16,
     "metadata": {},
     "output_type": "execute_result"
    }
   ],
   "source": [
    "target_dates"
   ]
  },
  {
   "cell_type": "code",
   "execution_count": 17,
   "metadata": {
    "execution": {
     "iopub.execute_input": "2021-01-22T01:43:09.273137Z",
     "iopub.status.busy": "2021-01-22T01:43:09.272332Z",
     "iopub.status.idle": "2021-01-22T01:43:09.274190Z",
     "shell.execute_reply": "2021-01-22T01:43:09.274752Z"
    },
    "papermill": {
     "duration": 0.021595,
     "end_time": "2021-01-22T01:43:09.275015",
     "exception": false,
     "start_time": "2021-01-22T01:43:09.253420",
     "status": "completed"
    },
    "tags": []
   },
   "outputs": [],
   "source": [
    "# データ結合"
   ]
  },
  {
   "cell_type": "code",
   "execution_count": 18,
   "metadata": {
    "execution": {
     "iopub.execute_input": "2021-01-22T01:43:09.306852Z",
     "iopub.status.busy": "2021-01-22T01:43:09.306184Z",
     "iopub.status.idle": "2021-01-22T01:43:09.660644Z",
     "shell.execute_reply": "2021-01-22T01:43:09.661086Z"
    },
    "papermill": {
     "duration": 0.372173,
     "end_time": "2021-01-22T01:43:09.661277",
     "exception": false,
     "start_time": "2021-01-22T01:43:09.289104",
     "status": "completed"
    },
    "tags": []
   },
   "outputs": [],
   "source": [
    "monthly_dataframes = [train]\n",
    "for d in target_dates:\n",
    "    df = pd.read_csv(f'../../data/poc/{d}.csv')\n",
    "    monthly_dataframes.append(df)"
   ]
  },
  {
   "cell_type": "code",
   "execution_count": 19,
   "metadata": {
    "execution": {
     "iopub.execute_input": "2021-01-22T01:43:09.701065Z",
     "iopub.status.busy": "2021-01-22T01:43:09.700061Z",
     "iopub.status.idle": "2021-01-22T01:43:10.155319Z",
     "shell.execute_reply": "2021-01-22T01:43:10.155743Z"
    },
    "papermill": {
     "duration": 0.477774,
     "end_time": "2021-01-22T01:43:10.155936",
     "exception": false,
     "start_time": "2021-01-22T01:43:09.678162",
     "status": "completed"
    },
    "tags": []
   },
   "outputs": [],
   "source": [
    "train = pd.concat(monthly_dataframes, axis=0)"
   ]
  },
  {
   "cell_type": "code",
   "execution_count": 20,
   "metadata": {
    "execution": {
     "iopub.execute_input": "2021-01-22T01:43:10.196830Z",
     "iopub.status.busy": "2021-01-22T01:43:10.196162Z",
     "iopub.status.idle": "2021-01-22T01:43:10.200158Z",
     "shell.execute_reply": "2021-01-22T01:43:10.201530Z"
    },
    "papermill": {
     "duration": 0.029618,
     "end_time": "2021-01-22T01:43:10.202683",
     "exception": false,
     "start_time": "2021-01-22T01:43:10.173065",
     "status": "completed"
    },
    "tags": []
   },
   "outputs": [
    {
     "data": {
      "text/plain": [
       "297511"
      ]
     },
     "execution_count": 20,
     "metadata": {},
     "output_type": "execute_result"
    }
   ],
   "source": [
    "len(train)"
   ]
  },
  {
   "cell_type": "code",
   "execution_count": 21,
   "metadata": {
    "execution": {
     "iopub.execute_input": "2021-01-22T01:43:10.248812Z",
     "iopub.status.busy": "2021-01-22T01:43:10.247850Z",
     "iopub.status.idle": "2021-01-22T01:43:10.251067Z",
     "shell.execute_reply": "2021-01-22T01:43:10.252101Z"
    },
    "papermill": {
     "duration": 0.024985,
     "end_time": "2021-01-22T01:43:10.252445",
     "exception": false,
     "start_time": "2021-01-22T01:43:10.227460",
     "status": "completed"
    },
    "tags": []
   },
   "outputs": [],
   "source": [
    "# 前処理データ出力"
   ]
  },
  {
   "cell_type": "code",
   "execution_count": 22,
   "metadata": {
    "execution": {
     "iopub.execute_input": "2021-01-22T01:43:10.295751Z",
     "iopub.status.busy": "2021-01-22T01:43:10.294479Z",
     "iopub.status.idle": "2021-01-22T01:43:10.992082Z",
     "shell.execute_reply": "2021-01-22T01:43:10.991544Z"
    },
    "papermill": {
     "duration": 0.718078,
     "end_time": "2021-01-22T01:43:10.992441",
     "exception": false,
     "start_time": "2021-01-22T01:43:10.274363",
     "status": "completed"
    },
    "tags": []
   },
   "outputs": [],
   "source": [
    "train.to_pickle(f'../../data/trial/accumulate_{TARGET_DATE}.pkl')"
   ]
  },
  {
   "cell_type": "code",
   "execution_count": null,
   "metadata": {
    "papermill": {
     "duration": 0.016925,
     "end_time": "2021-01-22T01:43:11.027755",
     "exception": false,
     "start_time": "2021-01-22T01:43:11.010830",
     "status": "completed"
    },
    "tags": []
   },
   "outputs": [],
   "source": []
  },
  {
   "cell_type": "code",
   "execution_count": null,
   "metadata": {
    "papermill": {
     "duration": 0.016566,
     "end_time": "2021-01-22T01:43:11.061352",
     "exception": false,
     "start_time": "2021-01-22T01:43:11.044786",
     "status": "completed"
    },
    "tags": []
   },
   "outputs": [],
   "source": []
  }
 ],
 "metadata": {
  "kernelspec": {
   "display_name": "Python 3",
   "language": "python",
   "name": "python3"
  },
  "language_info": {
   "codemirror_mode": {
    "name": "ipython",
    "version": 3
   },
   "file_extension": ".py",
   "mimetype": "text/x-python",
   "name": "python",
   "nbconvert_exporter": "python",
   "pygments_lexer": "ipython3",
   "version": "3.7.7"
  },
  "papermill": {
   "default_parameters": {},
   "duration": 11.215131,
   "end_time": "2021-01-22T01:43:12.465696",
   "environment_variables": {},
   "exception": null,
   "input_path": "/Users/koyajima/Code/between_poc_and_production/notebooks/trial/accmulate.ipynb",
   "output_path": "/Users/koyajima/Code/between_poc_and_production/notebooks/trial/logs/accmulate.ipynb",
   "parameters": {
    "TARGET_DATE": 20210101
   },
   "start_time": "2021-01-22T01:43:01.250565",
   "version": "2.2.2"
  }
 },
 "nbformat": 4,
 "nbformat_minor": 4
}