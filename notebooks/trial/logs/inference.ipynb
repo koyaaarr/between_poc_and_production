{
 "cells": [
  {
   "cell_type": "markdown",
   "metadata": {
    "papermill": {
     "duration": 0.009809,
     "end_time": "2021-01-22T01:44:16.426393",
     "exception": false,
     "start_time": "2021-01-22T01:44:16.416584",
     "status": "completed"
    },
    "tags": []
   },
   "source": [
    "# 推論"
   ]
  },
  {
   "cell_type": "code",
   "execution_count": 1,
   "metadata": {
    "execution": {
     "iopub.execute_input": "2021-01-22T01:44:16.454796Z",
     "iopub.status.busy": "2021-01-22T01:44:16.453697Z",
     "iopub.status.idle": "2021-01-22T01:44:16.456765Z",
     "shell.execute_reply": "2021-01-22T01:44:16.456291Z"
    },
    "papermill": {
     "duration": 0.019531,
     "end_time": "2021-01-22T01:44:16.456934",
     "exception": false,
     "start_time": "2021-01-22T01:44:16.437403",
     "status": "completed"
    },
    "tags": []
   },
   "outputs": [],
   "source": [
    "# パラメータ設定"
   ]
  },
  {
   "cell_type": "code",
   "execution_count": 2,
   "metadata": {
    "execution": {
     "iopub.execute_input": "2021-01-22T01:44:16.481743Z",
     "iopub.status.busy": "2021-01-22T01:44:16.480972Z",
     "iopub.status.idle": "2021-01-22T01:44:16.483258Z",
     "shell.execute_reply": "2021-01-22T01:44:16.483672Z"
    },
    "papermill": {
     "duration": 0.016525,
     "end_time": "2021-01-22T01:44:16.483856",
     "exception": false,
     "start_time": "2021-01-22T01:44:16.467331",
     "status": "completed"
    },
    "tags": [
     "parameters"
    ]
   },
   "outputs": [],
   "source": [
    "TARGET_DATE = '20210101'"
   ]
  },
  {
   "cell_type": "code",
   "execution_count": 3,
   "metadata": {
    "execution": {
     "iopub.execute_input": "2021-01-22T01:44:16.507515Z",
     "iopub.status.busy": "2021-01-22T01:44:16.506631Z",
     "iopub.status.idle": "2021-01-22T01:44:16.508716Z",
     "shell.execute_reply": "2021-01-22T01:44:16.509217Z"
    },
    "papermill": {
     "duration": 0.01611,
     "end_time": "2021-01-22T01:44:16.509426",
     "exception": false,
     "start_time": "2021-01-22T01:44:16.493316",
     "status": "completed"
    },
    "tags": [
     "injected-parameters"
    ]
   },
   "outputs": [],
   "source": [
    "# Parameters\n",
    "TARGET_DATE = 20210101\n"
   ]
  },
  {
   "cell_type": "code",
   "execution_count": 4,
   "metadata": {
    "execution": {
     "iopub.execute_input": "2021-01-22T01:44:16.560392Z",
     "iopub.status.busy": "2021-01-22T01:44:16.559732Z",
     "iopub.status.idle": "2021-01-22T01:44:16.561814Z",
     "shell.execute_reply": "2021-01-22T01:44:16.562620Z"
    },
    "papermill": {
     "duration": 0.016849,
     "end_time": "2021-01-22T01:44:16.562927",
     "exception": false,
     "start_time": "2021-01-22T01:44:16.546078",
     "status": "completed"
    },
    "tags": []
   },
   "outputs": [],
   "source": [
    "TARGET_DATE = str(TARGET_DATE)"
   ]
  },
  {
   "cell_type": "code",
   "execution_count": 5,
   "metadata": {
    "execution": {
     "iopub.execute_input": "2021-01-22T01:44:16.589694Z",
     "iopub.status.busy": "2021-01-22T01:44:16.588716Z",
     "iopub.status.idle": "2021-01-22T01:44:16.591801Z",
     "shell.execute_reply": "2021-01-22T01:44:16.591352Z"
    },
    "papermill": {
     "duration": 0.018684,
     "end_time": "2021-01-22T01:44:16.592017",
     "exception": false,
     "start_time": "2021-01-22T01:44:16.573333",
     "status": "completed"
    },
    "tags": []
   },
   "outputs": [],
   "source": [
    "# ライブラリ読み込み"
   ]
  },
  {
   "cell_type": "code",
   "execution_count": 6,
   "metadata": {
    "execution": {
     "iopub.execute_input": "2021-01-22T01:44:16.619145Z",
     "iopub.status.busy": "2021-01-22T01:44:16.618485Z",
     "iopub.status.idle": "2021-01-22T01:44:18.389682Z",
     "shell.execute_reply": "2021-01-22T01:44:18.389179Z"
    },
    "papermill": {
     "duration": 1.786739,
     "end_time": "2021-01-22T01:44:18.389852",
     "exception": false,
     "start_time": "2021-01-22T01:44:16.603113",
     "status": "completed"
    },
    "tags": []
   },
   "outputs": [],
   "source": [
    "import pandas as pd\n",
    "import numpy as np\n",
    "import argparse\n",
    "import shap\n",
    "import optuna\n",
    "import pickle\n",
    "import lightgbm as lgb\n",
    "from sklearn.metrics import accuracy_score, confusion_matrix, recall_score, f1_score, precision_score\n",
    "from sklearn.model_selection import train_test_split\n",
    "from sklearn import datasets\n",
    "from sklearn import metrics\n",
    "from sklearn.model_selection import StratifiedKFold\n",
    "import matplotlib.pyplot as plt\n",
    "import pickle"
   ]
  },
  {
   "cell_type": "code",
   "execution_count": 7,
   "metadata": {
    "execution": {
     "iopub.execute_input": "2021-01-22T01:44:18.416467Z",
     "iopub.status.busy": "2021-01-22T01:44:18.415538Z",
     "iopub.status.idle": "2021-01-22T01:44:18.418030Z",
     "shell.execute_reply": "2021-01-22T01:44:18.418465Z"
    },
    "papermill": {
     "duration": 0.017529,
     "end_time": "2021-01-22T01:44:18.418650",
     "exception": false,
     "start_time": "2021-01-22T01:44:18.401121",
     "status": "completed"
    },
    "tags": []
   },
   "outputs": [],
   "source": [
    "# dataframe設定調整"
   ]
  },
  {
   "cell_type": "code",
   "execution_count": 8,
   "metadata": {
    "execution": {
     "iopub.execute_input": "2021-01-22T01:44:18.444274Z",
     "iopub.status.busy": "2021-01-22T01:44:18.443559Z",
     "iopub.status.idle": "2021-01-22T01:44:18.445361Z",
     "shell.execute_reply": "2021-01-22T01:44:18.445769Z"
    },
    "papermill": {
     "duration": 0.01668,
     "end_time": "2021-01-22T01:44:18.445951",
     "exception": false,
     "start_time": "2021-01-22T01:44:18.429271",
     "status": "completed"
    },
    "tags": []
   },
   "outputs": [],
   "source": [
    "pd.set_option('display.max_columns', 100)\n",
    "pd.set_option('display.max_rows', 200)"
   ]
  },
  {
   "cell_type": "code",
   "execution_count": 9,
   "metadata": {
    "execution": {
     "iopub.execute_input": "2021-01-22T01:44:18.470817Z",
     "iopub.status.busy": "2021-01-22T01:44:18.470203Z",
     "iopub.status.idle": "2021-01-22T01:44:18.471846Z",
     "shell.execute_reply": "2021-01-22T01:44:18.472249Z"
    },
    "papermill": {
     "duration": 0.015974,
     "end_time": "2021-01-22T01:44:18.472425",
     "exception": false,
     "start_time": "2021-01-22T01:44:18.456451",
     "status": "completed"
    },
    "tags": []
   },
   "outputs": [],
   "source": [
    "# データ読み込み"
   ]
  },
  {
   "cell_type": "code",
   "execution_count": 10,
   "metadata": {
    "execution": {
     "iopub.execute_input": "2021-01-22T01:44:18.498436Z",
     "iopub.status.busy": "2021-01-22T01:44:18.497810Z",
     "iopub.status.idle": "2021-01-22T01:44:18.503493Z",
     "shell.execute_reply": "2021-01-22T01:44:18.503911Z"
    },
    "papermill": {
     "duration": 0.021404,
     "end_time": "2021-01-22T01:44:18.504194",
     "exception": false,
     "start_time": "2021-01-22T01:44:18.482790",
     "status": "completed"
    },
    "tags": []
   },
   "outputs": [],
   "source": [
    "test = pd.read_pickle(f'../../data/trial/predict_{TARGET_DATE}.pkl')"
   ]
  },
  {
   "cell_type": "code",
   "execution_count": 11,
   "metadata": {
    "execution": {
     "iopub.execute_input": "2021-01-22T01:44:18.530232Z",
     "iopub.status.busy": "2021-01-22T01:44:18.529462Z",
     "iopub.status.idle": "2021-01-22T01:44:18.654639Z",
     "shell.execute_reply": "2021-01-22T01:44:18.655098Z"
    },
    "papermill": {
     "duration": 0.140503,
     "end_time": "2021-01-22T01:44:18.655282",
     "exception": false,
     "start_time": "2021-01-22T01:44:18.514779",
     "status": "completed"
    },
    "tags": []
   },
   "outputs": [],
   "source": [
    "rawdata = pd.read_csv(f'../../data/trial/{TARGET_DATE}.csv')"
   ]
  },
  {
   "cell_type": "code",
   "execution_count": 12,
   "metadata": {
    "execution": {
     "iopub.execute_input": "2021-01-22T01:44:18.683601Z",
     "iopub.status.busy": "2021-01-22T01:44:18.682670Z",
     "iopub.status.idle": "2021-01-22T01:44:18.684680Z",
     "shell.execute_reply": "2021-01-22T01:44:18.685113Z"
    },
    "papermill": {
     "duration": 0.017685,
     "end_time": "2021-01-22T01:44:18.685299",
     "exception": false,
     "start_time": "2021-01-22T01:44:18.667614",
     "status": "completed"
    },
    "tags": []
   },
   "outputs": [],
   "source": [
    "# モデル読み込み"
   ]
  },
  {
   "cell_type": "code",
   "execution_count": 13,
   "metadata": {
    "execution": {
     "iopub.execute_input": "2021-01-22T01:44:18.710878Z",
     "iopub.status.busy": "2021-01-22T01:44:18.710264Z",
     "iopub.status.idle": "2021-01-22T01:44:18.722435Z",
     "shell.execute_reply": "2021-01-22T01:44:18.723123Z"
    },
    "papermill": {
     "duration": 0.027597,
     "end_time": "2021-01-22T01:44:18.723398",
     "exception": false,
     "start_time": "2021-01-22T01:44:18.695801",
     "status": "completed"
    },
    "tags": []
   },
   "outputs": [],
   "source": [
    "model = pickle.load(open(f'../../data/trial/model_{TARGET_DATE}.pkl', 'rb'))"
   ]
  },
  {
   "cell_type": "code",
   "execution_count": 14,
   "metadata": {
    "execution": {
     "iopub.execute_input": "2021-01-22T01:44:18.760883Z",
     "iopub.status.busy": "2021-01-22T01:44:18.759860Z",
     "iopub.status.idle": "2021-01-22T01:44:18.762255Z",
     "shell.execute_reply": "2021-01-22T01:44:18.762840Z"
    },
    "papermill": {
     "duration": 0.024914,
     "end_time": "2021-01-22T01:44:18.763194",
     "exception": false,
     "start_time": "2021-01-22T01:44:18.738280",
     "status": "completed"
    },
    "tags": []
   },
   "outputs": [],
   "source": [
    "test.drop(columns=['TARGET'], inplace=True)"
   ]
  },
  {
   "cell_type": "code",
   "execution_count": 15,
   "metadata": {
    "execution": {
     "iopub.execute_input": "2021-01-22T01:44:18.798510Z",
     "iopub.status.busy": "2021-01-22T01:44:18.797563Z",
     "iopub.status.idle": "2021-01-22T01:44:18.825349Z",
     "shell.execute_reply": "2021-01-22T01:44:18.826014Z"
    },
    "papermill": {
     "duration": 0.048343,
     "end_time": "2021-01-22T01:44:18.826304",
     "exception": false,
     "start_time": "2021-01-22T01:44:18.777961",
     "status": "completed"
    },
    "tags": []
   },
   "outputs": [],
   "source": [
    "y_pred = model.predict(test, num_iteration=model.best_iteration)\n",
    "y_pred_max = np.round(y_pred)"
   ]
  },
  {
   "cell_type": "code",
   "execution_count": 16,
   "metadata": {
    "execution": {
     "iopub.execute_input": "2021-01-22T01:44:18.862590Z",
     "iopub.status.busy": "2021-01-22T01:44:18.861533Z",
     "iopub.status.idle": "2021-01-22T01:44:18.864860Z",
     "shell.execute_reply": "2021-01-22T01:44:18.864150Z"
    },
    "papermill": {
     "duration": 0.0239,
     "end_time": "2021-01-22T01:44:18.865130",
     "exception": false,
     "start_time": "2021-01-22T01:44:18.841230",
     "status": "completed"
    },
    "tags": []
   },
   "outputs": [],
   "source": [
    "pred = pd.DataFrame()"
   ]
  },
  {
   "cell_type": "code",
   "execution_count": 17,
   "metadata": {
    "execution": {
     "iopub.execute_input": "2021-01-22T01:44:18.900814Z",
     "iopub.status.busy": "2021-01-22T01:44:18.899752Z",
     "iopub.status.idle": "2021-01-22T01:44:18.903840Z",
     "shell.execute_reply": "2021-01-22T01:44:18.904402Z"
    },
    "papermill": {
     "duration": 0.024448,
     "end_time": "2021-01-22T01:44:18.904669",
     "exception": false,
     "start_time": "2021-01-22T01:44:18.880221",
     "status": "completed"
    },
    "tags": []
   },
   "outputs": [],
   "source": [
    "pred['ID'] = rawdata['SK_ID_CURR']"
   ]
  },
  {
   "cell_type": "code",
   "execution_count": 18,
   "metadata": {
    "execution": {
     "iopub.execute_input": "2021-01-22T01:44:18.942722Z",
     "iopub.status.busy": "2021-01-22T01:44:18.941673Z",
     "iopub.status.idle": "2021-01-22T01:44:18.944000Z",
     "shell.execute_reply": "2021-01-22T01:44:18.944612Z"
    },
    "papermill": {
     "duration": 0.023325,
     "end_time": "2021-01-22T01:44:18.944966",
     "exception": false,
     "start_time": "2021-01-22T01:44:18.921641",
     "status": "completed"
    },
    "tags": []
   },
   "outputs": [],
   "source": [
    "pred['TARGET'] = y_pred_max"
   ]
  },
  {
   "cell_type": "code",
   "execution_count": 19,
   "metadata": {
    "execution": {
     "iopub.execute_input": "2021-01-22T01:44:18.982416Z",
     "iopub.status.busy": "2021-01-22T01:44:18.981466Z",
     "iopub.status.idle": "2021-01-22T01:44:19.012677Z",
     "shell.execute_reply": "2021-01-22T01:44:19.013325Z"
    },
    "papermill": {
     "duration": 0.052916,
     "end_time": "2021-01-22T01:44:19.013547",
     "exception": false,
     "start_time": "2021-01-22T01:44:18.960631",
     "status": "completed"
    },
    "tags": []
   },
   "outputs": [],
   "source": [
    "pred.to_csv(f'../../data/trial/pred_{TARGET_DATE}.csv', index=None)"
   ]
  },
  {
   "cell_type": "code",
   "execution_count": null,
   "metadata": {
    "papermill": {
     "duration": 0.012311,
     "end_time": "2021-01-22T01:44:19.037921",
     "exception": false,
     "start_time": "2021-01-22T01:44:19.025610",
     "status": "completed"
    },
    "tags": []
   },
   "outputs": [],
   "source": []
  }
 ],
 "metadata": {
  "kernelspec": {
   "display_name": "Python 3",
   "language": "python",
   "name": "python3"
  },
  "language_info": {
   "codemirror_mode": {
    "name": "ipython",
    "version": 3
   },
   "file_extension": ".py",
   "mimetype": "text/x-python",
   "name": "python",
   "nbconvert_exporter": "python",
   "pygments_lexer": "ipython3",
   "version": "3.7.7"
  },
  "papermill": {
   "default_parameters": {},
   "duration": 5.310415,
   "end_time": "2021-01-22T01:44:20.553845",
   "environment_variables": {},
   "exception": null,
   "input_path": "/Users/koyajima/Code/between_poc_and_production/notebooks/trial/inference.ipynb",
   "output_path": "/Users/koyajima/Code/between_poc_and_production/notebooks/trial/logs/inference.ipynb",
   "parameters": {
    "TARGET_DATE": 20210101
   },
   "start_time": "2021-01-22T01:44:15.243430",
   "version": "2.2.2"
  }
 },
 "nbformat": 4,
 "nbformat_minor": 4
}