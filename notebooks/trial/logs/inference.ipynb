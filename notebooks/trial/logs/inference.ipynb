{
 "cells": [
  {
   "cell_type": "markdown",
   "metadata": {
    "papermill": {
     "duration": 0.021367,
     "end_time": "2021-01-28T07:21:24.324984",
     "exception": false,
     "start_time": "2021-01-28T07:21:24.303617",
     "status": "completed"
    },
    "tags": []
   },
   "source": [
    "# 推論"
   ]
  },
  {
   "cell_type": "code",
   "execution_count": 1,
   "metadata": {
    "execution": {
     "iopub.execute_input": "2021-01-28T07:21:24.351304Z",
     "iopub.status.busy": "2021-01-28T07:21:24.350650Z",
     "iopub.status.idle": "2021-01-28T07:21:24.352505Z",
     "shell.execute_reply": "2021-01-28T07:21:24.353048Z"
    },
    "papermill": {
     "duration": 0.015516,
     "end_time": "2021-01-28T07:21:24.353324",
     "exception": false,
     "start_time": "2021-01-28T07:21:24.337808",
     "status": "completed"
    },
    "tags": []
   },
   "outputs": [],
   "source": [
    "# パラメータ設定"
   ]
  },
  {
   "cell_type": "code",
   "execution_count": 2,
   "metadata": {
    "execution": {
     "iopub.execute_input": "2021-01-28T07:21:24.376719Z",
     "iopub.status.busy": "2021-01-28T07:21:24.376048Z",
     "iopub.status.idle": "2021-01-28T07:21:24.377591Z",
     "shell.execute_reply": "2021-01-28T07:21:24.378126Z"
    },
    "papermill": {
     "duration": 0.014768,
     "end_time": "2021-01-28T07:21:24.378381",
     "exception": false,
     "start_time": "2021-01-28T07:21:24.363613",
     "status": "completed"
    },
    "tags": [
     "parameters"
    ]
   },
   "outputs": [],
   "source": [
    "TARGET_DATE = '20210101'"
   ]
  },
  {
   "cell_type": "code",
   "execution_count": 3,
   "metadata": {
    "execution": {
     "iopub.execute_input": "2021-01-28T07:21:24.399637Z",
     "iopub.status.busy": "2021-01-28T07:21:24.399083Z",
     "iopub.status.idle": "2021-01-28T07:21:24.400802Z",
     "shell.execute_reply": "2021-01-28T07:21:24.401328Z"
    },
    "papermill": {
     "duration": 0.014334,
     "end_time": "2021-01-28T07:21:24.401579",
     "exception": false,
     "start_time": "2021-01-28T07:21:24.387245",
     "status": "completed"
    },
    "tags": [
     "injected-parameters"
    ]
   },
   "outputs": [],
   "source": [
    "# Parameters\n",
    "TARGET_DATE = 20210101\n"
   ]
  },
  {
   "cell_type": "code",
   "execution_count": 4,
   "metadata": {
    "execution": {
     "iopub.execute_input": "2021-01-28T07:21:24.447142Z",
     "iopub.status.busy": "2021-01-28T07:21:24.446555Z",
     "iopub.status.idle": "2021-01-28T07:21:24.448250Z",
     "shell.execute_reply": "2021-01-28T07:21:24.448802Z"
    },
    "papermill": {
     "duration": 0.038321,
     "end_time": "2021-01-28T07:21:24.449053",
     "exception": false,
     "start_time": "2021-01-28T07:21:24.410732",
     "status": "completed"
    },
    "tags": []
   },
   "outputs": [],
   "source": [
    "TARGET_DATE = str(TARGET_DATE)"
   ]
  },
  {
   "cell_type": "code",
   "execution_count": 5,
   "metadata": {
    "execution": {
     "iopub.execute_input": "2021-01-28T07:21:24.471453Z",
     "iopub.status.busy": "2021-01-28T07:21:24.470614Z",
     "iopub.status.idle": "2021-01-28T07:21:24.472664Z",
     "shell.execute_reply": "2021-01-28T07:21:24.473065Z"
    },
    "papermill": {
     "duration": 0.014918,
     "end_time": "2021-01-28T07:21:24.473308",
     "exception": false,
     "start_time": "2021-01-28T07:21:24.458390",
     "status": "completed"
    },
    "tags": []
   },
   "outputs": [],
   "source": [
    "# ライブラリ読み込み"
   ]
  },
  {
   "cell_type": "code",
   "execution_count": 6,
   "metadata": {
    "execution": {
     "iopub.execute_input": "2021-01-28T07:21:24.496781Z",
     "iopub.status.busy": "2021-01-28T07:21:24.496200Z",
     "iopub.status.idle": "2021-01-28T07:21:25.887765Z",
     "shell.execute_reply": "2021-01-28T07:21:25.888227Z"
    },
    "papermill": {
     "duration": 1.406006,
     "end_time": "2021-01-28T07:21:25.888548",
     "exception": false,
     "start_time": "2021-01-28T07:21:24.482542",
     "status": "completed"
    },
    "tags": []
   },
   "outputs": [],
   "source": [
    "import pandas as pd\n",
    "import numpy as np\n",
    "import argparse\n",
    "import shap\n",
    "import optuna\n",
    "import pickle\n",
    "import lightgbm as lgb\n",
    "from sklearn.metrics import accuracy_score, confusion_matrix, recall_score, f1_score, precision_score\n",
    "from sklearn.model_selection import train_test_split\n",
    "from sklearn import datasets\n",
    "from sklearn import metrics\n",
    "from sklearn.model_selection import StratifiedKFold\n",
    "import matplotlib.pyplot as plt\n",
    "import pickle"
   ]
  },
  {
   "cell_type": "code",
   "execution_count": 7,
   "metadata": {
    "execution": {
     "iopub.execute_input": "2021-01-28T07:21:25.910418Z",
     "iopub.status.busy": "2021-01-28T07:21:25.909754Z",
     "iopub.status.idle": "2021-01-28T07:21:25.911594Z",
     "shell.execute_reply": "2021-01-28T07:21:25.912129Z"
    },
    "papermill": {
     "duration": 0.014707,
     "end_time": "2021-01-28T07:21:25.912382",
     "exception": false,
     "start_time": "2021-01-28T07:21:25.897675",
     "status": "completed"
    },
    "tags": []
   },
   "outputs": [],
   "source": [
    "# dataframe設定調整"
   ]
  },
  {
   "cell_type": "code",
   "execution_count": 8,
   "metadata": {
    "execution": {
     "iopub.execute_input": "2021-01-28T07:21:25.934680Z",
     "iopub.status.busy": "2021-01-28T07:21:25.934121Z",
     "iopub.status.idle": "2021-01-28T07:21:25.935794Z",
     "shell.execute_reply": "2021-01-28T07:21:25.936336Z"
    },
    "papermill": {
     "duration": 0.014947,
     "end_time": "2021-01-28T07:21:25.936588",
     "exception": false,
     "start_time": "2021-01-28T07:21:25.921641",
     "status": "completed"
    },
    "tags": []
   },
   "outputs": [],
   "source": [
    "pd.set_option('display.max_columns', 100)\n",
    "pd.set_option('display.max_rows', 200)"
   ]
  },
  {
   "cell_type": "code",
   "execution_count": 9,
   "metadata": {
    "execution": {
     "iopub.execute_input": "2021-01-28T07:21:25.959618Z",
     "iopub.status.busy": "2021-01-28T07:21:25.958980Z",
     "iopub.status.idle": "2021-01-28T07:21:25.960659Z",
     "shell.execute_reply": "2021-01-28T07:21:25.961183Z"
    },
    "papermill": {
     "duration": 0.015029,
     "end_time": "2021-01-28T07:21:25.961435",
     "exception": false,
     "start_time": "2021-01-28T07:21:25.946406",
     "status": "completed"
    },
    "tags": []
   },
   "outputs": [],
   "source": [
    "# データ読み込み"
   ]
  },
  {
   "cell_type": "code",
   "execution_count": 10,
   "metadata": {
    "execution": {
     "iopub.execute_input": "2021-01-28T07:21:25.985369Z",
     "iopub.status.busy": "2021-01-28T07:21:25.984618Z",
     "iopub.status.idle": "2021-01-28T07:21:25.989380Z",
     "shell.execute_reply": "2021-01-28T07:21:25.989930Z"
    },
    "papermill": {
     "duration": 0.019134,
     "end_time": "2021-01-28T07:21:25.990273",
     "exception": false,
     "start_time": "2021-01-28T07:21:25.971139",
     "status": "completed"
    },
    "tags": []
   },
   "outputs": [],
   "source": [
    "test = pd.read_pickle(f'../../data/trial/predict_{TARGET_DATE}.pkl')"
   ]
  },
  {
   "cell_type": "code",
   "execution_count": 11,
   "metadata": {
    "execution": {
     "iopub.execute_input": "2021-01-28T07:21:26.013441Z",
     "iopub.status.busy": "2021-01-28T07:21:26.012880Z",
     "iopub.status.idle": "2021-01-28T07:21:26.108724Z",
     "shell.execute_reply": "2021-01-28T07:21:26.109347Z"
    },
    "papermill": {
     "duration": 0.109516,
     "end_time": "2021-01-28T07:21:26.109535",
     "exception": false,
     "start_time": "2021-01-28T07:21:26.000019",
     "status": "completed"
    },
    "tags": []
   },
   "outputs": [],
   "source": [
    "rawdata = pd.read_csv(f'../../data/trial/{TARGET_DATE}.csv')"
   ]
  },
  {
   "cell_type": "code",
   "execution_count": 12,
   "metadata": {
    "execution": {
     "iopub.execute_input": "2021-01-28T07:21:26.134329Z",
     "iopub.status.busy": "2021-01-28T07:21:26.133686Z",
     "iopub.status.idle": "2021-01-28T07:21:26.135900Z",
     "shell.execute_reply": "2021-01-28T07:21:26.136372Z"
    },
    "papermill": {
     "duration": 0.016574,
     "end_time": "2021-01-28T07:21:26.136633",
     "exception": false,
     "start_time": "2021-01-28T07:21:26.120059",
     "status": "completed"
    },
    "tags": []
   },
   "outputs": [],
   "source": [
    "# モデル読み込み"
   ]
  },
  {
   "cell_type": "code",
   "execution_count": 13,
   "metadata": {
    "execution": {
     "iopub.execute_input": "2021-01-28T07:21:26.162431Z",
     "iopub.status.busy": "2021-01-28T07:21:26.161754Z",
     "iopub.status.idle": "2021-01-28T07:21:26.169917Z",
     "shell.execute_reply": "2021-01-28T07:21:26.170415Z"
    },
    "papermill": {
     "duration": 0.022784,
     "end_time": "2021-01-28T07:21:26.170625",
     "exception": false,
     "start_time": "2021-01-28T07:21:26.147841",
     "status": "completed"
    },
    "tags": []
   },
   "outputs": [],
   "source": [
    "model = pickle.load(open(f'../../data/trial/model_{TARGET_DATE}.pkl', 'rb'))"
   ]
  },
  {
   "cell_type": "code",
   "execution_count": 14,
   "metadata": {
    "execution": {
     "iopub.execute_input": "2021-01-28T07:21:26.204255Z",
     "iopub.status.busy": "2021-01-28T07:21:26.203530Z",
     "iopub.status.idle": "2021-01-28T07:21:26.205987Z",
     "shell.execute_reply": "2021-01-28T07:21:26.206455Z"
    },
    "papermill": {
     "duration": 0.022836,
     "end_time": "2021-01-28T07:21:26.206662",
     "exception": false,
     "start_time": "2021-01-28T07:21:26.183826",
     "status": "completed"
    },
    "tags": []
   },
   "outputs": [],
   "source": [
    "test.drop(columns=['TARGET'], inplace=True)"
   ]
  },
  {
   "cell_type": "code",
   "execution_count": 15,
   "metadata": {
    "execution": {
     "iopub.execute_input": "2021-01-28T07:21:26.238776Z",
     "iopub.status.busy": "2021-01-28T07:21:26.237668Z",
     "iopub.status.idle": "2021-01-28T07:21:26.255789Z",
     "shell.execute_reply": "2021-01-28T07:21:26.256301Z"
    },
    "papermill": {
     "duration": 0.036454,
     "end_time": "2021-01-28T07:21:26.256513",
     "exception": false,
     "start_time": "2021-01-28T07:21:26.220059",
     "status": "completed"
    },
    "tags": []
   },
   "outputs": [],
   "source": [
    "y_pred = model.predict(test, num_iteration=model.best_iteration)\n",
    "y_pred_max = np.round(y_pred)"
   ]
  },
  {
   "cell_type": "code",
   "execution_count": 16,
   "metadata": {
    "execution": {
     "iopub.execute_input": "2021-01-28T07:21:26.288849Z",
     "iopub.status.busy": "2021-01-28T07:21:26.287955Z",
     "iopub.status.idle": "2021-01-28T07:21:26.289964Z",
     "shell.execute_reply": "2021-01-28T07:21:26.290471Z"
    },
    "papermill": {
     "duration": 0.020427,
     "end_time": "2021-01-28T07:21:26.290701",
     "exception": false,
     "start_time": "2021-01-28T07:21:26.270274",
     "status": "completed"
    },
    "tags": []
   },
   "outputs": [],
   "source": [
    "pred = pd.DataFrame()"
   ]
  },
  {
   "cell_type": "code",
   "execution_count": 17,
   "metadata": {
    "execution": {
     "iopub.execute_input": "2021-01-28T07:21:26.322825Z",
     "iopub.status.busy": "2021-01-28T07:21:26.321929Z",
     "iopub.status.idle": "2021-01-28T07:21:26.325911Z",
     "shell.execute_reply": "2021-01-28T07:21:26.326384Z"
    },
    "papermill": {
     "duration": 0.022351,
     "end_time": "2021-01-28T07:21:26.326593",
     "exception": false,
     "start_time": "2021-01-28T07:21:26.304242",
     "status": "completed"
    },
    "tags": []
   },
   "outputs": [],
   "source": [
    "pred['ID'] = rawdata['SK_ID_CURR']"
   ]
  },
  {
   "cell_type": "code",
   "execution_count": 18,
   "metadata": {
    "execution": {
     "iopub.execute_input": "2021-01-28T07:21:26.358848Z",
     "iopub.status.busy": "2021-01-28T07:21:26.358010Z",
     "iopub.status.idle": "2021-01-28T07:21:26.360098Z",
     "shell.execute_reply": "2021-01-28T07:21:26.360635Z"
    },
    "papermill": {
     "duration": 0.020503,
     "end_time": "2021-01-28T07:21:26.360861",
     "exception": false,
     "start_time": "2021-01-28T07:21:26.340358",
     "status": "completed"
    },
    "tags": []
   },
   "outputs": [],
   "source": [
    "pred['TARGET'] = y_pred_max"
   ]
  },
  {
   "cell_type": "code",
   "execution_count": 19,
   "metadata": {
    "execution": {
     "iopub.execute_input": "2021-01-28T07:21:26.393044Z",
     "iopub.status.busy": "2021-01-28T07:21:26.392225Z",
     "iopub.status.idle": "2021-01-28T07:21:26.422314Z",
     "shell.execute_reply": "2021-01-28T07:21:26.422938Z"
    },
    "papermill": {
     "duration": 0.048154,
     "end_time": "2021-01-28T07:21:26.423215",
     "exception": false,
     "start_time": "2021-01-28T07:21:26.375061",
     "status": "completed"
    },
    "tags": []
   },
   "outputs": [],
   "source": [
    "pred.to_csv(f'../../data/trial/pred_{TARGET_DATE}.csv', index=None)"
   ]
  },
  {
   "cell_type": "code",
   "execution_count": null,
   "metadata": {
    "papermill": {
     "duration": 0.01464,
     "end_time": "2021-01-28T07:21:26.453316",
     "exception": false,
     "start_time": "2021-01-28T07:21:26.438676",
     "status": "completed"
    },
    "tags": []
   },
   "outputs": [],
   "source": []
  }
 ],
 "metadata": {
  "kernelspec": {
   "display_name": "Python 3",
   "language": "python",
   "name": "python3"
  },
  "language_info": {
   "codemirror_mode": {
    "name": "ipython",
    "version": 3
   },
   "file_extension": ".py",
   "mimetype": "text/x-python",
   "name": "python",
   "nbconvert_exporter": "python",
   "pygments_lexer": "ipython3",
   "version": "3.7.7"
  },
  "papermill": {
   "default_parameters": {},
   "duration": 3.834234,
   "end_time": "2021-01-28T07:21:27.000077",
   "environment_variables": {},
   "exception": null,
   "input_path": "/Users/koyajima/Code/between_poc_and_production/notebooks/trial/inference.ipynb",
   "output_path": "/Users/koyajima/Code/between_poc_and_production/notebooks/trial/logs/inference.ipynb",
   "parameters": {
    "TARGET_DATE": 20210101
   },
   "start_time": "2021-01-28T07:21:23.165843",
   "version": "2.2.2"
  }
 },
 "nbformat": 4,
 "nbformat_minor": 4
}