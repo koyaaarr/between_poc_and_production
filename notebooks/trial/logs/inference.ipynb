{
 "cells": [
  {
   "cell_type": "markdown",
   "metadata": {
    "papermill": {
     "duration": 0.010468,
     "end_time": "2021-01-18T06:03:11.980417",
     "exception": false,
     "start_time": "2021-01-18T06:03:11.969949",
     "status": "completed"
    },
    "tags": []
   },
   "source": [
    "# 推論"
   ]
  },
  {
   "cell_type": "code",
   "execution_count": 1,
   "metadata": {
    "execution": {
     "iopub.execute_input": "2021-01-18T06:03:12.005393Z",
     "iopub.status.busy": "2021-01-18T06:03:12.004745Z",
     "iopub.status.idle": "2021-01-18T06:03:12.006796Z",
     "shell.execute_reply": "2021-01-18T06:03:12.007401Z"
    },
    "papermill": {
     "duration": 0.017678,
     "end_time": "2021-01-18T06:03:12.007684",
     "exception": false,
     "start_time": "2021-01-18T06:03:11.990006",
     "status": "completed"
    },
    "tags": []
   },
   "outputs": [],
   "source": [
    "# パラメータ設定"
   ]
  },
  {
   "cell_type": "code",
   "execution_count": 2,
   "metadata": {
    "execution": {
     "iopub.execute_input": "2021-01-18T06:03:12.030487Z",
     "iopub.status.busy": "2021-01-18T06:03:12.029881Z",
     "iopub.status.idle": "2021-01-18T06:03:12.031473Z",
     "shell.execute_reply": "2021-01-18T06:03:12.031934Z"
    },
    "papermill": {
     "duration": 0.01474,
     "end_time": "2021-01-18T06:03:12.032186",
     "exception": false,
     "start_time": "2021-01-18T06:03:12.017446",
     "status": "completed"
    },
    "tags": [
     "parameters"
    ]
   },
   "outputs": [],
   "source": [
    "TARGET_DATE = '20210101'"
   ]
  },
  {
   "cell_type": "code",
   "execution_count": 3,
   "metadata": {
    "execution": {
     "iopub.execute_input": "2021-01-18T06:03:12.054166Z",
     "iopub.status.busy": "2021-01-18T06:03:12.053475Z",
     "iopub.status.idle": "2021-01-18T06:03:12.055140Z",
     "shell.execute_reply": "2021-01-18T06:03:12.055682Z"
    },
    "papermill": {
     "duration": 0.014671,
     "end_time": "2021-01-18T06:03:12.055935",
     "exception": false,
     "start_time": "2021-01-18T06:03:12.041264",
     "status": "completed"
    },
    "tags": [
     "injected-parameters"
    ]
   },
   "outputs": [],
   "source": [
    "# Parameters\n",
    "TARGET_DATE = 20210101\n"
   ]
  },
  {
   "cell_type": "code",
   "execution_count": 4,
   "metadata": {
    "execution": {
     "iopub.execute_input": "2021-01-18T06:03:12.101620Z",
     "iopub.status.busy": "2021-01-18T06:03:12.100941Z",
     "iopub.status.idle": "2021-01-18T06:03:12.102573Z",
     "shell.execute_reply": "2021-01-18T06:03:12.103029Z"
    },
    "papermill": {
     "duration": 0.014712,
     "end_time": "2021-01-18T06:03:12.103284",
     "exception": false,
     "start_time": "2021-01-18T06:03:12.088572",
     "status": "completed"
    },
    "tags": []
   },
   "outputs": [],
   "source": [
    "TARGET_DATE = str(TARGET_DATE)"
   ]
  },
  {
   "cell_type": "code",
   "execution_count": 5,
   "metadata": {
    "execution": {
     "iopub.execute_input": "2021-01-18T06:03:12.125714Z",
     "iopub.status.busy": "2021-01-18T06:03:12.124905Z",
     "iopub.status.idle": "2021-01-18T06:03:12.126812Z",
     "shell.execute_reply": "2021-01-18T06:03:12.127335Z"
    },
    "papermill": {
     "duration": 0.014845,
     "end_time": "2021-01-18T06:03:12.127590",
     "exception": false,
     "start_time": "2021-01-18T06:03:12.112745",
     "status": "completed"
    },
    "tags": []
   },
   "outputs": [],
   "source": [
    "# ライブラリ読み込み"
   ]
  },
  {
   "cell_type": "code",
   "execution_count": 6,
   "metadata": {
    "execution": {
     "iopub.execute_input": "2021-01-18T06:03:12.151636Z",
     "iopub.status.busy": "2021-01-18T06:03:12.151056Z",
     "iopub.status.idle": "2021-01-18T06:03:13.599217Z",
     "shell.execute_reply": "2021-01-18T06:03:13.599759Z"
    },
    "papermill": {
     "duration": 1.463111,
     "end_time": "2021-01-18T06:03:13.600015",
     "exception": false,
     "start_time": "2021-01-18T06:03:12.136904",
     "status": "completed"
    },
    "tags": []
   },
   "outputs": [],
   "source": [
    "import pandas as pd\n",
    "import numpy as np\n",
    "import argparse\n",
    "import shap\n",
    "import optuna\n",
    "import pickle\n",
    "import lightgbm as lgb\n",
    "from sklearn.metrics import accuracy_score, confusion_matrix, recall_score, f1_score, precision_score\n",
    "from sklearn.model_selection import train_test_split\n",
    "from sklearn import datasets\n",
    "from sklearn import metrics\n",
    "from sklearn.model_selection import StratifiedKFold\n",
    "import matplotlib.pyplot as plt\n",
    "import pickle"
   ]
  },
  {
   "cell_type": "code",
   "execution_count": 7,
   "metadata": {
    "execution": {
     "iopub.execute_input": "2021-01-18T06:03:13.622603Z",
     "iopub.status.busy": "2021-01-18T06:03:13.621972Z",
     "iopub.status.idle": "2021-01-18T06:03:13.623806Z",
     "shell.execute_reply": "2021-01-18T06:03:13.624329Z"
    },
    "papermill": {
     "duration": 0.014899,
     "end_time": "2021-01-18T06:03:13.624578",
     "exception": false,
     "start_time": "2021-01-18T06:03:13.609679",
     "status": "completed"
    },
    "tags": []
   },
   "outputs": [],
   "source": [
    "# dataframe設定調整"
   ]
  },
  {
   "cell_type": "code",
   "execution_count": 8,
   "metadata": {
    "execution": {
     "iopub.execute_input": "2021-01-18T06:03:13.647904Z",
     "iopub.status.busy": "2021-01-18T06:03:13.647158Z",
     "iopub.status.idle": "2021-01-18T06:03:13.648796Z",
     "shell.execute_reply": "2021-01-18T06:03:13.649385Z"
    },
    "papermill": {
     "duration": 0.0156,
     "end_time": "2021-01-18T06:03:13.649635",
     "exception": false,
     "start_time": "2021-01-18T06:03:13.634035",
     "status": "completed"
    },
    "tags": []
   },
   "outputs": [],
   "source": [
    "pd.set_option('display.max_columns', 100)\n",
    "pd.set_option('display.max_rows', 200)"
   ]
  },
  {
   "cell_type": "code",
   "execution_count": 9,
   "metadata": {
    "execution": {
     "iopub.execute_input": "2021-01-18T06:03:13.672923Z",
     "iopub.status.busy": "2021-01-18T06:03:13.672315Z",
     "iopub.status.idle": "2021-01-18T06:03:13.674177Z",
     "shell.execute_reply": "2021-01-18T06:03:13.674712Z"
    },
    "papermill": {
     "duration": 0.015618,
     "end_time": "2021-01-18T06:03:13.674962",
     "exception": false,
     "start_time": "2021-01-18T06:03:13.659344",
     "status": "completed"
    },
    "tags": []
   },
   "outputs": [],
   "source": [
    "# データ読み込み"
   ]
  },
  {
   "cell_type": "code",
   "execution_count": 10,
   "metadata": {
    "execution": {
     "iopub.execute_input": "2021-01-18T06:03:13.699007Z",
     "iopub.status.busy": "2021-01-18T06:03:13.698398Z",
     "iopub.status.idle": "2021-01-18T06:03:13.701864Z",
     "shell.execute_reply": "2021-01-18T06:03:13.702356Z"
    },
    "papermill": {
     "duration": 0.018004,
     "end_time": "2021-01-18T06:03:13.702602",
     "exception": false,
     "start_time": "2021-01-18T06:03:13.684598",
     "status": "completed"
    },
    "tags": []
   },
   "outputs": [],
   "source": [
    "test = pd.read_pickle(f'../../data/trial/predict_{TARGET_DATE}.pkl')"
   ]
  },
  {
   "cell_type": "code",
   "execution_count": 11,
   "metadata": {
    "execution": {
     "iopub.execute_input": "2021-01-18T06:03:13.728192Z",
     "iopub.status.busy": "2021-01-18T06:03:13.727620Z",
     "iopub.status.idle": "2021-01-18T06:03:13.829176Z",
     "shell.execute_reply": "2021-01-18T06:03:13.829716Z"
    },
    "papermill": {
     "duration": 0.116977,
     "end_time": "2021-01-18T06:03:13.829973",
     "exception": false,
     "start_time": "2021-01-18T06:03:13.712996",
     "status": "completed"
    },
    "tags": []
   },
   "outputs": [],
   "source": [
    "rawdata = pd.read_csv(f'../../data/trial/{TARGET_DATE}.csv')"
   ]
  },
  {
   "cell_type": "code",
   "execution_count": 12,
   "metadata": {
    "execution": {
     "iopub.execute_input": "2021-01-18T06:03:13.855002Z",
     "iopub.status.busy": "2021-01-18T06:03:13.854430Z",
     "iopub.status.idle": "2021-01-18T06:03:13.856052Z",
     "shell.execute_reply": "2021-01-18T06:03:13.856580Z"
    },
    "papermill": {
     "duration": 0.016335,
     "end_time": "2021-01-18T06:03:13.856830",
     "exception": false,
     "start_time": "2021-01-18T06:03:13.840495",
     "status": "completed"
    },
    "tags": []
   },
   "outputs": [],
   "source": [
    "# モデル読み込み"
   ]
  },
  {
   "cell_type": "code",
   "execution_count": 13,
   "metadata": {
    "execution": {
     "iopub.execute_input": "2021-01-18T06:03:13.880926Z",
     "iopub.status.busy": "2021-01-18T06:03:13.880282Z",
     "iopub.status.idle": "2021-01-18T06:03:13.890508Z",
     "shell.execute_reply": "2021-01-18T06:03:13.891001Z"
    },
    "papermill": {
     "duration": 0.024266,
     "end_time": "2021-01-18T06:03:13.891210",
     "exception": false,
     "start_time": "2021-01-18T06:03:13.866944",
     "status": "completed"
    },
    "tags": []
   },
   "outputs": [],
   "source": [
    "model = pickle.load(open(f'../../data/trial/model_{TARGET_DATE}.pkl', 'rb'))"
   ]
  },
  {
   "cell_type": "code",
   "execution_count": 14,
   "metadata": {
    "execution": {
     "iopub.execute_input": "2021-01-18T06:03:13.924900Z",
     "iopub.status.busy": "2021-01-18T06:03:13.924003Z",
     "iopub.status.idle": "2021-01-18T06:03:13.926140Z",
     "shell.execute_reply": "2021-01-18T06:03:13.926612Z"
    },
    "papermill": {
     "duration": 0.022152,
     "end_time": "2021-01-18T06:03:13.926815",
     "exception": false,
     "start_time": "2021-01-18T06:03:13.904663",
     "status": "completed"
    },
    "tags": []
   },
   "outputs": [],
   "source": [
    "test.drop(columns=['TARGET'], inplace=True)"
   ]
  },
  {
   "cell_type": "code",
   "execution_count": 15,
   "metadata": {
    "execution": {
     "iopub.execute_input": "2021-01-18T06:03:13.958320Z",
     "iopub.status.busy": "2021-01-18T06:03:13.957533Z",
     "iopub.status.idle": "2021-01-18T06:03:13.980076Z",
     "shell.execute_reply": "2021-01-18T06:03:13.980583Z"
    },
    "papermill": {
     "duration": 0.040319,
     "end_time": "2021-01-18T06:03:13.980791",
     "exception": false,
     "start_time": "2021-01-18T06:03:13.940472",
     "status": "completed"
    },
    "tags": []
   },
   "outputs": [],
   "source": [
    "y_pred = model.predict(test, num_iteration=model.best_iteration)\n",
    "y_pred_max = np.round(y_pred)"
   ]
  },
  {
   "cell_type": "code",
   "execution_count": 16,
   "metadata": {
    "execution": {
     "iopub.execute_input": "2021-01-18T06:03:14.014310Z",
     "iopub.status.busy": "2021-01-18T06:03:14.013439Z",
     "iopub.status.idle": "2021-01-18T06:03:14.015433Z",
     "shell.execute_reply": "2021-01-18T06:03:14.015960Z"
    },
    "papermill": {
     "duration": 0.021385,
     "end_time": "2021-01-18T06:03:14.016168",
     "exception": false,
     "start_time": "2021-01-18T06:03:13.994783",
     "status": "completed"
    },
    "tags": []
   },
   "outputs": [],
   "source": [
    "pred = pd.DataFrame()"
   ]
  },
  {
   "cell_type": "code",
   "execution_count": 17,
   "metadata": {
    "execution": {
     "iopub.execute_input": "2021-01-18T06:03:14.049710Z",
     "iopub.status.busy": "2021-01-18T06:03:14.048715Z",
     "iopub.status.idle": "2021-01-18T06:03:14.052732Z",
     "shell.execute_reply": "2021-01-18T06:03:14.053286Z"
    },
    "papermill": {
     "duration": 0.023302,
     "end_time": "2021-01-18T06:03:14.053491",
     "exception": false,
     "start_time": "2021-01-18T06:03:14.030189",
     "status": "completed"
    },
    "tags": []
   },
   "outputs": [],
   "source": [
    "pred['ID'] = rawdata['SK_ID_CURR']"
   ]
  },
  {
   "cell_type": "code",
   "execution_count": 18,
   "metadata": {
    "execution": {
     "iopub.execute_input": "2021-01-18T06:03:14.086272Z",
     "iopub.status.busy": "2021-01-18T06:03:14.085439Z",
     "iopub.status.idle": "2021-01-18T06:03:14.087611Z",
     "shell.execute_reply": "2021-01-18T06:03:14.088150Z"
    },
    "papermill": {
     "duration": 0.020959,
     "end_time": "2021-01-18T06:03:14.088414",
     "exception": false,
     "start_time": "2021-01-18T06:03:14.067455",
     "status": "completed"
    },
    "tags": []
   },
   "outputs": [],
   "source": [
    "pred['TARGET'] = y_pred_max"
   ]
  },
  {
   "cell_type": "code",
   "execution_count": 19,
   "metadata": {
    "execution": {
     "iopub.execute_input": "2021-01-18T06:03:14.121295Z",
     "iopub.status.busy": "2021-01-18T06:03:14.120476Z",
     "iopub.status.idle": "2021-01-18T06:03:14.147086Z",
     "shell.execute_reply": "2021-01-18T06:03:14.147575Z"
    },
    "papermill": {
     "duration": 0.045018,
     "end_time": "2021-01-18T06:03:14.147782",
     "exception": false,
     "start_time": "2021-01-18T06:03:14.102764",
     "status": "completed"
    },
    "tags": []
   },
   "outputs": [],
   "source": [
    "pred.to_csv(f'../../data/trial/pred_{TARGET_DATE}.csv', index=None)"
   ]
  },
  {
   "cell_type": "code",
   "execution_count": null,
   "metadata": {
    "papermill": {
     "duration": 0.013762,
     "end_time": "2021-01-18T06:03:14.175689",
     "exception": false,
     "start_time": "2021-01-18T06:03:14.161927",
     "status": "completed"
    },
    "tags": []
   },
   "outputs": [],
   "source": []
  }
 ],
 "metadata": {
  "kernelspec": {
   "display_name": "Python 3",
   "language": "python",
   "name": "python3"
  },
  "language_info": {
   "codemirror_mode": {
    "name": "ipython",
    "version": 3
   },
   "file_extension": ".py",
   "mimetype": "text/x-python",
   "name": "python",
   "nbconvert_exporter": "python",
   "pygments_lexer": "ipython3",
   "version": "3.7.7"
  },
  "papermill": {
   "default_parameters": {},
   "duration": 3.87961,
   "end_time": "2021-01-18T06:03:14.713859",
   "environment_variables": {},
   "exception": null,
   "input_path": "/Users/koyajima/Code/between_poc_and_production/notebooks/trial/inference.ipynb",
   "output_path": "/Users/koyajima/Code/between_poc_and_production/notebooks/trial/logs/inference.ipynb",
   "parameters": {
    "TARGET_DATE": 20210101
   },
   "start_time": "2021-01-18T06:03:10.834249",
   "version": "2.2.2"
  }
 },
 "nbformat": 4,
 "nbformat_minor": 4
}