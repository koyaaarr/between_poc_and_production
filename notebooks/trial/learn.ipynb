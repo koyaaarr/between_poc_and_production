{
 "cells": [
  {
   "cell_type": "markdown",
   "metadata": {
    "papermill": {
     "duration": 0.021281,
     "end_time": "2021-01-28T07:20:44.193540",
     "exception": false,
     "start_time": "2021-01-28T07:20:44.172259",
     "status": "completed"
    },
    "tags": []
   },
   "source": [
    "# 学習\n",
    "- パラメータチューニング"
   ]
  },
  {
   "cell_type": "code",
   "execution_count": 1,
   "metadata": {
    "execution": {
     "iopub.execute_input": "2021-01-28T07:20:44.223073Z",
     "iopub.status.busy": "2021-01-28T07:20:44.222414Z",
     "iopub.status.idle": "2021-01-28T07:20:44.224248Z",
     "shell.execute_reply": "2021-01-28T07:20:44.224797Z"
    },
    "papermill": {
     "duration": 0.018636,
     "end_time": "2021-01-28T07:20:44.225075",
     "exception": false,
     "start_time": "2021-01-28T07:20:44.206439",
     "status": "completed"
    },
    "tags": []
   },
   "outputs": [],
   "source": [
    "# パラメータ設定"
   ]
  },
  {
   "cell_type": "code",
   "execution_count": 2,
   "metadata": {
    "execution": {
     "iopub.execute_input": "2021-01-28T07:20:44.251658Z",
     "iopub.status.busy": "2021-01-28T07:20:44.251096Z",
     "iopub.status.idle": "2021-01-28T07:20:44.252862Z",
     "shell.execute_reply": "2021-01-28T07:20:44.253284Z"
    },
    "papermill": {
     "duration": 0.01666,
     "end_time": "2021-01-28T07:20:44.253537",
     "exception": false,
     "start_time": "2021-01-28T07:20:44.236877",
     "status": "completed"
    },
    "tags": [
     "parameters"
    ]
   },
   "outputs": [],
   "source": [
    "TARGET_DATE = '20210101'"
   ]
  },
  {
   "cell_type": "code",
   "execution_count": 4,
   "metadata": {
    "execution": {
     "iopub.execute_input": "2021-01-28T07:20:44.332761Z",
     "iopub.status.busy": "2021-01-28T07:20:44.332141Z",
     "iopub.status.idle": "2021-01-28T07:20:44.333888Z",
     "shell.execute_reply": "2021-01-28T07:20:44.334506Z"
    },
    "papermill": {
     "duration": 0.017374,
     "end_time": "2021-01-28T07:20:44.334754",
     "exception": false,
     "start_time": "2021-01-28T07:20:44.317380",
     "status": "completed"
    },
    "tags": []
   },
   "outputs": [],
   "source": [
    "TARGET_DATE = str(TARGET_DATE)"
   ]
  },
  {
   "cell_type": "code",
   "execution_count": 5,
   "metadata": {
    "execution": {
     "iopub.execute_input": "2021-01-28T07:20:44.361732Z",
     "iopub.status.busy": "2021-01-28T07:20:44.361139Z",
     "iopub.status.idle": "2021-01-28T07:20:44.362680Z",
     "shell.execute_reply": "2021-01-28T07:20:44.363225Z"
    },
    "papermill": {
     "duration": 0.01702,
     "end_time": "2021-01-28T07:20:44.363485",
     "exception": false,
     "start_time": "2021-01-28T07:20:44.346465",
     "status": "completed"
    },
    "tags": []
   },
   "outputs": [],
   "source": [
    "# ライブラリ読み込み"
   ]
  },
  {
   "cell_type": "code",
   "execution_count": 6,
   "metadata": {
    "execution": {
     "iopub.execute_input": "2021-01-28T07:20:44.391644Z",
     "iopub.status.busy": "2021-01-28T07:20:44.391075Z",
     "iopub.status.idle": "2021-01-28T07:20:47.014838Z",
     "shell.execute_reply": "2021-01-28T07:20:47.014269Z"
    },
    "papermill": {
     "duration": 2.6398,
     "end_time": "2021-01-28T07:20:47.015065",
     "exception": false,
     "start_time": "2021-01-28T07:20:44.375265",
     "status": "completed"
    },
    "tags": []
   },
   "outputs": [],
   "source": [
    "import pandas as pd\n",
    "import numpy as np\n",
    "import argparse\n",
    "import shap\n",
    "import optuna\n",
    "import pickle\n",
    "import lightgbm as lgb\n",
    "from sklearn.metrics import accuracy_score, confusion_matrix, recall_score, f1_score, precision_score\n",
    "from sklearn.model_selection import train_test_split\n",
    "from sklearn import datasets\n",
    "from sklearn import metrics\n",
    "from sklearn.model_selection import StratifiedKFold\n",
    "import matplotlib.pyplot as plt"
   ]
  },
  {
   "cell_type": "code",
   "execution_count": 7,
   "metadata": {
    "execution": {
     "iopub.execute_input": "2021-01-28T07:20:47.042576Z",
     "iopub.status.busy": "2021-01-28T07:20:47.041849Z",
     "iopub.status.idle": "2021-01-28T07:20:47.043587Z",
     "shell.execute_reply": "2021-01-28T07:20:47.044129Z"
    },
    "papermill": {
     "duration": 0.017768,
     "end_time": "2021-01-28T07:20:47.044382",
     "exception": false,
     "start_time": "2021-01-28T07:20:47.026614",
     "status": "completed"
    },
    "tags": []
   },
   "outputs": [],
   "source": [
    "# dataframe設定調整"
   ]
  },
  {
   "cell_type": "code",
   "execution_count": 8,
   "metadata": {
    "execution": {
     "iopub.execute_input": "2021-01-28T07:20:47.072074Z",
     "iopub.status.busy": "2021-01-28T07:20:47.071454Z",
     "iopub.status.idle": "2021-01-28T07:20:47.073095Z",
     "shell.execute_reply": "2021-01-28T07:20:47.073548Z"
    },
    "papermill": {
     "duration": 0.017475,
     "end_time": "2021-01-28T07:20:47.073796",
     "exception": false,
     "start_time": "2021-01-28T07:20:47.056321",
     "status": "completed"
    },
    "tags": []
   },
   "outputs": [],
   "source": [
    "pd.set_option('display.max_columns', 100)\n",
    "pd.set_option('display.max_rows', 200)"
   ]
  },
  {
   "cell_type": "code",
   "execution_count": 9,
   "metadata": {
    "execution": {
     "iopub.execute_input": "2021-01-28T07:20:47.101185Z",
     "iopub.status.busy": "2021-01-28T07:20:47.100636Z",
     "iopub.status.idle": "2021-01-28T07:20:47.102272Z",
     "shell.execute_reply": "2021-01-28T07:20:47.102808Z"
    },
    "papermill": {
     "duration": 0.017272,
     "end_time": "2021-01-28T07:20:47.103054",
     "exception": false,
     "start_time": "2021-01-28T07:20:47.085782",
     "status": "completed"
    },
    "tags": []
   },
   "outputs": [],
   "source": [
    "# データ読み込み"
   ]
  },
  {
   "cell_type": "code",
   "execution_count": 10,
   "metadata": {
    "execution": {
     "iopub.execute_input": "2021-01-28T07:20:47.131297Z",
     "iopub.status.busy": "2021-01-28T07:20:47.130697Z",
     "iopub.status.idle": "2021-01-28T07:20:47.184152Z",
     "shell.execute_reply": "2021-01-28T07:20:47.184682Z"
    },
    "papermill": {
     "duration": 0.069815,
     "end_time": "2021-01-28T07:20:47.184938",
     "exception": false,
     "start_time": "2021-01-28T07:20:47.115123",
     "status": "completed"
    },
    "tags": []
   },
   "outputs": [],
   "source": [
    "train = pd.read_pickle(f'../../data/trial/feature_{TARGET_DATE}.pkl')"
   ]
  },
  {
   "cell_type": "code",
   "execution_count": 11,
   "metadata": {
    "execution": {
     "iopub.execute_input": "2021-01-28T07:20:47.212942Z",
     "iopub.status.busy": "2021-01-28T07:20:47.212346Z",
     "iopub.status.idle": "2021-01-28T07:20:47.214042Z",
     "shell.execute_reply": "2021-01-28T07:20:47.214586Z"
    },
    "papermill": {
     "duration": 0.017633,
     "end_time": "2021-01-28T07:20:47.214837",
     "exception": false,
     "start_time": "2021-01-28T07:20:47.197204",
     "status": "completed"
    },
    "tags": []
   },
   "outputs": [],
   "source": [
    "target = 'TARGET'"
   ]
  },
  {
   "cell_type": "code",
   "execution_count": 12,
   "metadata": {
    "execution": {
     "iopub.execute_input": "2021-01-28T07:20:47.252635Z",
     "iopub.status.busy": "2021-01-28T07:20:47.252056Z",
     "iopub.status.idle": "2021-01-28T07:20:47.257585Z",
     "shell.execute_reply": "2021-01-28T07:20:47.258119Z"
    },
    "papermill": {
     "duration": 0.031289,
     "end_time": "2021-01-28T07:20:47.258376",
     "exception": false,
     "start_time": "2021-01-28T07:20:47.227087",
     "status": "completed"
    },
    "tags": []
   },
   "outputs": [],
   "source": [
    "X = train.drop(columns=target)"
   ]
  },
  {
   "cell_type": "code",
   "execution_count": 13,
   "metadata": {
    "execution": {
     "iopub.execute_input": "2021-01-28T07:20:47.286697Z",
     "iopub.status.busy": "2021-01-28T07:20:47.286092Z",
     "iopub.status.idle": "2021-01-28T07:20:47.288064Z",
     "shell.execute_reply": "2021-01-28T07:20:47.288518Z"
    },
    "papermill": {
     "duration": 0.018243,
     "end_time": "2021-01-28T07:20:47.288866",
     "exception": false,
     "start_time": "2021-01-28T07:20:47.270623",
     "status": "completed"
    },
    "tags": []
   },
   "outputs": [],
   "source": [
    "y = train[target]"
   ]
  },
  {
   "cell_type": "code",
   "execution_count": 14,
   "metadata": {
    "execution": {
     "iopub.execute_input": "2021-01-28T07:20:47.318886Z",
     "iopub.status.busy": "2021-01-28T07:20:47.318287Z",
     "iopub.status.idle": "2021-01-28T07:20:47.470627Z",
     "shell.execute_reply": "2021-01-28T07:20:47.471152Z"
    },
    "papermill": {
     "duration": 0.169668,
     "end_time": "2021-01-28T07:20:47.471410",
     "exception": false,
     "start_time": "2021-01-28T07:20:47.301742",
     "status": "completed"
    },
    "tags": []
   },
   "outputs": [],
   "source": [
    "X_train, X_test, y_train, y_test = train_test_split(X, y,\n",
    "                                                   test_size=0.2,\n",
    "                                                   random_state=0,\n",
    "                                                   stratify=y)"
   ]
  },
  {
   "cell_type": "code",
   "execution_count": 15,
   "metadata": {
    "execution": {
     "iopub.execute_input": "2021-01-28T07:20:47.499458Z",
     "iopub.status.busy": "2021-01-28T07:20:47.498857Z",
     "iopub.status.idle": "2021-01-28T07:20:47.616279Z",
     "shell.execute_reply": "2021-01-28T07:20:47.615699Z"
    },
    "papermill": {
     "duration": 0.133376,
     "end_time": "2021-01-28T07:20:47.616510",
     "exception": false,
     "start_time": "2021-01-28T07:20:47.483134",
     "status": "completed"
    },
    "tags": []
   },
   "outputs": [],
   "source": [
    "X_train, X_eval, y_train, y_eval = train_test_split(X_train, y_train,\n",
    "                                                    test_size=0.2,\n",
    "                                                    random_state=1,\n",
    "                                                    stratify=y_train)"
   ]
  },
  {
   "cell_type": "code",
   "execution_count": 16,
   "metadata": {
    "execution": {
     "iopub.execute_input": "2021-01-28T07:20:47.645558Z",
     "iopub.status.busy": "2021-01-28T07:20:47.644863Z",
     "iopub.status.idle": "2021-01-28T07:20:47.646470Z",
     "shell.execute_reply": "2021-01-28T07:20:47.647005Z"
    },
    "papermill": {
     "duration": 0.018126,
     "end_time": "2021-01-28T07:20:47.647254",
     "exception": false,
     "start_time": "2021-01-28T07:20:47.629128",
     "status": "completed"
    },
    "tags": []
   },
   "outputs": [],
   "source": [
    "categorical_features = [\n",
    "# 'prefecture_code'\n",
    "]"
   ]
  },
  {
   "cell_type": "code",
   "execution_count": 17,
   "metadata": {
    "execution": {
     "iopub.execute_input": "2021-01-28T07:20:47.677433Z",
     "iopub.status.busy": "2021-01-28T07:20:47.676800Z",
     "iopub.status.idle": "2021-01-28T07:20:47.678713Z",
     "shell.execute_reply": "2021-01-28T07:20:47.679175Z"
    },
    "papermill": {
     "duration": 0.019151,
     "end_time": "2021-01-28T07:20:47.679426",
     "exception": false,
     "start_time": "2021-01-28T07:20:47.660275",
     "status": "completed"
    },
    "tags": []
   },
   "outputs": [],
   "source": [
    "lgb_train = lgb.Dataset(X_train, y_train,\n",
    "                       categorical_feature=categorical_features,\n",
    "                        free_raw_data=False)\n",
    "lgb_eval = lgb.Dataset(X_eval, y_eval, reference=lgb_train,\n",
    "                       categorical_feature=categorical_features,\n",
    "                       free_raw_data=False)"
   ]
  },
  {
   "cell_type": "code",
   "execution_count": 18,
   "metadata": {
    "execution": {
     "iopub.execute_input": "2021-01-28T07:20:47.714150Z",
     "iopub.status.busy": "2021-01-28T07:20:47.713479Z",
     "iopub.status.idle": "2021-01-28T07:20:47.715122Z",
     "shell.execute_reply": "2021-01-28T07:20:47.715663Z"
    },
    "papermill": {
     "duration": 0.023591,
     "end_time": "2021-01-28T07:20:47.715923",
     "exception": false,
     "start_time": "2021-01-28T07:20:47.692332",
     "status": "completed"
    },
    "tags": []
   },
   "outputs": [],
   "source": [
    "def objective(trial):\n",
    "\n",
    "    param = {\n",
    "        'objective': 'binary',\n",
    "        'metric': 'auc',\n",
    "        'verbosity': -1,\n",
    "        'n_jobs': -1,\n",
    "        'boosting_type': 'gbdt',\n",
    "        'lambda_l1': trial.suggest_loguniform('lambda_l1', 1e-8, 10.0),\n",
    "        'lambda_l2': trial.suggest_loguniform('lambda_l2', 1e-8, 10.0),\n",
    "        'num_leaves': trial.suggest_int('num_leaves', 2, 256),\n",
    "        'feature_fraction': trial.suggest_uniform('feature_fraction', 0.4, 1.0),\n",
    "        'bagging_fraction': trial.suggest_uniform('bagging_fraction', 0.4, 1.0),\n",
    "        'bagging_freq': trial.suggest_int('bagging_freq', 1, 7),\n",
    "        'min_child_samples': trial.suggest_int('min_child_samples', 5, 100),\n",
    "    }\n",
    "\n",
    "    evaluation_results = {}\n",
    "    model = lgb.train(\n",
    "        param,\n",
    "        lgb_train,              \n",
    "        num_boost_round=1000,\n",
    "        valid_names=['train', 'valid'],    \n",
    "        valid_sets=[lgb_train, lgb_eval],    \n",
    "        evals_result=evaluation_results,     \n",
    "        categorical_feature=categorical_features,\n",
    "        early_stopping_rounds=50,               \n",
    "        verbose_eval=10)   \n",
    "    \n",
    "    y_pred = model.predict(X_train, num_iteration=model.best_iteration)\n",
    "    \n",
    "    # metrics AUC\n",
    "    fpr, tpr, thresholds = metrics.roc_curve(y_train, y_pred)\n",
    "    score = metrics.auc(fpr, tpr)\n",
    "\n",
    "    # metrics F1\n",
    "#     score = f1_score(y_train, y_pred)\n",
    "\n",
    "    # MLFlow\n",
    "#     with mlflow.start_run() as run:\n",
    "#         mlflow.log_params(param)\n",
    "#         mlflow.log_metrics({'accuracy': accuracy})\n",
    "#         mlflow.lightgbm.log_model(gbm, 'model', args.conda_env)\n",
    "#     print('Model logged in run {}'.format(run.info.run_uuid))\n",
    "    return score"
   ]
  },
  {
   "cell_type": "code",
   "execution_count": 19,
   "metadata": {
    "execution": {
     "iopub.execute_input": "2021-01-28T07:20:47.747085Z",
     "iopub.status.busy": "2021-01-28T07:20:47.746305Z",
     "iopub.status.idle": "2021-01-28T07:21:16.372417Z",
     "shell.execute_reply": "2021-01-28T07:21:16.365193Z"
    },
    "papermill": {
     "duration": 28.644023,
     "end_time": "2021-01-28T07:21:16.372628",
     "exception": false,
     "start_time": "2021-01-28T07:20:47.728605",
     "status": "completed"
    },
    "tags": []
   },
   "outputs": [
    {
     "name": "stderr",
     "output_type": "stream",
     "text": [
      "[I 2021-01-28 16:20:47,745] A new study created in memory with name: no-name-dee464ea-59a1-4ad1-b6d7-b0a60384733b\n"
     ]
    },
    {
     "name": "stdout",
     "output_type": "stream",
     "text": [
      "Training until validation scores don't improve for 50 rounds\n",
      "[10]\ttrain's auc: 0.769115\tvalid's auc: 0.733526\n",
      "[20]\ttrain's auc: 0.79051\tvalid's auc: 0.738906\n",
      "[30]\ttrain's auc: 0.809686\tvalid's auc: 0.743084\n",
      "[40]\ttrain's auc: 0.828311\tvalid's auc: 0.744785\n",
      "[50]\ttrain's auc: 0.843216\tvalid's auc: 0.745398\n",
      "[60]\ttrain's auc: 0.857108\tvalid's auc: 0.745305\n",
      "[70]\ttrain's auc: 0.869127\tvalid's auc: 0.745104\n",
      "[80]\ttrain's auc: 0.879476\tvalid's auc: 0.744801\n",
      "[90]\ttrain's auc: 0.888758\tvalid's auc: 0.744301\n",
      "[100]\ttrain's auc: 0.897751\tvalid's auc: 0.743607\n",
      "Early stopping, best iteration is:\n",
      "[52]\ttrain's auc: 0.846261\tvalid's auc: 0.745579\n"
     ]
    },
    {
     "name": "stderr",
     "output_type": "stream",
     "text": [
      "[I 2021-01-28 16:20:50,704] Trial 0 finished with value: 0.8462612826962773 and parameters: {'lambda_l1': 0.15926509580482884, 'lambda_l2': 0.3051193880598462, 'num_leaves': 138, 'feature_fraction': 0.9109638722062383, 'bagging_fraction': 0.9950299796800136, 'bagging_freq': 6, 'min_child_samples': 73}. Best is trial 0 with value: 0.8462612826962773.\n"
     ]
    },
    {
     "name": "stdout",
     "output_type": "stream",
     "text": [
      "Training until validation scores don't improve for 50 rounds\n",
      "[10]\ttrain's auc: 0.744509\tvalid's auc: 0.731174\n",
      "[20]\ttrain's auc: 0.757284\tvalid's auc: 0.738743\n",
      "[30]\ttrain's auc: 0.767231\tvalid's auc: 0.743089\n",
      "[40]\ttrain's auc: 0.775026\tvalid's auc: 0.744688\n",
      "[50]\ttrain's auc: 0.781933\tvalid's auc: 0.746429\n",
      "[60]\ttrain's auc: 0.788528\tvalid's auc: 0.746922\n",
      "[70]\ttrain's auc: 0.79489\tvalid's auc: 0.747532\n",
      "[80]\ttrain's auc: 0.800416\tvalid's auc: 0.747664\n",
      "[90]\ttrain's auc: 0.805972\tvalid's auc: 0.747903\n",
      "[100]\ttrain's auc: 0.81131\tvalid's auc: 0.747542\n",
      "[110]\ttrain's auc: 0.815933\tvalid's auc: 0.747751\n",
      "[120]\ttrain's auc: 0.820508\tvalid's auc: 0.747848\n",
      "[130]\ttrain's auc: 0.825465\tvalid's auc: 0.747667\n",
      "[140]\ttrain's auc: 0.829523\tvalid's auc: 0.747094\n",
      "Early stopping, best iteration is:\n",
      "[91]\ttrain's auc: 0.806403\tvalid's auc: 0.747921\n"
     ]
    },
    {
     "name": "stderr",
     "output_type": "stream",
     "text": [
      "[I 2021-01-28 16:20:53,934] Trial 1 finished with value: 0.8064033569989315 and parameters: {'lambda_l1': 1.4876276639907924, 'lambda_l2': 4.4541956458092274e-08, 'num_leaves': 45, 'feature_fraction': 0.9130506407206183, 'bagging_fraction': 0.49685470472158066, 'bagging_freq': 1, 'min_child_samples': 48}. Best is trial 0 with value: 0.8462612826962773.\n"
     ]
    },
    {
     "name": "stdout",
     "output_type": "stream",
     "text": [
      "Training until validation scores don't improve for 50 rounds\n",
      "[10]\ttrain's auc: 0.779421\tvalid's auc: 0.733665\n",
      "[20]\ttrain's auc: 0.800914\tvalid's auc: 0.739796\n",
      "[30]\ttrain's auc: 0.818553\tvalid's auc: 0.739082\n",
      "[40]\ttrain's auc: 0.834735\tvalid's auc: 0.741141\n",
      "[50]\ttrain's auc: 0.85064\tvalid's auc: 0.742417\n",
      "[60]\ttrain's auc: 0.865708\tvalid's auc: 0.742286\n",
      "[70]\ttrain's auc: 0.879249\tvalid's auc: 0.741299\n",
      "[80]\ttrain's auc: 0.89152\tvalid's auc: 0.741252\n",
      "[90]\ttrain's auc: 0.902064\tvalid's auc: 0.739846\n",
      "[100]\ttrain's auc: 0.911483\tvalid's auc: 0.73974\n",
      "Early stopping, best iteration is:\n",
      "[52]\ttrain's auc: 0.853896\tvalid's auc: 0.742817\n"
     ]
    },
    {
     "name": "stderr",
     "output_type": "stream",
     "text": [
      "[I 2021-01-28 16:20:56,573] Trial 2 finished with value: 0.8538960147202582 and parameters: {'lambda_l1': 0.0006882865985213919, 'lambda_l2': 1.4255195795393746e-06, 'num_leaves': 162, 'feature_fraction': 0.5670789673675076, 'bagging_fraction': 0.6271038814307107, 'bagging_freq': 1, 'min_child_samples': 34}. Best is trial 2 with value: 0.8538960147202582.\n"
     ]
    },
    {
     "name": "stdout",
     "output_type": "stream",
     "text": [
      "Training until validation scores don't improve for 50 rounds\n",
      "[10]\ttrain's auc: 0.770755\tvalid's auc: 0.725738\n",
      "[20]\ttrain's auc: 0.791152\tvalid's auc: 0.739931\n",
      "[30]\ttrain's auc: 0.804664\tvalid's auc: 0.742533\n",
      "[40]\ttrain's auc: 0.818416\tvalid's auc: 0.742576\n",
      "[50]\ttrain's auc: 0.83064\tvalid's auc: 0.743782\n",
      "[60]\ttrain's auc: 0.843274\tvalid's auc: 0.744555\n",
      "[70]\ttrain's auc: 0.855434\tvalid's auc: 0.744258\n",
      "[80]\ttrain's auc: 0.866685\tvalid's auc: 0.743427\n",
      "[90]\ttrain's auc: 0.876592\tvalid's auc: 0.743798\n",
      "[100]\ttrain's auc: 0.885329\tvalid's auc: 0.743313\n",
      "Early stopping, best iteration is:\n",
      "[58]\ttrain's auc: 0.840735\tvalid's auc: 0.745119\n"
     ]
    },
    {
     "name": "stderr",
     "output_type": "stream",
     "text": [
      "[I 2021-01-28 16:20:58,770] Trial 3 finished with value: 0.8407352382270263 and parameters: {'lambda_l1': 0.020536686448952655, 'lambda_l2': 0.07945851669252929, 'num_leaves': 133, 'feature_fraction': 0.4364932844127193, 'bagging_fraction': 0.8382729791427604, 'bagging_freq': 1, 'min_child_samples': 54}. Best is trial 2 with value: 0.8538960147202582.\n"
     ]
    },
    {
     "name": "stdout",
     "output_type": "stream",
     "text": [
      "Training until validation scores don't improve for 50 rounds\n",
      "[10]\ttrain's auc: 0.754555\tvalid's auc: 0.732793\n",
      "[20]\ttrain's auc: 0.766734\tvalid's auc: 0.741478\n",
      "[30]\ttrain's auc: 0.774613\tvalid's auc: 0.743415\n",
      "[40]\ttrain's auc: 0.782798\tvalid's auc: 0.74443\n",
      "[50]\ttrain's auc: 0.790968\tvalid's auc: 0.745799\n",
      "[60]\ttrain's auc: 0.798908\tvalid's auc: 0.746974\n",
      "[70]\ttrain's auc: 0.806807\tvalid's auc: 0.747543\n",
      "[80]\ttrain's auc: 0.814088\tvalid's auc: 0.747741\n",
      "[90]\ttrain's auc: 0.821282\tvalid's auc: 0.74819\n",
      "[100]\ttrain's auc: 0.826965\tvalid's auc: 0.748306\n",
      "[110]\ttrain's auc: 0.832932\tvalid's auc: 0.748582\n",
      "[120]\ttrain's auc: 0.838937\tvalid's auc: 0.748536\n",
      "[130]\ttrain's auc: 0.843319\tvalid's auc: 0.748618\n",
      "[140]\ttrain's auc: 0.848177\tvalid's auc: 0.748586\n",
      "[150]\ttrain's auc: 0.852625\tvalid's auc: 0.74802\n",
      "[160]\ttrain's auc: 0.85709\tvalid's auc: 0.748257\n",
      "Early stopping, best iteration is:\n",
      "[112]\ttrain's auc: 0.834012\tvalid's auc: 0.748751\n"
     ]
    },
    {
     "name": "stderr",
     "output_type": "stream",
     "text": [
      "[I 2021-01-28 16:21:03,006] Trial 4 finished with value: 0.8340117560364592 and parameters: {'lambda_l1': 0.07772368062238, 'lambda_l2': 3.0204075165882268e-05, 'num_leaves': 56, 'feature_fraction': 0.5108065126828272, 'bagging_fraction': 0.9357049276167825, 'bagging_freq': 4, 'min_child_samples': 30}. Best is trial 2 with value: 0.8538960147202582.\n"
     ]
    },
    {
     "name": "stdout",
     "output_type": "stream",
     "text": [
      "Training until validation scores don't improve for 50 rounds\n",
      "[10]\ttrain's auc: 0.76633\tvalid's auc: 0.727852\n",
      "[20]\ttrain's auc: 0.789618\tvalid's auc: 0.73247\n",
      "[30]\ttrain's auc: 0.811566\tvalid's auc: 0.73455\n",
      "[40]\ttrain's auc: 0.831996\tvalid's auc: 0.735009\n",
      "[50]\ttrain's auc: 0.848069\tvalid's auc: 0.736054\n",
      "[60]\ttrain's auc: 0.862677\tvalid's auc: 0.733893\n",
      "[70]\ttrain's auc: 0.875807\tvalid's auc: 0.732513\n",
      "[80]\ttrain's auc: 0.88793\tvalid's auc: 0.731424\n",
      "[90]\ttrain's auc: 0.899512\tvalid's auc: 0.730065\n",
      "Early stopping, best iteration is:\n",
      "[48]\ttrain's auc: 0.844633\tvalid's auc: 0.73654\n"
     ]
    },
    {
     "name": "stderr",
     "output_type": "stream",
     "text": [
      "[I 2021-01-28 16:21:05,558] Trial 5 finished with value: 0.8446328935658733 and parameters: {'lambda_l1': 1.0492811151204954e-07, 'lambda_l2': 0.024562203114819877, 'num_leaves': 144, 'feature_fraction': 0.8385678727141948, 'bagging_fraction': 0.43804701636223276, 'bagging_freq': 4, 'min_child_samples': 17}. Best is trial 2 with value: 0.8538960147202582.\n"
     ]
    },
    {
     "name": "stdout",
     "output_type": "stream",
     "text": [
      "Training until validation scores don't improve for 50 rounds\n",
      "[10]\ttrain's auc: 0.776458\tvalid's auc: 0.731429\n",
      "[20]\ttrain's auc: 0.798977\tvalid's auc: 0.74118\n",
      "[30]\ttrain's auc: 0.814218\tvalid's auc: 0.743483\n",
      "[40]\ttrain's auc: 0.830473\tvalid's auc: 0.744103\n",
      "[50]\ttrain's auc: 0.844728\tvalid's auc: 0.744193\n",
      "[60]\ttrain's auc: 0.858926\tvalid's auc: 0.743697\n",
      "[70]\ttrain's auc: 0.872216\tvalid's auc: 0.742529\n",
      "[80]\ttrain's auc: 0.883226\tvalid's auc: 0.741778\n",
      "[90]\ttrain's auc: 0.893255\tvalid's auc: 0.740406\n",
      "Early stopping, best iteration is:\n",
      "[43]\ttrain's auc: 0.834687\tvalid's auc: 0.74477\n"
     ]
    },
    {
     "name": "stderr",
     "output_type": "stream",
     "text": [
      "[I 2021-01-28 16:21:07,899] Trial 6 finished with value: 0.8346867152114532 and parameters: {'lambda_l1': 3.066148147212901e-05, 'lambda_l2': 0.00016075653787870858, 'num_leaves': 157, 'feature_fraction': 0.5224746668029798, 'bagging_fraction': 0.6847353245276331, 'bagging_freq': 4, 'min_child_samples': 56}. Best is trial 2 with value: 0.8538960147202582.\n"
     ]
    },
    {
     "name": "stdout",
     "output_type": "stream",
     "text": [
      "Training until validation scores don't improve for 50 rounds\n",
      "[10]\ttrain's auc: 0.743558\tvalid's auc: 0.733369\n",
      "[20]\ttrain's auc: 0.750358\tvalid's auc: 0.738393\n",
      "[30]\ttrain's auc: 0.754133\tvalid's auc: 0.739753\n",
      "[40]\ttrain's auc: 0.758331\tvalid's auc: 0.74245\n",
      "[50]\ttrain's auc: 0.762237\tvalid's auc: 0.744402\n",
      "[60]\ttrain's auc: 0.765741\tvalid's auc: 0.745451\n",
      "[70]\ttrain's auc: 0.769013\tvalid's auc: 0.746732\n",
      "[80]\ttrain's auc: 0.771557\tvalid's auc: 0.746485\n",
      "[90]\ttrain's auc: 0.774287\tvalid's auc: 0.747\n",
      "[100]\ttrain's auc: 0.776786\tvalid's auc: 0.747432\n",
      "[110]\ttrain's auc: 0.779492\tvalid's auc: 0.74746\n",
      "[120]\ttrain's auc: 0.781721\tvalid's auc: 0.747316\n",
      "[130]\ttrain's auc: 0.784253\tvalid's auc: 0.747349\n",
      "[140]\ttrain's auc: 0.786545\tvalid's auc: 0.747406\n",
      "[150]\ttrain's auc: 0.78907\tvalid's auc: 0.747415\n",
      "[160]\ttrain's auc: 0.791543\tvalid's auc: 0.747702\n",
      "[170]\ttrain's auc: 0.793589\tvalid's auc: 0.747627\n",
      "[180]\ttrain's auc: 0.796061\tvalid's auc: 0.747727\n",
      "[190]\ttrain's auc: 0.798255\tvalid's auc: 0.747885\n",
      "[200]\ttrain's auc: 0.800128\tvalid's auc: 0.747603\n",
      "[210]\ttrain's auc: 0.802181\tvalid's auc: 0.747345\n",
      "[220]\ttrain's auc: 0.804597\tvalid's auc: 0.74701\n",
      "[230]\ttrain's auc: 0.806023\tvalid's auc: 0.746667\n",
      "Early stopping, best iteration is:\n",
      "[188]\ttrain's auc: 0.797794\tvalid's auc: 0.747996\n"
     ]
    },
    {
     "name": "stderr",
     "output_type": "stream",
     "text": [
      "[I 2021-01-28 16:21:11,631] Trial 7 finished with value: 0.7977941873793 and parameters: {'lambda_l1': 0.6032561675552176, 'lambda_l2': 0.010710584769922676, 'num_leaves': 20, 'feature_fraction': 0.5784222964950472, 'bagging_fraction': 0.5891075325608808, 'bagging_freq': 6, 'min_child_samples': 45}. Best is trial 2 with value: 0.8538960147202582.\n"
     ]
    },
    {
     "name": "stdout",
     "output_type": "stream",
     "text": [
      "Training until validation scores don't improve for 50 rounds\n",
      "[10]\ttrain's auc: 0.771246\tvalid's auc: 0.733724\n",
      "[20]\ttrain's auc: 0.790687\tvalid's auc: 0.738987\n",
      "[30]\ttrain's auc: 0.806179\tvalid's auc: 0.739261\n",
      "[40]\ttrain's auc: 0.820618\tvalid's auc: 0.74022\n",
      "[50]\ttrain's auc: 0.833738\tvalid's auc: 0.740255\n",
      "[60]\ttrain's auc: 0.847745\tvalid's auc: 0.740008\n",
      "[70]\ttrain's auc: 0.860168\tvalid's auc: 0.739844\n",
      "[80]\ttrain's auc: 0.869171\tvalid's auc: 0.739462\n",
      "[90]\ttrain's auc: 0.879223\tvalid's auc: 0.739121\n",
      "[100]\ttrain's auc: 0.887929\tvalid's auc: 0.739512\n",
      "Early stopping, best iteration is:\n",
      "[53]\ttrain's auc: 0.837397\tvalid's auc: 0.740821\n"
     ]
    },
    {
     "name": "stderr",
     "output_type": "stream",
     "text": [
      "[I 2021-01-28 16:21:13,857] Trial 8 finished with value: 0.8373971348109253 and parameters: {'lambda_l1': 7.735486377898367e-08, 'lambda_l2': 6.738904040039424e-05, 'num_leaves': 129, 'feature_fraction': 0.4693932932439852, 'bagging_fraction': 0.770216808527307, 'bagging_freq': 7, 'min_child_samples': 26}. Best is trial 2 with value: 0.8538960147202582.\n"
     ]
    },
    {
     "name": "stdout",
     "output_type": "stream",
     "text": [
      "Training until validation scores don't improve for 50 rounds\n",
      "[10]\ttrain's auc: 0.78166\tvalid's auc: 0.722806\n",
      "[20]\ttrain's auc: 0.806128\tvalid's auc: 0.734642\n",
      "[30]\ttrain's auc: 0.825286\tvalid's auc: 0.735228\n",
      "[40]\ttrain's auc: 0.841759\tvalid's auc: 0.735499\n",
      "[50]\ttrain's auc: 0.856998\tvalid's auc: 0.734683\n",
      "[60]\ttrain's auc: 0.871708\tvalid's auc: 0.731859\n",
      "[70]\ttrain's auc: 0.885039\tvalid's auc: 0.730139\n",
      "[80]\ttrain's auc: 0.897337\tvalid's auc: 0.728178\n",
      "Early stopping, best iteration is:\n",
      "[39]\ttrain's auc: 0.839845\tvalid's auc: 0.735812\n"
     ]
    },
    {
     "name": "stderr",
     "output_type": "stream",
     "text": [
      "[I 2021-01-28 16:21:16,347] Trial 9 finished with value: 0.8398447528554931 and parameters: {'lambda_l1': 3.1455289749316575e-08, 'lambda_l2': 9.488387125302119e-06, 'num_leaves': 233, 'feature_fraction': 0.4685048642700117, 'bagging_fraction': 0.42521474001912285, 'bagging_freq': 1, 'min_child_samples': 66}. Best is trial 2 with value: 0.8538960147202582.\n"
     ]
    },
    {
     "name": "stdout",
     "output_type": "stream",
     "text": [
      "Number of finished trials: 10\n",
      "Best trial:\n",
      "  Value: 0.8538960147202582\n",
      "  Params: \n",
      "    lambda_l1: 0.0006882865985213919\n",
      "    lambda_l2: 1.4255195795393746e-06\n",
      "    num_leaves: 162\n",
      "    feature_fraction: 0.5670789673675076\n",
      "    bagging_fraction: 0.6271038814307107\n",
      "    bagging_freq: 1\n",
      "    min_child_samples: 34\n"
     ]
    }
   ],
   "source": [
    "# Optunaでパラメータチューニング\n",
    "study = optuna.create_study(direction='maximize')\n",
    "study.optimize(objective, n_trials=10)\n",
    "\n",
    "print('Number of finished trials: {}'.format(len(study.trials)))\n",
    "\n",
    "print('Best trial:')\n",
    "trial = study.best_trial\n",
    "\n",
    "print('  Value: {}'.format(trial.value))\n",
    "\n",
    "print('  Params: ')\n",
    "for key, value in trial.params.items():\n",
    "    print('    {}: {}'.format(key, value))"
   ]
  },
  {
   "cell_type": "code",
   "execution_count": 20,
   "metadata": {
    "execution": {
     "iopub.execute_input": "2021-01-28T07:21:16.572265Z",
     "iopub.status.busy": "2021-01-28T07:21:16.571533Z",
     "iopub.status.idle": "2021-01-28T07:21:16.574219Z",
     "shell.execute_reply": "2021-01-28T07:21:16.574649Z"
    },
    "papermill": {
     "duration": 0.089136,
     "end_time": "2021-01-28T07:21:16.574986",
     "exception": false,
     "start_time": "2021-01-28T07:21:16.485850",
     "status": "completed"
    },
    "tags": []
   },
   "outputs": [],
   "source": [
    "# 二値分類\n",
    "params = {\n",
    "        'boosting_type': 'gbdt',\n",
    "        'objective': 'binary',\n",
    "        'metric': 'auc',     \n",
    "         }"
   ]
  },
  {
   "cell_type": "code",
   "execution_count": 21,
   "metadata": {
    "execution": {
     "iopub.execute_input": "2021-01-28T07:21:16.746636Z",
     "iopub.status.busy": "2021-01-28T07:21:16.745586Z",
     "iopub.status.idle": "2021-01-28T07:21:16.748481Z",
     "shell.execute_reply": "2021-01-28T07:21:16.748991Z"
    },
    "papermill": {
     "duration": 0.092865,
     "end_time": "2021-01-28T07:21:16.749248",
     "exception": false,
     "start_time": "2021-01-28T07:21:16.656383",
     "status": "completed"
    },
    "tags": []
   },
   "outputs": [],
   "source": [
    "params = dict(params, **study.best_params)"
   ]
  },
  {
   "cell_type": "code",
   "execution_count": 22,
   "metadata": {
    "execution": {
     "iopub.execute_input": "2021-01-28T07:21:16.922823Z",
     "iopub.status.busy": "2021-01-28T07:21:16.921540Z",
     "iopub.status.idle": "2021-01-28T07:21:19.104594Z",
     "shell.execute_reply": "2021-01-28T07:21:19.105217Z"
    },
    "papermill": {
     "duration": 2.274323,
     "end_time": "2021-01-28T07:21:19.105478",
     "exception": false,
     "start_time": "2021-01-28T07:21:16.831155",
     "status": "completed"
    },
    "tags": []
   },
   "outputs": [
    {
     "name": "stdout",
     "output_type": "stream",
     "text": [
      "[LightGBM] [Warning] Find whitespaces in feature_names, replace with underlines\n",
      "[LightGBM] [Info] Number of positive: 15390, number of negative: 175016\n",
      "[LightGBM] [Warning] Auto-choosing row-wise multi-threading, the overhead of testing was 0.006258 seconds.\n",
      "You can set `force_row_wise=true` to remove the overhead.\n",
      "And if memory is not enough, you can set `force_col_wise=true`.\n",
      "[LightGBM] [Info] Total Bins 3201\n",
      "[LightGBM] [Info] Number of data points in the train set: 190406, number of used features: 26\n",
      "[LightGBM] [Info] [binary:BoostFromScore]: pavg=0.080827 -> initscore=-2.431159\n",
      "[LightGBM] [Info] Start training from score -2.431159\n",
      "Training until validation scores don't improve for 50 rounds\n",
      "[10]\ttrain's auc: 0.779421\tvalid's auc: 0.733665\n",
      "[20]\ttrain's auc: 0.800914\tvalid's auc: 0.739796\n",
      "[30]\ttrain's auc: 0.818553\tvalid's auc: 0.739082\n",
      "[40]\ttrain's auc: 0.834735\tvalid's auc: 0.741141\n",
      "[50]\ttrain's auc: 0.85064\tvalid's auc: 0.742417\n",
      "[60]\ttrain's auc: 0.865708\tvalid's auc: 0.742286\n",
      "[70]\ttrain's auc: 0.879249\tvalid's auc: 0.741299\n",
      "[80]\ttrain's auc: 0.89152\tvalid's auc: 0.741252\n",
      "[90]\ttrain's auc: 0.902064\tvalid's auc: 0.739846\n",
      "[100]\ttrain's auc: 0.911483\tvalid's auc: 0.73974\n",
      "Early stopping, best iteration is:\n",
      "[52]\ttrain's auc: 0.853896\tvalid's auc: 0.742817\n"
     ]
    }
   ],
   "source": [
    "evaluation_results = {}\n",
    "model = lgb.train(\n",
    "    param,\n",
    "    lgb_train,              \n",
    "    num_boost_round=1000,\n",
    "    valid_names=['train', 'valid'],    \n",
    "    valid_sets=[lgb_train, lgb_eval],    \n",
    "    evals_result=evaluation_results,     \n",
    "    categorical_feature=categorical_features,\n",
    "    early_stopping_rounds=50,               \n",
    "    verbose_eval=10)   \n",
    "\n",
    "# best_iterationを保存\n",
    "optimum_boost_rounds = model.best_iteration"
   ]
  },
  {
   "cell_type": "code",
   "execution_count": 23,
   "metadata": {
    "execution": {
     "iopub.execute_input": "2021-01-28T07:21:19.358522Z",
     "iopub.status.busy": "2021-01-28T07:21:19.357845Z",
     "iopub.status.idle": "2021-01-28T07:21:19.770472Z",
     "shell.execute_reply": "2021-01-28T07:21:19.770973Z"
    },
    "papermill": {
     "duration": 0.528079,
     "end_time": "2021-01-28T07:21:19.771214",
     "exception": false,
     "start_time": "2021-01-28T07:21:19.243135",
     "status": "completed"
    },
    "tags": []
   },
   "outputs": [
    {
     "name": "stdout",
     "output_type": "stream",
     "text": [
      "0.8538960147202582\n"
     ]
    },
    {
     "data": {
      "image/png": "[encoded data removed]",
      "text/plain": [
       "<Figure size 432x288 with 1 Axes>"
      ]
     },
     "metadata": {
      "needs_background": "light"
     },
     "output_type": "display_data"
    }
   ],
   "source": [
    "# # 訓練データを予測\n",
    "y_pred = model.predict(X_train, num_iteration=model.best_iteration)\n",
    "y_pred_max = np.round(y_pred)\n",
    "fpr, tpr, thresholds = metrics.roc_curve(y_train, y_pred)\n",
    "auc = metrics.auc(fpr, tpr)\n",
    "print(auc)\n",
    "plt.plot(fpr, tpr, label='ROC curve (area = %.2f)'%auc)\n",
    "plt.legend()\n",
    "plt.title('ROC curve')\n",
    "plt.xlabel('False Positive Rate')\n",
    "plt.ylabel('True Positive Rate')\n",
    "plt.grid(True)"
   ]
  },
  {
   "cell_type": "code",
   "execution_count": 24,
   "metadata": {
    "execution": {
     "iopub.execute_input": "2021-01-28T07:21:19.961601Z",
     "iopub.status.busy": "2021-01-28T07:21:19.961008Z",
     "iopub.status.idle": "2021-01-28T07:21:20.208214Z",
     "shell.execute_reply": "2021-01-28T07:21:20.208981Z"
    },
    "papermill": {
     "duration": 0.347587,
     "end_time": "2021-01-28T07:21:20.209213",
     "exception": false,
     "start_time": "2021-01-28T07:21:19.861626",
     "status": "completed"
    },
    "tags": []
   },
   "outputs": [
    {
     "name": "stdout",
     "output_type": "stream",
     "text": [
      "0.7500312576697059\n"
     ]
    },
    {
     "data": {
      "image/png": "[encoded data removed]",
      "text/plain": [
       "<Figure size 432x288 with 1 Axes>"
      ]
     },
     "metadata": {
      "needs_background": "light"
     },
     "output_type": "display_data"
    }
   ],
   "source": [
    "# # テストデータを予測\n",
    "y_pred = model.predict(X_test, num_iteration=model.best_iteration)\n",
    "y_pred_max = np.round(y_pred)\n",
    "fpr, tpr, thresholds = metrics.roc_curve(y_test, y_pred)\n",
    "auc = metrics.auc(fpr, tpr)\n",
    "print(auc)\n",
    "plt.plot(fpr, tpr, label='ROC curve (area = %.2f)'%auc)\n",
    "plt.legend()\n",
    "plt.title('ROC curve')\n",
    "plt.xlabel('False Positive Rate')\n",
    "plt.ylabel('True Positive Rate')\n",
    "plt.grid(True)"
   ]
  },
  {
   "cell_type": "code",
   "execution_count": 25,
   "metadata": {
    "execution": {
     "iopub.execute_input": "2021-01-28T07:21:20.401494Z",
     "iopub.status.busy": "2021-01-28T07:21:20.400677Z",
     "iopub.status.idle": "2021-01-28T07:21:20.411543Z",
     "shell.execute_reply": "2021-01-28T07:21:20.412313Z"
    },
    "papermill": {
     "duration": 0.108895,
     "end_time": "2021-01-28T07:21:20.412533",
     "exception": false,
     "start_time": "2021-01-28T07:21:20.303638",
     "status": "completed"
    },
    "tags": []
   },
   "outputs": [],
   "source": [
    "pickle.dump(model, open(f'../../data/trial/model_{TARGET_DATE}.pkl', 'wb'))"
   ]
  },
  {
   "cell_type": "code",
   "execution_count": null,
   "metadata": {
    "papermill": {
     "duration": 0.109811,
     "end_time": "2021-01-28T07:21:20.652325",
     "exception": false,
     "start_time": "2021-01-28T07:21:20.542514",
     "status": "completed"
    },
    "tags": []
   },
   "outputs": [],
   "source": []
  }
 ],
 "metadata": {
  "kernelspec": {
   "display_name": "Python 3",
   "language": "python",
   "name": "python3"
  },
  "language_info": {
   "codemirror_mode": {
    "name": "ipython",
    "version": 3
   },
   "file_extension": ".py",
   "mimetype": "text/x-python",
   "name": "python",
   "nbconvert_exporter": "python",
   "pygments_lexer": "ipython3",
   "version": "3.7.7"
  },
  "papermill": {
   "default_parameters": {},
   "duration": 38.22888,
   "end_time": "2021-01-28T07:21:21.277832",
   "environment_variables": {},
   "exception": null,
   "input_path": "/Users/koyajima/Code/between_poc_and_production/notebooks/trial/learn.ipynb",
   "output_path": "/Users/koyajima/Code/between_poc_and_production/notebooks/trial/logs/learn.ipynb",
   "parameters": {
    "TARGET_DATE": 20210101
   },
   "start_time": "2021-01-28T07:20:43.048952",
   "version": "2.2.2"
  }
 },
 "nbformat": 4,
 "nbformat_minor": 4
}
