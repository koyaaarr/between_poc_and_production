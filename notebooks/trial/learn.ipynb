{
 "cells": [
  {
   "cell_type": "markdown",
   "metadata": {},
   "source": [
    "# 学習\n",
    "- パラメータチューニング"
   ]
  },
  {
   "cell_type": "code",
   "execution_count": 1,
   "metadata": {},
   "outputs": [],
   "source": [
    "# パラメータ設定"
   ]
  },
  {
   "cell_type": "code",
   "execution_count": 2,
   "metadata": {
    "tags": [
     "parameters"
    ]
   },
   "outputs": [],
   "source": [
    "TARGET_DATE = '20210101'"
   ]
  },
  {
   "cell_type": "code",
   "execution_count": 34,
   "metadata": {},
   "outputs": [],
   "source": [
    "TARGET_DATE = str(TARGET_DATE)"
   ]
  },
  {
   "cell_type": "code",
   "execution_count": 3,
   "metadata": {},
   "outputs": [],
   "source": [
    "# ライブラリ読み込み"
   ]
  },
  {
   "cell_type": "code",
   "execution_count": 4,
   "metadata": {},
   "outputs": [],
   "source": [
    "import pandas as pd\n",
    "import numpy as np\n",
    "import argparse\n",
    "import shap\n",
    "import optuna\n",
    "import pickle\n",
    "import lightgbm as lgb\n",
    "from sklearn.metrics import accuracy_score, confusion_matrix, recall_score, f1_score, precision_score\n",
    "from sklearn.model_selection import train_test_split\n",
    "from sklearn import datasets\n",
    "from sklearn import metrics\n",
    "from sklearn.model_selection import StratifiedKFold\n",
    "import matplotlib.pyplot as plt"
   ]
  },
  {
   "cell_type": "code",
   "execution_count": 5,
   "metadata": {},
   "outputs": [],
   "source": [
    "# dataframe設定調整"
   ]
  },
  {
   "cell_type": "code",
   "execution_count": 6,
   "metadata": {},
   "outputs": [],
   "source": [
    "pd.set_option('display.max_columns', 100)\n",
    "pd.set_option('display.max_rows', 200)"
   ]
  },
  {
   "cell_type": "code",
   "execution_count": 7,
   "metadata": {},
   "outputs": [],
   "source": [
    "# データ読み込み"
   ]
  },
  {
   "cell_type": "code",
   "execution_count": 8,
   "metadata": {},
   "outputs": [],
   "source": [
    "train = pd.read_pickle(f'../../data/trial/feature_{TARGET_DATE}.pkl')"
   ]
  },
  {
   "cell_type": "code",
   "execution_count": 9,
   "metadata": {},
   "outputs": [],
   "source": [
    "target = 'TARGET'"
   ]
  },
  {
   "cell_type": "code",
   "execution_count": 10,
   "metadata": {},
   "outputs": [],
   "source": [
    "X = train.drop(columns=target)"
   ]
  },
  {
   "cell_type": "code",
   "execution_count": 11,
   "metadata": {},
   "outputs": [],
   "source": [
    "y = train[target]"
   ]
  },
  {
   "cell_type": "code",
   "execution_count": 12,
   "metadata": {},
   "outputs": [],
   "source": [
    "X_train, X_test, y_train, y_test = train_test_split(X, y,\n",
    "                                                   test_size=0.2,\n",
    "                                                   random_state=0,\n",
    "                                                   stratify=y)"
   ]
  },
  {
   "cell_type": "code",
   "execution_count": 13,
   "metadata": {},
   "outputs": [],
   "source": [
    "X_train, X_eval, y_train, y_eval = train_test_split(X_train, y_train,\n",
    "                                                    test_size=0.2,\n",
    "                                                    random_state=1,\n",
    "                                                    stratify=y_train)"
   ]
  },
  {
   "cell_type": "code",
   "execution_count": 14,
   "metadata": {},
   "outputs": [],
   "source": [
    "categorical_features = [\n",
    "# 'prefecture_code'\n",
    "]"
   ]
  },
  {
   "cell_type": "code",
   "execution_count": 15,
   "metadata": {},
   "outputs": [],
   "source": [
    "lgb_train = lgb.Dataset(X_train, y_train,\n",
    "                       categorical_feature=categorical_features,\n",
    "                        free_raw_data=False)\n",
    "lgb_eval = lgb.Dataset(X_eval, y_eval, reference=lgb_train,\n",
    "                       categorical_feature=categorical_features,\n",
    "                       free_raw_data=False)"
   ]
  },
  {
   "cell_type": "code",
   "execution_count": 16,
   "metadata": {},
   "outputs": [],
   "source": [
    "def objective(trial):\n",
    "\n",
    "    param = {\n",
    "        'objective': 'binary',\n",
    "        'metric': 'auc',\n",
    "        'verbosity': -1,\n",
    "        'n_jobs': -1,\n",
    "        'boosting_type': 'gbdt',\n",
    "        'lambda_l1': trial.suggest_loguniform('lambda_l1', 1e-8, 10.0),\n",
    "        'lambda_l2': trial.suggest_loguniform('lambda_l2', 1e-8, 10.0),\n",
    "        'num_leaves': trial.suggest_int('num_leaves', 2, 256),\n",
    "        'feature_fraction': trial.suggest_uniform('feature_fraction', 0.4, 1.0),\n",
    "        'bagging_fraction': trial.suggest_uniform('bagging_fraction', 0.4, 1.0),\n",
    "        'bagging_freq': trial.suggest_int('bagging_freq', 1, 7),\n",
    "        'min_child_samples': trial.suggest_int('min_child_samples', 5, 100),\n",
    "    }\n",
    "\n",
    "    evaluation_results = {}                                     # 学習の経過を保存する箱\n",
    "    model = lgb.train(\n",
    "        param,                                   # 上記で設定したパラメータ\n",
    "        lgb_train,                                # 使用するデータセット\n",
    "        num_boost_round=1000,                     # 学習の回数\n",
    "        valid_names=['train', 'valid'],           # 学習経過で表示する名称\n",
    "        valid_sets=[lgb_train, lgb_eval],         # モデル検証のデータセット\n",
    "        evals_result=evaluation_results,          # 学習の経過を保存\n",
    "        categorical_feature=categorical_features, # カテゴリー変数を設定\n",
    "        early_stopping_rounds=50,                 # アーリーストッピング\n",
    "        verbose_eval=10)                          # 学習の経過の表示(10回毎)\n",
    "    \n",
    "    y_pred = model.predict(X_train, num_iteration=model.best_iteration)\n",
    "    \n",
    "    # metrics AUC\n",
    "    fpr, tpr, thresholds = metrics.roc_curve(y_train, y_pred)\n",
    "    score = metrics.auc(fpr, tpr)\n",
    "\n",
    "    # metrics F1\n",
    "#     score = f1_score(y_train, y_pred)\n",
    "\n",
    "    # MLFlow\n",
    "#     with mlflow.start_run() as run:\n",
    "#         mlflow.log_params(param)\n",
    "#         mlflow.log_metrics({'accuracy': accuracy})\n",
    "#         mlflow.lightgbm.log_model(gbm, 'model', args.conda_env)\n",
    "#     print('Model logged in run {}'.format(run.info.run_uuid))\n",
    "    return score"
   ]
  },
  {
   "cell_type": "code",
   "execution_count": 17,
   "metadata": {},
   "outputs": [
    {
     "name": "stderr",
     "output_type": "stream",
     "text": [
      "\u001b[32m[I 2021-01-09 09:01:06,021]\u001b[0m A new study created in memory with name: no-name-42eccef6-0497-4ddd-aafe-541cba47ab24\u001b[0m\n"
     ]
    },
    {
     "name": "stdout",
     "output_type": "stream",
     "text": [
      "Training until validation scores don't improve for 50 rounds\n",
      "[10]\ttrain's auc: 0.784057\tvalid's auc: 0.733927\n",
      "[20]\ttrain's auc: 0.806329\tvalid's auc: 0.738536\n",
      "[30]\ttrain's auc: 0.826598\tvalid's auc: 0.741209\n",
      "[40]\ttrain's auc: 0.843837\tvalid's auc: 0.741997\n",
      "[50]\ttrain's auc: 0.860957\tvalid's auc: 0.743253\n",
      "[60]\ttrain's auc: 0.876499\tvalid's auc: 0.742987\n",
      "[70]\ttrain's auc: 0.889832\tvalid's auc: 0.742821\n",
      "[80]\ttrain's auc: 0.901631\tvalid's auc: 0.742445\n",
      "[90]\ttrain's auc: 0.911375\tvalid's auc: 0.741881\n",
      "[100]\ttrain's auc: 0.920728\tvalid's auc: 0.740603\n",
      "Early stopping, best iteration is:\n",
      "[52]\ttrain's auc: 0.864459\tvalid's auc: 0.743462\n"
     ]
    },
    {
     "name": "stderr",
     "output_type": "stream",
     "text": [
      "\u001b[32m[I 2021-01-09 09:01:11,134]\u001b[0m Trial 0 finished with value: 0.8644590894249773 and parameters: {'lambda_l1': 0.0001090282234488675, 'lambda_l2': 1.1897821140675588, 'num_leaves': 194, 'feature_fraction': 0.7322974727663317, 'bagging_fraction': 0.8417275993906015, 'bagging_freq': 5, 'min_child_samples': 41}. Best is trial 0 with value: 0.8644590894249773.\u001b[0m\n"
     ]
    },
    {
     "name": "stdout",
     "output_type": "stream",
     "text": [
      "Training until validation scores don't improve for 50 rounds\n",
      "[10]\ttrain's auc: 0.75051\tvalid's auc: 0.730651\n",
      "[20]\ttrain's auc: 0.763568\tvalid's auc: 0.740047\n",
      "[30]\ttrain's auc: 0.771286\tvalid's auc: 0.742254\n",
      "[40]\ttrain's auc: 0.78005\tvalid's auc: 0.743352\n",
      "[50]\ttrain's auc: 0.787763\tvalid's auc: 0.744073\n",
      "[60]\ttrain's auc: 0.795334\tvalid's auc: 0.744645\n",
      "[70]\ttrain's auc: 0.802848\tvalid's auc: 0.744206\n",
      "[80]\ttrain's auc: 0.809412\tvalid's auc: 0.744287\n",
      "[90]\ttrain's auc: 0.816006\tvalid's auc: 0.744399\n",
      "[100]\ttrain's auc: 0.822264\tvalid's auc: 0.743987\n",
      "Early stopping, best iteration is:\n",
      "[54]\ttrain's auc: 0.790773\tvalid's auc: 0.744727\n"
     ]
    },
    {
     "name": "stderr",
     "output_type": "stream",
     "text": [
      "\u001b[32m[I 2021-01-09 09:01:13,828]\u001b[0m Trial 1 finished with value: 0.790773108708702 and parameters: {'lambda_l1': 0.3798653308415664, 'lambda_l2': 0.00029539243456053654, 'num_leaves': 55, 'feature_fraction': 0.4899103656748761, 'bagging_fraction': 0.5393826975746222, 'bagging_freq': 5, 'min_child_samples': 21}. Best is trial 0 with value: 0.8644590894249773.\u001b[0m\n"
     ]
    },
    {
     "name": "stdout",
     "output_type": "stream",
     "text": [
      "Training until validation scores don't improve for 50 rounds\n",
      "[10]\ttrain's auc: 0.750991\tvalid's auc: 0.735385\n",
      "[20]\ttrain's auc: 0.76227\tvalid's auc: 0.739281\n",
      "[30]\ttrain's auc: 0.772745\tvalid's auc: 0.742773\n",
      "[40]\ttrain's auc: 0.781321\tvalid's auc: 0.746012\n",
      "[50]\ttrain's auc: 0.789395\tvalid's auc: 0.747558\n",
      "[60]\ttrain's auc: 0.796826\tvalid's auc: 0.748519\n",
      "[70]\ttrain's auc: 0.803968\tvalid's auc: 0.749072\n",
      "[80]\ttrain's auc: 0.809814\tvalid's auc: 0.748953\n",
      "[90]\ttrain's auc: 0.815924\tvalid's auc: 0.748378\n",
      "[100]\ttrain's auc: 0.822002\tvalid's auc: 0.748256\n",
      "[110]\ttrain's auc: 0.82793\tvalid's auc: 0.748013\n",
      "[120]\ttrain's auc: 0.833341\tvalid's auc: 0.748223\n",
      "Early stopping, best iteration is:\n",
      "[71]\ttrain's auc: 0.804429\tvalid's auc: 0.749221\n"
     ]
    },
    {
     "name": "stderr",
     "output_type": "stream",
     "text": [
      "\u001b[32m[I 2021-01-09 09:01:17,905]\u001b[0m Trial 2 finished with value: 0.8044287568784576 and parameters: {'lambda_l1': 4.166656665269796e-06, 'lambda_l2': 0.5783765562675204, 'num_leaves': 51, 'feature_fraction': 0.7699619482496199, 'bagging_fraction': 0.8595716022239032, 'bagging_freq': 5, 'min_child_samples': 12}. Best is trial 0 with value: 0.8644590894249773.\u001b[0m\n"
     ]
    },
    {
     "name": "stdout",
     "output_type": "stream",
     "text": [
      "Training until validation scores don't improve for 50 rounds\n",
      "[10]\ttrain's auc: 0.78361\tvalid's auc: 0.73393\n",
      "[20]\ttrain's auc: 0.807353\tvalid's auc: 0.735777\n",
      "[30]\ttrain's auc: 0.829258\tvalid's auc: 0.737462\n",
      "[40]\ttrain's auc: 0.849097\tvalid's auc: 0.737551\n",
      "[50]\ttrain's auc: 0.866139\tvalid's auc: 0.738852\n",
      "[60]\ttrain's auc: 0.882861\tvalid's auc: 0.738266\n",
      "[70]\ttrain's auc: 0.896878\tvalid's auc: 0.736859\n",
      "[80]\ttrain's auc: 0.908666\tvalid's auc: 0.736702\n",
      "[90]\ttrain's auc: 0.91874\tvalid's auc: 0.735193\n",
      "[100]\ttrain's auc: 0.927838\tvalid's auc: 0.733901\n",
      "Early stopping, best iteration is:\n",
      "[57]\ttrain's auc: 0.877857\tvalid's auc: 0.739301\n"
     ]
    },
    {
     "name": "stderr",
     "output_type": "stream",
     "text": [
      "\u001b[32m[I 2021-01-09 09:01:22,352]\u001b[0m Trial 3 finished with value: 0.8778566150884992 and parameters: {'lambda_l1': 0.00027413572104711113, 'lambda_l2': 0.30967661220963616, 'num_leaves': 218, 'feature_fraction': 0.7506296141507798, 'bagging_fraction': 0.6278790355923303, 'bagging_freq': 7, 'min_child_samples': 82}. Best is trial 3 with value: 0.8778566150884992.\u001b[0m\n"
     ]
    },
    {
     "name": "stdout",
     "output_type": "stream",
     "text": [
      "Training until validation scores don't improve for 50 rounds\n",
      "[10]\ttrain's auc: 0.760485\tvalid's auc: 0.730527\n",
      "[20]\ttrain's auc: 0.779835\tvalid's auc: 0.736148\n",
      "[30]\ttrain's auc: 0.799607\tvalid's auc: 0.738981\n",
      "[40]\ttrain's auc: 0.816564\tvalid's auc: 0.740928\n",
      "[50]\ttrain's auc: 0.831175\tvalid's auc: 0.740655\n",
      "[60]\ttrain's auc: 0.844696\tvalid's auc: 0.739379\n",
      "[70]\ttrain's auc: 0.856632\tvalid's auc: 0.739368\n",
      "[80]\ttrain's auc: 0.867434\tvalid's auc: 0.738508\n",
      "[90]\ttrain's auc: 0.876289\tvalid's auc: 0.738022\n",
      "Early stopping, best iteration is:\n",
      "[44]\ttrain's auc: 0.822973\tvalid's auc: 0.741049\n"
     ]
    },
    {
     "name": "stderr",
     "output_type": "stream",
     "text": [
      "\u001b[32m[I 2021-01-09 09:01:24,996]\u001b[0m Trial 4 finished with value: 0.8229732412769211 and parameters: {'lambda_l1': 0.000733803816415297, 'lambda_l2': 0.09198767717776889, 'num_leaves': 111, 'feature_fraction': 0.8355304051833657, 'bagging_fraction': 0.47944859146489244, 'bagging_freq': 3, 'min_child_samples': 13}. Best is trial 3 with value: 0.8778566150884992.\u001b[0m\n"
     ]
    },
    {
     "name": "stdout",
     "output_type": "stream",
     "text": [
      "Training until validation scores don't improve for 50 rounds\n",
      "[10]\ttrain's auc: 0.772214\tvalid's auc: 0.737583\n",
      "[20]\ttrain's auc: 0.788079\tvalid's auc: 0.741401\n",
      "[30]\ttrain's auc: 0.802588\tvalid's auc: 0.744377\n",
      "[40]\ttrain's auc: 0.815711\tvalid's auc: 0.74504\n",
      "[50]\ttrain's auc: 0.829278\tvalid's auc: 0.745953\n",
      "[60]\ttrain's auc: 0.842083\tvalid's auc: 0.745392\n",
      "[70]\ttrain's auc: 0.85249\tvalid's auc: 0.746151\n",
      "[80]\ttrain's auc: 0.862873\tvalid's auc: 0.745448\n",
      "[90]\ttrain's auc: 0.872508\tvalid's auc: 0.744519\n",
      "[100]\ttrain's auc: 0.880971\tvalid's auc: 0.743753\n",
      "Early stopping, best iteration is:\n",
      "[53]\ttrain's auc: 0.83263\tvalid's auc: 0.746293\n"
     ]
    },
    {
     "name": "stderr",
     "output_type": "stream",
     "text": [
      "\u001b[32m[I 2021-01-09 09:01:28,499]\u001b[0m Trial 5 finished with value: 0.8326295361748861 and parameters: {'lambda_l1': 0.16534750390962738, 'lambda_l2': 3.1003528777434166e-05, 'num_leaves': 123, 'feature_fraction': 0.5978020882043732, 'bagging_fraction': 0.881183119770132, 'bagging_freq': 6, 'min_child_samples': 76}. Best is trial 3 with value: 0.8778566150884992.\u001b[0m\n"
     ]
    },
    {
     "name": "stdout",
     "output_type": "stream",
     "text": [
      "Training until validation scores don't improve for 50 rounds\n",
      "[10]\ttrain's auc: 0.781029\tvalid's auc: 0.737746\n",
      "[20]\ttrain's auc: 0.799378\tvalid's auc: 0.741842\n",
      "[30]\ttrain's auc: 0.817649\tvalid's auc: 0.743568\n",
      "[40]\ttrain's auc: 0.832678\tvalid's auc: 0.743442\n",
      "[50]\ttrain's auc: 0.847855\tvalid's auc: 0.744798\n",
      "[60]\ttrain's auc: 0.861495\tvalid's auc: 0.74448\n",
      "[70]\ttrain's auc: 0.873749\tvalid's auc: 0.744236\n",
      "[80]\ttrain's auc: 0.884922\tvalid's auc: 0.743725\n",
      "[90]\ttrain's auc: 0.895037\tvalid's auc: 0.7437\n",
      "Early stopping, best iteration is:\n",
      "[48]\ttrain's auc: 0.844931\tvalid's auc: 0.745189\n"
     ]
    },
    {
     "name": "stderr",
     "output_type": "stream",
     "text": [
      "\u001b[32m[I 2021-01-09 09:01:32,198]\u001b[0m Trial 6 finished with value: 0.8449306370667145 and parameters: {'lambda_l1': 0.001347469354432729, 'lambda_l2': 1.9741452984812773, 'num_leaves': 172, 'feature_fraction': 0.6963490483194525, 'bagging_fraction': 0.8661986898100953, 'bagging_freq': 3, 'min_child_samples': 50}. Best is trial 3 with value: 0.8778566150884992.\u001b[0m\n"
     ]
    },
    {
     "name": "stdout",
     "output_type": "stream",
     "text": [
      "Training until validation scores don't improve for 50 rounds\n",
      "[10]\ttrain's auc: 0.764744\tvalid's auc: 0.735428\n",
      "[20]\ttrain's auc: 0.7831\tvalid's auc: 0.740031\n",
      "[30]\ttrain's auc: 0.801993\tvalid's auc: 0.743621\n",
      "[40]\ttrain's auc: 0.817422\tvalid's auc: 0.744993\n",
      "[50]\ttrain's auc: 0.831776\tvalid's auc: 0.746066\n",
      "[60]\ttrain's auc: 0.844537\tvalid's auc: 0.746472\n",
      "[70]\ttrain's auc: 0.855681\tvalid's auc: 0.746665\n",
      "[80]\ttrain's auc: 0.865626\tvalid's auc: 0.746281\n",
      "[90]\ttrain's auc: 0.874532\tvalid's auc: 0.745449\n",
      "[100]\ttrain's auc: 0.883771\tvalid's auc: 0.744864\n",
      "[110]\ttrain's auc: 0.891251\tvalid's auc: 0.74432\n",
      "[120]\ttrain's auc: 0.898612\tvalid's auc: 0.743124\n",
      "Early stopping, best iteration is:\n",
      "[71]\ttrain's auc: 0.856818\tvalid's auc: 0.746734\n"
     ]
    },
    {
     "name": "stderr",
     "output_type": "stream",
     "text": [
      "\u001b[32m[I 2021-01-09 09:01:36,172]\u001b[0m Trial 7 finished with value: 0.8568180317935028 and parameters: {'lambda_l1': 1.0478968712244278e-07, 'lambda_l2': 0.0015494075770551873, 'num_leaves': 119, 'feature_fraction': 0.870459403126382, 'bagging_fraction': 0.9140213825070267, 'bagging_freq': 6, 'min_child_samples': 97}. Best is trial 3 with value: 0.8778566150884992.\u001b[0m\n"
     ]
    },
    {
     "name": "stdout",
     "output_type": "stream",
     "text": [
      "Training until validation scores don't improve for 50 rounds\n",
      "[10]\ttrain's auc: 0.744835\tvalid's auc: 0.733171\n",
      "[20]\ttrain's auc: 0.752609\tvalid's auc: 0.738456\n",
      "[30]\ttrain's auc: 0.75734\tvalid's auc: 0.740802\n",
      "[40]\ttrain's auc: 0.761362\tvalid's auc: 0.743167\n",
      "[50]\ttrain's auc: 0.765404\tvalid's auc: 0.744861\n",
      "[60]\ttrain's auc: 0.769528\tvalid's auc: 0.746347\n",
      "[70]\ttrain's auc: 0.773328\tvalid's auc: 0.74764\n",
      "[80]\ttrain's auc: 0.776934\tvalid's auc: 0.747659\n",
      "[90]\ttrain's auc: 0.780289\tvalid's auc: 0.747772\n",
      "[100]\ttrain's auc: 0.783144\tvalid's auc: 0.747667\n",
      "[110]\ttrain's auc: 0.785728\tvalid's auc: 0.747626\n",
      "[120]\ttrain's auc: 0.788688\tvalid's auc: 0.747332\n",
      "[130]\ttrain's auc: 0.791857\tvalid's auc: 0.74743\n",
      "[140]\ttrain's auc: 0.794525\tvalid's auc: 0.747285\n",
      "[150]\ttrain's auc: 0.796748\tvalid's auc: 0.74695\n",
      "Early stopping, best iteration is:\n",
      "[105]\ttrain's auc: 0.784325\tvalid's auc: 0.747918\n"
     ]
    },
    {
     "name": "stderr",
     "output_type": "stream",
     "text": [
      "\u001b[32m[I 2021-01-09 09:01:39,487]\u001b[0m Trial 8 finished with value: 0.7843251409179617 and parameters: {'lambda_l1': 3.589733397716107e-08, 'lambda_l2': 3.976886866752597e-07, 'num_leaves': 24, 'feature_fraction': 0.58878083517764, 'bagging_fraction': 0.4527984546793688, 'bagging_freq': 1, 'min_child_samples': 60}. Best is trial 3 with value: 0.8778566150884992.\u001b[0m\n"
     ]
    },
    {
     "name": "stdout",
     "output_type": "stream",
     "text": [
      "Training until validation scores don't improve for 50 rounds\n",
      "[10]\ttrain's auc: 0.775358\tvalid's auc: 0.729494\n",
      "[20]\ttrain's auc: 0.803156\tvalid's auc: 0.735686\n",
      "[30]\ttrain's auc: 0.825595\tvalid's auc: 0.736673\n",
      "[40]\ttrain's auc: 0.846412\tvalid's auc: 0.73818\n",
      "[50]\ttrain's auc: 0.863668\tvalid's auc: 0.737149\n",
      "[60]\ttrain's auc: 0.878613\tvalid's auc: 0.737439\n",
      "[70]\ttrain's auc: 0.892269\tvalid's auc: 0.735434\n",
      "[80]\ttrain's auc: 0.904203\tvalid's auc: 0.734966\n",
      "[90]\ttrain's auc: 0.915687\tvalid's auc: 0.733751\n",
      "Early stopping, best iteration is:\n",
      "[40]\ttrain's auc: 0.846412\tvalid's auc: 0.73818\n"
     ]
    },
    {
     "name": "stderr",
     "output_type": "stream",
     "text": [
      "\u001b[32m[I 2021-01-09 09:01:42,690]\u001b[0m Trial 9 finished with value: 0.846412411179011 and parameters: {'lambda_l1': 5.620983809886155e-06, 'lambda_l2': 0.0030695111276306843, 'num_leaves': 193, 'feature_fraction': 0.8852129407429024, 'bagging_fraction': 0.6362529368295452, 'bagging_freq': 5, 'min_child_samples': 64}. Best is trial 3 with value: 0.8778566150884992.\u001b[0m\n"
     ]
    },
    {
     "name": "stdout",
     "output_type": "stream",
     "text": [
      "Number of finished trials: 10\n",
      "Best trial:\n",
      "  Value: 0.8778566150884992\n",
      "  Params: \n",
      "    lambda_l1: 0.00027413572104711113\n",
      "    lambda_l2: 0.30967661220963616\n",
      "    num_leaves: 218\n",
      "    feature_fraction: 0.7506296141507798\n",
      "    bagging_fraction: 0.6278790355923303\n",
      "    bagging_freq: 7\n",
      "    min_child_samples: 82\n"
     ]
    }
   ],
   "source": [
    "study = optuna.create_study(direction='maximize')\n",
    "study.optimize(objective, n_trials=10)\n",
    "\n",
    "print('Number of finished trials: {}'.format(len(study.trials)))\n",
    "\n",
    "print('Best trial:')\n",
    "trial = study.best_trial\n",
    "\n",
    "print('  Value: {}'.format(trial.value))\n",
    "\n",
    "print('  Params: ')\n",
    "for key, value in trial.params.items():\n",
    "    print('    {}: {}'.format(key, value))"
   ]
  },
  {
   "cell_type": "code",
   "execution_count": 18,
   "metadata": {},
   "outputs": [],
   "source": [
    "# 二値分類\n",
    "params = {\n",
    "            'boosting_type': 'gbdt',        # 勾配ブースティング\n",
    "            'objective': 'binary',      # 目的関数：多値分類、マルチクラス分類\n",
    "            'metric': 'auc',      # 分類モデルの性能を測る指標\n",
    "         }"
   ]
  },
  {
   "cell_type": "code",
   "execution_count": 19,
   "metadata": {},
   "outputs": [],
   "source": [
    "params = dict(params, **study.best_params)"
   ]
  },
  {
   "cell_type": "code",
   "execution_count": 20,
   "metadata": {},
   "outputs": [
    {
     "name": "stdout",
     "output_type": "stream",
     "text": [
      "[LightGBM] [Warning] Find whitespaces in feature_names, replace with underlines\n",
      "[LightGBM] [Info] Number of positive: 15390, number of negative: 175016\n",
      "[LightGBM] [Warning] Auto-choosing row-wise multi-threading, the overhead of testing was 0.022562 seconds.\n",
      "You can set `force_row_wise=true` to remove the overhead.\n",
      "And if memory is not enough, you can set `force_col_wise=true`.\n",
      "[LightGBM] [Info] Total Bins 3201\n",
      "[LightGBM] [Info] Number of data points in the train set: 190406, number of used features: 26\n",
      "[LightGBM] [Info] [binary:BoostFromScore]: pavg=0.080827 -> initscore=-2.431159\n",
      "[LightGBM] [Info] Start training from score -2.431159\n",
      "Training until validation scores don't improve for 50 rounds\n",
      "[10]\ttrain's auc: 0.78361\tvalid's auc: 0.73393\n",
      "[20]\ttrain's auc: 0.807353\tvalid's auc: 0.735777\n",
      "[30]\ttrain's auc: 0.829258\tvalid's auc: 0.737462\n",
      "[40]\ttrain's auc: 0.849097\tvalid's auc: 0.737551\n",
      "[50]\ttrain's auc: 0.866139\tvalid's auc: 0.738852\n",
      "[60]\ttrain's auc: 0.882861\tvalid's auc: 0.738266\n",
      "[70]\ttrain's auc: 0.896878\tvalid's auc: 0.736859\n",
      "[80]\ttrain's auc: 0.908666\tvalid's auc: 0.736702\n",
      "[90]\ttrain's auc: 0.91874\tvalid's auc: 0.735193\n",
      "[100]\ttrain's auc: 0.927838\tvalid's auc: 0.733901\n",
      "Early stopping, best iteration is:\n",
      "[57]\ttrain's auc: 0.877857\tvalid's auc: 0.739301\n"
     ]
    }
   ],
   "source": [
    "evaluation_results = {}                                     # 学習の経過を保存する箱\n",
    "model = lgb.train(params,                                   # 上記で設定したパラメータ\n",
    "                  lgb_train,                                # 使用するデータセット\n",
    "                  num_boost_round=1000,                     # 学習の回数\n",
    "                  valid_names=['train', 'valid'],           # 学習経過で表示する名称\n",
    "                  valid_sets=[lgb_train, lgb_eval],         # モデル検証のデータセット\n",
    "                  evals_result=evaluation_results,          # 学習の経過を保存\n",
    "                  categorical_feature=categorical_features, # カテゴリー変数を設定\n",
    "                  early_stopping_rounds=50,                 # アーリーストッピング\n",
    "                  verbose_eval=10)                          # 学習の経過の表示(10回毎)\n",
    "\n",
    "# 最もスコアが良いときのラウンドを保存\n",
    "optimum_boost_rounds = model.best_iteration"
   ]
  },
  {
   "cell_type": "code",
   "execution_count": 21,
   "metadata": {},
   "outputs": [
    {
     "name": "stdout",
     "output_type": "stream",
     "text": [
      "0.8778566150884992\n"
     ]
    },
    {
     "data": {
      "image/png": "[encoded data removed]",
      "text/plain": [
       "<Figure size 432x288 with 1 Axes>"
      ]
     },
     "metadata": {
      "needs_background": "light"
     },
     "output_type": "display_data"
    }
   ],
   "source": [
    "# # 訓練データで予測\n",
    "y_pred = model.predict(X_train, num_iteration=model.best_iteration)\n",
    "y_pred_max = np.round(y_pred)\n",
    "fpr, tpr, thresholds = metrics.roc_curve(y_train, y_pred)\n",
    "auc = metrics.auc(fpr, tpr)\n",
    "print(auc)\n",
    "plt.plot(fpr, tpr, label='ROC curve (area = %.2f)'%auc)\n",
    "plt.legend()\n",
    "plt.title('ROC curve')\n",
    "plt.xlabel('False Positive Rate')\n",
    "plt.ylabel('True Positive Rate')\n",
    "plt.grid(True)"
   ]
  },
  {
   "cell_type": "code",
   "execution_count": 22,
   "metadata": {},
   "outputs": [
    {
     "name": "stdout",
     "output_type": "stream",
     "text": [
      "0.7473855315544758\n"
     ]
    },
    {
     "data": {
      "image/png": "[encoded data removed]",
      "text/plain": [
       "<Figure size 432x288 with 1 Axes>"
      ]
     },
     "metadata": {
      "needs_background": "light"
     },
     "output_type": "display_data"
    }
   ],
   "source": [
    "# # テストデータで予測\n",
    "y_pred = model.predict(X_test, num_iteration=model.best_iteration)\n",
    "y_pred_max = np.round(y_pred)\n",
    "fpr, tpr, thresholds = metrics.roc_curve(y_test, y_pred)\n",
    "auc = metrics.auc(fpr, tpr)\n",
    "print(auc)\n",
    "plt.plot(fpr, tpr, label='ROC curve (area = %.2f)'%auc)\n",
    "plt.legend()\n",
    "plt.title('ROC curve')\n",
    "plt.xlabel('False Positive Rate')\n",
    "plt.ylabel('True Positive Rate')\n",
    "plt.grid(True)"
   ]
  },
  {
   "cell_type": "code",
   "execution_count": 23,
   "metadata": {},
   "outputs": [],
   "source": [
    "pickle.dump(model, open(f'../../data/trial/model_{TARGET_DATE}.pkl', 'wb'))"
   ]
  },
  {
   "cell_type": "code",
   "execution_count": null,
   "metadata": {},
   "outputs": [],
   "source": []
  }
 ],
 "metadata": {
  "kernelspec": {
   "display_name": "Python 3",
   "language": "python",
   "name": "python3"
  },
  "language_info": {
   "codemirror_mode": {
    "name": "ipython",
    "version": 3
   },
   "file_extension": ".py",
   "mimetype": "text/x-python",
   "name": "python",
   "nbconvert_exporter": "python",
   "pygments_lexer": "ipython3",
   "version": "3.7.7"
  }
 },
 "nbformat": 4,
 "nbformat_minor": 4
}
