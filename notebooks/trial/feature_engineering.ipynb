{
 "cells": [
  {
   "cell_type": "markdown",
   "metadata": {
    "papermill": {
     "duration": 0.024782,
     "end_time": "2021-01-28T07:20:39.124317",
     "exception": false,
     "start_time": "2021-01-28T07:20:39.099535",
     "status": "completed"
    },
    "tags": []
   },
   "source": [
    "# 特徴量作成\n",
    "- カテゴリ変数のダミー化\n",
    "- 不要列の削除"
   ]
  },
  {
   "cell_type": "code",
   "execution_count": 1,
   "metadata": {
    "execution": {
     "iopub.execute_input": "2021-01-28T07:20:39.156578Z",
     "iopub.status.busy": "2021-01-28T07:20:39.155711Z",
     "iopub.status.idle": "2021-01-28T07:20:39.157653Z",
     "shell.execute_reply": "2021-01-28T07:20:39.158110Z"
    },
    "papermill": {
     "duration": 0.019199,
     "end_time": "2021-01-28T07:20:39.158342",
     "exception": false,
     "start_time": "2021-01-28T07:20:39.139143",
     "status": "completed"
    },
    "tags": []
   },
   "outputs": [],
   "source": [
    "# パラメータ設定"
   ]
  },
  {
   "cell_type": "code",
   "execution_count": 2,
   "metadata": {
    "execution": {
     "iopub.execute_input": "2021-01-28T07:20:39.184110Z",
     "iopub.status.busy": "2021-01-28T07:20:39.183458Z",
     "iopub.status.idle": "2021-01-28T07:20:39.185362Z",
     "shell.execute_reply": "2021-01-28T07:20:39.185893Z"
    },
    "papermill": {
     "duration": 0.016664,
     "end_time": "2021-01-28T07:20:39.186149",
     "exception": false,
     "start_time": "2021-01-28T07:20:39.169485",
     "status": "completed"
    },
    "tags": [
     "parameters"
    ]
   },
   "outputs": [],
   "source": [
    "TARGET_DATE = '20210101'\n",
    "# DATA_TYPE = 'train'\n",
    "DATA_TYPE = 'test'"
   ]
  },
  {
   "cell_type": "code",
   "execution_count": 4,
   "metadata": {
    "execution": {
     "iopub.execute_input": "2021-01-28T07:20:39.263604Z",
     "iopub.status.busy": "2021-01-28T07:20:39.262796Z",
     "iopub.status.idle": "2021-01-28T07:20:39.265162Z",
     "shell.execute_reply": "2021-01-28T07:20:39.265716Z"
    },
    "papermill": {
     "duration": 0.016945,
     "end_time": "2021-01-28T07:20:39.265976",
     "exception": false,
     "start_time": "2021-01-28T07:20:39.249031",
     "status": "completed"
    },
    "tags": []
   },
   "outputs": [],
   "source": [
    "TARGET_DATE = str(TARGET_DATE)"
   ]
  },
  {
   "cell_type": "code",
   "execution_count": 5,
   "metadata": {
    "execution": {
     "iopub.execute_input": "2021-01-28T07:20:39.291919Z",
     "iopub.status.busy": "2021-01-28T07:20:39.291331Z",
     "iopub.status.idle": "2021-01-28T07:20:39.293018Z",
     "shell.execute_reply": "2021-01-28T07:20:39.293485Z"
    },
    "papermill": {
     "duration": 0.016679,
     "end_time": "2021-01-28T07:20:39.293827",
     "exception": false,
     "start_time": "2021-01-28T07:20:39.277148",
     "status": "completed"
    },
    "tags": []
   },
   "outputs": [],
   "source": [
    "# ライブラリ読み込み"
   ]
  },
  {
   "cell_type": "code",
   "execution_count": 6,
   "metadata": {
    "execution": {
     "iopub.execute_input": "2021-01-28T07:20:39.319816Z",
     "iopub.status.busy": "2021-01-28T07:20:39.319242Z",
     "iopub.status.idle": "2021-01-28T07:20:39.547874Z",
     "shell.execute_reply": "2021-01-28T07:20:39.548422Z"
    },
    "papermill": {
     "duration": 0.243519,
     "end_time": "2021-01-28T07:20:39.548670",
     "exception": false,
     "start_time": "2021-01-28T07:20:39.305151",
     "status": "completed"
    },
    "tags": []
   },
   "outputs": [],
   "source": [
    "import pandas as pd"
   ]
  },
  {
   "cell_type": "code",
   "execution_count": 7,
   "metadata": {
    "execution": {
     "iopub.execute_input": "2021-01-28T07:20:39.574678Z",
     "iopub.status.busy": "2021-01-28T07:20:39.573939Z",
     "iopub.status.idle": "2021-01-28T07:20:39.575651Z",
     "shell.execute_reply": "2021-01-28T07:20:39.576107Z"
    },
    "papermill": {
     "duration": 0.016366,
     "end_time": "2021-01-28T07:20:39.576346",
     "exception": false,
     "start_time": "2021-01-28T07:20:39.559980",
     "status": "completed"
    },
    "tags": []
   },
   "outputs": [],
   "source": [
    "# dataframe設定調整"
   ]
  },
  {
   "cell_type": "code",
   "execution_count": 8,
   "metadata": {
    "execution": {
     "iopub.execute_input": "2021-01-28T07:20:39.603834Z",
     "iopub.status.busy": "2021-01-28T07:20:39.602954Z",
     "iopub.status.idle": "2021-01-28T07:20:39.604637Z",
     "shell.execute_reply": "2021-01-28T07:20:39.605183Z"
    },
    "papermill": {
     "duration": 0.017572,
     "end_time": "2021-01-28T07:20:39.605436",
     "exception": false,
     "start_time": "2021-01-28T07:20:39.587864",
     "status": "completed"
    },
    "tags": []
   },
   "outputs": [],
   "source": [
    "pd.set_option('display.max_columns', 100)\n",
    "pd.set_option('display.max_rows', 200)"
   ]
  },
  {
   "cell_type": "code",
   "execution_count": 9,
   "metadata": {
    "execution": {
     "iopub.execute_input": "2021-01-28T07:20:39.632218Z",
     "iopub.status.busy": "2021-01-28T07:20:39.631573Z",
     "iopub.status.idle": "2021-01-28T07:20:39.633570Z",
     "shell.execute_reply": "2021-01-28T07:20:39.634119Z"
    },
    "papermill": {
     "duration": 0.017293,
     "end_time": "2021-01-28T07:20:39.634380",
     "exception": false,
     "start_time": "2021-01-28T07:20:39.617087",
     "status": "completed"
    },
    "tags": []
   },
   "outputs": [],
   "source": [
    "# データ読み込み"
   ]
  },
  {
   "cell_type": "code",
   "execution_count": 10,
   "metadata": {
    "execution": {
     "iopub.execute_input": "2021-01-28T07:20:39.662708Z",
     "iopub.status.busy": "2021-01-28T07:20:39.662116Z",
     "iopub.status.idle": "2021-01-28T07:20:40.037076Z",
     "shell.execute_reply": "2021-01-28T07:20:40.037632Z"
    },
    "papermill": {
     "duration": 0.391982,
     "end_time": "2021-01-28T07:20:40.037885",
     "exception": false,
     "start_time": "2021-01-28T07:20:39.645903",
     "status": "completed"
    },
    "tags": []
   },
   "outputs": [],
   "source": [
    "if DATA_TYPE == 'train':\n",
    "    train = pd.read_pickle(f'../../data/trial/accumulate_{TARGET_DATE}.pkl')\n",
    "elif DATA_TYPE == 'test':\n",
    "    train = pd.read_csv(f'../../data/trial/{TARGET_DATE}.csv')"
   ]
  },
  {
   "cell_type": "code",
   "execution_count": 11,
   "metadata": {
    "execution": {
     "iopub.execute_input": "2021-01-28T07:20:40.064647Z",
     "iopub.status.busy": "2021-01-28T07:20:40.063992Z",
     "iopub.status.idle": "2021-01-28T07:20:40.065872Z",
     "shell.execute_reply": "2021-01-28T07:20:40.066402Z"
    },
    "papermill": {
     "duration": 0.017064,
     "end_time": "2021-01-28T07:20:40.066646",
     "exception": false,
     "start_time": "2021-01-28T07:20:40.049582",
     "status": "completed"
    },
    "tags": []
   },
   "outputs": [],
   "source": [
    "# 特徴量選択"
   ]
  },
  {
   "cell_type": "code",
   "execution_count": 12,
   "metadata": {
    "execution": {
     "iopub.execute_input": "2021-01-28T07:20:40.094663Z",
     "iopub.status.busy": "2021-01-28T07:20:40.094017Z",
     "iopub.status.idle": "2021-01-28T07:20:40.095878Z",
     "shell.execute_reply": "2021-01-28T07:20:40.096412Z"
    },
    "papermill": {
     "duration": 0.018326,
     "end_time": "2021-01-28T07:20:40.096693",
     "exception": false,
     "start_time": "2021-01-28T07:20:40.078367",
     "status": "completed"
    },
    "tags": []
   },
   "outputs": [],
   "source": [
    "features = [\n",
    "    'EXT_SOURCE_1',\n",
    "    'EXT_SOURCE_3',\n",
    "    'EXT_SOURCE_2',\n",
    "    'DAYS_BIRTH',\n",
    "    'AMT_CREDIT',\n",
    "    'AMT_ANNUITY',\n",
    "    'DAYS_ID_PUBLISH',\n",
    "    'AMT_GOODS_PRICE',\n",
    "    'DAYS_REGISTRATION',\n",
    "    'DAYS_LAST_PHONE_CHANGE',\n",
    "    'AMT_INCOME_TOTAL',\n",
    "    'REGION_POPULATION_RELATIVE',\n",
    "    'OWN_CAR_AGE',\n",
    "    'AMT_REQ_CREDIT_BUREAU_YEAR',\n",
    "    'HOUR_APPR_PROCESS_START',\n",
    "    'TOTALAREA_MODE',\n",
    "    'CODE_GENDER',\n",
    "    'NAME_CONTRACT_TYPE',\n",
    "    'NAME_EDUCATION_TYPE',\n",
    "    'NAME_FAMILY_STATUS',\n",
    "    'TARGET'\n",
    "]"
   ]
  },
  {
   "cell_type": "code",
   "execution_count": 13,
   "metadata": {
    "execution": {
     "iopub.execute_input": "2021-01-28T07:20:40.125145Z",
     "iopub.status.busy": "2021-01-28T07:20:40.124562Z",
     "iopub.status.idle": "2021-01-28T07:20:40.432101Z",
     "shell.execute_reply": "2021-01-28T07:20:40.432636Z"
    },
    "papermill": {
     "duration": 0.324325,
     "end_time": "2021-01-28T07:20:40.432888",
     "exception": false,
     "start_time": "2021-01-28T07:20:40.108563",
     "status": "completed"
    },
    "tags": []
   },
   "outputs": [],
   "source": [
    "train = train.loc[:,features]"
   ]
  },
  {
   "cell_type": "code",
   "execution_count": 14,
   "metadata": {
    "execution": {
     "iopub.execute_input": "2021-01-28T07:20:40.460308Z",
     "iopub.status.busy": "2021-01-28T07:20:40.459661Z",
     "iopub.status.idle": "2021-01-28T07:20:40.461352Z",
     "shell.execute_reply": "2021-01-28T07:20:40.461811Z"
    },
    "papermill": {
     "duration": 0.017201,
     "end_time": "2021-01-28T07:20:40.462063",
     "exception": false,
     "start_time": "2021-01-28T07:20:40.444862",
     "status": "completed"
    },
    "tags": []
   },
   "outputs": [],
   "source": [
    "# 欠損値補完\n",
    "# object型の場合はNAN、それ以外(数値型)は-999で補完する"
   ]
  },
  {
   "cell_type": "code",
   "execution_count": 15,
   "metadata": {
    "execution": {
     "iopub.execute_input": "2021-01-28T07:20:40.490913Z",
     "iopub.status.busy": "2021-01-28T07:20:40.490348Z",
     "iopub.status.idle": "2021-01-28T07:20:40.543637Z",
     "shell.execute_reply": "2021-01-28T07:20:40.544080Z"
    },
    "papermill": {
     "duration": 0.07012,
     "end_time": "2021-01-28T07:20:40.544338",
     "exception": false,
     "start_time": "2021-01-28T07:20:40.474218",
     "status": "completed"
    },
    "tags": []
   },
   "outputs": [],
   "source": [
    "for c in train.columns:\n",
    "    if train[c].dtype == 'object':\n",
    "        train[c].fillna('NAN', inplace=True)\n",
    "    else:\n",
    "        train[c].fillna(-999, inplace=True)"
   ]
  },
  {
   "cell_type": "code",
   "execution_count": 16,
   "metadata": {
    "execution": {
     "iopub.execute_input": "2021-01-28T07:20:40.572190Z",
     "iopub.status.busy": "2021-01-28T07:20:40.571616Z",
     "iopub.status.idle": "2021-01-28T07:20:40.573299Z",
     "shell.execute_reply": "2021-01-28T07:20:40.573842Z"
    },
    "papermill": {
     "duration": 0.01763,
     "end_time": "2021-01-28T07:20:40.574178",
     "exception": false,
     "start_time": "2021-01-28T07:20:40.556548",
     "status": "completed"
    },
    "tags": []
   },
   "outputs": [],
   "source": [
    "# カテゴリ変数をダミー化"
   ]
  },
  {
   "cell_type": "code",
   "execution_count": 17,
   "metadata": {
    "execution": {
     "iopub.execute_input": "2021-01-28T07:20:40.604265Z",
     "iopub.status.busy": "2021-01-28T07:20:40.603690Z",
     "iopub.status.idle": "2021-01-28T07:20:40.713079Z",
     "shell.execute_reply": "2021-01-28T07:20:40.712540Z"
    },
    "papermill": {
     "duration": 0.126832,
     "end_time": "2021-01-28T07:20:40.713302",
     "exception": false,
     "start_time": "2021-01-28T07:20:40.586470",
     "status": "completed"
    },
    "tags": []
   },
   "outputs": [],
   "source": [
    "train = pd.get_dummies(train, drop_first=True, prefix=['CODE_GENDER', 'NAME_CONTRACT_TYPE', 'NAME_EDUCATION_TYPE', 'NAME_FAMILY_STATUS'], prefix_sep='_')"
   ]
  },
  {
   "cell_type": "code",
   "execution_count": 18,
   "metadata": {
    "execution": {
     "iopub.execute_input": "2021-01-28T07:20:40.739296Z",
     "iopub.status.busy": "2021-01-28T07:20:40.738489Z",
     "iopub.status.idle": "2021-01-28T07:20:40.740650Z",
     "shell.execute_reply": "2021-01-28T07:20:40.741186Z"
    },
    "papermill": {
     "duration": 0.017426,
     "end_time": "2021-01-28T07:20:40.741436",
     "exception": false,
     "start_time": "2021-01-28T07:20:40.724010",
     "status": "completed"
    },
    "tags": []
   },
   "outputs": [],
   "source": [
    "# 列がない場合は作成"
   ]
  },
  {
   "cell_type": "code",
   "execution_count": 19,
   "metadata": {
    "execution": {
     "iopub.execute_input": "2021-01-28T07:20:40.771136Z",
     "iopub.status.busy": "2021-01-28T07:20:40.770425Z",
     "iopub.status.idle": "2021-01-28T07:20:40.772356Z",
     "shell.execute_reply": "2021-01-28T07:20:40.772832Z"
    },
    "papermill": {
     "duration": 0.019291,
     "end_time": "2021-01-28T07:20:40.773092",
     "exception": false,
     "start_time": "2021-01-28T07:20:40.753801",
     "status": "completed"
    },
    "tags": []
   },
   "outputs": [],
   "source": [
    "feature_order = [\n",
    "    'EXT_SOURCE_1',\n",
    "    'EXT_SOURCE_3',\n",
    "    'EXT_SOURCE_2',\n",
    "    'DAYS_BIRTH',\n",
    "    'AMT_CREDIT',\n",
    "    'AMT_ANNUITY',\n",
    "    'DAYS_ID_PUBLISH',\n",
    "    'AMT_GOODS_PRICE',\n",
    "    'DAYS_REGISTRATION',\n",
    "    'DAYS_LAST_PHONE_CHANGE',\n",
    "    'AMT_INCOME_TOTAL',\n",
    "    'REGION_POPULATION_RELATIVE',\n",
    "    'OWN_CAR_AGE',\n",
    "    'AMT_REQ_CREDIT_BUREAU_YEAR',\n",
    "    'HOUR_APPR_PROCESS_START',\n",
    "    'TOTALAREA_MODE',\n",
    "    'CODE_GENDER_M',\n",
    "    'CODE_GENDER_XNA',\n",
    "    'NAME_CONTRACT_TYPE_Revolving loans',\n",
    "    'NAME_EDUCATION_TYPE_Higher education',\n",
    "    'NAME_EDUCATION_TYPE_Incomplete higher',\n",
    "    'NAME_EDUCATION_TYPE_Lower secondary',\n",
    "    'NAME_EDUCATION_TYPE_Secondary / secondary special',\n",
    "    'NAME_FAMILY_STATUS_Married',\n",
    "    'NAME_FAMILY_STATUS_Separated',\n",
    "    'NAME_FAMILY_STATUS_Single / not married',\n",
    "    'NAME_FAMILY_STATUS_Unknown',\n",
    "    'NAME_FAMILY_STATUS_Widow',\n",
    "    'TARGET',\n",
    "]"
   ]
  },
  {
   "cell_type": "code",
   "execution_count": 20,
   "metadata": {
    "execution": {
     "iopub.execute_input": "2021-01-28T07:20:40.802391Z",
     "iopub.status.busy": "2021-01-28T07:20:40.801758Z",
     "iopub.status.idle": "2021-01-28T07:20:40.803558Z",
     "shell.execute_reply": "2021-01-28T07:20:40.804095Z"
    },
    "papermill": {
     "duration": 0.018579,
     "end_time": "2021-01-28T07:20:40.804351",
     "exception": false,
     "start_time": "2021-01-28T07:20:40.785772",
     "status": "completed"
    },
    "tags": []
   },
   "outputs": [],
   "source": [
    "for c in feature_order:\n",
    "    if c not in train.columns:\n",
    "        train[c] = 0"
   ]
  },
  {
   "cell_type": "code",
   "execution_count": 21,
   "metadata": {
    "execution": {
     "iopub.execute_input": "2021-01-28T07:20:40.833195Z",
     "iopub.status.busy": "2021-01-28T07:20:40.832501Z",
     "iopub.status.idle": "2021-01-28T07:20:40.834229Z",
     "shell.execute_reply": "2021-01-28T07:20:40.834696Z"
    },
    "papermill": {
     "duration": 0.017722,
     "end_time": "2021-01-28T07:20:40.834947",
     "exception": false,
     "start_time": "2021-01-28T07:20:40.817225",
     "status": "completed"
    },
    "tags": []
   },
   "outputs": [],
   "source": [
    "# 列を並び替え"
   ]
  },
  {
   "cell_type": "code",
   "execution_count": 22,
   "metadata": {
    "execution": {
     "iopub.execute_input": "2021-01-28T07:20:40.864284Z",
     "iopub.status.busy": "2021-01-28T07:20:40.863694Z",
     "iopub.status.idle": "2021-01-28T07:20:40.895596Z",
     "shell.execute_reply": "2021-01-28T07:20:40.896060Z"
    },
    "papermill": {
     "duration": 0.048702,
     "end_time": "2021-01-28T07:20:40.896314",
     "exception": false,
     "start_time": "2021-01-28T07:20:40.847612",
     "status": "completed"
    },
    "tags": []
   },
   "outputs": [],
   "source": [
    "train = train.loc[:, feature_order]"
   ]
  },
  {
   "cell_type": "code",
   "execution_count": 23,
   "metadata": {
    "execution": {
     "iopub.execute_input": "2021-01-28T07:20:40.925787Z",
     "iopub.status.busy": "2021-01-28T07:20:40.924962Z",
     "iopub.status.idle": "2021-01-28T07:20:40.927193Z",
     "shell.execute_reply": "2021-01-28T07:20:40.927612Z"
    },
    "papermill": {
     "duration": 0.018828,
     "end_time": "2021-01-28T07:20:40.927944",
     "exception": false,
     "start_time": "2021-01-28T07:20:40.909116",
     "status": "completed"
    },
    "tags": []
   },
   "outputs": [],
   "source": [
    "# 特徴量データ出力"
   ]
  },
  {
   "cell_type": "code",
   "execution_count": 24,
   "metadata": {
    "execution": {
     "iopub.execute_input": "2021-01-28T07:20:40.956715Z",
     "iopub.status.busy": "2021-01-28T07:20:40.956118Z",
     "iopub.status.idle": "2021-01-28T07:20:41.013022Z",
     "shell.execute_reply": "2021-01-28T07:20:41.013571Z"
    },
    "papermill": {
     "duration": 0.073639,
     "end_time": "2021-01-28T07:20:41.013824",
     "exception": false,
     "start_time": "2021-01-28T07:20:40.940185",
     "status": "completed"
    },
    "tags": []
   },
   "outputs": [],
   "source": [
    "if DATA_TYPE == 'train':\n",
    "    train.to_pickle(f'../../data/trial/feature_{TARGET_DATE}.pkl')\n",
    "elif DATA_TYPE == 'test':\n",
    "    train.to_pickle(f'../../data/trial/predict_{TARGET_DATE}.pkl')"
   ]
  }
 ],
 "metadata": {
  "kernelspec": {
   "display_name": "Python 3",
   "language": "python",
   "name": "python3"
  },
  "language_info": {
   "codemirror_mode": {
    "name": "ipython",
    "version": 3
   },
   "file_extension": ".py",
   "mimetype": "text/x-python",
   "name": "python",
   "nbconvert_exporter": "python",
   "pygments_lexer": "ipython3",
   "version": "3.7.7"
  },
  "papermill": {
   "default_parameters": {},
   "duration": 3.179382,
   "end_time": "2021-01-28T07:20:41.366285",
   "environment_variables": {},
   "exception": null,
   "input_path": "/Users/koyajima/Code/between_poc_and_production/notebooks/trial/feature_engineering.ipynb",
   "output_path": "/Users/koyajima/Code/between_poc_and_production/notebooks/trial/logs/feature_engineering.ipynb",
   "parameters": {
    "DATA_TYPE": "train",
    "TARGET_DATE": 20210101
   },
   "start_time": "2021-01-28T07:20:38.186903",
   "version": "2.2.2"
  }
 },
 "nbformat": 4,
 "nbformat_minor": 4
}
