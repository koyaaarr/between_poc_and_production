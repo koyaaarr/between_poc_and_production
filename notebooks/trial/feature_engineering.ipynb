{
 "cells": [
  {
   "cell_type": "markdown",
   "metadata": {},
   "source": [
    "# 特徴量作成\n",
    "- カテゴリ変数のダミー化\n",
    "- 不要列の削除"
   ]
  },
  {
   "cell_type": "code",
   "execution_count": 9,
   "metadata": {},
   "outputs": [],
   "source": [
    "# パラメータ設定"
   ]
  },
  {
   "cell_type": "code",
   "execution_count": 76,
   "metadata": {
    "tags": [
     "parameters"
    ]
   },
   "outputs": [],
   "source": [
    "TARGET_DATE = '20210101'\n",
    "# DATA_TYPE = 'train'\n",
    "DATA_TYPE = 'test'"
   ]
  },
  {
   "cell_type": "code",
   "execution_count": 34,
   "metadata": {},
   "outputs": [],
   "source": [
    "TARGET_DATE = str(TARGET_DATE)"
   ]
  },
  {
   "cell_type": "code",
   "execution_count": 99,
   "metadata": {},
   "outputs": [],
   "source": [
    "# ライブラリ読み込み"
   ]
  },
  {
   "cell_type": "code",
   "execution_count": 100,
   "metadata": {},
   "outputs": [],
   "source": [
    "import pandas as pd"
   ]
  },
  {
   "cell_type": "code",
   "execution_count": 101,
   "metadata": {},
   "outputs": [],
   "source": [
    "# dataframe設定調整"
   ]
  },
  {
   "cell_type": "code",
   "execution_count": 102,
   "metadata": {},
   "outputs": [],
   "source": [
    "pd.set_option('display.max_columns', 100)\n",
    "pd.set_option('display.max_rows', 200)"
   ]
  },
  {
   "cell_type": "code",
   "execution_count": 103,
   "metadata": {},
   "outputs": [],
   "source": [
    "# データ読み込み"
   ]
  },
  {
   "cell_type": "code",
   "execution_count": 104,
   "metadata": {},
   "outputs": [],
   "source": [
    "if DATA_TYPE == 'train':\n",
    "    train = pd.read_pickle(f'../../data/trial/accumulate_{TARGET_DATE}.pkl')\n",
    "elif DATA_TYPE == 'test':\n",
    "    train = pd.read_csv(f'../../data/trial/{TARGET_DATE}.csv')"
   ]
  },
  {
   "cell_type": "code",
   "execution_count": 105,
   "metadata": {},
   "outputs": [],
   "source": [
    "# 特徴量選択"
   ]
  },
  {
   "cell_type": "code",
   "execution_count": 106,
   "metadata": {},
   "outputs": [],
   "source": [
    "features = ['EXT_SOURCE_1',\n",
    " 'EXT_SOURCE_3',\n",
    " 'EXT_SOURCE_2',\n",
    " 'DAYS_BIRTH',\n",
    " 'AMT_CREDIT',\n",
    " 'AMT_ANNUITY',\n",
    " 'DAYS_ID_PUBLISH',\n",
    " 'AMT_GOODS_PRICE',\n",
    " 'DAYS_REGISTRATION',\n",
    " 'DAYS_LAST_PHONE_CHANGE',\n",
    " 'AMT_INCOME_TOTAL',\n",
    " 'REGION_POPULATION_RELATIVE',\n",
    " 'OWN_CAR_AGE',\n",
    " 'AMT_REQ_CREDIT_BUREAU_YEAR',\n",
    " 'HOUR_APPR_PROCESS_START',\n",
    " 'TOTALAREA_MODE',\n",
    " 'CODE_GENDER',\n",
    " 'NAME_CONTRACT_TYPE',\n",
    " 'NAME_EDUCATION_TYPE',\n",
    " 'NAME_FAMILY_STATUS',\n",
    "'TARGET']"
   ]
  },
  {
   "cell_type": "code",
   "execution_count": 107,
   "metadata": {},
   "outputs": [],
   "source": [
    "train = train.loc[:,features]"
   ]
  },
  {
   "cell_type": "code",
   "execution_count": 108,
   "metadata": {},
   "outputs": [],
   "source": [
    "# 欠損値補完\n",
    "# object型の場合はNAN、それ以外(数値型)は-999で補完する"
   ]
  },
  {
   "cell_type": "code",
   "execution_count": 109,
   "metadata": {},
   "outputs": [],
   "source": [
    "for c in train.columns:\n",
    "    if train[c].dtype == 'object':\n",
    "        train[c].fillna('NAN', inplace=True)\n",
    "    else:\n",
    "        train[c].fillna(-999, inplace=True)"
   ]
  },
  {
   "cell_type": "code",
   "execution_count": 110,
   "metadata": {},
   "outputs": [],
   "source": [
    "# カテゴリ変数をダミー化"
   ]
  },
  {
   "cell_type": "code",
   "execution_count": 111,
   "metadata": {},
   "outputs": [],
   "source": [
    "train = pd.get_dummies(train, drop_first=True, prefix=['CODE_GENDER', 'NAME_CONTRACT_TYPE', 'NAME_EDUCATION_TYPE', 'NAME_FAMILY_STATUS'], prefix_sep='_')"
   ]
  },
  {
   "cell_type": "code",
   "execution_count": 112,
   "metadata": {},
   "outputs": [],
   "source": [
    "# 列がない場合は作成"
   ]
  },
  {
   "cell_type": "code",
   "execution_count": 113,
   "metadata": {},
   "outputs": [],
   "source": [
    "feature_order = [\n",
    "    'EXT_SOURCE_1',\n",
    "    'EXT_SOURCE_3',\n",
    "    'EXT_SOURCE_2',\n",
    "    'DAYS_BIRTH',\n",
    "    'AMT_CREDIT',\n",
    "    'AMT_ANNUITY',\n",
    "    'DAYS_ID_PUBLISH',\n",
    "    'AMT_GOODS_PRICE',\n",
    "    'DAYS_REGISTRATION',\n",
    "    'DAYS_LAST_PHONE_CHANGE',\n",
    "    'AMT_INCOME_TOTAL',\n",
    "    'REGION_POPULATION_RELATIVE',\n",
    "    'OWN_CAR_AGE',\n",
    "    'AMT_REQ_CREDIT_BUREAU_YEAR',\n",
    "    'HOUR_APPR_PROCESS_START',\n",
    "    'TOTALAREA_MODE',\n",
    "    'CODE_GENDER_M',\n",
    "    'CODE_GENDER_XNA',\n",
    "    'NAME_CONTRACT_TYPE_Revolving loans',\n",
    "    'NAME_EDUCATION_TYPE_Higher education',\n",
    "    'NAME_EDUCATION_TYPE_Incomplete higher',\n",
    "    'NAME_EDUCATION_TYPE_Lower secondary',\n",
    "    'NAME_EDUCATION_TYPE_Secondary / secondary special',\n",
    "    'NAME_FAMILY_STATUS_Married',\n",
    "    'NAME_FAMILY_STATUS_Separated',\n",
    "    'NAME_FAMILY_STATUS_Single / not married',\n",
    "    'NAME_FAMILY_STATUS_Unknown',\n",
    "    'NAME_FAMILY_STATUS_Widow',\n",
    "    'TARGET',\n",
    "]"
   ]
  },
  {
   "cell_type": "code",
   "execution_count": 114,
   "metadata": {},
   "outputs": [],
   "source": [
    "for c in feature_order:\n",
    "    if c not in train.columns:\n",
    "        train[c] = 0"
   ]
  },
  {
   "cell_type": "code",
   "execution_count": 115,
   "metadata": {},
   "outputs": [],
   "source": [
    "# 列を並び替え"
   ]
  },
  {
   "cell_type": "code",
   "execution_count": 116,
   "metadata": {},
   "outputs": [],
   "source": [
    "train = train.loc[:, feature_order]"
   ]
  },
  {
   "cell_type": "code",
   "execution_count": 117,
   "metadata": {},
   "outputs": [],
   "source": [
    "# 特徴量データ出力"
   ]
  },
  {
   "cell_type": "code",
   "execution_count": 118,
   "metadata": {},
   "outputs": [],
   "source": [
    "if DATA_TYPE == 'train':\n",
    "    train.to_pickle(f'../../data/trial/feature_{TARGET_DATE}.pkl')\n",
    "elif DATA_TYPE == 'test':\n",
    "    train.to_pickle(f'../../data/trial/predict_{TARGET_DATE}.pkl')"
   ]
  },
  {
   "cell_type": "code",
   "execution_count": null,
   "metadata": {},
   "outputs": [],
   "source": []
  }
 ],
 "metadata": {
  "kernelspec": {
   "display_name": "Python 3",
   "language": "python",
   "name": "python3"
  },
  "language_info": {
   "codemirror_mode": {
    "name": "ipython",
    "version": 3
   },
   "file_extension": ".py",
   "mimetype": "text/x-python",
   "name": "python",
   "nbconvert_exporter": "python",
   "pygments_lexer": "ipython3",
   "version": "3.7.7"
  }
 },
 "nbformat": 4,
 "nbformat_minor": 4
}
