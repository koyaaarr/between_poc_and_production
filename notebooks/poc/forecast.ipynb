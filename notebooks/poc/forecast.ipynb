{
 "cells": [
  {
   "cell_type": "markdown",
   "metadata": {},
   "source": [
    "# 予測\n",
    "- データ読み込み\n",
    "- 前処理\n",
    "- 特徴量作成\n",
    "- 予測"
   ]
  },
  {
   "cell_type": "code",
   "execution_count": 70,
   "metadata": {},
   "outputs": [],
   "source": [
    "# ライブラリ読み込み"
   ]
  },
  {
   "cell_type": "code",
   "execution_count": 59,
   "metadata": {},
   "outputs": [],
   "source": [
    "import pandas as pd\n",
    "import numpy as np\n",
    "import argparse\n",
    "import shap\n",
    "import optuna\n",
    "import pickle\n",
    "import lightgbm as lgb\n",
    "from sklearn.metrics import accuracy_score, confusion_matrix, recall_score, f1_score, precision_score\n",
    "from sklearn.model_selection import train_test_split\n",
    "from sklearn import datasets\n",
    "from sklearn import metrics\n",
    "from sklearn.model_selection import StratifiedKFold\n",
    "import matplotlib.pyplot as plt"
   ]
  },
  {
   "cell_type": "code",
   "execution_count": 3,
   "metadata": {},
   "outputs": [],
   "source": [
    "# dataframe設定調整"
   ]
  },
  {
   "cell_type": "code",
   "execution_count": 4,
   "metadata": {},
   "outputs": [],
   "source": [
    "pd.set_option('display.max_columns', 100)\n",
    "pd.set_option('display.max_rows', 200)"
   ]
  },
  {
   "cell_type": "code",
   "execution_count": 5,
   "metadata": {},
   "outputs": [],
   "source": [
    "# データ読み込み"
   ]
  },
  {
   "cell_type": "code",
   "execution_count": 33,
   "metadata": {},
   "outputs": [],
   "source": [
    "train = pd.read_csv('../../data/rawdata/application_train.csv')"
   ]
  },
  {
   "cell_type": "code",
   "execution_count": 34,
   "metadata": {},
   "outputs": [],
   "source": [
    "# 特徴量選択"
   ]
  },
  {
   "cell_type": "code",
   "execution_count": 35,
   "metadata": {},
   "outputs": [],
   "source": [
    "features = ['EXT_SOURCE_1',\n",
    " 'EXT_SOURCE_3',\n",
    " 'EXT_SOURCE_2',\n",
    " 'DAYS_BIRTH',\n",
    " 'AMT_CREDIT',\n",
    " 'AMT_ANNUITY',\n",
    " 'DAYS_ID_PUBLISH',\n",
    " 'AMT_GOODS_PRICE',\n",
    " 'DAYS_REGISTRATION',\n",
    " 'DAYS_LAST_PHONE_CHANGE',\n",
    " 'AMT_INCOME_TOTAL',\n",
    " 'REGION_POPULATION_RELATIVE',\n",
    " 'OWN_CAR_AGE',\n",
    " 'AMT_REQ_CREDIT_BUREAU_YEAR',\n",
    " 'HOUR_APPR_PROCESS_START',\n",
    " 'TOTALAREA_MODE',\n",
    " 'CODE_GENDER',\n",
    " 'NAME_CONTRACT_TYPE',\n",
    " 'NAME_EDUCATION_TYPE',\n",
    " 'NAME_FAMILY_STATUS',\n",
    "'TARGET']"
   ]
  },
  {
   "cell_type": "code",
   "execution_count": 36,
   "metadata": {},
   "outputs": [],
   "source": [
    "train = train.loc[:,features]"
   ]
  },
  {
   "cell_type": "code",
   "execution_count": 37,
   "metadata": {},
   "outputs": [
    {
     "data": {
      "text/plain": [
       "EXT_SOURCE_1                  float64\n",
       "EXT_SOURCE_3                  float64\n",
       "EXT_SOURCE_2                  float64\n",
       "DAYS_BIRTH                      int64\n",
       "AMT_CREDIT                    float64\n",
       "AMT_ANNUITY                   float64\n",
       "DAYS_ID_PUBLISH                 int64\n",
       "AMT_GOODS_PRICE               float64\n",
       "DAYS_REGISTRATION             float64\n",
       "DAYS_LAST_PHONE_CHANGE        float64\n",
       "AMT_INCOME_TOTAL              float64\n",
       "REGION_POPULATION_RELATIVE    float64\n",
       "OWN_CAR_AGE                   float64\n",
       "AMT_REQ_CREDIT_BUREAU_YEAR    float64\n",
       "HOUR_APPR_PROCESS_START         int64\n",
       "TOTALAREA_MODE                float64\n",
       "CODE_GENDER                    object\n",
       "NAME_CONTRACT_TYPE             object\n",
       "NAME_EDUCATION_TYPE            object\n",
       "NAME_FAMILY_STATUS             object\n",
       "TARGET                          int64\n",
       "dtype: object"
      ]
     },
     "execution_count": 37,
     "metadata": {},
     "output_type": "execute_result"
    }
   ],
   "source": [
    "train.dtypes"
   ]
  },
  {
   "cell_type": "code",
   "execution_count": 38,
   "metadata": {},
   "outputs": [
    {
     "data": {
      "text/plain": [
       "EXT_SOURCE_1                  173378\n",
       "EXT_SOURCE_3                   60965\n",
       "EXT_SOURCE_2                     660\n",
       "DAYS_BIRTH                         0\n",
       "AMT_CREDIT                         0\n",
       "AMT_ANNUITY                       12\n",
       "DAYS_ID_PUBLISH                    0\n",
       "AMT_GOODS_PRICE                  278\n",
       "DAYS_REGISTRATION                  0\n",
       "DAYS_LAST_PHONE_CHANGE             1\n",
       "AMT_INCOME_TOTAL                   0\n",
       "REGION_POPULATION_RELATIVE         0\n",
       "OWN_CAR_AGE                   202929\n",
       "AMT_REQ_CREDIT_BUREAU_YEAR     41519\n",
       "HOUR_APPR_PROCESS_START            0\n",
       "TOTALAREA_MODE                148431\n",
       "CODE_GENDER                        0\n",
       "NAME_CONTRACT_TYPE                 0\n",
       "NAME_EDUCATION_TYPE                0\n",
       "NAME_FAMILY_STATUS                 0\n",
       "TARGET                             0\n",
       "dtype: int64"
      ]
     },
     "execution_count": 38,
     "metadata": {},
     "output_type": "execute_result"
    }
   ],
   "source": [
    "train.isnull().sum()"
   ]
  },
  {
   "cell_type": "code",
   "execution_count": 39,
   "metadata": {},
   "outputs": [],
   "source": [
    "# カテゴリ変数をダミー化"
   ]
  },
  {
   "cell_type": "code",
   "execution_count": 40,
   "metadata": {},
   "outputs": [],
   "source": [
    "train = pd.get_dummies(train, drop_first=True, prefix=['CODE_GENDER', 'NAME_CONTRACT_TYPE', 'NAME_EDUCATION_TYPE', 'NAME_FAMILY_STATUS'], prefix_sep='_')"
   ]
  },
  {
   "cell_type": "code",
   "execution_count": 41,
   "metadata": {},
   "outputs": [],
   "source": [
    "# 欠損値補完"
   ]
  },
  {
   "cell_type": "code",
   "execution_count": 42,
   "metadata": {},
   "outputs": [],
   "source": [
    "train.fillna(-999, inplace=True)"
   ]
  },
  {
   "cell_type": "code",
   "execution_count": 43,
   "metadata": {},
   "outputs": [
    {
     "data": {
      "text/plain": [
       "EXT_SOURCE_1                                         float64\n",
       "EXT_SOURCE_3                                         float64\n",
       "EXT_SOURCE_2                                         float64\n",
       "DAYS_BIRTH                                             int64\n",
       "AMT_CREDIT                                           float64\n",
       "AMT_ANNUITY                                          float64\n",
       "DAYS_ID_PUBLISH                                        int64\n",
       "AMT_GOODS_PRICE                                      float64\n",
       "DAYS_REGISTRATION                                    float64\n",
       "DAYS_LAST_PHONE_CHANGE                               float64\n",
       "AMT_INCOME_TOTAL                                     float64\n",
       "REGION_POPULATION_RELATIVE                           float64\n",
       "OWN_CAR_AGE                                          float64\n",
       "AMT_REQ_CREDIT_BUREAU_YEAR                           float64\n",
       "HOUR_APPR_PROCESS_START                                int64\n",
       "TOTALAREA_MODE                                       float64\n",
       "TARGET                                                 int64\n",
       "CODE_GENDER_M                                          uint8\n",
       "CODE_GENDER_XNA                                        uint8\n",
       "NAME_CONTRACT_TYPE_Revolving loans                     uint8\n",
       "NAME_EDUCATION_TYPE_Higher education                   uint8\n",
       "NAME_EDUCATION_TYPE_Incomplete higher                  uint8\n",
       "NAME_EDUCATION_TYPE_Lower secondary                    uint8\n",
       "NAME_EDUCATION_TYPE_Secondary / secondary special      uint8\n",
       "NAME_FAMILY_STATUS_Married                             uint8\n",
       "NAME_FAMILY_STATUS_Separated                           uint8\n",
       "NAME_FAMILY_STATUS_Single / not married                uint8\n",
       "NAME_FAMILY_STATUS_Unknown                             uint8\n",
       "NAME_FAMILY_STATUS_Widow                               uint8\n",
       "dtype: object"
      ]
     },
     "execution_count": 43,
     "metadata": {},
     "output_type": "execute_result"
    }
   ],
   "source": [
    "train.dtypes"
   ]
  },
  {
   "cell_type": "code",
   "execution_count": 27,
   "metadata": {},
   "outputs": [],
   "source": [
    "# 予測"
   ]
  },
  {
   "cell_type": "code",
   "execution_count": 44,
   "metadata": {},
   "outputs": [],
   "source": [
    "target = 'TARGET'"
   ]
  },
  {
   "cell_type": "code",
   "execution_count": 45,
   "metadata": {},
   "outputs": [],
   "source": [
    "X = train.drop(columns=target)"
   ]
  },
  {
   "cell_type": "code",
   "execution_count": 46,
   "metadata": {},
   "outputs": [],
   "source": [
    "y = train[target]"
   ]
  },
  {
   "cell_type": "code",
   "execution_count": 49,
   "metadata": {},
   "outputs": [],
   "source": [
    "X_train, X_test, y_train, y_test = train_test_split(X, y,\n",
    "                                                   test_size=0.2,\n",
    "                                                   random_state=0,\n",
    "                                                   stratify=y)"
   ]
  },
  {
   "cell_type": "code",
   "execution_count": 50,
   "metadata": {},
   "outputs": [],
   "source": [
    "X_train, X_eval, y_train, y_eval = train_test_split(X_train, y_train,\n",
    "                                                    test_size=0.2,\n",
    "                                                    random_state=1,\n",
    "                                                    stratify=y_train)"
   ]
  },
  {
   "cell_type": "code",
   "execution_count": 51,
   "metadata": {},
   "outputs": [],
   "source": [
    "categorical_features = [\n",
    "# 'prefecture_code'\n",
    "]"
   ]
  },
  {
   "cell_type": "code",
   "execution_count": 52,
   "metadata": {},
   "outputs": [],
   "source": [
    "lgb_train = lgb.Dataset(X_train, y_train,\n",
    "                       categorical_feature=categorical_features,\n",
    "                        free_raw_data=False)\n",
    "lgb_eval = lgb.Dataset(X_eval, y_eval, reference=lgb_train,\n",
    "                       categorical_feature=categorical_features,\n",
    "                       free_raw_data=False)"
   ]
  },
  {
   "cell_type": "code",
   "execution_count": 53,
   "metadata": {},
   "outputs": [],
   "source": [
    "def objective(trial):\n",
    "\n",
    "    param = {\n",
    "        'objective': 'binary',\n",
    "        'metric': 'auc',\n",
    "        'verbosity': -1,\n",
    "        'n_jobs': -1,\n",
    "        'boosting_type': 'gbdt',\n",
    "        'lambda_l1': trial.suggest_loguniform('lambda_l1', 1e-8, 10.0),\n",
    "        'lambda_l2': trial.suggest_loguniform('lambda_l2', 1e-8, 10.0),\n",
    "        'num_leaves': trial.suggest_int('num_leaves', 2, 256),\n",
    "        'feature_fraction': trial.suggest_uniform('feature_fraction', 0.4, 1.0),\n",
    "        'bagging_fraction': trial.suggest_uniform('bagging_fraction', 0.4, 1.0),\n",
    "        'bagging_freq': trial.suggest_int('bagging_freq', 1, 7),\n",
    "        'min_child_samples': trial.suggest_int('min_child_samples', 5, 100),\n",
    "    }\n",
    "\n",
    "    evaluation_results = {}                                     # 学習の経過を保存する箱\n",
    "    model = lgb.train(\n",
    "        param,                                   # 上記で設定したパラメータ\n",
    "        lgb_train,                                # 使用するデータセット\n",
    "        num_boost_round=1000,                     # 学習の回数\n",
    "        valid_names=['train', 'valid'],           # 学習経過で表示する名称\n",
    "        valid_sets=[lgb_train, lgb_eval],         # モデル検証のデータセット\n",
    "        evals_result=evaluation_results,          # 学習の経過を保存\n",
    "        categorical_feature=categorical_features, # カテゴリー変数を設定\n",
    "        early_stopping_rounds=50,                 # アーリーストッピング\n",
    "        verbose_eval=10)                          # 学習の経過の表示(10回毎)\n",
    "    \n",
    "    y_pred = model.predict(X_train, num_iteration=model.best_iteration)\n",
    "    \n",
    "    # metrics AUC\n",
    "    fpr, tpr, thresholds = metrics.roc_curve(y_train, y_pred)\n",
    "    score = metrics.auc(fpr, tpr)\n",
    "\n",
    "    # metrics F1\n",
    "#     score = f1_score(y_train, y_pred)\n",
    "\n",
    "    # MLFlow\n",
    "#     with mlflow.start_run() as run:\n",
    "#         mlflow.log_params(param)\n",
    "#         mlflow.log_metrics({'accuracy': accuracy})\n",
    "#         mlflow.lightgbm.log_model(gbm, 'model', args.conda_env)\n",
    "#     print('Model logged in run {}'.format(run.info.run_uuid))\n",
    "    return score"
   ]
  },
  {
   "cell_type": "code",
   "execution_count": 54,
   "metadata": {},
   "outputs": [
    {
     "name": "stderr",
     "output_type": "stream",
     "text": [
      "\u001b[32m[I 2021-01-06 15:50:57,535]\u001b[0m A new study created in memory with name: no-name-a8cc8b3a-308e-4f81-98b5-c9edd6d98318\u001b[0m\n"
     ]
    },
    {
     "name": "stdout",
     "output_type": "stream",
     "text": [
      "Training until validation scores don't improve for 50 rounds\n",
      "[10]\ttrain's auc: 0.7449\tvalid's auc: 0.728462\n",
      "[20]\ttrain's auc: 0.758912\tvalid's auc: 0.736887\n",
      "[30]\ttrain's auc: 0.770435\tvalid's auc: 0.742876\n",
      "[40]\ttrain's auc: 0.78013\tvalid's auc: 0.745136\n",
      "[50]\ttrain's auc: 0.787989\tvalid's auc: 0.746449\n",
      "[60]\ttrain's auc: 0.795357\tvalid's auc: 0.747673\n",
      "[70]\ttrain's auc: 0.80247\tvalid's auc: 0.7484\n",
      "[80]\ttrain's auc: 0.808991\tvalid's auc: 0.74836\n",
      "[90]\ttrain's auc: 0.81571\tvalid's auc: 0.74804\n",
      "[100]\ttrain's auc: 0.821509\tvalid's auc: 0.748466\n",
      "[110]\ttrain's auc: 0.827009\tvalid's auc: 0.749372\n",
      "[120]\ttrain's auc: 0.832847\tvalid's auc: 0.749175\n",
      "[130]\ttrain's auc: 0.837641\tvalid's auc: 0.74902\n",
      "[140]\ttrain's auc: 0.842543\tvalid's auc: 0.748699\n",
      "[150]\ttrain's auc: 0.847751\tvalid's auc: 0.748543\n",
      "[160]\ttrain's auc: 0.852485\tvalid's auc: 0.748456\n",
      "Early stopping, best iteration is:\n",
      "[117]\ttrain's auc: 0.830921\tvalid's auc: 0.749383\n"
     ]
    },
    {
     "name": "stderr",
     "output_type": "stream",
     "text": [
      "\u001b[32m[I 2021-01-06 15:51:01,643]\u001b[0m Trial 0 finished with value: 0.830920899696654 and parameters: {'lambda_l1': 0.00012477120875319887, 'lambda_l2': 0.0009722915040998078, 'num_leaves': 50, 'feature_fraction': 0.9779545546622831, 'bagging_fraction': 0.8707803965677288, 'bagging_freq': 5, 'min_child_samples': 51}. Best is trial 0 with value: 0.830920899696654.\u001b[0m\n"
     ]
    },
    {
     "name": "stdout",
     "output_type": "stream",
     "text": [
      "Training until validation scores don't improve for 50 rounds\n",
      "[10]\ttrain's auc: 0.786395\tvalid's auc: 0.731946\n",
      "[20]\ttrain's auc: 0.810706\tvalid's auc: 0.73669\n",
      "[30]\ttrain's auc: 0.830625\tvalid's auc: 0.735857\n",
      "[40]\ttrain's auc: 0.853298\tvalid's auc: 0.735198\n",
      "[50]\ttrain's auc: 0.871057\tvalid's auc: 0.7331\n",
      "[60]\ttrain's auc: 0.886553\tvalid's auc: 0.732413\n",
      "[70]\ttrain's auc: 0.901072\tvalid's auc: 0.731827\n",
      "Early stopping, best iteration is:\n",
      "[22]\ttrain's auc: 0.814123\tvalid's auc: 0.737045\n"
     ]
    },
    {
     "name": "stderr",
     "output_type": "stream",
     "text": [
      "\u001b[32m[I 2021-01-06 15:51:04,169]\u001b[0m Trial 1 finished with value: 0.8141234877240764 and parameters: {'lambda_l1': 0.05139274774108285, 'lambda_l2': 0.003137841188833759, 'num_leaves': 247, 'feature_fraction': 0.6193190844652686, 'bagging_fraction': 0.5141855978265718, 'bagging_freq': 5, 'min_child_samples': 56}. Best is trial 0 with value: 0.830920899696654.\u001b[0m\n"
     ]
    },
    {
     "name": "stdout",
     "output_type": "stream",
     "text": [
      "Training until validation scores don't improve for 50 rounds\n",
      "[10]\ttrain's auc: 0.761878\tvalid's auc: 0.725025\n",
      "[20]\ttrain's auc: 0.780756\tvalid's auc: 0.738503\n",
      "[30]\ttrain's auc: 0.791339\tvalid's auc: 0.741106\n",
      "[40]\ttrain's auc: 0.801851\tvalid's auc: 0.743484\n",
      "[50]\ttrain's auc: 0.812329\tvalid's auc: 0.74485\n",
      "[60]\ttrain's auc: 0.822536\tvalid's auc: 0.745858\n",
      "[70]\ttrain's auc: 0.831555\tvalid's auc: 0.745916\n",
      "[80]\ttrain's auc: 0.840696\tvalid's auc: 0.746033\n",
      "[90]\ttrain's auc: 0.849131\tvalid's auc: 0.745966\n",
      "[100]\ttrain's auc: 0.856775\tvalid's auc: 0.745329\n",
      "[110]\ttrain's auc: 0.863487\tvalid's auc: 0.745426\n",
      "[120]\ttrain's auc: 0.870432\tvalid's auc: 0.745372\n",
      "Early stopping, best iteration is:\n",
      "[74]\ttrain's auc: 0.83551\tvalid's auc: 0.746299\n"
     ]
    },
    {
     "name": "stderr",
     "output_type": "stream",
     "text": [
      "\u001b[32m[I 2021-01-06 15:51:07,763]\u001b[0m Trial 2 finished with value: 0.8355099702605444 and parameters: {'lambda_l1': 0.48534312570710253, 'lambda_l2': 1.0173232904381371e-07, 'num_leaves': 103, 'feature_fraction': 0.4152642241425711, 'bagging_fraction': 0.9189844849039741, 'bagging_freq': 7, 'min_child_samples': 80}. Best is trial 2 with value: 0.8355099702605444.\u001b[0m\n"
     ]
    },
    {
     "name": "stdout",
     "output_type": "stream",
     "text": [
      "Training until validation scores don't improve for 50 rounds\n",
      "[10]\ttrain's auc: 0.782366\tvalid's auc: 0.730757\n",
      "[20]\ttrain's auc: 0.80881\tvalid's auc: 0.735019\n",
      "[30]\ttrain's auc: 0.83367\tvalid's auc: 0.739042\n",
      "[40]\ttrain's auc: 0.854705\tvalid's auc: 0.742393\n",
      "[50]\ttrain's auc: 0.873806\tvalid's auc: 0.742387\n",
      "[60]\ttrain's auc: 0.890286\tvalid's auc: 0.742779\n",
      "[70]\ttrain's auc: 0.904153\tvalid's auc: 0.742763\n",
      "[80]\ttrain's auc: 0.915912\tvalid's auc: 0.74139\n",
      "[90]\ttrain's auc: 0.926255\tvalid's auc: 0.740011\n",
      "[100]\ttrain's auc: 0.934958\tvalid's auc: 0.73952\n",
      "[110]\ttrain's auc: 0.943208\tvalid's auc: 0.738254\n",
      "Early stopping, best iteration is:\n",
      "[63]\ttrain's auc: 0.894838\tvalid's auc: 0.742843\n"
     ]
    },
    {
     "name": "stderr",
     "output_type": "stream",
     "text": [
      "\u001b[32m[I 2021-01-06 15:51:11,776]\u001b[0m Trial 3 finished with value: 0.8948377888968566 and parameters: {'lambda_l1': 0.006406459024755466, 'lambda_l2': 0.7282795066630454, 'num_leaves': 221, 'feature_fraction': 0.9880939016615863, 'bagging_fraction': 0.8662699531337701, 'bagging_freq': 1, 'min_child_samples': 94}. Best is trial 3 with value: 0.8948377888968566.\u001b[0m\n"
     ]
    },
    {
     "name": "stdout",
     "output_type": "stream",
     "text": [
      "Training until validation scores don't improve for 50 rounds\n",
      "[10]\ttrain's auc: 0.766964\tvalid's auc: 0.733693\n",
      "[20]\ttrain's auc: 0.783598\tvalid's auc: 0.73881\n",
      "[30]\ttrain's auc: 0.799434\tvalid's auc: 0.74152\n",
      "[40]\ttrain's auc: 0.814974\tvalid's auc: 0.742636\n",
      "[50]\ttrain's auc: 0.828932\tvalid's auc: 0.745365\n",
      "[60]\ttrain's auc: 0.84074\tvalid's auc: 0.745686\n",
      "[70]\ttrain's auc: 0.852379\tvalid's auc: 0.745479\n",
      "[80]\ttrain's auc: 0.862062\tvalid's auc: 0.744407\n",
      "[90]\ttrain's auc: 0.870644\tvalid's auc: 0.744105\n",
      "[100]\ttrain's auc: 0.879602\tvalid's auc: 0.743329\n",
      "Early stopping, best iteration is:\n",
      "[55]\ttrain's auc: 0.835493\tvalid's auc: 0.746173\n"
     ]
    },
    {
     "name": "stderr",
     "output_type": "stream",
     "text": [
      "\u001b[32m[I 2021-01-06 15:51:15,320]\u001b[0m Trial 4 finished with value: 0.8354931787293999 and parameters: {'lambda_l1': 0.00010893246183221531, 'lambda_l2': 0.004093421258701909, 'num_leaves': 111, 'feature_fraction': 0.7332577867231034, 'bagging_fraction': 0.959185454320704, 'bagging_freq': 6, 'min_child_samples': 40}. Best is trial 3 with value: 0.8948377888968566.\u001b[0m\n"
     ]
    },
    {
     "name": "stdout",
     "output_type": "stream",
     "text": [
      "Training until validation scores don't improve for 50 rounds\n",
      "[10]\ttrain's auc: 0.752956\tvalid's auc: 0.731116\n",
      "[20]\ttrain's auc: 0.764864\tvalid's auc: 0.736119\n",
      "[30]\ttrain's auc: 0.776912\tvalid's auc: 0.739656\n",
      "[40]\ttrain's auc: 0.787836\tvalid's auc: 0.741422\n",
      "[50]\ttrain's auc: 0.797896\tvalid's auc: 0.742326\n",
      "[60]\ttrain's auc: 0.807136\tvalid's auc: 0.74265\n",
      "[70]\ttrain's auc: 0.815909\tvalid's auc: 0.743393\n",
      "[80]\ttrain's auc: 0.824758\tvalid's auc: 0.744182\n",
      "[90]\ttrain's auc: 0.832638\tvalid's auc: 0.744047\n",
      "[100]\ttrain's auc: 0.839788\tvalid's auc: 0.743801\n",
      "[110]\ttrain's auc: 0.846387\tvalid's auc: 0.74436\n",
      "[120]\ttrain's auc: 0.853281\tvalid's auc: 0.743332\n",
      "[130]\ttrain's auc: 0.859543\tvalid's auc: 0.743461\n",
      "[140]\ttrain's auc: 0.8641\tvalid's auc: 0.743287\n",
      "[150]\ttrain's auc: 0.870564\tvalid's auc: 0.742603\n",
      "[160]\ttrain's auc: 0.875987\tvalid's auc: 0.74168\n",
      "Early stopping, best iteration is:\n",
      "[110]\ttrain's auc: 0.846387\tvalid's auc: 0.74436\n"
     ]
    },
    {
     "name": "stderr",
     "output_type": "stream",
     "text": [
      "\u001b[32m[I 2021-01-06 15:51:18,900]\u001b[0m Trial 5 finished with value: 0.8463866485522693 and parameters: {'lambda_l1': 8.953446040543195e-07, 'lambda_l2': 2.862692543156665e-08, 'num_leaves': 62, 'feature_fraction': 0.767121305133644, 'bagging_fraction': 0.5864481015953784, 'bagging_freq': 7, 'min_child_samples': 8}. Best is trial 3 with value: 0.8948377888968566.\u001b[0m\n"
     ]
    },
    {
     "name": "stdout",
     "output_type": "stream",
     "text": [
      "Training until validation scores don't improve for 50 rounds\n",
      "[10]\ttrain's auc: 0.780095\tvalid's auc: 0.729962\n",
      "[20]\ttrain's auc: 0.809891\tvalid's auc: 0.736938\n",
      "[30]\ttrain's auc: 0.835158\tvalid's auc: 0.739398\n",
      "[40]\ttrain's auc: 0.857962\tvalid's auc: 0.739598\n",
      "[50]\ttrain's auc: 0.876878\tvalid's auc: 0.740372\n",
      "[60]\ttrain's auc: 0.893288\tvalid's auc: 0.7416\n",
      "[70]\ttrain's auc: 0.90748\tvalid's auc: 0.741292\n",
      "[80]\ttrain's auc: 0.919767\tvalid's auc: 0.740444\n",
      "[90]\ttrain's auc: 0.93098\tvalid's auc: 0.740047\n",
      "[100]\ttrain's auc: 0.939918\tvalid's auc: 0.739531\n",
      "[110]\ttrain's auc: 0.94738\tvalid's auc: 0.738957\n",
      "Early stopping, best iteration is:\n",
      "[63]\ttrain's auc: 0.897945\tvalid's auc: 0.74192\n"
     ]
    },
    {
     "name": "stderr",
     "output_type": "stream",
     "text": [
      "\u001b[32m[I 2021-01-06 15:51:22,539]\u001b[0m Trial 6 finished with value: 0.8979449962264175 and parameters: {'lambda_l1': 4.297522368479032e-07, 'lambda_l2': 0.009414319281927274, 'num_leaves': 211, 'feature_fraction': 0.7993840302602022, 'bagging_fraction': 0.8408932985656359, 'bagging_freq': 5, 'min_child_samples': 42}. Best is trial 6 with value: 0.8979449962264175.\u001b[0m\n"
     ]
    },
    {
     "name": "stdout",
     "output_type": "stream",
     "text": [
      "Training until validation scores don't improve for 50 rounds\n",
      "[10]\ttrain's auc: 0.747754\tvalid's auc: 0.729361\n",
      "[20]\ttrain's auc: 0.762005\tvalid's auc: 0.736816\n",
      "[30]\ttrain's auc: 0.77301\tvalid's auc: 0.742753\n",
      "[40]\ttrain's auc: 0.78311\tvalid's auc: 0.745001\n",
      "[50]\ttrain's auc: 0.791547\tvalid's auc: 0.746458\n",
      "[60]\ttrain's auc: 0.799399\tvalid's auc: 0.746727\n",
      "[70]\ttrain's auc: 0.806409\tvalid's auc: 0.74742\n",
      "[80]\ttrain's auc: 0.812742\tvalid's auc: 0.748608\n",
      "[90]\ttrain's auc: 0.818159\tvalid's auc: 0.748819\n",
      "[100]\ttrain's auc: 0.824433\tvalid's auc: 0.748965\n",
      "[110]\ttrain's auc: 0.829679\tvalid's auc: 0.749051\n",
      "[120]\ttrain's auc: 0.834936\tvalid's auc: 0.749139\n",
      "[130]\ttrain's auc: 0.840033\tvalid's auc: 0.748658\n",
      "[140]\ttrain's auc: 0.844378\tvalid's auc: 0.748326\n",
      "[150]\ttrain's auc: 0.849034\tvalid's auc: 0.748022\n",
      "[160]\ttrain's auc: 0.853744\tvalid's auc: 0.74742\n",
      "Early stopping, best iteration is:\n",
      "[117]\ttrain's auc: 0.833546\tvalid's auc: 0.749183\n"
     ]
    },
    {
     "name": "stderr",
     "output_type": "stream",
     "text": [
      "\u001b[32m[I 2021-01-06 15:51:26,174]\u001b[0m Trial 7 finished with value: 0.8335462920853673 and parameters: {'lambda_l1': 0.022957112820659927, 'lambda_l2': 1.4432051727613637, 'num_leaves': 60, 'feature_fraction': 0.9846674438589562, 'bagging_fraction': 0.7465282197759902, 'bagging_freq': 7, 'min_child_samples': 66}. Best is trial 6 with value: 0.8979449962264175.\u001b[0m\n"
     ]
    },
    {
     "name": "stdout",
     "output_type": "stream",
     "text": [
      "Training until validation scores don't improve for 50 rounds\n",
      "[10]\ttrain's auc: 0.770487\tvalid's auc: 0.72695\n",
      "[20]\ttrain's auc: 0.79109\tvalid's auc: 0.735876\n",
      "[30]\ttrain's auc: 0.806241\tvalid's auc: 0.735701\n",
      "[40]\ttrain's auc: 0.821045\tvalid's auc: 0.737952\n",
      "[50]\ttrain's auc: 0.834417\tvalid's auc: 0.740232\n",
      "[60]\ttrain's auc: 0.848912\tvalid's auc: 0.740738\n",
      "[70]\ttrain's auc: 0.861306\tvalid's auc: 0.740328\n",
      "[80]\ttrain's auc: 0.871652\tvalid's auc: 0.740427\n",
      "[90]\ttrain's auc: 0.88134\tvalid's auc: 0.739599\n",
      "[100]\ttrain's auc: 0.890021\tvalid's auc: 0.738906\n",
      "[110]\ttrain's auc: 0.898673\tvalid's auc: 0.738169\n",
      "Early stopping, best iteration is:\n",
      "[64]\ttrain's auc: 0.853967\tvalid's auc: 0.741065\n"
     ]
    },
    {
     "name": "stderr",
     "output_type": "stream",
     "text": [
      "\u001b[32m[I 2021-01-06 15:51:29,144]\u001b[0m Trial 8 finished with value: 0.8539665056037862 and parameters: {'lambda_l1': 1.0671211795686896e-05, 'lambda_l2': 0.03619513774786871, 'num_leaves': 141, 'feature_fraction': 0.5534298166992919, 'bagging_fraction': 0.6942524385618603, 'bagging_freq': 4, 'min_child_samples': 46}. Best is trial 6 with value: 0.8979449962264175.\u001b[0m\n"
     ]
    },
    {
     "name": "stdout",
     "output_type": "stream",
     "text": [
      "Training until validation scores don't improve for 50 rounds\n",
      "[10]\ttrain's auc: 0.776897\tvalid's auc: 0.732277\n",
      "[20]\ttrain's auc: 0.795729\tvalid's auc: 0.738479\n",
      "[30]\ttrain's auc: 0.810293\tvalid's auc: 0.741705\n",
      "[40]\ttrain's auc: 0.823921\tvalid's auc: 0.742916\n",
      "[50]\ttrain's auc: 0.837603\tvalid's auc: 0.744055\n",
      "[60]\ttrain's auc: 0.850998\tvalid's auc: 0.74413\n",
      "[70]\ttrain's auc: 0.863559\tvalid's auc: 0.74386\n",
      "[80]\ttrain's auc: 0.87481\tvalid's auc: 0.744166\n",
      "[90]\ttrain's auc: 0.884826\tvalid's auc: 0.744082\n",
      "[100]\ttrain's auc: 0.893358\tvalid's auc: 0.743467\n",
      "[110]\ttrain's auc: 0.901322\tvalid's auc: 0.743012\n",
      "Early stopping, best iteration is:\n",
      "[61]\ttrain's auc: 0.852013\tvalid's auc: 0.744222\n"
     ]
    },
    {
     "name": "stderr",
     "output_type": "stream",
     "text": [
      "\u001b[32m[I 2021-01-06 15:51:32,266]\u001b[0m Trial 9 finished with value: 0.8520132799532277 and parameters: {'lambda_l1': 0.5370440393215344, 'lambda_l2': 0.00022888116364250523, 'num_leaves': 156, 'feature_fraction': 0.4912886853049733, 'bagging_fraction': 0.8239979344057624, 'bagging_freq': 5, 'min_child_samples': 84}. Best is trial 6 with value: 0.8979449962264175.\u001b[0m\n"
     ]
    },
    {
     "name": "stdout",
     "output_type": "stream",
     "text": [
      "Number of finished trials: 10\n",
      "Best trial:\n",
      "  Value: 0.8979449962264175\n",
      "  Params: \n",
      "    lambda_l1: 4.297522368479032e-07\n",
      "    lambda_l2: 0.009414319281927274\n",
      "    num_leaves: 211\n",
      "    feature_fraction: 0.7993840302602022\n",
      "    bagging_fraction: 0.8408932985656359\n",
      "    bagging_freq: 5\n",
      "    min_child_samples: 42\n"
     ]
    }
   ],
   "source": [
    "study = optuna.create_study(direction='maximize')\n",
    "study.optimize(objective, n_trials=10)\n",
    "\n",
    "print('Number of finished trials: {}'.format(len(study.trials)))\n",
    "\n",
    "print('Best trial:')\n",
    "trial = study.best_trial\n",
    "\n",
    "print('  Value: {}'.format(trial.value))\n",
    "\n",
    "print('  Params: ')\n",
    "for key, value in trial.params.items():\n",
    "    print('    {}: {}'.format(key, value))"
   ]
  },
  {
   "cell_type": "code",
   "execution_count": 55,
   "metadata": {},
   "outputs": [],
   "source": [
    "# 二値分類\n",
    "params = {\n",
    "            'boosting_type': 'gbdt',        # 勾配ブースティング\n",
    "            'objective': 'binary',      # 目的関数：多値分類、マルチクラス分類\n",
    "            'metric': 'auc',      # 分類モデルの性能を測る指標\n",
    "         }"
   ]
  },
  {
   "cell_type": "code",
   "execution_count": 56,
   "metadata": {},
   "outputs": [],
   "source": [
    "params = dict(params, **study.best_params)"
   ]
  },
  {
   "cell_type": "code",
   "execution_count": 57,
   "metadata": {},
   "outputs": [
    {
     "name": "stdout",
     "output_type": "stream",
     "text": [
      "[LightGBM] [Warning] Find whitespaces in feature_names, replace with underlines\n",
      "[LightGBM] [Info] Number of positive: 15888, number of negative: 180918\n",
      "[LightGBM] [Warning] Auto-choosing row-wise multi-threading, the overhead of testing was 0.014504 seconds.\n",
      "You can set `force_row_wise=true` to remove the overhead.\n",
      "And if memory is not enough, you can set `force_col_wise=true`.\n",
      "[LightGBM] [Info] Total Bins 3200\n",
      "[LightGBM] [Info] Number of data points in the train set: 196806, number of used features: 26\n",
      "[LightGBM] [Info] [binary:BoostFromScore]: pavg=0.080729 -> initscore=-2.432480\n",
      "[LightGBM] [Info] Start training from score -2.432480\n",
      "Training until validation scores don't improve for 50 rounds\n",
      "[10]\ttrain's auc: 0.780095\tvalid's auc: 0.729962\n",
      "[20]\ttrain's auc: 0.809891\tvalid's auc: 0.736938\n",
      "[30]\ttrain's auc: 0.835158\tvalid's auc: 0.739398\n",
      "[40]\ttrain's auc: 0.857962\tvalid's auc: 0.739598\n",
      "[50]\ttrain's auc: 0.876878\tvalid's auc: 0.740372\n",
      "[60]\ttrain's auc: 0.893288\tvalid's auc: 0.7416\n",
      "[70]\ttrain's auc: 0.90748\tvalid's auc: 0.741292\n",
      "[80]\ttrain's auc: 0.919767\tvalid's auc: 0.740444\n",
      "[90]\ttrain's auc: 0.93098\tvalid's auc: 0.740047\n",
      "[100]\ttrain's auc: 0.939918\tvalid's auc: 0.739531\n",
      "[110]\ttrain's auc: 0.94738\tvalid's auc: 0.738957\n",
      "Early stopping, best iteration is:\n",
      "[63]\ttrain's auc: 0.897945\tvalid's auc: 0.74192\n"
     ]
    }
   ],
   "source": [
    "evaluation_results = {}                                     # 学習の経過を保存する箱\n",
    "model = lgb.train(params,                                   # 上記で設定したパラメータ\n",
    "                  lgb_train,                                # 使用するデータセット\n",
    "                  num_boost_round=1000,                     # 学習の回数\n",
    "                  valid_names=['train', 'valid'],           # 学習経過で表示する名称\n",
    "                  valid_sets=[lgb_train, lgb_eval],         # モデル検証のデータセット\n",
    "                  evals_result=evaluation_results,          # 学習の経過を保存\n",
    "                  categorical_feature=categorical_features, # カテゴリー変数を設定\n",
    "                  early_stopping_rounds=50,                 # アーリーストッピング\n",
    "                  verbose_eval=10)                          # 学習の経過の表示(10回毎)\n",
    "\n",
    "# 最もスコアが良いときのラウンドを保存\n",
    "optimum_boost_rounds = model.best_iteration"
   ]
  },
  {
   "cell_type": "code",
   "execution_count": 60,
   "metadata": {},
   "outputs": [
    {
     "name": "stdout",
     "output_type": "stream",
     "text": [
      "0.8979449962264175\n"
     ]
    },
    {
     "data": {
      "image/png": "[encoded data removed]",
      "text/plain": [
       "<Figure size 432x288 with 1 Axes>"
      ]
     },
     "metadata": {
      "needs_background": "light"
     },
     "output_type": "display_data"
    }
   ],
   "source": [
    "# # 訓練データで予測\n",
    "y_pred = model.predict(X_train, num_iteration=model.best_iteration)\n",
    "y_pred_max = np.round(y_pred)\n",
    "fpr, tpr, thresholds = metrics.roc_curve(y_train, y_pred)\n",
    "auc = metrics.auc(fpr, tpr)\n",
    "print(auc)\n",
    "plt.plot(fpr, tpr, label='ROC curve (area = %.2f)'%auc)\n",
    "plt.legend()\n",
    "plt.title('ROC curve')\n",
    "plt.xlabel('False Positive Rate')\n",
    "plt.ylabel('True Positive Rate')\n",
    "plt.grid(True)"
   ]
  },
  {
   "cell_type": "code",
   "execution_count": 61,
   "metadata": {},
   "outputs": [
    {
     "name": "stdout",
     "output_type": "stream",
     "text": [
      "0.7515371262212329\n"
     ]
    },
    {
     "data": {
      "image/png": "[encoded data removed]",
      "text/plain": [
       "<Figure size 432x288 with 1 Axes>"
      ]
     },
     "metadata": {
      "needs_background": "light"
     },
     "output_type": "display_data"
    }
   ],
   "source": [
    "# # テストデータで予測\n",
    "y_pred = model.predict(X_test, num_iteration=model.best_iteration)\n",
    "y_pred_max = np.round(y_pred)\n",
    "fpr, tpr, thresholds = metrics.roc_curve(y_test, y_pred)\n",
    "auc = metrics.auc(fpr, tpr)\n",
    "print(auc)\n",
    "plt.plot(fpr, tpr, label='ROC curve (area = %.2f)'%auc)\n",
    "plt.legend()\n",
    "plt.title('ROC curve')\n",
    "plt.xlabel('False Positive Rate')\n",
    "plt.ylabel('True Positive Rate')\n",
    "plt.grid(True)"
   ]
  },
  {
   "cell_type": "code",
   "execution_count": null,
   "metadata": {},
   "outputs": [],
   "source": []
  }
 ],
 "metadata": {
  "kernelspec": {
   "display_name": "Python 3",
   "language": "python",
   "name": "python3"
  },
  "language_info": {
   "codemirror_mode": {
    "name": "ipython",
    "version": 3
   },
   "file_extension": ".py",
   "mimetype": "text/x-python",
   "name": "python",
   "nbconvert_exporter": "python",
   "pygments_lexer": "ipython3",
   "version": "3.7.7"
  }
 },
 "nbformat": 4,
 "nbformat_minor": 4
}
